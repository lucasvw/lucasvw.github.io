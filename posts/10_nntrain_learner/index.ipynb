{
 "cells": [
  {
   "cell_type": "raw",
   "id": "5a706372-b4f8-4d32-9470-24b837947fa5",
   "metadata": {},
   "source": [
    "---\n",
    "title: \"`nntrain`: Learner (2/n)\"\n",
    "author: \"Lucas van Walstijn\"\n",
    "date: \"2023-08-16\"\n",
    "categories: [code, neural network, deep learning]\n",
    "image: \"image_2.jpg\"\n",
    "comments:\n",
    "  utterances:\n",
    "    repo: lucasvw/BlogComments\n",
    "format:\n",
    "  html:\n",
    "    code-overflow: wrap\n",
    "---"
   ]
  },
  {
   "cell_type": "markdown",
   "id": "438a6911-402a-4234-9a58-7e1530bcb1bb",
   "metadata": {},
   "source": [
    "In this series, I want to discuss the creation of a small library for training neural networks: `nntrain`. It's based off the excellent [part 2](https://course.fast.ai/) of Practical Deep Learning for Coders by Jeremy Howard, in which from lessons 13 to 18 (roughly) the development of the `miniai` library is discussed.\n",
    "\n",
    "The library will build upon PyTorch. We'll try as much as possible to build from scratch to understand how it all works. Once the main functionality of components are implemented and verified, we can switch over to PyTorch's version. This is similar to how things are done in the course. However, this is not just a \"copy / paste\" of the course: on many occasions I take a different route, and most of the code is my own. That is not to say that all of this is meant to be extremely innovative, instead I had the following goals:\n",
    "\n",
    "- Deeply understand the training of neural networks with a focus on PyTorch\n",
    "- Try to create an even better narrative then what's presented in FastAI 🙉🤷‍♂️🙈\n",
    "- Get hands-on experience with creating a library with [`nb_dev`](https://nbdev.fast.ai/)\n",
    "\n",
    "`nb_dev` is another great project from the fastai community, which allows python libraries to be written in jupyter notebooks. This may sound a bit weird since the mainstream paradigm is to only do experimental work in notebooks. It has the advantage though that we can create the source code for our library in the very same environment in which we want to experiment and interact with our methods, objects and structure **while we are building the library**. For more details on why this is a good idea and other nice features of `nb_dev`, see [here](https://www.fast.ai/posts/2022-07-28-nbdev2.html)."
   ]
  },
  {
   "cell_type": "markdown",
   "id": "fc98b7c4-9002-407d-90f6-ea9d8c07b8ae",
   "metadata": {},
   "source": [
    "So without further ado, let's start with where we left off in the previous [post](https://lucasvw.github.io/posts/08_nntrain_setup/):"
   ]
  },
  {
   "cell_type": "markdown",
   "id": "2de55ab2-bd58-40fe-8d16-7e9507741c5e",
   "metadata": {},
   "source": [
    "## End of last post:"
   ]
  },
  {
   "cell_type": "markdown",
   "id": "358815f3-be5d-4afa-b1d3-60f7f5524988",
   "metadata": {},
   "source": [
    "We finished the last post with exporting the `dataloaders` module into the `nntrain` library, which helps transforming a huggingface dataset dictionary into PyTorch dataloaders, so let's use [that](https://lucasvw.github.io/nntrain/dataloaders.html):"
   ]
  },
  {
   "cell_type": "code",
   "execution_count": null,
   "id": "e1872102-8494-432b-814c-8af6f423581e",
   "metadata": {},
   "outputs": [],
   "source": [
    "from datasets import load_dataset,load_dataset_builder\n",
    "\n",
    "from nntrain.dataloaders import DataLoaders, hf_ds_collate_fn"
   ]
  },
  {
   "cell_type": "code",
   "execution_count": null,
   "id": "3532a28f-a116-44be-93bf-be02c7f12b82",
   "metadata": {},
   "outputs": [],
   "source": [
    " #| export\n",
    "import torchvision.transforms.functional as TF\n",
    "import torch\n",
    "import torch.nn as nn\n",
    "import torch.nn.functional as F\n",
    "from operator import attrgetter\n",
    "import fastcore.all as fc\n",
    "import math\n",
    "from fastprogress import progress_bar,master_bar\n",
    "import torcheval.metrics as tem\n",
    "import matplotlib.pyplot as plt"
   ]
  },
  {
   "cell_type": "code",
   "execution_count": null,
   "id": "0e89e8e3-da05-4b23-91db-36909044152e",
   "metadata": {},
   "outputs": [
    {
     "name": "stderr",
     "output_type": "stream",
     "text": [
      "Reusing dataset fashion_mnist (/root/.cache/huggingface/datasets/fashion_mnist/fashion_mnist/1.0.0/8d6c32399aa01613d96e2cbc9b13638f359ef62bb33612b077b4c247f6ef99c1)\n"
     ]
    },
    {
     "data": {
      "application/vnd.jupyter.widget-view+json": {
       "model_id": "0892e52b68f54dc7b71e21cddf536fdd",
       "version_major": 2,
       "version_minor": 0
      },
      "text/plain": [
       "  0%|          | 0/2 [00:00<?, ?it/s]"
      ]
     },
     "metadata": {},
     "output_type": "display_data"
    },
    {
     "data": {
      "text/plain": [
       "(<torch.utils.data.dataloader.DataLoader>,\n",
       " <torch.utils.data.dataloader.DataLoader>)"
      ]
     },
     "execution_count": null,
     "metadata": {},
     "output_type": "execute_result"
    }
   ],
   "source": [
    "name = \"fashion_mnist\"\n",
    "ds_builder = load_dataset_builder(name)\n",
    "hf_dd = load_dataset(name)\n",
    "\n",
    "bs = 1024\n",
    "dls = DataLoaders.from_hf_dd(hf_dd, batch_size=bs)\n",
    "\n",
    "# As a reminder, `DataLoaders` expose a PyTorch train and validation dataloader as `train` and `valid` attributes:\n",
    "\n",
    "dls.train, dls.valid"
   ]
  },
  {
   "cell_type": "markdown",
   "id": "1b72c6f9-c39a-486e-8e07-04a316ab7366",
   "metadata": {},
   "source": [
    "## Learner Class"
   ]
  },
  {
   "cell_type": "markdown",
   "id": "f536dc9f-79fb-4e3d-b5fa-af288fddd28e",
   "metadata": {},
   "source": [
    "Let's continue to formalize our training loop into a `Learner` class with a `fit()` method. The training loop created so far looks like this:"
   ]
  },
  {
   "cell_type": "markdown",
   "id": "a81c24e6-4c86-4787-828d-26fd10d9d9da",
   "metadata": {},
   "source": [
    "```{.python code-line-numbers='true'}\n",
    "def fit(epochs):\n",
    "    for epoch in range(epochs):\n",
    "        model.train()                                       \n",
    "        n_t = train_loss_s = 0                              \n",
    "        for xb, yb in dls.train:\n",
    "            preds = model(xb)\n",
    "            train_loss = loss_func(preds, yb)\n",
    "            train_loss.backward()\n",
    "            \n",
    "            n_t += len(xb)\n",
    "            train_loss_s += train_loss.item() * len(xb)\n",
    "            \n",
    "            opt.step()\n",
    "            opt.zero_grad()\n",
    "        \n",
    "        model.eval()                                        \n",
    "        n_v = valid_loss_s = acc_s = 0                      \n",
    "        for xb, yb in dls.valid: \n",
    "            with torch.no_grad():                           \n",
    "                preds = model(xb)\n",
    "                valid_loss = loss_func(preds, yb)\n",
    "                \n",
    "                n_v += len(xb)\n",
    "                valid_loss_s += valid_loss.item() * len(xb)\n",
    "                acc_s += accuracy(preds, yb) * len(xb)\n",
    "        \n",
    "        train_loss = train_loss_s / n_t                     \n",
    "        valid_loss = valid_loss_s / n_v\n",
    "        acc = acc_s / n_v\n",
    "        print(f'{epoch=} | {train_loss=:.3f} | {valid_loss=:.3f} | {acc=:.3f}')\n",
    "```"
   ]
  },
  {
   "cell_type": "markdown",
   "id": "fada0541-b9ed-4f83-b4c0-b6da58e1bde3",
   "metadata": {},
   "source": [
    "Let's build this class in steps. Initialization is straight forward:"
   ]
  },
  {
   "cell_type": "code",
   "execution_count": null,
   "id": "9061dc72-815a-46b4-ac96-e8a962198987",
   "metadata": {},
   "outputs": [],
   "source": [
    "class Learner():\n",
    "    def __init__(self, model, dls, loss_fn, metric_fn, optim_class, lr):\n",
    "        self.model = model\n",
    "        self.dls = dls\n",
    "        self.loss_fn = loss_fn\n",
    "        self.metric_fn = metric_fn\n",
    "        self.optim = optim_class(model.parameters(), lr)"
   ]
  },
  {
   "cell_type": "markdown",
   "id": "0e3e10b8-8839-4d36-9ac9-3b17a6508345",
   "metadata": {},
   "source": [
    "Next, let's implement the training loop. Instead of writing the full loop in a single `fit()` method, let's try to break the training loop down into pieces:\n",
    "\n",
    "- `fit()` iterates through the epochs\n",
    "- Per epoch we do a training round through the training data and an evaluation round through the validation set. Both rounds are quite similar, so let's put this functionality in a separate method `one_epoch()`\n",
    "- In each epoch we iterate through the batches of a dataloader, let's put this functionality in a method `one_batch()`\n",
    "\n",
    "let's define the outer most call: `fit()`. In this method we'll call `one_epoch` twice, once for the training and once for the validation. Both passes are fairly similar as can be seen from comparing lines 3-8 with 16-21"
   ]
  },
  {
   "cell_type": "code",
   "execution_count": null,
   "id": "459bc051-d2bb-4646-84f6-7abbb589f69c",
   "metadata": {},
   "outputs": [],
   "source": [
    "@fc.patch\n",
    "def fit(self:Learner, epochs):\n",
    "    for epoch in range(epochs):                # iterate through the epochs\n",
    "        self.one_epoch(epoch, train=True)      # one epoch through the training dataloader\n",
    "        with torch.no_grad():                  # for the validation epoch we don't need grads\n",
    "            self.one_epoch(epoch, train=False) # one epoch through the validation dataloader"
   ]
  },
  {
   "cell_type": "markdown",
   "id": "438e798c-3fd6-40e0-9acd-21d8cf9cd795",
   "metadata": {},
   "source": [
    "Next, let's implement `one_epoch()`. To make sure each method does one thing, we factor `do_batch()` out into it's own method:"
   ]
  },
  {
   "cell_type": "code",
   "execution_count": null,
   "id": "115d5332-5af6-4850-8074-7027dad9c16e",
   "metadata": {},
   "outputs": [],
   "source": [
    "@fc.patch\n",
    "def one_epoch(self:Learner, epoch, train):\n",
    "    self.reset_stats()                         # reset the stats at beginning of each epoch\n",
    "    self.model.train(train)                    # put the model either in train or validation mode\n",
    "    self.dl = self.dls.train if train else self.dls.valid # reference to the active dataloader\n",
    "    for self.batch in self.dl:                 # iterate through the active dataloader\n",
    "        self.one_batch(train)                  # do one batch\n",
    "    self.print_stats(epoch, train)             # print stats at the end of the epoch"
   ]
  },
  {
   "cell_type": "markdown",
   "id": "657c2fde-b3c7-4b26-98f6-5a01631511f7",
   "metadata": {},
   "source": [
    "And finally the method responsible for dealing with a single batch of data:"
   ]
  },
  {
   "cell_type": "code",
   "execution_count": null,
   "id": "65820af0-8a76-420d-8e1c-eece09760efb",
   "metadata": {},
   "outputs": [],
   "source": [
    "@fc.patch\n",
    "def one_batch(self:Learner, train):\n",
    "    self.xb, self.yb = self.batch              # self.batch is either a training or validation batch\n",
    "    self.preds = self.model(self.xb)           # forward pass through the model\n",
    "    self.loss = self.loss_fn(self.preds, self.yb)  # loss\n",
    "    if train:                                  # only do a backward and weight update if train\n",
    "        self.loss.backward()\n",
    "        self.optim.step()\n",
    "        self.optim.zero_grad()\n",
    "    self.update_stats()                        # update stats"
   ]
  },
  {
   "cell_type": "markdown",
   "id": "d82106f7-b44a-4fd4-948f-1c2b73618cbd",
   "metadata": {},
   "source": [
    "And the methods related to the computation of the statistics:"
   ]
  },
  {
   "cell_type": "code",
   "execution_count": null,
   "id": "c69c03a2-8b97-4bc3-8a67-36d8aab7309f",
   "metadata": {},
   "outputs": [],
   "source": [
    "@fc.patch\n",
    "def update_stats(self:Learner):\n",
    "    n = len(self.xb)\n",
    "    self.loss_s += self.loss.item() * n\n",
    "    self.metric_s += self.metric_fn(self.preds, self.yb).item() * n\n",
    "    self.counter += n\n",
    "\n",
    "@fc.patch\n",
    "def reset_stats(self:Learner):\n",
    "    self.counter = 0\n",
    "    self.loss_s = 0\n",
    "    self.metric_s = 0\n",
    "\n",
    "@fc.patch\n",
    "def print_stats(self:Learner, epoch, train):\n",
    "    loss = self.loss_s / self.counter\n",
    "    metric = self.metric_s / self.counter\n",
    "    print(f'{epoch=:02d} | {\"train\" if train else \"eval\":<5} | {loss=:.3f} | {metric=:.3f}')"
   ]
  },
  {
   "cell_type": "markdown",
   "id": "19ca1a78-61f8-408e-9506-cccbae000129",
   "metadata": {},
   "source": [
    "Let's try it out on the data:"
   ]
  },
  {
   "cell_type": "code",
   "execution_count": null,
   "id": "d8ec7d3c-118b-45be-bf1a-773196c91499",
   "metadata": {},
   "outputs": [
    {
     "name": "stdout",
     "output_type": "stream",
     "text": [
      "epoch=00 | train | loss=2.202 | metric=0.240\n",
      "epoch=00 | eval  | loss=2.078 | metric=0.378\n",
      "epoch=01 | train | loss=1.943 | metric=0.464\n",
      "epoch=01 | eval  | loss=1.802 | metric=0.538\n",
      "epoch=02 | train | loss=1.667 | metric=0.578\n",
      "epoch=02 | eval  | loss=1.543 | metric=0.601\n",
      "epoch=03 | train | loss=1.435 | metric=0.628\n",
      "epoch=03 | eval  | loss=1.346 | metric=0.639\n",
      "epoch=04 | train | loss=1.266 | metric=0.652\n",
      "epoch=04 | eval  | loss=1.207 | metric=0.651\n"
     ]
    }
   ],
   "source": [
    "n_in = 28*28\n",
    "n_h = 50\n",
    "n_out = 10\n",
    "lr = 0.01\n",
    "\n",
    "def accuracy(preds, targs):\n",
    "    return (preds.argmax(dim=1) == targs).float().mean()\n",
    "\n",
    "def get_model():\n",
    "    layers = [nn.Linear(n_in, n_h), nn.ReLU(), nn.Linear(n_h, n_out)]\n",
    "    return nn.Sequential(*layers)\n",
    "\n",
    "l = Learner(get_model(), dls, F.cross_entropy, accuracy, torch.optim.SGD, lr)\n",
    "\n",
    "l.fit(5)"
   ]
  },
  {
   "cell_type": "markdown",
   "id": "3fc5f50e-bf9a-4be7-8486-63832ea817b9",
   "metadata": {},
   "source": [
    "## Callbacks, pubsub and event handlers"
   ]
  },
  {
   "cell_type": "markdown",
   "id": "3cc5e950-d535-4f77-9adb-bad0bd5c5cb7",
   "metadata": {},
   "source": [
    "On the one side we want to keep the `Learner` and its training loop generic on the other side we need to be able to tweak the dynamics of the training loop depending on the use-case. One way to customize the training loop, without having to re-write the training loop would be to add a publish/subscribe (pubsub) mechanism. In the FastAI course, they are referred to as \"callbacks\", and although callbacks, event handlers and pubsub are all related and basically refer to any logic (encapsulated in a function) which we want to specify *now*, and execute at a later point in time whenever some condition arises. In my vocabulary a callback is a function that is passed to another function, and is executed whenever that other function is finished.\n",
    "\n",
    "For the purposes of training neural networks we have the following requirements:\n",
    "\n",
    "- The Learner framework defines a number of \"events\" that are published:\n",
    "  - `before_fit`, `after_fit`\n",
    "  - `before_epoch`, `after_epoch`\n",
    "  - `before_batch`, `after_batch`\n",
    "- Subscribers are classes that implement methods (e.g. `before_fit()`) that will be triggered whenever the associated event is published. They also have an `order` attribute which determines the order in which they are called in case multiple Subscribers subscribed to the same event.\n",
    "- As an additional feature, subscribers will be able to redirect flow, but we will come back to that later\n",
    "\n",
    "So let's implement this. First, we will need to store a list of subscribers in the Learner class:"
   ]
  },
  {
   "cell_type": "code",
   "execution_count": null,
   "id": "83751c28-b93b-4356-9e07-ff50e1e9b425",
   "metadata": {},
   "outputs": [],
   "source": [
    "class Learner():\n",
    "    def __init__(self, model, dls, loss_fn, metric_fn, optim_class, lr, subs):\n",
    "        self.model = model\n",
    "        self.dls = dls\n",
    "        self.loss_fn = loss_fn\n",
    "        self.metric_fn = metric_fn\n",
    "        self.optim = optim(model.parameters(), lr)\n",
    "        self.subs = subs"
   ]
  },
  {
   "cell_type": "markdown",
   "id": "e4c65409-cbad-42b6-9783-11f7b631b01b",
   "metadata": {},
   "source": [
    "Next, let's define a method for publishing events. The method will go through the registered subscribers and if a method with the name of the event is declared, call that method passing the `learner` object as an argument:"
   ]
  },
  {
   "cell_type": "code",
   "execution_count": null,
   "id": "7fb62e89-e1b4-4611-b343-d460ad830d0e",
   "metadata": {},
   "outputs": [],
   "source": [
    "@fc.patch\n",
    "def publish(self:Learner, event):\n",
    "    for sub in sorted(self.subs, key=attrgetter('order')):\n",
    "        method = getattr(sub, name, None)\n",
    "        if method is not None: method(self)"
   ]
  },
  {
   "cell_type": "markdown",
   "id": "3b68148a-56d3-4719-b7c1-204d0a326a9c",
   "metadata": {},
   "source": [
    "With the `before_x` / `after_x` events, realize that we have three times the same construct:\n",
    "\n",
    "```\n",
    "publish \"before_event\" event\n",
    "do event\n",
    "publish \"after_event\" event\n",
    "```\n",
    "\n",
    "With `event` being either `fit`, `epoch` or `batch`. So instead of adding this construct multiple times in the training loop let's define a class we can use as a decorater wrapping the `do_event` logic:"
   ]
  },
  {
   "cell_type": "code",
   "execution_count": null,
   "id": "c0cb5006-eeec-4f92-8995-c21e164b1a55",
   "metadata": {},
   "outputs": [],
   "source": [
    " #| export\n",
    "\n",
    "class PublishEvents():\n",
    "    def __init__(self, event): \n",
    "        self.event = event\n",
    "    \n",
    "    def __call__(self, decorated_fn):\n",
    "        def decorated_fn_with_publishing(learner, *args, **kwargs):\n",
    "            learner.publish(f'before_{self.event}')\n",
    "            decorated_fn(learner, *args, **kwargs)\n",
    "            learner.publish(f'after_{self.event}')\n",
    "        return decorated_fn_with_publishing"
   ]
  },
  {
   "cell_type": "markdown",
   "id": "2a94c0be-b2e1-478e-b567-5019e5833586",
   "metadata": {},
   "source": [
    "To implement this into the `Learner` we have to factor out the exact code we want to be executed in between the publishing of the `before` and `after`, see the additional `_one_epoch()` method.\n",
    "\n",
    "Note that we are taking out the logic concerning the statistics, this will be implemented as a Subscriber as we'll see."
   ]
  },
  {
   "cell_type": "code",
   "execution_count": null,
   "id": "8ad45fdf-a763-4065-856f-f85b020ee7b3",
   "metadata": {},
   "outputs": [],
   "source": [
    "class Learner():\n",
    "    def __init__(self, model, dls, loss_fn, metric_fn, optim_class, lr, subs):\n",
    "        self.model = model\n",
    "        self.dls = dls\n",
    "        self.loss_fn = loss_fn\n",
    "        self.metric_fn = metric_fn\n",
    "        self.optim = optim_class(model.parameters(), lr)\n",
    "        self.subs = subs\n",
    "    \n",
    "    @PublishEvents('fit')\n",
    "    def fit(self, epochs):\n",
    "        for epoch in range(epochs):\n",
    "            self.one_epoch(epoch, train=True)\n",
    "            with torch.no_grad():\n",
    "                self.one_epoch(epoch, train=False)\n",
    "\n",
    "    def one_epoch(self, epoch, train):\n",
    "        self.model.train(train)\n",
    "        self.dl = self.dls.train if train else self.dls.valid\n",
    "        self._one_epoch(epoch, train)\n",
    "        \n",
    "    @PublishEvents('epoch')\n",
    "    def _one_epoch(self, epoch, train):\n",
    "        for self.batch in self.dl:\n",
    "            self.xb, self.yb = self.batch\n",
    "            self.one_batch(train)\n",
    "    \n",
    "    @PublishEvents('batch')\n",
    "    def one_batch(self, train):\n",
    "        self.preds = self.model(self.xb)           \n",
    "        self.loss = self.loss_fn(self.preds, self.yb)\n",
    "        if train:                                  \n",
    "            self.loss.backward()\n",
    "            self.optim.step()\n",
    "            self.optim.zero_grad()\n",
    "        \n",
    "    def publish(self, event):\n",
    "        for sub in sorted(self.subs, key=attrgetter('order')):\n",
    "            method = getattr(sub, event, None)\n",
    "            if method is not None: method(self)            "
   ]
  },
  {
   "cell_type": "markdown",
   "id": "0a9017d5-ca52-4582-b602-eb78e2c48d1a",
   "metadata": {},
   "source": [
    "Let's create a dummy subscriber and test it out:"
   ]
  },
  {
   "cell_type": "code",
   "execution_count": null,
   "id": "d6d858ee-83c4-4e91-8300-42ecb9d3f8ce",
   "metadata": {},
   "outputs": [],
   "source": [
    " #| export\n",
    "class Subscriber():\n",
    "    order = 0\n",
    "\n",
    "class DummyS(Subscriber):\n",
    "    \n",
    "    def before_fit(self, learn):\n",
    "        print('before fit👋')\n",
    "        \n",
    "    def after_fit(self, learn):\n",
    "        print('after fit👋')\n",
    "        \n",
    "    def before_epoch(self, learn):\n",
    "        print('before epoch 💥')\n",
    "        \n",
    "    def after_epoch(self, learn):\n",
    "        print('after epoch 💥')"
   ]
  },
  {
   "cell_type": "code",
   "execution_count": null,
   "id": "579664a1-a60f-4864-94a4-992e93ddf062",
   "metadata": {},
   "outputs": [
    {
     "name": "stdout",
     "output_type": "stream",
     "text": [
      "before fit👋\n",
      "before epoch 💥\n",
      "after epoch 💥\n",
      "before epoch 💥\n",
      "after epoch 💥\n",
      "after fit👋\n"
     ]
    }
   ],
   "source": [
    "l = Learner(get_model(), dls, F.cross_entropy, accuracy, torch.optim.SGD, lr, [DummyS()])\n",
    "l.fit(1)"
   ]
  },
  {
   "cell_type": "markdown",
   "id": "e6c65276",
   "metadata": {},
   "source": [
    "## Subscribers can cancel execution"
   ]
  },
  {
   "cell_type": "markdown",
   "id": "88f7433f-8214-4ffc-9a93-84a59c0d5689",
   "metadata": {},
   "source": [
    "Now let's add the last component of our pubsub system: subscribers should be able to cancel processing. For example, a a subscriber that would implement Early Stopping, will have to be able to cancel any further epochs when the validation loss starts increasing. One way to implement this, is with the help of `Exceptions` and `try` / `except` blocks:\n",
    "\n",
    "It's actually very easy to implement this logic, we only need to define custom `Exceptions`, and update the `PublishEvents` class to catch the exceptions that are thrown in any subscriber:"
   ]
  },
  {
   "cell_type": "code",
   "execution_count": null,
   "id": "5ed18b8e-140a-4d85-9541-0438a298bf92",
   "metadata": {},
   "outputs": [],
   "source": [
    "class CancelFitException(Exception): pass\n",
    "class CancelEpochException(Exception): pass\n",
    "class CancelBatchException(Exception): pass\n",
    "\n",
    "\n",
    "class PublishEvents():\n",
    "    def __init__(self, name): \n",
    "        self.name = name\n",
    "    \n",
    "    def __call__(self, decorated_fn):\n",
    "        def decorated_fn_with_publishing(learner, *args, **kwargs):\n",
    "            try:\n",
    "                learner.publish(f'before_{self.name}')\n",
    "                decorated_fn(learner, *args, **kwargs)\n",
    "                learner.publish(f'after_{self.name}')\n",
    "            except globals()[f'Cancel{self.name.title()}Exception']: pass\n",
    "        return decorated_fn_with_publishing"
   ]
  },
  {
   "cell_type": "code",
   "execution_count": null,
   "id": "bd31bc76-9424-40e3-9b01-8906e450291c",
   "metadata": {},
   "outputs": [],
   "source": [
    "class DummyS(Subscriber):\n",
    "    \n",
    "    def before_fit(self, learn): print('before fit👋')\n",
    "        \n",
    "    def before_epoch(self, learn): raise CancelFitException\n",
    "    \n",
    "    def after_fit(self, learn): print('after fit 👋')"
   ]
  },
  {
   "cell_type": "code",
   "execution_count": null,
   "id": "192291d9-5019-42af-87bc-9f699d20e840",
   "metadata": {},
   "outputs": [
    {
     "name": "stdout",
     "output_type": "stream",
     "text": [
      "before fit👋\n"
     ]
    }
   ],
   "source": [
    "l = Learner(get_model(), dls, F.cross_entropy, accuracy, torch.optim.SGD, lr, [DummyS()])\n",
    "l.fit(5)"
   ]
  },
  {
   "cell_type": "markdown",
   "id": "d2ee4b0a-f322-4f8a-a825-f64308e8fe99",
   "metadata": {},
   "source": [
    "And indeed, the `after_fit` event is never called, since the fit was cancelled during `before_epoch` by the dummy subscriber"
   ]
  },
  {
   "cell_type": "markdown",
   "id": "30012d32-bae6-4465-97b2-20efb0a8a3aa",
   "metadata": {},
   "source": [
    "## Final version of `Learner`"
   ]
  },
  {
   "cell_type": "markdown",
   "id": "c58b28a6-af2d-4f66-8270-ed845d0fdb06",
   "metadata": {},
   "source": [
    "We are going to make some final changes to the Learner class:\n",
    "\n",
    "- factor out the computation of the following logic. This is practical to create subclasses of `Learner` with custom behavior:\n",
    "  - prediction: `self.predict()`\n",
    "  - loss: `self.get_loss()`\n",
    "  - backward pass: `self.backward()`\n",
    "  - stepping of weights: `self.step()`\n",
    "  - zeroing of gradients: `self.zero_grad()`\n",
    "- add a Subscriber argument to `fit`, these subs will only be added for the duration of the fit, and afterwards removed\n",
    "- add a couple of additional events (`after_predict`, `after_loss`, `after_backward` and `after_step`) to which subscribers can listen"
   ]
  },
  {
   "cell_type": "code",
   "execution_count": null,
   "id": "0895300f-ea30-4cd4-a3f4-d6042dd17aa0",
   "metadata": {},
   "outputs": [],
   "source": [
    " #| export\n",
    "class Learner():\n",
    "    def __init__(self, model, dls, loss_fn, optim_class, lr, subs):\n",
    "        self.model = model\n",
    "        self.dls = dls\n",
    "        self.loss_fn = loss_fn\n",
    "        self.optim_class = optim_class\n",
    "        self.lr = lr\n",
    "        self.subs = subs\n",
    "    \n",
    "    def fit(self, epochs, train=True, valid=True, subs=[], lr=None):\n",
    "        for sub in subs: self.subs.append(sub)\n",
    "        self.n_epochs = epochs\n",
    "        self.epochs = range(self.n_epochs)\n",
    "        lr = self.lr if lr is None else lr\n",
    "        self.opt = self.optim_class(self.model.parameters(), lr)\n",
    "        try:\n",
    "            self._fit(train, valid)\n",
    "        finally:\n",
    "            for sub in subs: self.subs.remove(sub)\n",
    "                    \n",
    "    @PublishEvents('fit')\n",
    "    def _fit(self, train, valid):\n",
    "        for self.epoch in self.epochs:\n",
    "            if train: \n",
    "                self.one_epoch(True)\n",
    "            if valid:\n",
    "                with torch.no_grad():\n",
    "                    self.one_epoch(False)\n",
    "        \n",
    "    def one_epoch(self, train):\n",
    "        self.model.train(train)\n",
    "        self.dl = self.dls.train if train else self.dls.valid\n",
    "        self._one_epoch()\n",
    "        \n",
    "    @PublishEvents('epoch')\n",
    "    def _one_epoch(self):\n",
    "        for self.batch in self.dl: \n",
    "            self.one_batch()\n",
    "    \n",
    "    @PublishEvents('batch')\n",
    "    def one_batch(self):\n",
    "        self.predict()\n",
    "        self.publish('after_predict')\n",
    "        self.get_loss()\n",
    "        self.publish('after_loss')\n",
    "        if self.model.training:\n",
    "            self.backward()\n",
    "            self.publish('after_backward')\n",
    "            self.step()\n",
    "            self.publish('after_step')\n",
    "            self.zero_grad()\n",
    "        \n",
    "    def publish(self, event):\n",
    "        for sub in sorted(self.subs, key=attrgetter('order')):\n",
    "            method = getattr(sub, event, None)\n",
    "            if method is not None: method(self)\n",
    "            \n",
    "    def predict(self): \n",
    "        self.preds = self.model(self.batch[0])\n",
    "        \n",
    "    def get_loss(self): \n",
    "        self.loss = self.loss_fn(self.preds, self.batch[1])\n",
    "        \n",
    "    def backward(self): self.loss.backward()\n",
    "    def step(self): self.opt.step()\n",
    "    def zero_grad(self): self.opt.zero_grad()"
   ]
  },
  {
   "cell_type": "markdown",
   "id": "eac23e86-e522-48e0-8818-24e1c57c296d",
   "metadata": {},
   "source": [
    "## Metrics Subscriber"
   ]
  },
  {
   "cell_type": "markdown",
   "id": "a4a6d800-ec5d-4b23-bdee-c65f6d94084a",
   "metadata": {},
   "source": [
    "Since we took out the metrics, let's create a subscriber that adds that. We want the subscriber to be generic, to it should be able to accept one or multiple metrics. Let's make sure that it can accept the metrics from the `torcheval` library:"
   ]
  },
  {
   "cell_type": "code",
   "execution_count": null,
   "id": "65095b58-d78e-4977-bb08-718ecbe305fb",
   "metadata": {},
   "outputs": [
    {
     "name": "stderr",
     "output_type": "stream",
     "text": [
      "WARNING:root:No calls to update() have been made - returning 0.0\n"
     ]
    },
    {
     "name": "stdout",
     "output_type": "stream",
     "text": [
      "tensor(3.5000, dtype=torch.float64)\n",
      "tensor(0., dtype=torch.float64)\n"
     ]
    }
   ],
   "source": [
    "metric = tem.Mean()\n",
    "\n",
    "metric.update(torch.tensor([1,2,3]))  # update() adds data\n",
    "metric.update(torch.tensor([4,5,6]))  \n",
    "print(metric.compute())               # compute() computes the metric\n",
    "\n",
    "metric.reset()                        # remove all data\n",
    "print(metric.compute())"
   ]
  },
  {
   "cell_type": "code",
   "execution_count": null,
   "id": "7abe946d-c885-42c8-980a-eb95dda2e7e4",
   "metadata": {},
   "outputs": [],
   "source": [
    " #|export\n",
    "class MetricsS(Subscriber):\n",
    "    def __init__(self, **metrics):\n",
    "        self.metrics = metrics\n",
    "        self.loss = tem.Mean()\n",
    "        \n",
    "    def before_fit(self, learn): \n",
    "        learn.metrics = self\n",
    "    \n",
    "    def before_epoch(self, learn):\n",
    "        for m in self.metrics.values(): m.reset()\n",
    "        self.loss.reset()\n",
    "    \n",
    "    def after_batch(self, learn):\n",
    "        x,y,*_ = self.to_cpu(learn.batch)\n",
    "        for m in self.metrics.values(): m.update(self.to_cpu(learn.preds), y)\n",
    "        self.loss.update(self.to_cpu(learn.loss), weight=len(x))\n",
    "        \n",
    "    def after_epoch(self, learn):\n",
    "        log = {\n",
    "            'epoch': learn.epoch,\n",
    "            'mode': 'train' if learn.model.training else 'eval',\n",
    "            'loss' : f'{self.loss.compute():.3f}'\n",
    "        }\n",
    "        for k, v in self.metrics.items():\n",
    "            log[k] = f'{v.compute():.3f}'\n",
    "        self.output(log)\n",
    "        \n",
    "    def to_cpu(self, x):\n",
    "        if isinstance(x, list): return (self.to_cpu(el) for el in x)\n",
    "        return x.detach().cpu()\n",
    "        \n",
    "    def output(self, log): print(log)"
   ]
  },
  {
   "cell_type": "code",
   "execution_count": null,
   "id": "38bab58f-f480-4874-9bb4-05d0ae48c320",
   "metadata": {},
   "outputs": [
    {
     "name": "stdout",
     "output_type": "stream",
     "text": [
      "{'epoch': 0, 'mode': 'train', 'loss': '2.220', 'accuracy': '0.206'}\n",
      "{'epoch': 0, 'mode': 'eval', 'loss': '2.121', 'accuracy': '0.352'}\n"
     ]
    }
   ],
   "source": [
    "metrics_s = MetricsS(accuracy=tem.MulticlassAccuracy())\n",
    "\n",
    "l = Learner(get_model(), dls, F.cross_entropy, torch.optim.SGD, lr, [metrics_s])\n",
    "l.fit(1)"
   ]
  },
  {
   "cell_type": "markdown",
   "id": "4e12e33f-8d74-4ec7-a9bc-cba35018aca8",
   "metadata": {},
   "source": [
    "## Device Subscriber"
   ]
  },
  {
   "cell_type": "markdown",
   "id": "9df01499-ee64-42e3-bbf0-9f36c8f98ec0",
   "metadata": {},
   "source": [
    "It's time we start training on the GPU, to do that we have to move the model (and it's parameters) as well as all the data onto the GPU. We can easily do this with a Subscriber:\n",
    "\n",
    "- move the model (and all it's trainable parameters) to the device **before fit**\n",
    "- move each batch to the device **before batch**"
   ]
  },
  {
   "cell_type": "code",
   "execution_count": null,
   "id": "28deeb63-1eea-4197-9bb7-52f119b63937",
   "metadata": {},
   "outputs": [],
   "source": [
    " #| export\n",
    "\n",
    "device = torch.device(\"cuda\" if torch.cuda.is_available() else \"cpu\")\n",
    "    \n",
    "class DeviceS(Subscriber):\n",
    "    \n",
    "    def __init__(self, device):\n",
    "        self.device = device\n",
    "    \n",
    "    def before_fit(self, learn):\n",
    "        learn.model.to(self.device)\n",
    "    \n",
    "    def before_batch(self, learn):\n",
    "        learn.batch = [x.to(self.device) for x in learn.batch]"
   ]
  },
  {
   "cell_type": "code",
   "execution_count": null,
   "id": "c2b0fbe6-d595-498e-b430-c2fbb21db715",
   "metadata": {},
   "outputs": [
    {
     "name": "stdout",
     "output_type": "stream",
     "text": [
      "{'epoch': 0, 'mode': 'train', 'loss': '2.209', 'accuracy': '0.256'}\n",
      "{'epoch': 0, 'mode': 'eval', 'loss': '2.115', 'accuracy': '0.306'}\n"
     ]
    }
   ],
   "source": [
    "device_s = DeviceS(device)\n",
    "\n",
    "l = Learner(get_model(), dls, F.cross_entropy, torch.optim.SGD, lr, [metrics_s, device_s])\n",
    "l.fit(1)"
   ]
  },
  {
   "cell_type": "markdown",
   "id": "519fe2c1-cc86-4e95-bd40-cd8639032e42",
   "metadata": {},
   "source": [
    "## Learning Rate Finder"
   ]
  },
  {
   "cell_type": "markdown",
   "id": "121973e8-ea1a-4fed-892c-ed1722d89f54",
   "metadata": {},
   "source": [
    "The learning rate finder is very simple technique that can be used to find a good learning rate for training a network. It works like this:\n",
    "\n",
    "- Start with a very small learning rate \n",
    "- Do a forward pass through the network of a single batch of data and record the loss\n",
    "- Increase the learning rate with constant factor\n",
    "- Do another forward pass through the network of a single batch and record the loss\n",
    "- Continue to do this until at some point the loss \"explodes\": for example because the current loss is 3 times as large as the minimum loss recorded so far\n",
    "\n",
    "After this, we plot the learning rate vs the recorded losses and look for a learning rate at which the loss is decreasing the most (i.e. the point where the loss has the smallest derivative)."
   ]
  },
  {
   "cell_type": "code",
   "execution_count": null,
   "id": "a3c54e67-4395-489c-bad6-75b5450ff947",
   "metadata": {},
   "outputs": [],
   "source": [
    " #| export\n",
    "class LRFindS(Subscriber):\n",
    "    \n",
    "    def __init__(self, mult=1.25):\n",
    "        self.mult = mult\n",
    "        self.min = math.inf\n",
    "        \n",
    "    def before_epoch(self, learn):\n",
    "        if not learn.model.training: raise CancelFitException\n",
    "        self.losses = []\n",
    "        self.lrs = []\n",
    "    \n",
    "    def after_loss(self, learn):\n",
    "        lr = learn.opt.param_groups[0]['lr']\n",
    "        self.lrs.append(lr)\n",
    "        loss = learn.loss.detach().cpu()\n",
    "        self.losses.append(loss)\n",
    "        if loss < self.min: self.min = loss\n",
    "        if loss > self.min*3: raise CancelFitException()\n",
    "        for g in learn.opt.param_groups: g['lr'] = lr * self.mult\n",
    "        \n",
    "    def plot(self):\n",
    "        plt.plot(self.lrs, self.losses)\n",
    "        plt.xscale('log')"
   ]
  },
  {
   "cell_type": "code",
   "execution_count": null,
   "id": "3c876023-1d58-4675-925f-fb85a07d09e1",
   "metadata": {},
   "outputs": [],
   "source": [
    "l = Learner(get_model(), dls, F.cross_entropy, torch.optim.SGD, lr, [metrics_s, device_s])\n",
    "\n",
    "lrfind_s = LRFindS()\n",
    "l.fit(5, lr=1e-4, subs=[lrfind_s])"
   ]
  },
  {
   "cell_type": "code",
   "execution_count": null,
   "id": "fa7ed384-4de9-4870-9624-0d472f33973f",
   "metadata": {},
   "outputs": [
    {
     "data": {
      "image/png": "[encoded data removed]",
      "text/plain": [
       "<Figure size 432x288 with 1 Axes>"
      ]
     },
     "metadata": {
      "needs_background": "light"
     },
     "output_type": "display_data"
    }
   ],
   "source": [
    "lrfind_s.plot()"
   ]
  },
  {
   "cell_type": "markdown",
   "id": "ca7c415c-111c-40c9-9e37-b4a40cec39d1",
   "metadata": {},
   "source": [
    "From which we see that a learning rate of around 0.2 would be best"
   ]
  },
  {
   "cell_type": "markdown",
   "id": "f38c0cd7-e748-47f1-99b6-1543d65cb985",
   "metadata": {},
   "source": [
    "## MomentumLearner"
   ]
  },
  {
   "cell_type": "markdown",
   "id": "a9f293ce-5214-4973-b43c-6221bb7bbaf8",
   "metadata": {},
   "source": [
    "Additionally, we can easily subclass `Learner`, and implement custom functionality into any of its 5 main functionalities:\n",
    "\n",
    "- prediction: `self.predict()`\n",
    "- loss: `self.get_loss()`\n",
    "- backward pass: `self.backward()`\n",
    "- stepping of weights: `self.step()`\n",
    "- zeroing of gradients: `self.zero_grad()`\n",
    "\n",
    "For example we can create a `MomentumLearner` which doesn't just use the gradient of the last backward pass, but uses an exponentially weighted average of all previously computed gradients. We can do this by not zeroing out the gradients, but just reduce them by a factor between 0 and 1 (the momentum parameter). This way the \"gradient with momentum\" at time $t$ ($m_t$), will be a function of the normal gradient ($g_t$): \n",
    "\n",
    "$$\n",
    "m_t = g_t + c \\cdot g_{t-1} + c^2 \\cdot g_{t-2} + ...\n",
    "$$\n",
    "\n",
    "This is called momentum and the idea is to add a sense of \"inertia\" to the gradients, i.e. if in one step we are moving through the loss manifold in a certain direction, then in the next step we want to keep moving somewhat in that direction irrespective of the gradient of the current step."
   ]
  },
  {
   "cell_type": "code",
   "execution_count": null,
   "id": "0dd08951-b87d-4537-ad19-036bdac4b83a",
   "metadata": {},
   "outputs": [],
   "source": [
    " #| export\n",
    "class MomentumLearner(Learner):\n",
    "    \n",
    "    def __init__(self, model, dls, loss_fn, optim_class, lr, subs, mom=0.85):\n",
    "        self.mom = mom\n",
    "        super().__init__(model, dls, loss_fn, optim_class, lr, subs)\n",
    "        \n",
    "    def zero_grad(self):\n",
    "        with torch.no_grad():\n",
    "            for p in self.model.parameters(): p.grad *= self.mom"
   ]
  },
  {
   "cell_type": "code",
   "execution_count": null,
   "id": "016f9530-a940-46d0-bc84-0299857f583d",
   "metadata": {},
   "outputs": [
    {
     "name": "stdout",
     "output_type": "stream",
     "text": [
      "{'epoch': 0, 'mode': 'train', 'loss': '1.657', 'accuracy': '0.481'}\n",
      "{'epoch': 0, 'mode': 'eval', 'loss': '1.105', 'accuracy': '0.647'}\n",
      "{'epoch': 1, 'mode': 'train', 'loss': '0.925', 'accuracy': '0.685'}\n",
      "{'epoch': 1, 'mode': 'eval', 'loss': '0.831', 'accuracy': '0.695'}\n",
      "{'epoch': 2, 'mode': 'train', 'loss': '0.763', 'accuracy': '0.732'}\n",
      "{'epoch': 2, 'mode': 'eval', 'loss': '0.736', 'accuracy': '0.739'}\n",
      "{'epoch': 3, 'mode': 'train', 'loss': '0.686', 'accuracy': '0.764'}\n",
      "{'epoch': 3, 'mode': 'eval', 'loss': '0.675', 'accuracy': '0.766'}\n",
      "{'epoch': 4, 'mode': 'train', 'loss': '0.635', 'accuracy': '0.784'}\n",
      "{'epoch': 4, 'mode': 'eval', 'loss': '0.634', 'accuracy': '0.779'}\n"
     ]
    }
   ],
   "source": [
    "l = MomentumLearner(get_model(), dls, F.cross_entropy, torch.optim.SGD, lr, [metrics_s, device_s])\n",
    "l.fit(5)"
   ]
  },
  {
   "cell_type": "markdown",
   "id": "876d574c-8d7e-48da-93c2-991b9af31adc",
   "metadata": {},
   "source": [
    "And this simple technique has a pretty good effect on training our model: the accuracy on the validation set is increasing (even with this simple linear model) from 66% with normal SGD to 78% with momentum."
   ]
  },
  {
   "cell_type": "markdown",
   "id": "29eb531e-f154-4ff8-83c2-5a0afec5dd0a",
   "metadata": {},
   "source": [
    "## Closing remarks"
   ]
  },
  {
   "cell_type": "markdown",
   "id": "a1f96f48-7ba9-4042-9de4-cc279a89c2be",
   "metadata": {},
   "source": [
    "In this post we have again covered a lot of ground. We have created a very flexible Learner framework, making heavy use of a pubsub system to customize the training loop. As examples we have seen a Subscriber that enables training on the GPU, and another one that takes care of tracking the loss and the metrics while we are training. Additionally we have implement the learning rate finder as a Subscriber, and last but not least we have seen how we can subclass the Learner class to create custom learners that for example implement momentum. Below I have added one additional Subscriber that displays the progress of the loss a bit nicer in a graph, as well as puts the outputs in a table. It has been copied from the miniai library as is (with some minor changes to make it work for `nntrain`)."
   ]
  },
  {
   "cell_type": "code",
   "execution_count": null,
   "id": "a1c37493-2b7b-4654-9fc1-ac6ac59d4f2d",
   "metadata": {},
   "outputs": [],
   "source": [
    " #| export\n",
    "\n",
    "class ProgressS(Subscriber):\n",
    "    order = MetricsS.order+1\n",
    "    def __init__(self, plot=False): self.plot = plot\n",
    "    def before_fit(self, learn):\n",
    "        learn.epochs = self.mbar = master_bar(learn.epochs)\n",
    "        self.first = True\n",
    "        if hasattr(learn, 'metrics'): learn.metrics.output = self.output\n",
    "        self.losses = []\n",
    "        self.val_losses = []\n",
    "\n",
    "    def output(self, d):\n",
    "        if self.first:\n",
    "            self.mbar.write(list(d), table=True)\n",
    "            self.first = False\n",
    "        self.mbar.write(list(d.values()), table=True)\n",
    "\n",
    "    def before_epoch(self, learn): learn.dl = progress_bar(learn.dl, leave=False, parent=self.mbar)\n",
    "    \n",
    "    def after_batch(self, learn):\n",
    "        learn.dl.comment = f'{learn.loss:.3f}'\n",
    "        if self.plot and hasattr(learn, 'metrics') and learn.model.training:\n",
    "            self.losses.append(learn.loss.item())\n",
    "            if self.val_losses: self.mbar.update_graph([[fc.L.range(self.losses), self.losses],[fc.L.range(learn.epoch).map(lambda x: (x+1)*len(learn.dls.train)), self.val_losses]])\n",
    "    \n",
    "    def after_epoch(self, learn): \n",
    "        if not learn.model.training:\n",
    "            if self.plot and hasattr(learn, 'metrics'): \n",
    "                self.val_losses.append(learn.metrics.loss.compute())\n",
    "                self.mbar.update_graph([[fc.L.range(self.losses), self.losses],[fc.L.range(learn.epoch+1).map(lambda x: (x+1)*len(learn.dls.train)), self.val_losses]])\n"
   ]
  },
  {
   "cell_type": "code",
   "execution_count": null,
   "id": "c4e7cf7e-ca6b-477a-a3e3-ccc72cacd9bc",
   "metadata": {},
   "outputs": [
    {
     "data": {
      "text/html": [
       "\n",
       "<style>\n",
       "    /* Turns off some styling */\n",
       "    progress {\n",
       "        /* gets rid of default border in Firefox and Opera. */\n",
       "        border: none;\n",
       "        /* Needs to be in here for Safari polyfill so background images work as expected. */\n",
       "        background-size: auto;\n",
       "    }\n",
       "    progress:not([value]), progress:not([value])::-webkit-progress-bar {\n",
       "        background: repeating-linear-gradient(45deg, #7e7e7e, #7e7e7e 10px, #5c5c5c 10px, #5c5c5c 20px);\n",
       "    }\n",
       "    .progress-bar-interrupted, .progress-bar-interrupted::-webkit-progress-bar {\n",
       "        background: #F44336;\n",
       "    }\n",
       "</style>\n"
      ],
      "text/plain": [
       "<IPython.core.display.HTML object>"
      ]
     },
     "metadata": {},
     "output_type": "display_data"
    },
    {
     "data": {
      "text/html": [
       "<table border=\"1\" class=\"dataframe\">\n",
       "  <thead>\n",
       "    <tr style=\"text-align: left;\">\n",
       "      <th>epoch</th>\n",
       "      <th>mode</th>\n",
       "      <th>loss</th>\n",
       "      <th>accuracy</th>\n",
       "    </tr>\n",
       "  </thead>\n",
       "  <tbody>\n",
       "    <tr>\n",
       "      <td>0</td>\n",
       "      <td>train</td>\n",
       "      <td>1.818</td>\n",
       "      <td>0.425</td>\n",
       "    </tr>\n",
       "    <tr>\n",
       "      <td>0</td>\n",
       "      <td>eval</td>\n",
       "      <td>1.192</td>\n",
       "      <td>0.640</td>\n",
       "    </tr>\n",
       "    <tr>\n",
       "      <td>1</td>\n",
       "      <td>train</td>\n",
       "      <td>0.965</td>\n",
       "      <td>0.676</td>\n",
       "    </tr>\n",
       "    <tr>\n",
       "      <td>1</td>\n",
       "      <td>eval</td>\n",
       "      <td>0.845</td>\n",
       "      <td>0.693</td>\n",
       "    </tr>\n",
       "    <tr>\n",
       "      <td>2</td>\n",
       "      <td>train</td>\n",
       "      <td>0.772</td>\n",
       "      <td>0.730</td>\n",
       "    </tr>\n",
       "    <tr>\n",
       "      <td>2</td>\n",
       "      <td>eval</td>\n",
       "      <td>0.740</td>\n",
       "      <td>0.737</td>\n",
       "    </tr>\n",
       "    <tr>\n",
       "      <td>3</td>\n",
       "      <td>train</td>\n",
       "      <td>0.690</td>\n",
       "      <td>0.762</td>\n",
       "    </tr>\n",
       "    <tr>\n",
       "      <td>3</td>\n",
       "      <td>eval</td>\n",
       "      <td>0.676</td>\n",
       "      <td>0.765</td>\n",
       "    </tr>\n",
       "    <tr>\n",
       "      <td>4</td>\n",
       "      <td>train</td>\n",
       "      <td>0.636</td>\n",
       "      <td>0.784</td>\n",
       "    </tr>\n",
       "    <tr>\n",
       "      <td>4</td>\n",
       "      <td>eval</td>\n",
       "      <td>0.634</td>\n",
       "      <td>0.780</td>\n",
       "    </tr>\n",
       "  </tbody>\n",
       "</table>"
      ],
      "text/plain": [
       "<IPython.core.display.HTML object>"
      ]
     },
     "metadata": {},
     "output_type": "display_data"
    },
    {
     "data": {
      "image/png": "[encoded data removed]",
      "text/plain": [
       "<Figure size 432x288 with 1 Axes>"
      ]
     },
     "metadata": {},
     "output_type": "display_data"
    }
   ],
   "source": [
    "progress_s = ProgressS(True)\n",
    "\n",
    "l = MomentumLearner(get_model(), dls, F.cross_entropy, torch.optim.SGD, lr, [metrics_s, device_s, progress_s])\n",
    "l.fit(5)"
   ]
  }
 ],
 "metadata": {
  "kernelspec": {
   "display_name": "python3",
   "language": "python",
   "name": "python3"
  }
 },
 "nbformat": 4,
 "nbformat_minor": 5
}
