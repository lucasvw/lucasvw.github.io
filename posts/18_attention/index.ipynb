{
 "cells": [
  {
   "cell_type": "raw",
   "id": "5a706372-b4f8-4d32-9470-24b837947fa5",
   "metadata": {},
   "source": [
    "---\n",
    "title: \"Transformers\"\n",
    "author: \"Lucas van Walstijn\"\n",
    "date: \"2023-11-03\"\n",
    "categories: [nlp, transformers, attention]\n",
    "image: \"attention.png\"\n",
    "comments:\n",
    "  utterances:\n",
    "    repo: lucasvw/BlogComments\n",
    "format:\n",
    "  html:\n",
    "    code-overflow: scroll\n",
    "---"
   ]
  },
  {
   "cell_type": "code",
   "execution_count": null,
   "id": "7c683ee1-4cf7-4d16-8e6e-2de5ebf4dc5b",
   "metadata": {
    "vscode": {
     "languageId": "python"
    }
   },
   "outputs": [],
   "source": [
    "#| code-fold: true\n",
    "\n",
    "import random\n",
    "from functools import reduce, partial\n",
    "from pathlib import Path\n",
    "from urllib.request import urlretrieve\n",
    "import numpy as np\n",
    "import torch\n",
    "import torch.nn as nn\n",
    "import torch.nn.functional as F\n",
    "import matplotlib.pyplot as plt\n",
    "import torcheval.metrics as tem\n",
    "import fastcore.all as fc\n",
    "\n",
    "\n",
    "from nntrain.dataloaders import DataLoaders\n",
    "from nntrain.learner import *\n",
    "from nntrain.activations import *\n",
    "from nntrain.acceleration import *\n",
    "from nntrain.rnn import *"
   ]
  },
  {
   "cell_type": "markdown",
   "id": "afc73d2c-4bf0-4f1f-a5e3-8311ec12d146",
   "metadata": {},
   "source": [
    "Transformers were introduced in the paper *Attention is all you need* in 2017 by Vaswani et al, and as the title suggests focusses heavily on a something called *attention*. This architecture is still very much in use today and is used in text applications applications like ChatGPT, but also in other fields such as vision, audio and other sequence based fields such as protein folding.\n",
    "\n",
    "It's an extremely important architecture, and in this post I would like to investigate how it works. Let's discuss the transformer architecture in terms of a word level model trying to predict the next word in a sequence. With a vocabulary of size 100, some tokenized sentence of the training set might look like this:"
   ]
  },
  {
   "cell_type": "code",
   "execution_count": null,
   "id": "c2018d0e-757d-440f-b500-59b474dd2417",
   "metadata": {
    "vscode": {
     "languageId": "python"
    }
   },
   "outputs": [
    {
     "data": {
      "text/plain": [
       "[81, 14, 3, 94]"
      ]
     },
     "execution_count": null,
     "metadata": {},
     "output_type": "execute_result"
    }
   ],
   "source": [
    "len_vocab = 100\n",
    "\n",
    "random.seed(42)\n",
    "x_enc = [random.randint(0, len_vocab-1) for i in range(4)]\n",
    "x_enc"
   ]
  },
  {
   "cell_type": "markdown",
   "id": "6577e58f-d923-45ef-b81b-cd02bec788e7",
   "metadata": {},
   "source": [
    "From this tokenized sequence we could naively create the following training samples:"
   ]
  },
  {
   "cell_type": "code",
   "execution_count": null,
   "id": "acb0774c-1465-4737-ba02-815dfdfbd36e",
   "metadata": {
    "vscode": {
     "languageId": "python"
    }
   },
   "outputs": [
    {
     "name": "stdout",
     "output_type": "stream",
     "text": [
      "input -> output\n",
      "---------------\n",
      "81    -> 14\n",
      "14    -> 3\n",
      "3     -> 94\n"
     ]
    }
   ],
   "source": [
    "#| code-fold: true\n",
    "\n",
    "print(f'{\"input\".ljust(5)} -> output')\n",
    "print(f'{\"-\"*15}')\n",
    "for i in range(len(x_enc) - 1):\n",
    "    print(f'{x_enc[i].__repr__().ljust(5)} -> {x_enc[i+1]}')"
   ]
  },
  {
   "cell_type": "markdown",
   "id": "3cef4e01-ce71-4bb0-b8ca-d2464fff78f5",
   "metadata": {},
   "source": [
    "This is essentially the bigram language model, in which only the previous token is used to predict the next. \n",
    "\n",
    "Now let's consider the general case in which for each prediction we can use the full history of tokens, we then get the following samples:"
   ]
  },
  {
   "cell_type": "code",
   "execution_count": null,
   "id": "25f48696-6513-4199-8d94-d3ef46457b49",
   "metadata": {
    "vscode": {
     "languageId": "python"
    }
   },
   "outputs": [
    {
     "name": "stdout",
     "output_type": "stream",
     "text": [
      "input        -> output\n",
      "----------------------\n",
      "[81]         -> 14\n",
      "[81, 14]     -> 3\n",
      "[81, 14, 3]  -> 94\n"
     ]
    }
   ],
   "source": [
    "#| code-fold: true\n",
    "\n",
    "print(f'{\"input\".ljust(12)} -> output')\n",
    "print(f'{\"-\"*22}')\n",
    "for i in range(len(x_enc) - 1):\n",
    "    print(f'{x_enc[:i+1].__repr__().ljust(12)} -> {x_enc[i+1]}')"
   ]
  },
  {
   "cell_type": "markdown",
   "id": "4ac64c11-d199-4071-9e58-384423c62897",
   "metadata": {},
   "source": [
    "As we progress further into the sequence we can use more *context* from the sequence to predict the next token. For the first sample we just have one single token for the prediction, for the last sample we can use 3 tokens for our prediction. The question is then: *how do we use this varying length context in an optimal way to make the best prediction for the next word?*\n",
    "\n",
    "The initial idea we will pursue is to \n",
    "\n",
    "1. create an embedding vector for each token\n",
    "2. average the embeddings of the tokens in the context\n",
    "\n",
    "Arguably, this is a pretty rough way of dealing with the information contained in the individual embeddings. And indeed, we will see that self-attention is a bit more involved than this. However, it's a good starting point to understand self-attention.\n",
    "\n",
    "If we represent an embedding vector of token $x$ as `E_[x]` and the average of two embedding vectors $x$ and $y$ as `E_[x,y]` we can visualize this initial idea outlined above as follows:"
   ]
  },
  {
   "cell_type": "code",
   "execution_count": null,
   "id": "1c67de6a-be06-4390-a1cb-60eb09768c6d",
   "metadata": {
    "vscode": {
     "languageId": "python"
    }
   },
   "outputs": [
    {
     "name": "stdout",
     "output_type": "stream",
     "text": [
      "raw input  -> embedded input   -> avg embedded input  -> output\n",
      "--------------------------------------------------------------\n",
      "81         -> E_81             -> E_[81]              -> 14\n",
      "14         -> E_14             -> E_[81, 14]          -> 3\n",
      "3          -> E_3              -> E_[81, 14, 3]       -> 94\n"
     ]
    }
   ],
   "source": [
    "#| code-fold: true\n",
    "\n",
    "print(f'{\"raw input\".ljust(10)} -> {\"embedded input\".ljust(16)} -> {\"avg embedded input\".ljust(19)} -> output')\n",
    "print(f'{\"-\"*62}')\n",
    "for i in range(len(x_enc) - 1):\n",
    "    print(f'{x_enc[i].__repr__().ljust(10)} -> E_{x_enc[i].__repr__().ljust(14)} -> E_{x_enc[:i+1].__repr__().ljust(17)} -> {x_enc[i+1]}')"
   ]
  },
  {
   "cell_type": "markdown",
   "id": "e7a99930-257b-40ac-a72c-0774c7b48726",
   "metadata": {},
   "source": [
    "Let's discuss these transformation steps in detail, starting with the first: the creation of embedding vectors for the raw (integer) inputs."
   ]
  },
  {
   "cell_type": "code",
   "execution_count": null,
   "id": "b32a47ca-768a-4583-a6a1-1350c26be976",
   "metadata": {
    "vscode": {
     "languageId": "python"
    }
   },
   "outputs": [],
   "source": [
    "emb_depth = 3\n",
    "\n",
    "Emb = nn.Embedding(num_embeddings=len_vocab, embedding_dim=emb_depth)"
   ]
  },
  {
   "cell_type": "markdown",
   "id": "c639d8b0-6ae0-40ea-9fd8-728139832ef4",
   "metadata": {},
   "source": [
    "With the help of this embedding layer, the inputs now look like this:"
   ]
  },
  {
   "cell_type": "code",
   "execution_count": null,
   "id": "57a10607-5212-43d7-bde4-b76a95fe8d78",
   "metadata": {
    "vscode": {
     "languageId": "python"
    }
   },
   "outputs": [
    {
     "data": {
      "text/plain": [
       "tensor([[-0.2531, -2.1761, -0.8211],\n",
       "        [-1.1887, -0.3921,  0.7249],\n",
       "        [-0.3795,  0.0908,  0.8146]], grad_fn=<EmbeddingBackward0>)"
      ]
     },
     "execution_count": null,
     "metadata": {},
     "output_type": "execute_result"
    }
   ],
   "source": [
    "embs = Emb(torch.tensor(x_enc[:-1]))\n",
    "embs"
   ]
  },
  {
   "cell_type": "markdown",
   "id": "d018c97c-4d37-49a2-bcb0-aa117d0f78cf",
   "metadata": {},
   "source": [
    "In other words, we have the mapping:"
   ]
  },
  {
   "cell_type": "code",
   "execution_count": null,
   "id": "8e53a1a1-04b5-46db-ba84-0430a9daf7c3",
   "metadata": {
    "vscode": {
     "languageId": "python"
    }
   },
   "outputs": [
    {
     "name": "stdout",
     "output_type": "stream",
     "text": [
      "raw input     -> embedding vector\n",
      "-------------------------------------------\n",
      "81            -> [-0.2531, -2.1761, -0.8211]\n",
      "14            -> [-1.1887, -0.3921, 0.7249]\n",
      "3             -> [-0.3795, 0.0908, 0.8146]\n"
     ]
    }
   ],
   "source": [
    "#| code-fold: true\n",
    "\n",
    "print(f'{\"raw input\".ljust(13)} -> embedding vector')\n",
    "print(f'{\"-\"*43}')\n",
    "for i, v in zip(x_enc, embs):\n",
    "    print(f'{i.__repr__().ljust(13)} -> {[round(i,4) for i in v.tolist()]}')"
   ]
  },
  {
   "cell_type": "markdown",
   "id": "81d8e743-3a3d-4cbb-9e81-9f378fe746e2",
   "metadata": {},
   "source": [
    "Now that we have a 2d tensor in which the individual embeddings are stacked vertically, let's move to the second transformation: we want to create a new tensor that represents the *running average of all the embeddings in the rows that came before it*. In other words, we now want a vertically stacked tensor consisting of: `[E_[81], E_[81, 14], E_[81, 14, 3]]`:"
   ]
  },
  {
   "cell_type": "markdown",
   "id": "0c3a15e0-057b-48a1-8c0e-5d3b30e50524",
   "metadata": {},
   "source": [
    "`E_[81]`:"
   ]
  },
  {
   "cell_type": "code",
   "execution_count": null,
   "id": "04b97615-0994-42fb-9340-d7bcbfbae549",
   "metadata": {
    "vscode": {
     "languageId": "python"
    }
   },
   "outputs": [
    {
     "data": {
      "text/plain": [
       "tensor([-0.2531, -2.1761, -0.8211])"
      ]
     },
     "execution_count": null,
     "metadata": {},
     "output_type": "execute_result"
    }
   ],
   "source": [
    "#| code-fold: true\n",
    "embs[0].data"
   ]
  },
  {
   "cell_type": "markdown",
   "id": "bc488134-65fb-4f39-9e09-cf5d84aa157b",
   "metadata": {},
   "source": [
    "`E_[81, 14]`:"
   ]
  },
  {
   "cell_type": "code",
   "execution_count": null,
   "id": "8cc70bb1-7d96-456f-8380-9635d3cfc6fd",
   "metadata": {
    "vscode": {
     "languageId": "python"
    }
   },
   "outputs": [
    {
     "data": {
      "text/plain": [
       "tensor([-0.7209, -1.2841, -0.0481])"
      ]
     },
     "execution_count": null,
     "metadata": {},
     "output_type": "execute_result"
    }
   ],
   "source": [
    "#| code-fold: true\n",
    "embs[0:2].mean(dim=0).data"
   ]
  },
  {
   "cell_type": "markdown",
   "id": "f3d0259c-8037-4e49-9712-04fed284c1e4",
   "metadata": {},
   "source": [
    "`E_[81, 14, 3]`:"
   ]
  },
  {
   "cell_type": "code",
   "execution_count": null,
   "id": "8ec6e6bd-8559-48c5-91f8-6fae5481d48f",
   "metadata": {
    "vscode": {
     "languageId": "python"
    }
   },
   "outputs": [
    {
     "data": {
      "text/plain": [
       "tensor([-0.6071, -0.8258,  0.2395])"
      ]
     },
     "execution_count": null,
     "metadata": {},
     "output_type": "execute_result"
    }
   ],
   "source": [
    "#| code-fold: true\n",
    "embs[0:3].mean(dim=0).data"
   ]
  },
  {
   "cell_type": "markdown",
   "id": "2762a6e7-7d02-4c37-a714-24f756e169c5",
   "metadata": {},
   "source": [
    "And the full tensor:"
   ]
  },
  {
   "cell_type": "code",
   "execution_count": null,
   "id": "be747a32-e2f9-45fe-913d-ee7c9cec76c4",
   "metadata": {
    "vscode": {
     "languageId": "python"
    }
   },
   "outputs": [
    {
     "data": {
      "text/plain": [
       "tensor([[-0.2531, -2.1761, -0.8211],\n",
       "        [-0.7209, -1.2841, -0.0481],\n",
       "        [-0.6071, -0.8258,  0.2395]], grad_fn=<StackBackward0>)"
      ]
     },
     "execution_count": null,
     "metadata": {},
     "output_type": "execute_result"
    }
   ],
   "source": [
    "#| code-fold: true\n",
    "torch.stack([embs[0], embs[:-1].mean(dim=0), embs.mean(dim=0)])"
   ]
  },
  {
   "cell_type": "markdown",
   "id": "e0f2e9c1-a1be-4d6f-a162-988ad9fd0fa5",
   "metadata": {},
   "source": [
    "If you open the collapsed code-blocks above, you see that the logic is implemented by calling `.mean()` on a subset of the rows. Let's see how we can get the same result, by using matrix multiplications."
   ]
  },
  {
   "cell_type": "markdown",
   "id": "c3958b77-1290-4190-b165-e192409330a8",
   "metadata": {},
   "source": [
    "## Summation and averaging of vectors"
   ]
  },
  {
   "cell_type": "markdown",
   "id": "fdee0078-170a-4e2d-a567-a37f67368fb9",
   "metadata": {},
   "source": [
    "Since *an average* involves taking the sum followed by a normalization, let's start with the summation.\n",
    "\n",
    "Instead of calling `.sum()` on a vector, we can do a matrix multiplication with a vector consisting of ones (1's). This is essentially a *dot-product* of the two vectors, and since one of the vectors is filled with 1's we are just simply summing over the elements in the other vector:"
   ]
  },
  {
   "cell_type": "code",
   "execution_count": null,
   "id": "425eabbd-5f8a-4ac1-9500-8de3e2cad1b1",
   "metadata": {
    "vscode": {
     "languageId": "python"
    }
   },
   "outputs": [
    {
     "data": {
      "text/plain": [
       "tensor([0., 1., 2., 3., 4.])"
      ]
     },
     "execution_count": null,
     "metadata": {},
     "output_type": "execute_result"
    }
   ],
   "source": [
    "arr = torch.tensor(range(5), dtype=torch.float32)\n",
    "arr"
   ]
  },
  {
   "cell_type": "code",
   "execution_count": null,
   "id": "fef10f16-b2b0-40a2-a46b-d4a58ab291ac",
   "metadata": {
    "vscode": {
     "languageId": "python"
    }
   },
   "outputs": [
    {
     "data": {
      "text/plain": [
       "tensor([1., 1., 1., 1., 1.])"
      ]
     },
     "execution_count": null,
     "metadata": {},
     "output_type": "execute_result"
    }
   ],
   "source": [
    "sum_op = torch.ones(5)\n",
    "sum_op"
   ]
  },
  {
   "cell_type": "markdown",
   "id": "0df6c4df-2cdc-45ca-b0ba-f021d268e25e",
   "metadata": {},
   "source": [
    "The matrix multiplication `arr @ sum_op` (dot-product) between these vectors evaluates as:"
   ]
  },
  {
   "cell_type": "code",
   "execution_count": null,
   "id": "63492aee-0ba6-4e0a-8235-3c0627b57992",
   "metadata": {
    "vscode": {
     "languageId": "python"
    }
   },
   "outputs": [
    {
     "name": "stdout",
     "output_type": "stream",
     "text": [
      "dot product between vectors:\n",
      "[0, 1, 2, 3, 4] and [1, 1, 1, 1, 1]:\n",
      "\n",
      "(0 x 1) + (1 x 1) + (2 x 1) + (3 x 1) + (4 x 1) = 10\n"
     ]
    }
   ],
   "source": [
    "#| code-fold: true\n",
    "print(\"dot product between vectors:\")\n",
    "print(f'{[round(i) for i in arr.tolist()]} and {[round(i) for i in sum_op.tolist()]}:', end='\\n\\n')\n",
    "out = []\n",
    "for weight, value in zip(sum_op, arr):\n",
    "    out.append(f'({value:.0f} x {weight:.0f})')\n",
    "print(\" + \".join(out) + f' = {arr@sum_op:.0f}')"
   ]
  },
  {
   "cell_type": "markdown",
   "id": "ad0e43af-95cd-4c3c-a48c-2e02e3d21af0",
   "metadata": {},
   "source": [
    "With this sum, we compute the average by dividing through the number of elements $n$:"
   ]
  },
  {
   "cell_type": "code",
   "execution_count": null,
   "id": "05caa8a5-8f44-49f2-8c77-3901b1f0fd65",
   "metadata": {
    "vscode": {
     "languageId": "python"
    }
   },
   "outputs": [
    {
     "name": "stdout",
     "output_type": "stream",
     "text": [
      "Average of array: 2\n"
     ]
    }
   ],
   "source": [
    "average = (arr @ sum_op) / sum_op.sum()\n",
    "print(f'Average of array: {average:.0f}')"
   ]
  },
  {
   "cell_type": "markdown",
   "id": "b206c037-a73a-4c59-98c4-b137803f45a3",
   "metadata": {},
   "source": [
    "Equivalently, we could also pull the division into the `sum_op` itself, by doing:"
   ]
  },
  {
   "cell_type": "code",
   "execution_count": null,
   "id": "fc93202f-80e3-45e8-afa8-66941d1869ac",
   "metadata": {
    "vscode": {
     "languageId": "python"
    }
   },
   "outputs": [
    {
     "data": {
      "text/plain": [
       "tensor([0.2000, 0.2000, 0.2000, 0.2000, 0.2000])"
      ]
     },
     "execution_count": null,
     "metadata": {},
     "output_type": "execute_result"
    }
   ],
   "source": [
    "avg_op = sum_op / sum_op.sum()\n",
    "avg_op"
   ]
  },
  {
   "cell_type": "markdown",
   "id": "0e0775a2-6839-4f5a-ba79-6c8b4eb7ea66",
   "metadata": {},
   "source": [
    "The matrix multiplication `arr @ avg_op` (dot-product) between these vectors evaluates as:"
   ]
  },
  {
   "cell_type": "code",
   "execution_count": null,
   "id": "32348828-eb9b-4cb6-b98c-8a2e337fc6e5",
   "metadata": {
    "vscode": {
     "languageId": "python"
    }
   },
   "outputs": [
    {
     "name": "stdout",
     "output_type": "stream",
     "text": [
      "dot product between vectors:\n",
      "[0, 1, 2, 3, 4] and [0.2, 0.2, 0.2, 0.2, 0.2]:\n",
      "\n",
      "(0 x 0.2) + (1 x 0.2) + (2 x 0.2) + (3 x 0.2) + (4 x 0.2) = 2\n"
     ]
    }
   ],
   "source": [
    "#| code-fold: true\n",
    "print(\"dot product between vectors:\")\n",
    "print(f'{[round(i) for i in arr.tolist()]} and {[round(i,1) for i in avg_op.tolist()]}:', end='\\n\\n')\n",
    "out = []\n",
    "for weight, value in zip(avg_op, arr):\n",
    "    out.append(f'({value:.0f} x {weight:.1f})')\n",
    "print(\" + \".join(out) + f' = {arr@avg_op:.0f}')"
   ]
  },
  {
   "cell_type": "markdown",
   "id": "04b45bf7-e5a5-4609-ae54-6c79006c4793",
   "metadata": {},
   "source": [
    "This second formulation (`avg_op`) gives rise to the concept of *weighted averages*, which would occur when we manipulate the values in the `avg_op` and thereby giving a different *weight* to each item in the array. When doing so, we of course need to make sure the values sum to 1."
   ]
  },
  {
   "cell_type": "markdown",
   "id": "a84bc7eb-ef63-495e-b923-3447be70a78e",
   "metadata": {},
   "source": [
    "## Summation of matrices"
   ]
  },
  {
   "cell_type": "markdown",
   "id": "aef9020a-a357-4828-a526-aa888d202866",
   "metadata": {},
   "source": [
    "To take the sum over matrices we can do something similar, but depending on the multiplication order and the shape of the matrix we can either sum over the *columns* or over the *rows*. Let's start with a matrix over which we want to compute the sum:"
   ]
  },
  {
   "cell_type": "code",
   "execution_count": null,
   "id": "2e4270f2-7d5a-4d74-b96c-a46afc2c5676",
   "metadata": {
    "vscode": {
     "languageId": "python"
    }
   },
   "outputs": [
    {
     "data": {
      "text/plain": [
       "tensor([[0., 1.],\n",
       "        [2., 3.],\n",
       "        [4., 5.]])"
      ]
     },
     "execution_count": null,
     "metadata": {},
     "output_type": "execute_result"
    }
   ],
   "source": [
    "matrix = torch.tensor(range(0,6), dtype=torch.float32).view(3,2)\n",
    "matrix"
   ]
  },
  {
   "cell_type": "markdown",
   "id": "408b7c16-e1fe-4c1b-935a-690ae4b054ed",
   "metadata": {},
   "source": [
    "And let's define the following `column_sum` matrix:"
   ]
  },
  {
   "cell_type": "code",
   "execution_count": null,
   "id": "5efafadd-be3e-4fae-8acd-8776385345a4",
   "metadata": {
    "vscode": {
     "languageId": "python"
    }
   },
   "outputs": [
    {
     "data": {
      "text/plain": [
       "tensor([[1., 1., 1.],\n",
       "        [1., 1., 1.],\n",
       "        [1., 1., 1.]])"
      ]
     },
     "execution_count": null,
     "metadata": {},
     "output_type": "execute_result"
    }
   ],
   "source": [
    "#| code-fold: true\n",
    "column_sum = torch.ones(3,3)\n",
    "column_sum"
   ]
  },
  {
   "cell_type": "markdown",
   "id": "cc339639-e357-4cba-978e-ae64ea7182b2",
   "metadata": {},
   "source": [
    "The matrix multiplication `column_sum @ matrix` results in a matrix containing the column sum in *each row*, also note that the matrix has the same shape as the input matrix:"
   ]
  },
  {
   "cell_type": "code",
   "execution_count": null,
   "id": "e63851b2-0f83-4662-9a3c-3145b12e832a",
   "metadata": {
    "vscode": {
     "languageId": "python"
    }
   },
   "outputs": [
    {
     "data": {
      "text/plain": [
       "tensor([[6., 9.],\n",
       "        [6., 9.],\n",
       "        [6., 9.]])"
      ]
     },
     "execution_count": null,
     "metadata": {},
     "output_type": "execute_result"
    }
   ],
   "source": [
    "#| code-fold: true\n",
    "column_sum @ matrix"
   ]
  },
  {
   "cell_type": "markdown",
   "id": "e0669999-52e9-4e66-9fb2-54775b8aa1e0",
   "metadata": {},
   "source": [
    "If we multiply instead with the following matrix, we can take the sum over the rows:"
   ]
  },
  {
   "cell_type": "code",
   "execution_count": null,
   "id": "f87dae5c-39f1-4ab5-8827-6e4e1a3dd8fb",
   "metadata": {
    "vscode": {
     "languageId": "python"
    }
   },
   "outputs": [
    {
     "data": {
      "text/plain": [
       "tensor([[1., 1.],\n",
       "        [1., 1.]])"
      ]
     },
     "execution_count": null,
     "metadata": {},
     "output_type": "execute_result"
    }
   ],
   "source": [
    "#| code-fold: true\n",
    "row_sum = torch.ones(2,2)\n",
    "row_sum"
   ]
  },
  {
   "cell_type": "markdown",
   "id": "c7ecfaba-62ab-40f8-a810-4fd95eba71db",
   "metadata": {},
   "source": [
    "This time, the output matrix of `matrix @ row_sum` will hold the row sum in *each column*:"
   ]
  },
  {
   "cell_type": "code",
   "execution_count": null,
   "id": "cec19e7b-aef3-45f6-8dc0-6f8a490a11cd",
   "metadata": {
    "vscode": {
     "languageId": "python"
    }
   },
   "outputs": [
    {
     "data": {
      "text/plain": [
       "tensor([[1., 1.],\n",
       "        [5., 5.],\n",
       "        [9., 9.]])"
      ]
     },
     "execution_count": null,
     "metadata": {},
     "output_type": "execute_result"
    }
   ],
   "source": [
    "#| code-fold: true\n",
    "matrix @ row_sum"
   ]
  },
  {
   "cell_type": "markdown",
   "id": "835d1ac1-6939-408f-bc9e-1fbba4a94b92",
   "metadata": {},
   "source": [
    "Since we eventually want to average the embeddings (which are stacked vertically) column by column, we will need the `column_sum`. "
   ]
  },
  {
   "cell_type": "markdown",
   "id": "920d80eb-1299-4050-9c26-2cf01ac0b6a5",
   "metadata": {},
   "source": [
    "Next, we need to make sure that the first sample (row) only averages over the first row, the second sample (row) averages over the first and second row and the third sample (row) averages over the first three rows.\n",
    "\n",
    "To achieve that, we can make use of the following matrix:"
   ]
  },
  {
   "cell_type": "code",
   "execution_count": null,
   "id": "d85d923a-1844-4851-b330-2f35c646cfb7",
   "metadata": {
    "vscode": {
     "languageId": "python"
    }
   },
   "outputs": [
    {
     "data": {
      "text/plain": [
       "tensor([[1., 0., 0.],\n",
       "        [1., 1., 0.],\n",
       "        [1., 1., 1.]])"
      ]
     },
     "execution_count": null,
     "metadata": {},
     "output_type": "execute_result"
    }
   ],
   "source": [
    "sum_up_to = torch.tril(column_sum)\n",
    "sum_up_to"
   ]
  },
  {
   "cell_type": "markdown",
   "id": "c641d3d8-074e-48fe-9b4e-2dea212b52bc",
   "metadata": {},
   "source": [
    "This matrix is called a *lower triangular matrix*, as you can see all the values to the right of the diagonal are set to 0. When we multiply this with our matrix we get exactly what we need:"
   ]
  },
  {
   "cell_type": "code",
   "execution_count": null,
   "id": "cdde927f-2136-4ad3-8065-8c4e0ce17b13",
   "metadata": {
    "vscode": {
     "languageId": "python"
    }
   },
   "outputs": [
    {
     "data": {
      "text/plain": [
       "tensor([[0., 1.],\n",
       "        [2., 4.],\n",
       "        [6., 9.]])"
      ]
     },
     "execution_count": null,
     "metadata": {},
     "output_type": "execute_result"
    }
   ],
   "source": [
    "matrix_sum_up_to = sum_up_to @ matrix\n",
    "matrix_sum_up_to"
   ]
  },
  {
   "cell_type": "markdown",
   "id": "1cdb81f3-7b4f-4430-b7e4-c3966d53bc92",
   "metadata": {},
   "source": [
    "![matrix multiplication in detail](sum_up_to.png){width=600}"
   ]
  },
  {
   "cell_type": "markdown",
   "id": "61cc50de-0486-4929-b8e1-715c27e4692b",
   "metadata": {},
   "source": [
    "In the diagram above, we look at the definition of the yellow highlighted cell. We see that multiplying the matrix this lower triangular matrix is indeed doing exactly what we need: it takes the sum up to the second row, because of the zero value in cell `a23`, we dont add the value in the third row."
   ]
  },
  {
   "cell_type": "markdown",
   "id": "edf1130f-bea5-46f8-904b-ed04bcb0dc40",
   "metadata": {},
   "source": [
    "## Averaging of matrices"
   ]
  },
  {
   "cell_type": "markdown",
   "id": "34aee73e-c9e2-42de-987d-97dddb4bdb78",
   "metadata": {},
   "source": [
    "To go from sums to averages, we can do the same trick as what we did with the vectors: division by the row sum:"
   ]
  },
  {
   "cell_type": "code",
   "execution_count": null,
   "id": "ff8381bf-8270-4272-baa4-557dcbe5f949",
   "metadata": {
    "vscode": {
     "languageId": "python"
    }
   },
   "outputs": [
    {
     "data": {
      "text/plain": [
       "tensor([[1.0000, 0.0000, 0.0000],\n",
       "        [0.5000, 0.5000, 0.0000],\n",
       "        [0.3333, 0.3333, 0.3333]])"
      ]
     },
     "execution_count": null,
     "metadata": {},
     "output_type": "execute_result"
    }
   ],
   "source": [
    "avg_up_to = sum_up_to / sum_up_to.sum(dim=1, keepdims=True)\n",
    "avg_up_to"
   ]
  },
  {
   "cell_type": "markdown",
   "id": "331b8a83-5945-4ac2-b775-398cdbb306d6",
   "metadata": {},
   "source": [
    "As you can see, the rows still sum up to 1, and the non-zero weights are all equal: this means that we are now taking an average instead of a sum."
   ]
  },
  {
   "cell_type": "code",
   "execution_count": null,
   "id": "5fd1d85a-9fc4-481a-b171-f4e6839be4e4",
   "metadata": {
    "vscode": {
     "languageId": "python"
    }
   },
   "outputs": [
    {
     "data": {
      "text/plain": [
       "tensor([[0., 1.],\n",
       "        [1., 2.],\n",
       "        [2., 3.]])"
      ]
     },
     "execution_count": null,
     "metadata": {},
     "output_type": "execute_result"
    }
   ],
   "source": [
    "matrix_avg_up_to = avg_up_to @ matrix\n",
    "matrix_avg_up_to"
   ]
  },
  {
   "cell_type": "markdown",
   "id": "62903871-aea9-4655-aa7e-915dc9c0f5ab",
   "metadata": {},
   "source": [
    "## Another way of creating an averaging operator matrix"
   ]
  },
  {
   "cell_type": "markdown",
   "id": "5027f8aa-8da7-4893-9678-d70307266b29",
   "metadata": {},
   "source": [
    "Above we did some matrix gymnastics to understand how we can use matrix multiplication for the purpose of summation and averaging. Most notably, we saw how we can use a lower triangular matrix, to create *running* sums and averages over the rows of a matrix. For auto-regressive problems this is important, since we want to only use information of *things that happened until now*. In other words, we don't include information from the \"future\", since that is exactly what we are trying to predict!\n",
    "\n",
    "As we will shortly see, *self-attention* doesn't just take simple averages over past embeddings, instead we want the model to be able to select *which parts of the past it finds interesting*. Mathematically this simply translates to the use of weighted averages, where the weights are going to be *data dependant*, e.g. learned by the model itself."
   ]
  },
  {
   "cell_type": "markdown",
   "id": "0ec67f73-7256-434f-a52c-ff93de020608",
   "metadata": {},
   "source": [
    "By doing so, the `avg_op` will still be lower triangular (zeros in the top right corner) to ensure the auto-regressive property but it will have non-unique weights per row and thus represent a weighted average instead of a simple average.\n",
    "\n",
    "To incorporate this, we will use another trick to create this `avg_up_to` matrix. We start with the `column_sum` matrix and fill the upper right elements with the largest negative value available: `-inf`:"
   ]
  },
  {
   "cell_type": "code",
   "execution_count": null,
   "id": "aaa1c2d5-8788-4173-92a0-91f6f6165fb0",
   "metadata": {
    "vscode": {
     "languageId": "python"
    }
   },
   "outputs": [
    {
     "data": {
      "text/plain": [
       "tensor([[1., 0., 0.],\n",
       "        [1., 1., 0.],\n",
       "        [1., 1., 1.]])"
      ]
     },
     "execution_count": null,
     "metadata": {},
     "output_type": "execute_result"
    }
   ],
   "source": [
    "sum_up_to"
   ]
  },
  {
   "cell_type": "code",
   "execution_count": null,
   "id": "b7a0be35-b275-4071-b040-9232a1522d38",
   "metadata": {
    "vscode": {
     "languageId": "python"
    }
   },
   "outputs": [
    {
     "data": {
      "text/plain": [
       "tensor([[1., -inf, -inf],\n",
       "        [1., 1., -inf],\n",
       "        [1., 1., 1.]])"
      ]
     },
     "execution_count": null,
     "metadata": {},
     "output_type": "execute_result"
    }
   ],
   "source": [
    "t = torch.ones(3,3) # --> column_sum\n",
    "t.masked_fill_(sum_up_to == 0, -torch.inf)"
   ]
  },
  {
   "cell_type": "markdown",
   "id": "780da8a1-f69d-4b12-8847-7c08af5b7289",
   "metadata": {},
   "source": [
    "Next, we take the softmax along the row dimension:"
   ]
  },
  {
   "cell_type": "code",
   "execution_count": null,
   "id": "4d718882-016c-4ed3-a2f4-eaefea990ee5",
   "metadata": {
    "vscode": {
     "languageId": "python"
    }
   },
   "outputs": [
    {
     "data": {
      "text/plain": [
       "tensor([[1.0000, 0.0000, 0.0000],\n",
       "        [0.5000, 0.5000, 0.0000],\n",
       "        [0.3333, 0.3333, 0.3333]])"
      ]
     },
     "execution_count": null,
     "metadata": {},
     "output_type": "execute_result"
    }
   ],
   "source": [
    "t.softmax(dim=1)"
   ]
  },
  {
   "cell_type": "markdown",
   "id": "bb17e519-4588-4dd5-90fd-b16935424b83",
   "metadata": {},
   "source": [
    ":::{.callout-note}\n",
    "This works because taking the softmax means that we exponentiate everything and then normalize. Exponentiating `-torch.inf` returns 0, so the weight is distributed among the other values, since these other values are all the same ($e^1$) we get an equal weight distribution.\n",
    ":::"
   ]
  },
  {
   "cell_type": "markdown",
   "id": "7e7270d2-8994-432a-a2fa-ee55704e5480",
   "metadata": {},
   "source": [
    "So this results in the exact same matrix `avg_up_to` as we had before. This approach has the advantage however, that we can use a *general initial matrix*.\n",
    "\n",
    "For example, for a *general initial matrix consisting of some random values*, we get to the following weighted averages:"
   ]
  },
  {
   "cell_type": "code",
   "execution_count": null,
   "id": "e6f866e7-2c08-45c6-8560-1fa4d3c5afcc",
   "metadata": {
    "vscode": {
     "languageId": "python"
    }
   },
   "outputs": [
    {
     "data": {
      "text/plain": [
       "tensor([[1.0000, 0.0000, 0.0000],\n",
       "        [0.0954, 0.9046, 0.0000],\n",
       "        [0.4257, 0.4122, 0.1622]])"
      ]
     },
     "execution_count": null,
     "metadata": {},
     "output_type": "execute_result"
    }
   ],
   "source": [
    "torch.manual_seed(2)\n",
    "t = torch.randn(3,3)\n",
    "t.masked_fill_(sum_up_to == 0, -torch.inf).softmax(dim=1)"
   ]
  },
  {
   "cell_type": "markdown",
   "id": "f3b2d246-4df1-4bb0-b9b3-0e0e7c80997f",
   "metadata": {},
   "source": [
    "If we consider the values in the above weighted average matrix: for the third sample (row 3) we see that a large weight is assigned to the first and second token, and less to the last token. The intuition being that for predicting the fourth token from the first three: the information of the first two tokens are more relevant then the information of the third token."
   ]
  },
  {
   "cell_type": "markdown",
   "id": "4aaa6f09-3f5d-45ab-a76e-c91f62516d77",
   "metadata": {},
   "source": [
    "## Affinities and the dot-product"
   ]
  },
  {
   "cell_type": "markdown",
   "id": "4b85e759-25bd-4762-a5d2-bf885b073851",
   "metadata": {},
   "source": [
    "The next thing we need to discuss is ofcourse this *general initial matrix*. Where is this coming from? How do we construct it? For that, we need to have another look at the dot-product. As we saw above, the dot-product between two vectors is simply an element-wise multiplication, followed by a sum. \n",
    "\n",
    "We also saw that by carefully specifying one of the two vectors involved in the dot-product, we could make sure the output is either the sum or the average of the other vector. \n",
    "\n",
    "However, in general the dot-product between 2 vectors represents something like the *affinity* between the two vectors. The reason for this, is that there is a geometric interpretation which states that the dot-product between two vectors is equal to the multiplication of the length of both vectors and the cosine of the angle $\\theta$ between the two vectors: $u \\cdot v = |u| |v| \\cos{\\theta}$\n",
    "\n",
    "The best intuition for this, comes from looking at 2D space and the following extreme cases:\n",
    "\n",
    "1. vectors: `(1,0)` and `(1,0)`. These two vectors couldn't be more equal, the dot-product equals 1. \n",
    "2. vectors: `(1,0)` and `(0,1)`. These two vectors are geometrically orthogonal to one another, their dot-product is zero because the cosine of 90 degrees is zero.\n",
    "3. vectors: `(1,0)` and `(-1,0)`. These two vectors point in opposite directions, the dot product is -1 since the cosine of 180 degrees is -1.\n",
    "\n",
    "These intuitions translate to vectors of higher dimensionality, and we thus could get affinities betweeen tokens by taking the dot-product between embedding vectors. To do so, we matrix multiply the embeddings with it's transpose, so that each embedding vector (a single row in the `embs` matrix) gets a dot-product with each other row:"
   ]
  },
  {
   "cell_type": "markdown",
   "id": "8fdd13b5-2b72-46d2-aaf1-3f055ba5eb36",
   "metadata": {},
   "source": [
    "![Affinities from matrix multiplication](embs.png){width=700}"
   ]
  },
  {
   "cell_type": "code",
   "execution_count": null,
   "id": "866d59cf-0eed-4ecc-8ab6-fff1418e89b2",
   "metadata": {
    "vscode": {
     "languageId": "python"
    }
   },
   "outputs": [
    {
     "data": {
      "text/plain": [
       "tensor([[ 5.4735,  0.5589, -0.7704],\n",
       "        [ 0.5589,  2.0921,  1.0061],\n",
       "        [-0.7704,  1.0061,  0.8159]])"
      ]
     },
     "execution_count": null,
     "metadata": {},
     "output_type": "execute_result"
    }
   ],
   "source": [
    "affinity_matrix = embs @ embs.T\n",
    "affinity_matrix.data"
   ]
  },
  {
   "cell_type": "markdown",
   "id": "4c0539a7-9479-4432-8cdf-4b3d1eed91f2",
   "metadata": {},
   "source": [
    "You might guess where this is going: *we could use the affinity matrix as the general initial matrix* which we can use as a basis for creating the weighted averages matrix:"
   ]
  },
  {
   "cell_type": "code",
   "execution_count": null,
   "id": "61cd4615-2c4c-4432-9ef5-03f3afa0db02",
   "metadata": {
    "vscode": {
     "languageId": "python"
    }
   },
   "outputs": [
    {
     "data": {
      "text/plain": [
       "tensor([[1.0000, 0.0000, 0.0000],\n",
       "        [0.1775, 0.8225, 0.0000],\n",
       "        [0.0848, 0.5010, 0.4142]])"
      ]
     },
     "execution_count": null,
     "metadata": {},
     "output_type": "execute_result"
    }
   ],
   "source": [
    "sum_up_to = torch.tril(torch.ones(3,3))\n",
    "\n",
    "affinity_matrix.masked_fill_(sum_up_to == 0, -torch.inf).softmax(dim=1).data"
   ]
  },
  {
   "cell_type": "markdown",
   "id": "b2ff1585-c03a-4633-a860-089ec5361f16",
   "metadata": {},
   "source": [
    "And indeed, self-attention is doing almost exactly this. However, it's not computing affinities on the embeddings themselves, but on something called the *query* and the *keys*."
   ]
  },
  {
   "cell_type": "markdown",
   "id": "ed10a297-63b9-4cb5-ae83-81fa26e93f8d",
   "metadata": {},
   "source": [
    "## Queries, Keys and Values"
   ]
  },
  {
   "cell_type": "markdown",
   "id": "33a785b6-e3a1-4eea-b98e-f25d63c0ae3a",
   "metadata": {},
   "source": [
    "Now that we know how affinities work, let's continue with how these concepts are implemented in self-attention. Instead of using the embedding vectors as we have done above, self-attention works with three additional vectors: the query, key and value vector. All three vectors are simple (independant) linear transformation of the embedding vector. "
   ]
  },
  {
   "cell_type": "markdown",
   "id": "38ac1c77-35af-4895-9f60-e67f30cf06a0",
   "metadata": {},
   "source": [
    "More specifically, the affinity matrix (previously computed as `embs @ embs.T`) is going to be replaced by the multiplication of the query with the key matrix. The intuition here is that the query represents *the information of a token with respect to a certain query or question* and the key vector represents *the information the tokens contains*."
   ]
  },
  {
   "cell_type": "markdown",
   "id": "fc2c4e63-0cfc-44ae-8b98-d42e9ff71f00",
   "metadata": {},
   "source": [
    "As an example, let's say that we need to predict what follows after encountering the single word \"in\". When we just have this single word predicting the next word is extremely difficult, it could be something like a country, for example *in Spain*, or *in Italy*. Or perhaps something related to time: *in the morning* or *in the evening*. Or it could be something like *in the box* or *in the closet*. Knowing what *kind* of word comes next, all depends on the context."
   ]
  },
  {
   "cell_type": "markdown",
   "id": "91f223ad-0de3-43fd-9f54-c72ca31f8350",
   "metadata": {},
   "source": [
    "If we add some context it becomes much easier: \"Last year I was on vacation in  ...\". Now we immediately know that the first option (a country) is much more likely then the other two options (time and location/enclosure). "
   ]
  },
  {
   "cell_type": "markdown",
   "id": "d5afb78f-7337-4662-8b17-d7ce5ba65f24",
   "metadata": {},
   "source": [
    "The intuition is now, that the *query vector* of the word *in* is a representation of the question related to whether we are talking about a country, a time or a location/enclosure. And the key vectors of all the tokens represent whether they have any information on this. For example, the word \"vacation\" could emit a key that is similar to the query vector of \"in\", generating a high affinity between the tokens and thus resulting in a large weight."
   ]
  },
  {
   "cell_type": "markdown",
   "id": "aa478921-b0fa-464f-a21e-a855496b9b32",
   "metadata": {},
   "source": [
    "The multiplication of the queries and the keys is thus what forms the affinity-matrix in self-attention. From this affinity-matrix the weighted averages matrix is computed in the way we have seen above (masking and softmax). You might expect that we then use this weighted averages matrix on our embeddings to get to weighted embeddings, but this is not the case. We don't directly average over the embeddings, instead we average the *values*. Similarly as for the query and key, this is just a linear transformation of the embedding itself."
   ]
  },
  {
   "cell_type": "markdown",
   "id": "c5ff2d85-585a-488b-a983-358e92197899",
   "metadata": {},
   "source": [
    "The last thing which concludes attention is a normalization. As we have seen in an earlier [post](https://lucasvw.github.io/posts/11_nntrain_activations/#iterative-matrix-multiplications), the distribution of activations can shrink or increase by doing matrix multiplications. In the attention module, there is a scaling of the activations $1/\\sqrt{d_k}$. This $d_k$ refers to the vector length of keys, values and queries, which is unique and is also referred to as the size of the (attention) head. after the multiplications of the keys and queries to make sure the distribution stays roughly standard normal. "
   ]
  },
  {
   "cell_type": "markdown",
   "id": "97e6ef92-0e23-4615-9dae-2c330375a38e",
   "metadata": {},
   "source": [
    "We can now understand the full formula for masked self-attention:\n",
    "\n",
    "$$\n",
    "\\textrm{Masked Self Attention}(Q, K, V) = \\textrm{softmax} \\left( \\frac{\\textrm{mask}(QK^T)}{\\sqrt{d_k}} \\right) V\n",
    "$$"
   ]
  },
  {
   "cell_type": "markdown",
   "id": "e9d12029-2eef-42bd-8b3e-a1ae84330c03",
   "metadata": {},
   "source": [
    "## Masked Self Attention"
   ]
  },
  {
   "cell_type": "markdown",
   "id": "29bd576b-6a27-4185-b251-1bb14076ff15",
   "metadata": {},
   "source": [
    "Let's make a start with formalizing these things in code. The data we are going to work with is the same data as we discussed in the previous posts on language: a dataset consisting of a list of (person) names."
   ]
  },
  {
   "cell_type": "code",
   "execution_count": null,
   "id": "56c2d0e6-c7e8-4d6f-8136-ecfb549d2489",
   "metadata": {
    "vscode": {
     "languageId": "python"
    }
   },
   "outputs": [],
   "source": [
    "#| code-fold: true\n",
    "\n",
    "########### Load the data ###########\n",
    "path = Path('./data')\n",
    "path.mkdir(parents=True, exist_ok=True)\n",
    "path = path / 'names.txt'\n",
    "url = 'https://raw.githubusercontent.com/karpathy/makemore/master/names.txt'\n",
    "\n",
    "# _ = urlretrieve(url, path)\n",
    "\n",
    "with open(path, 'r') as f:\n",
    "    lines = f.read().splitlines()\n",
    "    \n",
    "random.seed(42)\n",
    "random.shuffle(lines)\n",
    "\n",
    "train_size=0.8\n",
    "val_size=0.1\n",
    "\n",
    "train_lines = lines[0:int(train_size * len(lines))]\n",
    "val_lines = lines[int(train_size * len(lines)): int((train_size + val_size) * len(lines))]\n",
    "\n",
    "### Create vocabulary and mappings ###\n",
    "unique_chars = list(set(\"\".join(lines)))\n",
    "unique_chars.sort()\n",
    "vocabulary = ['.'] + unique_chars\n",
    "\n",
    "c2i = {c:i for i, c in enumerate(vocabulary)}\n",
    "i2c = {i:c for i, c in enumerate(vocabulary)}\n",
    "\n",
    "class SequentialDataset():\n",
    "    def __init__(self, lines, c2i, sequence_length):\n",
    "        self.lines = lines\n",
    "        self.c2i = c2i\n",
    "        self.sequence_length = sequence_length\n",
    "        self.shuffle_and_set_data()\n",
    "    \n",
    "    def shuffle_and_set_data(self):\n",
    "        random.shuffle(self.lines)\n",
    "        text = \".\" + \".\".join(self.lines) + \".\"\n",
    "        self.x = []\n",
    "        self.y = []\n",
    "        for i in range(0, len(text) - self.sequence_length - 1, self.sequence_length):\n",
    "            self.x.append([self.c2i[xi] for xi in text[i: i+self.sequence_length]])\n",
    "            self.y.append([self.c2i[yi] for yi in text[i+1: i+self.sequence_length+1]])\n",
    "        self.x = torch.tensor(self.x)\n",
    "        self.y = torch.tensor(self.y)\n",
    "    \n",
    "    def __getitem__(self, i):\n",
    "        return self.x[i], self.y[i]\n",
    "\n",
    "    def __len__(self):\n",
    "        return len(self.x)\n",
    "    \n",
    "class Shuffle(Subscriber):\n",
    "    def after_epoch(self, learn):\n",
    "        learn.dls.train.dataset.shuffle_and_set_data()\n",
    "\n",
    "def get_dls(context_length, batch_size):\n",
    "    train_ds = SequentialDataset(train_lines, c2i, context_length)\n",
    "    valid_ds = SequentialDataset(val_lines, c2i, context_length)\n",
    "        \n",
    "    train_dl = torch.utils.data.DataLoader(train_ds, shuffle=False, sampler=VerticalSampler(train_ds, batch_size), batch_size=batch_size, num_workers=4)\n",
    "    valid_dl = torch.utils.data.DataLoader(valid_ds, shuffle=False, sampler=VerticalSampler(valid_ds, batch_size), batch_size=batch_size, num_workers=4)\n",
    "\n",
    "    return DataLoaders(train_dl, valid_dl)"
   ]
  },
  {
   "cell_type": "code",
   "execution_count": null,
   "id": "59915f0c-7423-4204-874f-034a19c25291",
   "metadata": {
    "vscode": {
     "languageId": "python"
    }
   },
   "outputs": [],
   "source": [
    "sequence_length = 5\n",
    "batch_size      = 8\n",
    "dls = get_dls(sequence_length, batch_size)"
   ]
  },
  {
   "cell_type": "code",
   "execution_count": null,
   "id": "f856f280-704b-4dee-ad17-38e577606b3c",
   "metadata": {
    "vscode": {
     "languageId": "python"
    }
   },
   "outputs": [
    {
     "data": {
      "text/plain": [
       "torch.Size([8, 5])"
      ]
     },
     "execution_count": null,
     "metadata": {},
     "output_type": "execute_result"
    }
   ],
   "source": [
    "xb, yb = next(iter(dls.train))\n",
    "xb.shape"
   ]
  },
  {
   "cell_type": "markdown",
   "id": "8e9ffbb8-4fbe-4b7d-8ff7-a6adaea92cf4",
   "metadata": {},
   "source": [
    "The samples are thus in the same structure as we used for the RNN (and LSTM) models:\n",
    "\n",
    "1. We have two dimensions in our training data: the first one being the batch dimension `B` and the second refers to a sequence of characters `T`. The `T` stands here for timestep, which is a strange name but is used for historical reasons\n",
    "2. The previous discussion on computing the rolling average over tensors only mentioned one of these dimensions: the sequence length dimension\n",
    "3. Don't be confused by the batch dimension, it simply means we are processing each items in the batch in parallel. All the items in the batch are processed independantly from one another\n",
    "3. We will see in the code, we need to be careful with these dimensions, to make sure the broadcasting rules of matrix multiplications are correctly applied"
   ]
  },
  {
   "cell_type": "markdown",
   "id": "b2cadd5d-e5e9-4734-96ab-e3cf0757ec0f",
   "metadata": {},
   "source": [
    "Let's create a `MaskedSelfAttentionHead` module. We initialize this module by creating the linear layers by which we can create the query, key and value vectors from our embeddings. Remind yourself that a linear layer applied to an embedding vector is simply a linear transformation of that vector into a new space (of dimension `head_size`).\n",
    "\n",
    "We will also initialize the `mask` tensor consisting of a lower triangular matrix as a *buffer*. This makes sure that PyTorch will move this tensor to the appropriate device when moving the module, eventhough it's not treated as a module parameter (it's values are not optimized during training)."
   ]
  },
  {
   "cell_type": "code",
   "execution_count": null,
   "id": "28774665-c361-4df9-b4f6-0c9b1bedfc8f",
   "metadata": {
    "vscode": {
     "languageId": "python"
    }
   },
   "outputs": [],
   "source": [
    "class MaskedSelfAttentionHead(nn.Module):\n",
    "    \n",
    "    def __init__(self, emb_depth, head_size, sequence_length):\n",
    "        super().__init__()\n",
    "        self.queries = nn.Linear(emb_depth, head_size, bias=False)\n",
    "        self.keys    = nn.Linear(emb_depth, head_size, bias=False)\n",
    "        self.values  = nn.Linear(emb_depth, head_size, bias=False)\n",
    "        \n",
    "        self.register_buffer('mask', torch.tril(torch.ones(sequence_length, sequence_length)))"
   ]
  },
  {
   "cell_type": "markdown",
   "id": "f5b6209f-cf65-4426-b804-797c6fc2d3b9",
   "metadata": {},
   "source": [
    "Next, let's have a closer look at the `forward()` method of this module, starting with the argument: the data passed to this method consists of a *batch of embedding data*. We already saw that the raw input data is of shape `[B, T]`, once this data goes through an embedding layer it will be of shape: `[B, T, Ce]`, where `Ce` reflects the embedding depth.\n",
    "\n",
    "From this data, we first compute the queries, keys and value vectors. Because of the shape of the linear layers, these three tensors are now of shape `[B, T, Ch]`.\n",
    "\n",
    "As discussed, we want to compute the affinities between the queries and the keys which in the *single batch* case was computed as $QK^T$. Since we now also have a batch dimension, we only transpose the last two dimensions and the matrix multiplication becomes a *batched matrix multiplication*.\n",
    "\n",
    "These affinities are scaled, masked and softmaxed so that they represent weights. And finally the weights are applied to the batched values vector."
   ]
  },
  {
   "cell_type": "code",
   "execution_count": null,
   "id": "498d8aba-2316-451b-8c64-f8bba494ff48",
   "metadata": {
    "vscode": {
     "languageId": "python"
    }
   },
   "outputs": [],
   "source": [
    "@fc.patch()\n",
    "def forward(self:MaskedSelfAttentionHead, x_emb):  # x_emb: [B, T, Ce]\n",
    "    q = self.queries(x_emb)  # [B,T,Ch]\n",
    "    k = self.keys(x_emb)     # [B,T,Ch]\n",
    "    v = self.values(x_emb)   # [B,T,Ch]\n",
    "\n",
    "    affinity = q @ k.transpose(-2, -1)  # [B,T,Ch] @ [B, Ch, T] -> [B, T, T]\n",
    "    head_size = q.shape[-1]\n",
    "    scaled_affinity = affinity / head_size**0.5\n",
    "    masked_scaled_affinity = scaled_affinity.masked_fill_(self.mask == 0, -torch.inf)\n",
    "    masked_weights = masked_scaled_affinity.softmax(dim=-1)\n",
    "\n",
    "    masked_self_attention = masked_weights @ v # [B, T, T] @ [B,T,Ch] -> [B,T,Ch]\n",
    "\n",
    "    return masked_self_attention # [B,T,Ch]"
   ]
  },
  {
   "cell_type": "markdown",
   "id": "c1065d6d-6916-4456-b178-d602bacb405c",
   "metadata": {},
   "source": [
    "Our first transformer module is then very straight forward. Firstly, it will create embeddings for our input data, next it will compute the self-attention as we just discussed, and finally it will pass the self attention to a so-called *head*. This head is a simple linear layer which maps the activations to the right output size (the size of the vocabulary)."
   ]
  },
  {
   "cell_type": "code",
   "execution_count": null,
   "id": "3ae32025-f92a-4381-8c9d-3674620418c5",
   "metadata": {
    "vscode": {
     "languageId": "python"
    }
   },
   "outputs": [],
   "source": [
    "class Transformer(nn.Module):\n",
    "    \n",
    "    def __init__(self, emb_depth, head_size, sequence_length):\n",
    "        super().__init__()\n",
    "        self.token_embedding = nn.Embedding(len(c2i), emb_depth)\n",
    "        self.attention = MaskedSelfAttentionHead(emb_depth, head_size, sequence_length)\n",
    "        self.head = nn.Linear(head_size, len(c2i))\n",
    "        \n",
    "    def forward(self, x):           # x: [B, T]\n",
    "        x = self.token_embedding(x) # [B,T,Ce]\n",
    "        x = self.attention(x)       # [B,T,Ch]\n",
    "        x = self.head(x)            # [B,T,vocab]\n",
    "        return x"
   ]
  },
  {
   "cell_type": "markdown",
   "id": "4b72389e",
   "metadata": {},
   "source": [
    "And let's see how this model trains on our data:"
   ]
  },
  {
   "cell_type": "code",
   "execution_count": null,
   "id": "8ad863b5-8ec7-48a3-893f-47f8f5f16074",
   "metadata": {
    "vscode": {
     "languageId": "python"
    }
   },
   "outputs": [
    {
     "data": {
      "text/html": [
       "\n",
       "<style>\n",
       "    /* Turns off some styling */\n",
       "    progress {\n",
       "        /* gets rid of default border in Firefox and Opera. */\n",
       "        border: none;\n",
       "        /* Needs to be in here for Safari polyfill so background images work as expected. */\n",
       "        background-size: auto;\n",
       "    }\n",
       "    progress:not([value]), progress:not([value])::-webkit-progress-bar {\n",
       "        background: repeating-linear-gradient(45deg, #7e7e7e, #7e7e7e 10px, #5c5c5c 10px, #5c5c5c 20px);\n",
       "    }\n",
       "    .progress-bar-interrupted, .progress-bar-interrupted::-webkit-progress-bar {\n",
       "        background: #F44336;\n",
       "    }\n",
       "</style>\n"
      ],
      "text/plain": [
       "<IPython.core.display.HTML object>"
      ]
     },
     "metadata": {},
     "output_type": "display_data"
    },
    {
     "data": {
      "text/html": [
       "<table border=\"1\" class=\"dataframe\">\n",
       "  <thead>\n",
       "    <tr style=\"text-align: left;\">\n",
       "      <th>epoch</th>\n",
       "      <th>mode</th>\n",
       "      <th>loss</th>\n",
       "    </tr>\n",
       "  </thead>\n",
       "  <tbody>\n",
       "    <tr>\n",
       "      <td>0</td>\n",
       "      <td>train</td>\n",
       "      <td>2.813</td>\n",
       "    </tr>\n",
       "    <tr>\n",
       "      <td>0</td>\n",
       "      <td>eval</td>\n",
       "      <td>2.585</td>\n",
       "    </tr>\n",
       "    <tr>\n",
       "      <td>1</td>\n",
       "      <td>train</td>\n",
       "      <td>2.604</td>\n",
       "    </tr>\n",
       "    <tr>\n",
       "      <td>1</td>\n",
       "      <td>eval</td>\n",
       "      <td>2.547</td>\n",
       "    </tr>\n",
       "    <tr>\n",
       "      <td>2</td>\n",
       "      <td>train</td>\n",
       "      <td>2.515</td>\n",
       "    </tr>\n",
       "    <tr>\n",
       "      <td>2</td>\n",
       "      <td>eval</td>\n",
       "      <td>2.496</td>\n",
       "    </tr>\n",
       "    <tr>\n",
       "      <td>3</td>\n",
       "      <td>train</td>\n",
       "      <td>2.492</td>\n",
       "    </tr>\n",
       "    <tr>\n",
       "      <td>3</td>\n",
       "      <td>eval</td>\n",
       "      <td>2.481</td>\n",
       "    </tr>\n",
       "    <tr>\n",
       "      <td>4</td>\n",
       "      <td>train</td>\n",
       "      <td>2.479</td>\n",
       "    </tr>\n",
       "    <tr>\n",
       "      <td>4</td>\n",
       "      <td>eval</td>\n",
       "      <td>2.476</td>\n",
       "    </tr>\n",
       "  </tbody>\n",
       "</table>"
      ],
      "text/plain": [
       "<IPython.core.display.HTML object>"
      ]
     },
     "metadata": {},
     "output_type": "display_data"
    },
    {
     "data": {
      "image/png": "[encoded data removed]",
      "text/plain": [
       "<Figure size 432x288 with 1 Axes>"
      ]
     },
     "metadata": {},
     "output_type": "display_data"
    }
   ],
   "source": [
    "# Train parameters\n",
    "epochs = 5\n",
    "lr     = 1e-1\n",
    "bs     = 1000\n",
    "\n",
    "# Hyperparameters\n",
    "sequence_length = 10\n",
    "emb_depth       = 64\n",
    "head_size       = 64\n",
    "\n",
    "dls = get_dls(sequence_length, bs)\n",
    "model = Transformer(emb_depth, head_size, sequence_length)\n",
    "\n",
    "subs = [ProgressS(True),\n",
    "        MetricsS(),\n",
    "        DeviceS(device),\n",
    "        Shuffle()]\n",
    "\n",
    "scheduler = partial(torch.optim.lr_scheduler.OneCycleLR, max_lr=lr, epochs=epochs, steps_per_epoch=len(dls.train))\n",
    "\n",
    "l = Learner(model, dls, multi_output_cross_entropy, torch.optim.Adam, None, subs=subs +[SchedulerS(scheduler)])\n",
    "l.fit(epochs, lr=lr)"
   ]
  },
  {
   "cell_type": "markdown",
   "id": "e69dd036-0e24-4e0a-8740-127059724179",
   "metadata": {},
   "source": [
    "The model seems to be training (the loss is going down), but it's not performing very well. Let's thus continue adding other components that are described in the paper:"
   ]
  },
  {
   "cell_type": "markdown",
   "id": "4cce541a-ecc5-4886-abd7-df35ef33bf85",
   "metadata": {},
   "source": [
    "## Positional embeddings"
   ]
  },
  {
   "cell_type": "markdown",
   "id": "1416bbac-28aa-4f43-a243-85300ac76997",
   "metadata": {},
   "source": [
    "So far we created embeddings for our tokens and used them as the basis for the query, key and value vectors. However, in doing so we never explicitly encoded the *positional* information in the embeddings: we don't have any mechanism of working with the position of the tokens. Consider the sentence: *I was working at home when my cat ...*. Positional information is important to encode the fact that *cat* was mentioned after *I*. This way, the model might know that the words that will follow, will have to relate to my cat and not to me. There are multiple ways of encoding this positional information, but for now let's just stick with another embedding layer which will simply embed the position of each token in the sentence:"
   ]
  },
  {
   "cell_type": "code",
   "execution_count": null,
   "id": "acba826a-8ef1-446c-b271-1fa890920b5a",
   "metadata": {
    "vscode": {
     "languageId": "python"
    }
   },
   "outputs": [],
   "source": [
    "class Transformer(nn.Module):\n",
    "    \n",
    "    def __init__(self, emb_depth, head_size, sequence_length):\n",
    "        super().__init__()\n",
    "        self.token_embedding = nn.Embedding(len(c2i), emb_depth)\n",
    "        self.position_embedding = nn.Embedding(sequence_length, emb_depth)\n",
    "        self.register_buffer('range', torch.arange(sequence_length))\n",
    "        self.attention = MaskedSelfAttentionHead(emb_depth, head_size, sequence_length)\n",
    "        self.head = nn.Linear(head_size, len(c2i))\n",
    "        \n",
    "    def forward(self, x):                     # x: [B,T]\n",
    "        x_tok = self.token_embedding(x)       # [B,T,Ce]\n",
    "        x_pos = self.position_embedding(self.range) # [B,T,Ce]\n",
    "        x = self.attention(x_tok + x_pos)     # [B,T,Ch]\n",
    "        x = self.head(x)                      # [B,T,vocab]\n",
    "        return x"
   ]
  },
  {
   "cell_type": "markdown",
   "id": "d038a565",
   "metadata": {},
   "source": [
    "Note that the positional and token embedding are simply added together element-wise."
   ]
  },
  {
   "cell_type": "markdown",
   "id": "36298d06-55b5-48c4-aaca-baa72c326175",
   "metadata": {},
   "source": [
    "## Multi-head attention"
   ]
  },
  {
   "cell_type": "markdown",
   "id": "5f77dcbb-b0ff-473b-9d37-8de7b5f44cf0",
   "metadata": {},
   "source": [
    "When introducing self-attention, we discussed one specific query that the token could be interested in, we computed the affinity of that query with all the keys of the tokens. It seems natural to assume that there are multiple queries to be formulated which would help with the prediction of the next token (What is the subject of the sentence? What is the tense? etc). Each possible query could naturally have an affinity with different tokens. These considerations give rise to *multi-head attention*. Multi-head attention is simply the application of multiple attention-heads in parallel and the concatentation of the results."
   ]
  },
  {
   "cell_type": "code",
   "execution_count": null,
   "id": "113bf9f7-f976-4b19-ba40-4b403472cc01",
   "metadata": {
    "vscode": {
     "languageId": "python"
    }
   },
   "outputs": [],
   "source": [
    "class MultiHeadAttention(nn.Module):\n",
    "    \n",
    "    def __init__(self, emb_depth, head_size, n_heads, sequence_length):\n",
    "        super().__init__()\n",
    "        hs = head_size // n_heads\n",
    "        if head_size % n_heads != 0:\n",
    "            raise ValueError(\"head_size and n_heads don't match, make sure that head_size is divisible (without remainder) through n_heads\")\n",
    "        self.heads = nn.ModuleList([MaskedSelfAttentionHead(emb_depth, hs, sequence_length) for i in range(n_heads)])\n",
    "        \n",
    "    def forward(self, x):\n",
    "        return torch.cat([head(x) for head in self.heads], dim=-1)"
   ]
  },
  {
   "cell_type": "code",
   "execution_count": null,
   "id": "c94419fe-d22b-446d-abdf-20f0addacf12",
   "metadata": {
    "vscode": {
     "languageId": "python"
    }
   },
   "outputs": [],
   "source": [
    "class Transformer(nn.Module):\n",
    "    \n",
    "    def __init__(self, emb_depth, head_size, n_heads, sequence_length):\n",
    "        super().__init__()\n",
    "        self.token_embedding = nn.Embedding(len(c2i), emb_depth)\n",
    "        self.position_embedding = nn.Embedding(sequence_length, emb_depth)\n",
    "        self.register_buffer('range', torch.arange(sequence_length))\n",
    "        self.attention = MultiHeadAttention(emb_depth, head_size, sequence_length)\n",
    "        self.head = nn.Linear(head_size, len(c2i))\n",
    "        \n",
    "    def forward(self, x):                     # x: [B,T]\n",
    "        x_tok = self.token_embedding(x)       # [B,T,Ce]\n",
    "        x_pos = self.position_embedding(self.range) # [B,T,Ce]\n",
    "        x = self.attention(x_tok + x_pos)     # [B,T,Ch]\n",
    "        x = self.head(x)                      # [B,T,vocab]\n",
    "        return x"
   ]
  },
  {
   "cell_type": "markdown",
   "id": "8fb33a9b-dc7c-404f-ae13-c143321c16b8",
   "metadata": {},
   "source": [
    "## Multiple transformer blocks"
   ]
  },
  {
   "cell_type": "markdown",
   "id": "befdc4e1-fff6-4c83-bcd5-3cde32a60a9b",
   "metadata": {},
   "source": [
    "The next improvement has to do with adding computation following the attention. Currently we are doing one layer of self-attention, followed by the head which maps the activations to the correct number of outputs (the size of the vocabulary). We want to change this by adding a feed forward network right after the attention module. The idea being that we want to add computation which allows the transformer to *think* upon the results from an attention block. As mentioned, this will just be a simple Linear layer followed by a ReLU:"
   ]
  },
  {
   "cell_type": "code",
   "execution_count": null,
   "id": "3cf9e76f-225e-4eab-b65b-97e0243932d9",
   "metadata": {
    "vscode": {
     "languageId": "python"
    }
   },
   "outputs": [],
   "source": [
    "class FeedForward(nn.Module):\n",
    "    def __init__(self, emb_depth):\n",
    "        super().__init__()\n",
    "        self.net = nn.Sequential(*[\n",
    "            nn.Linear(emb_depth, emb_depth),\n",
    "            nn.ReLU(),\n",
    "        ])\n",
    "        \n",
    "    def forward(self, x):\n",
    "        return self.net(x)"
   ]
  },
  {
   "cell_type": "markdown",
   "id": "177902bf-154c-4bf8-9ffc-839597f71760",
   "metadata": {},
   "source": [
    "And we create a `TransformerBlock` which combines the attention and computation phase:"
   ]
  },
  {
   "cell_type": "code",
   "execution_count": null,
   "id": "76e3027d-1fb7-4c39-9e17-98f565ac5914",
   "metadata": {
    "vscode": {
     "languageId": "python"
    }
   },
   "outputs": [],
   "source": [
    "class TransformerBlock(nn.Module):\n",
    "    def __init__(self, emb_depth, n_heads, sequence_length):\n",
    "        super().__init__()\n",
    "        self.att = MultiHeadAttention(emb_depth, emb_depth, n_heads, sequence_length)\n",
    "        self.comp = FeedForward(emb_depth)\n",
    "        \n",
    "    def forward(self, x):\n",
    "        att = self.att(x)\n",
    "        comp = self.comp(att)\n",
    "        return comp"
   ]
  },
  {
   "cell_type": "markdown",
   "id": "a5b5c518-e085-4c7e-ae44-0d52a5fb551b",
   "metadata": {},
   "source": [
    "We can now add another parameter `n_blocks` signifying how many of these sequential transformer blocks we want to have in the model:"
   ]
  },
  {
   "cell_type": "code",
   "execution_count": null,
   "id": "16f4ffb1-2303-461d-9ede-52da5bcc597d",
   "metadata": {
    "vscode": {
     "languageId": "python"
    }
   },
   "outputs": [],
   "source": [
    "class Transformer(nn.Module):\n",
    "    \n",
    "    def __init__(self, emb_depth, n_heads, n_blocks, sequence_length):\n",
    "        super().__init__()\n",
    "        self.token_embedding = nn.Embedding(len(c2i), emb_depth)\n",
    "        self.position_embedding = nn.Embedding(sequence_length, emb_depth)\n",
    "        self.register_buffer('range', torch.arange(sequence_length))\n",
    "        self.tblocks = nn.Sequential(*[TransformerBlock(emb_depth, n_heads, sequence_length) for i in range(n_blocks)])\n",
    "        self.head = nn.Linear(emb_depth, len(c2i))\n",
    "        \n",
    "    def forward(self, x):\n",
    "        x = self.token_embedding(x) + self.position_embedding(self.range)\n",
    "        x = self.tblocks(x)\n",
    "        x = self.head(x)\n",
    "        return x"
   ]
  },
  {
   "cell_type": "markdown",
   "id": "d2c1f931-4f9c-44f5-9617-c2e4a5487f11",
   "metadata": {},
   "source": [
    "## Layernorm and Residual Connections"
   ]
  },
  {
   "cell_type": "markdown",
   "id": "66f4238a-3f79-437e-83fd-01a776af8331",
   "metadata": {},
   "source": [
    "And finally we will add the skip connections and layer normalization. The way these are added is somewhat different from the paper. After the paper, one of the few improvements that were made on this architecture was the use of something called Pre-LN transformer, in which two layernorms are applied in the residual path before the attention and the computation respectively."
   ]
  },
  {
   "cell_type": "code",
   "execution_count": null,
   "id": "ec2c69b6-8a08-4932-bff9-98646086ff4f",
   "metadata": {
    "vscode": {
     "languageId": "python"
    }
   },
   "outputs": [],
   "source": [
    "class TransformerBlock(nn.Module):\n",
    "    def __init__(self, emb_depth, n_heads, sequence_length):\n",
    "        super().__init__()\n",
    "        self.att = MultiHeadAttention(emb_depth, emb_depth, n_heads, sequence_length)\n",
    "        self.comp = FeedForward(emb_depth)\n",
    "        self.ln1 = nn.LayerNorm(emb_depth)\n",
    "        self.ln2 = nn.LayerNorm(emb_depth)\n",
    "        \n",
    "    def forward(self, x):\n",
    "        att = x + self.att(self.ln1(x))\n",
    "        comp = x + self.comp(self.ln1(att))\n",
    "        return comp"
   ]
  },
  {
   "cell_type": "markdown",
   "id": "06bb6b85",
   "metadata": {},
   "source": [
    "Let's put it all together now and train the model on the data"
   ]
  },
  {
   "cell_type": "code",
   "execution_count": null,
   "id": "352fcbb1-be50-4dc4-8f5c-10829476595b",
   "metadata": {
    "vscode": {
     "languageId": "python"
    }
   },
   "outputs": [
    {
     "data": {
      "text/html": [
       "\n",
       "<style>\n",
       "    /* Turns off some styling */\n",
       "    progress {\n",
       "        /* gets rid of default border in Firefox and Opera. */\n",
       "        border: none;\n",
       "        /* Needs to be in here for Safari polyfill so background images work as expected. */\n",
       "        background-size: auto;\n",
       "    }\n",
       "    progress:not([value]), progress:not([value])::-webkit-progress-bar {\n",
       "        background: repeating-linear-gradient(45deg, #7e7e7e, #7e7e7e 10px, #5c5c5c 10px, #5c5c5c 20px);\n",
       "    }\n",
       "    .progress-bar-interrupted, .progress-bar-interrupted::-webkit-progress-bar {\n",
       "        background: #F44336;\n",
       "    }\n",
       "</style>\n"
      ],
      "text/plain": [
       "<IPython.core.display.HTML object>"
      ]
     },
     "metadata": {},
     "output_type": "display_data"
    },
    {
     "data": {
      "text/html": [
       "<table border=\"1\" class=\"dataframe\">\n",
       "  <thead>\n",
       "    <tr style=\"text-align: left;\">\n",
       "      <th>epoch</th>\n",
       "      <th>mode</th>\n",
       "      <th>loss</th>\n",
       "    </tr>\n",
       "  </thead>\n",
       "  <tbody>\n",
       "    <tr>\n",
       "      <td>0</td>\n",
       "      <td>train</td>\n",
       "      <td>2.654</td>\n",
       "    </tr>\n",
       "    <tr>\n",
       "      <td>0</td>\n",
       "      <td>eval</td>\n",
       "      <td>2.430</td>\n",
       "    </tr>\n",
       "    <tr>\n",
       "      <td>1</td>\n",
       "      <td>train</td>\n",
       "      <td>2.371</td>\n",
       "    </tr>\n",
       "    <tr>\n",
       "      <td>1</td>\n",
       "      <td>eval</td>\n",
       "      <td>2.321</td>\n",
       "    </tr>\n",
       "    <tr>\n",
       "      <td>2</td>\n",
       "      <td>train</td>\n",
       "      <td>2.291</td>\n",
       "    </tr>\n",
       "    <tr>\n",
       "      <td>2</td>\n",
       "      <td>eval</td>\n",
       "      <td>2.268</td>\n",
       "    </tr>\n",
       "    <tr>\n",
       "      <td>3</td>\n",
       "      <td>train</td>\n",
       "      <td>2.243</td>\n",
       "    </tr>\n",
       "    <tr>\n",
       "      <td>3</td>\n",
       "      <td>eval</td>\n",
       "      <td>2.228</td>\n",
       "    </tr>\n",
       "    <tr>\n",
       "      <td>4</td>\n",
       "      <td>train</td>\n",
       "      <td>2.217</td>\n",
       "    </tr>\n",
       "    <tr>\n",
       "      <td>4</td>\n",
       "      <td>eval</td>\n",
       "      <td>2.214</td>\n",
       "    </tr>\n",
       "    <tr>\n",
       "      <td>5</td>\n",
       "      <td>train</td>\n",
       "      <td>2.203</td>\n",
       "    </tr>\n",
       "    <tr>\n",
       "      <td>5</td>\n",
       "      <td>eval</td>\n",
       "      <td>2.208</td>\n",
       "    </tr>\n",
       "    <tr>\n",
       "      <td>6</td>\n",
       "      <td>train</td>\n",
       "      <td>2.189</td>\n",
       "    </tr>\n",
       "    <tr>\n",
       "      <td>6</td>\n",
       "      <td>eval</td>\n",
       "      <td>2.186</td>\n",
       "    </tr>\n",
       "    <tr>\n",
       "      <td>7</td>\n",
       "      <td>train</td>\n",
       "      <td>2.173</td>\n",
       "    </tr>\n",
       "    <tr>\n",
       "      <td>7</td>\n",
       "      <td>eval</td>\n",
       "      <td>2.189</td>\n",
       "    </tr>\n",
       "    <tr>\n",
       "      <td>8</td>\n",
       "      <td>train</td>\n",
       "      <td>2.161</td>\n",
       "    </tr>\n",
       "    <tr>\n",
       "      <td>8</td>\n",
       "      <td>eval</td>\n",
       "      <td>2.171</td>\n",
       "    </tr>\n",
       "    <tr>\n",
       "      <td>9</td>\n",
       "      <td>train</td>\n",
       "      <td>2.147</td>\n",
       "    </tr>\n",
       "    <tr>\n",
       "      <td>9</td>\n",
       "      <td>eval</td>\n",
       "      <td>2.160</td>\n",
       "    </tr>\n",
       "    <tr>\n",
       "      <td>10</td>\n",
       "      <td>train</td>\n",
       "      <td>2.135</td>\n",
       "    </tr>\n",
       "    <tr>\n",
       "      <td>10</td>\n",
       "      <td>eval</td>\n",
       "      <td>2.155</td>\n",
       "    </tr>\n",
       "    <tr>\n",
       "      <td>11</td>\n",
       "      <td>train</td>\n",
       "      <td>2.125</td>\n",
       "    </tr>\n",
       "    <tr>\n",
       "      <td>11</td>\n",
       "      <td>eval</td>\n",
       "      <td>2.129</td>\n",
       "    </tr>\n",
       "    <tr>\n",
       "      <td>12</td>\n",
       "      <td>train</td>\n",
       "      <td>2.111</td>\n",
       "    </tr>\n",
       "    <tr>\n",
       "      <td>12</td>\n",
       "      <td>eval</td>\n",
       "      <td>2.116</td>\n",
       "    </tr>\n",
       "    <tr>\n",
       "      <td>13</td>\n",
       "      <td>train</td>\n",
       "      <td>2.101</td>\n",
       "    </tr>\n",
       "    <tr>\n",
       "      <td>13</td>\n",
       "      <td>eval</td>\n",
       "      <td>2.110</td>\n",
       "    </tr>\n",
       "    <tr>\n",
       "      <td>14</td>\n",
       "      <td>train</td>\n",
       "      <td>2.090</td>\n",
       "    </tr>\n",
       "    <tr>\n",
       "      <td>14</td>\n",
       "      <td>eval</td>\n",
       "      <td>2.111</td>\n",
       "    </tr>\n",
       "    <tr>\n",
       "      <td>15</td>\n",
       "      <td>train</td>\n",
       "      <td>2.079</td>\n",
       "    </tr>\n",
       "    <tr>\n",
       "      <td>15</td>\n",
       "      <td>eval</td>\n",
       "      <td>2.103</td>\n",
       "    </tr>\n",
       "    <tr>\n",
       "      <td>16</td>\n",
       "      <td>train</td>\n",
       "      <td>2.069</td>\n",
       "    </tr>\n",
       "    <tr>\n",
       "      <td>16</td>\n",
       "      <td>eval</td>\n",
       "      <td>2.085</td>\n",
       "    </tr>\n",
       "    <tr>\n",
       "      <td>17</td>\n",
       "      <td>train</td>\n",
       "      <td>2.055</td>\n",
       "    </tr>\n",
       "    <tr>\n",
       "      <td>17</td>\n",
       "      <td>eval</td>\n",
       "      <td>2.082</td>\n",
       "    </tr>\n",
       "    <tr>\n",
       "      <td>18</td>\n",
       "      <td>train</td>\n",
       "      <td>2.043</td>\n",
       "    </tr>\n",
       "    <tr>\n",
       "      <td>18</td>\n",
       "      <td>eval</td>\n",
       "      <td>2.075</td>\n",
       "    </tr>\n",
       "    <tr>\n",
       "      <td>19</td>\n",
       "      <td>train</td>\n",
       "      <td>2.029</td>\n",
       "    </tr>\n",
       "    <tr>\n",
       "      <td>19</td>\n",
       "      <td>eval</td>\n",
       "      <td>2.062</td>\n",
       "    </tr>\n",
       "    <tr>\n",
       "      <td>20</td>\n",
       "      <td>train</td>\n",
       "      <td>2.015</td>\n",
       "    </tr>\n",
       "    <tr>\n",
       "      <td>20</td>\n",
       "      <td>eval</td>\n",
       "      <td>2.057</td>\n",
       "    </tr>\n",
       "    <tr>\n",
       "      <td>21</td>\n",
       "      <td>train</td>\n",
       "      <td>2.002</td>\n",
       "    </tr>\n",
       "    <tr>\n",
       "      <td>21</td>\n",
       "      <td>eval</td>\n",
       "      <td>2.051</td>\n",
       "    </tr>\n",
       "    <tr>\n",
       "      <td>22</td>\n",
       "      <td>train</td>\n",
       "      <td>1.990</td>\n",
       "    </tr>\n",
       "    <tr>\n",
       "      <td>22</td>\n",
       "      <td>eval</td>\n",
       "      <td>2.046</td>\n",
       "    </tr>\n",
       "    <tr>\n",
       "      <td>23</td>\n",
       "      <td>train</td>\n",
       "      <td>1.978</td>\n",
       "    </tr>\n",
       "    <tr>\n",
       "      <td>23</td>\n",
       "      <td>eval</td>\n",
       "      <td>2.038</td>\n",
       "    </tr>\n",
       "    <tr>\n",
       "      <td>24</td>\n",
       "      <td>train</td>\n",
       "      <td>1.966</td>\n",
       "    </tr>\n",
       "    <tr>\n",
       "      <td>24</td>\n",
       "      <td>eval</td>\n",
       "      <td>2.034</td>\n",
       "    </tr>\n",
       "    <tr>\n",
       "      <td>25</td>\n",
       "      <td>train</td>\n",
       "      <td>1.956</td>\n",
       "    </tr>\n",
       "    <tr>\n",
       "      <td>25</td>\n",
       "      <td>eval</td>\n",
       "      <td>2.029</td>\n",
       "    </tr>\n",
       "    <tr>\n",
       "      <td>26</td>\n",
       "      <td>train</td>\n",
       "      <td>1.947</td>\n",
       "    </tr>\n",
       "    <tr>\n",
       "      <td>26</td>\n",
       "      <td>eval</td>\n",
       "      <td>2.027</td>\n",
       "    </tr>\n",
       "    <tr>\n",
       "      <td>27</td>\n",
       "      <td>train</td>\n",
       "      <td>1.940</td>\n",
       "    </tr>\n",
       "    <tr>\n",
       "      <td>27</td>\n",
       "      <td>eval</td>\n",
       "      <td>2.025</td>\n",
       "    </tr>\n",
       "    <tr>\n",
       "      <td>28</td>\n",
       "      <td>train</td>\n",
       "      <td>1.937</td>\n",
       "    </tr>\n",
       "    <tr>\n",
       "      <td>28</td>\n",
       "      <td>eval</td>\n",
       "      <td>2.024</td>\n",
       "    </tr>\n",
       "    <tr>\n",
       "      <td>29</td>\n",
       "      <td>train</td>\n",
       "      <td>1.934</td>\n",
       "    </tr>\n",
       "    <tr>\n",
       "      <td>29</td>\n",
       "      <td>eval</td>\n",
       "      <td>2.024</td>\n",
       "    </tr>\n",
       "  </tbody>\n",
       "</table>"
      ],
      "text/plain": [
       "<IPython.core.display.HTML object>"
      ]
     },
     "metadata": {},
     "output_type": "display_data"
    },
    {
     "data": {
      "image/png": "[encoded data removed]",
      "text/plain": [
       "<Figure size 432x288 with 1 Axes>"
      ]
     },
     "metadata": {},
     "output_type": "display_data"
    }
   ],
   "source": [
    "# Train parameters\n",
    "epochs = 30\n",
    "lr     = 1e-2\n",
    "bs     = 16\n",
    "\n",
    "# Hyperparameters\n",
    "sequence_length = 32\n",
    "emb_depth       = 64\n",
    "n_heads         = 4\n",
    "n_blocks        = 4\n",
    "\n",
    "dls = get_dls(sequence_length, bs)\n",
    "model = Transformer(emb_depth, n_heads, n_blocks, sequence_length)\n",
    "\n",
    "subs = [ProgressS(True),\n",
    "        MetricsS(),\n",
    "        Shuffle(),\n",
    "        DeviceS(device)]\n",
    "\n",
    "\n",
    "scheduler = partial(torch.optim.lr_scheduler.OneCycleLR, max_lr=lr, epochs=epochs, steps_per_epoch=len(dls.train))\n",
    "\n",
    "l = Learner(model, dls, multi_output_cross_entropy, torch.optim.Adam, None, subs=subs + [SchedulerS(scheduler)])\n",
    "l.fit(epochs, lr=lr)"
   ]
  },
  {
   "cell_type": "markdown",
   "id": "2ca9667a-8358-4af5-8594-1444a691c119",
   "metadata": {},
   "source": [
    "## Sampling names"
   ]
  },
  {
   "cell_type": "code",
   "execution_count": null,
   "id": "06925e46-f378-4932-b210-8373b1423b24",
   "metadata": {
    "vscode": {
     "languageId": "python"
    }
   },
   "outputs": [],
   "source": [
    "@fc.patch()\n",
    "def generate(self:Transformer, n_tokens=100):\n",
    "    idx = torch.zeros(1,sequence_length, dtype=torch.long).to(device) # B,T\n",
    "    for _ in range(n_tokens):\n",
    "        idx_s = idx[:, -sequence_length:]                  # B,T\n",
    "        logits = self(idx_s)                               # B,T,C\n",
    "        last_pred = logits[:,-1,:]                         # B,C\n",
    "        probs = F.softmax(last_pred, dim=-1)               # B,C\n",
    "        idx_next = torch.multinomial(probs, num_samples=1) # B,1\n",
    "        idx = torch.cat((idx, idx_next), dim=1)            # B,T+1\n",
    "    l = idx[0,sequence_length:].tolist()\n",
    "    return \"\".join([i2c[i] for i in l]).split(\".\")"
   ]
  },
  {
   "cell_type": "code",
   "execution_count": null,
   "id": "b681fd7c-fed9-4bcb-92f2-5bd70927fa6b",
   "metadata": {
    "vscode": {
     "languageId": "python"
    }
   },
   "outputs": [
    {
     "data": {
      "text/plain": [
       "['enthani',\n",
       " 'walynn',\n",
       " 'carkton',\n",
       " 'sulon',\n",
       " 'kanias',\n",
       " 'amour',\n",
       " 'katy',\n",
       " 'ayama',\n",
       " 'sylen',\n",
       " 'abexten',\n",
       " 'derriz',\n",
       " 'kacey',\n",
       " 'vonssen',\n",
       " 'tryver',\n",
       " 'amaru']"
      ]
     },
     "execution_count": null,
     "metadata": {},
     "output_type": "execute_result"
    }
   ],
   "source": [
    "model.generate(100)"
   ]
  },
  {
   "cell_type": "markdown",
   "id": "2e2dfade-2489-4017-84ad-391014475649",
   "metadata": {},
   "source": [
    "## Remarks"
   ]
  },
  {
   "cell_type": "markdown",
   "id": "62495d9d",
   "metadata": {},
   "source": [
    "The model is training fairly well, but it seems difficult to get the (validation) loss to the same level as what we saw for the [LSTM](https://lucasvw.github.io/posts/16_lstm/#pytorch-lstm) which was around 1.95. This bugged me for a bit, but then I realised this is comparing apples to oranges. The LSTM (and RNN) architecture, and more precisely the way we load the data and deal with passing the hidden state from batch to batch (see [here](https://lucasvw.github.io/posts/15_rnn/#optimizing-dataloading-and-model-for-sequential-data-bptt)), means that even for the first item in the sequence (`T=1`) we have information on the history from the previous batch. This is not the case for Transformers, where each batch starts out *fresh*, without any memory. \n",
    "\n",
    "I ran a small test to verify that this is indeed causing the difference in observed loss. I created a new loss function, which (during evaluation) only computes the loss on the last item in the sequence. I re-trained the transformer with a sequence length equal to what was used for the LSTM (5) and obtained a validation loss of 1.933. This shows indeed that a Transformer architecture is outperforming the LSTM on this dataset."
   ]
  },
  {
   "cell_type": "markdown",
   "id": "c8f47fcc-11fb-4ab4-b428-d1f202a09517",
   "metadata": {
    "vscode": {
     "languageId": "python"
    }
   },
   "source": [
    "Let's wrap-up by looking at the Transformer architecture diagram from the original paper. In this blog-post we have described the decoder-only variant of this architecture and only encompasses the right side of this diagram. The left side of the diagram is the encoder part and plays an important role in tasks which involve sequence to sequence problems, for example when translating sentences from English to German. As you can see, in that case the queries from the decoder are combined with the values and key vectors of the encoder. This allows the model to efficiently work with information from the input sequence.\n",
    "\n",
    "![Transformer architecture diagram from *Attention is all you need* by Vaswani et al](attention.png){width=400}"
   ]
  },
  {
   "cell_type": "markdown",
   "id": "f0c9511e",
   "metadata": {},
   "source": []
  }
 ],
 "metadata": {
  "kernelspec": {
   "display_name": "python3",
   "language": "python",
   "name": "python3"
  }
 },
 "nbformat": 4,
 "nbformat_minor": 5
}
