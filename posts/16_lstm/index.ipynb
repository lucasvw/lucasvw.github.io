{
 "cells": [
  {
   "cell_type": "raw",
   "id": "5a706372-b4f8-4d32-9470-24b837947fa5",
   "metadata": {},
   "source": [
    "---\n",
    "title: \"Long short-term memory\"\n",
    "author: \"Lucas van Walstijn\"\n",
    "date: \"2023-10-09\"\n",
    "categories: [code, neural network, nlp, lstm]\n",
    "image: \"LSTM.png\"\n",
    "comments:\n",
    "  utterances:\n",
    "    repo: lucasvw/BlogComments\n",
    "format:\n",
    "  html:\n",
    "    code-overflow: scroll\n",
    "---"
   ]
  },
  {
   "cell_type": "markdown",
   "id": "249771a0-d07d-46c3-988a-4c34de84c3b6",
   "metadata": {},
   "source": [
    "In the previous [post](https://lucasvw.github.io/posts/15_rnn/) we went in detail through Recurrent Neural Networks (RNN's). We looked at how they are similar to MLPs and how they allow for a large improvement in processing data.\n",
    "\n",
    "One main problem with RNN's is that it's still relatively difficult for the model to maintain information on something that has happened a long time ago. If in one sentence the subject turns out to be a male, then in the next sentence the model should still remember this, and use \"he\" as a pronoun when referring to this person. One way to do this, is by extending the sequence length to large values, but this brings its own problems exploding and or vanishing gradients because of the increased depth of the model. \n",
    "\n",
    ":::{.callout-note}\n",
    "Exploding and vanishing gradients is a general problem of neural networks. In an [earlier](https://lucasvw.github.io/posts/11_nntrain_activations/#iterative-matrix-multiplications) blog post we discussed this in the context of deep neural networks for vision applications.\n",
    ":::\n",
    "\n",
    "Although there are multiple ways of dealing with this problem such as normalization and initialization, the Long short-term memory (LSTM) layer is another way to deal with this. Instead of increasing the sequence length (and thus increasing the depth of the model), it aims to have a better technique for remembering the past."
   ]
  },
  {
   "cell_type": "markdown",
   "id": "6e162f4c-7fee-49eb-ad70-4387cedc01c6",
   "metadata": {},
   "source": [
    "## Architecture and Intuition\n",
    "\n",
    "To discuss the LSTM architecture, let's start by looking one last time back at RNN's. In the previous post, we ended up with the following diagram displaying an (unrolled) 1 layer RNN with a sequence length of 3:\n",
    "\n",
    "![Unrolled 1 layer RNN processes a single batch with a sequence length of 3](rnn3.drawio.png)"
   ]
  },
  {
   "cell_type": "markdown",
   "id": "e2c9c804-f62d-48d5-8554-a6a40f853d69",
   "metadata": {},
   "source": [
    "If we zoom in on the processing of one token (timestep) we can generalize this to the image below. In the middle, we have the RNN Cell which in terms of the image above, is the combination of the addition and the blue arrow (the hidden to hidden linear layer). On the left we see the previous hidden state entering the RNN cell, and on the bottom we have the embedding activations of the input entering the cell (this is what comes out of the red arrow in the image above. The computation of the new hidden state (on the right), is simply the addition of both activations and a linear layer followed by a Relu activation. This hidden state is passed to the next token as well as to the output layer (the yellow arrow in the previous diagrams).\n",
    "\n",
    "![Details of the RNN cell](rnncell.drawio.png)"
   ]
  },
  {
   "cell_type": "markdown",
   "id": "cfc05425-5bf6-4d71-97bf-8eee7a5ff5aa",
   "metadata": {},
   "source": [
    "With this representation, it becomes easy to understand the LSTM. Since the only difference is the content of this RNN cell!\n",
    "\n",
    "On the bottom left we see the (embedding activations of the) inputs $x$ and the hidden state $h$, similar to what we have seen in RNN's.\n",
    "\n",
    "The first thing that's different from an RNN, is that the LSTM architecture uses a second (cell) state $c$ (top left) besides the  hidden state $h$. Whereas in the RNN the hidden state is responsible for both keeping a memory of everything that has happened in the past, as well as having information for predicting the next token. These tasks are split in the LSTM, the cell state is responsible for keeping a memory and the hidden state is concerned with the next token.\n",
    "\n",
    "Furthermore, the cell state *update* is not going through a neural network layer (the orange boxes), instead the LSTM can update this state by two element-wise operations (blue circles). This allows it to keep information (remember) for a long time.\n",
    "\n",
    "The cell state is first multiplied by the output of the forget gate. These outputs first go through a sigmoid non-linearity and are thus between 0 and 1. Multiplications with 1's mean that (parts of the) cell state is kept whereas values of 0 mean that (parts of the) cell state is removed (*forgotton*). The inputs to the forget gate are the concatenation of the previous hidden state and the (embedding activations) of the current input. However, there exist other LSTM's where the previous cell state is concatenated to the inputs as well (for example in the Peephole LSTM, in which all the gates get an input from the cell state)."
   ]
  },
  {
   "cell_type": "markdown",
   "id": "22c9a40d-99aa-4a65-a97d-335f46ed756a",
   "metadata": {},
   "source": [
    "![](lstmcell.drawio.png)"
   ]
  },
  {
   "cell_type": "markdown",
   "id": "cae14357-b9ec-4a6e-ac5f-b8a7d8744646",
   "metadata": {},
   "source": [
    "In the two gates that follow (input gate and cell gate), information is prepared to be added to the cell state. The input gate is outputting activations between 0 and 1 and is responsible for determining which cell state to update, and the cell gate is responsible for creating new candidate values. These two are multiplied together before they are being added to the cell state. \n",
    "\n",
    "Finally, the new hidden state gets computed and is basically a filtered version of the (updated) cell state. The cell state is first put through a tanh activation (values between -1 and 1) and then multiplied by sigmoid layer. This sigmoid layer is basically deciding which values of the cell state it wants to use for predicting the next token. The new hidden state is both outputted to the right (for the processing of the next token / timestep) as well as to the top (to be passed to the output layer similarly as in an RNN).\n",
    "\n",
    "Now let's discuss this process and the concepts in terms of a continuous text generation task. The cell state represents all the information about what has been generated previously: the subjects that the text is talking about, what is going on with the subjects, the style the text is written in (present tense, past tense etc). The multiplication of this cell state with the outputs of the forget gate, allow elements of the cell state to be forgotten. For example, if the current token (word) indicates that we are switching from present tense to past tense, the forget gate's output should let the cell state know to drop this information. The next two gates are responsible for adding new information into the cell state: e.g. preparing a representation of the *past tense*. Finally, the output gate should prepare a filter that the next word (let's say a verb) should be created in the current style (which has now switched to past tense). \n",
    "\n",
    "Although I have read about this intuition in multiple places, I am not sure whether it's exactly correct. Nor whether it has been proven that an LSTM is doing things exactly in this way. My (current) belief is that researchers often not exactly know whether a certain intuition is correct or not. But that we simply try something, in which we can *imagine that a neural network could learn something in a certain way*. Whether the network is actually doing that thing, that we thought it would do, is not always clear. But I guess as long as it's beneficial to performance, that's the first thing to be happy about.\n",
    "\n",
    "Now that we understand the LSTM, let's code it up!"
   ]
  },
  {
   "cell_type": "markdown",
   "id": "8c1edb5e",
   "metadata": {},
   "source": [
    "## Data\n",
    "Everything starts with training data, for a description see an earlier [post](https://lucasvw.github.io/posts/13_ngram/)"
   ]
  },
  {
   "cell_type": "code",
   "execution_count": null,
   "id": "83652409-7d0e-4d5b-a3de-de1e11da0e4b",
   "metadata": {},
   "outputs": [],
   "source": [
    "#| code-fold: true\n",
    "\n",
    "import random\n",
    "from functools import reduce, partial\n",
    "from pathlib import Path\n",
    "from urllib.request import urlretrieve\n",
    "import numpy as np\n",
    "import torch\n",
    "import torch.nn as nn\n",
    "import torch.nn.functional as F\n",
    "import matplotlib.pyplot as plt\n",
    "import torcheval.metrics as tem\n",
    "import fastcore.all as fc\n",
    "\n",
    "from nntrain.dataloaders import DataLoaders\n",
    "from nntrain.learner import *\n",
    "from nntrain.activations import *\n",
    "from nntrain.acceleration import *\n",
    "from nntrain.rnn import *\n",
    "########### Load the data ###########\n",
    "path = Path('./data')\n",
    "path.mkdir(parents=True, exist_ok=True)\n",
    "path = path / 'names.txt'\n",
    "url = 'https://raw.githubusercontent.com/karpathy/makemore/master/names.txt'\n",
    "\n",
    "_ = urlretrieve(url, path)\n",
    "\n",
    "with open(path, 'r') as f:\n",
    "    lines = f.read().splitlines()\n",
    "    \n",
    "random.seed(42)\n",
    "random.shuffle(lines)\n",
    "\n",
    "train_size=0.8\n",
    "val_size=0.1\n",
    "\n",
    "train_lines = lines[0:int(train_size * len(lines))]\n",
    "val_lines = lines[int(train_size * len(lines)): int((train_size + val_size) * len(lines))]\n",
    "\n",
    "### Create vocabulary and mappings ###\n",
    "unique_chars = list(set(\"\".join(lines)))\n",
    "unique_chars.sort()\n",
    "vocabulary = ['.'] + unique_chars\n",
    "\n",
    "c2i = {c:i for i, c in enumerate(vocabulary)}\n",
    "i2c = {i:c for i, c in enumerate(vocabulary)}"
   ]
  },
  {
   "cell_type": "markdown",
   "id": "43c2ae40",
   "metadata": {},
   "source": [
    "Last [post](https://lucasvw.github.io/posts/15_rnn/) the `SequentialDataset` and the `VerticalSampler` were introduced to load data in a way that fits RNN's (and thus LSTM's):"
   ]
  },
  {
   "cell_type": "code",
   "execution_count": null,
   "id": "6dbdd403-b686-4f52-8a89-c2ce05dcc936",
   "metadata": {},
   "outputs": [],
   "source": [
    "def get_dls(context_length, batch_size):\n",
    "    train_ds = SequentialDataset(train_lines, c2i, context_length)\n",
    "    valid_ds = SequentialDataset(val_lines, c2i, context_length)\n",
    "        \n",
    "    train_dl = torch.utils.data.DataLoader(train_ds, shuffle=False, sampler=VerticalSampler(train_ds, batch_size), batch_size=batch_size)\n",
    "    valid_dl = torch.utils.data.DataLoader(valid_ds, shuffle=False, sampler=VerticalSampler(valid_ds, batch_size), batch_size=batch_size)\n",
    "\n",
    "    return DataLoaders(train_dl, valid_dl)"
   ]
  },
  {
   "cell_type": "markdown",
   "id": "4b041784-d7e1-4c7b-acdf-9d94e5084cf9",
   "metadata": {},
   "source": [
    "## Manual LSTM"
   ]
  },
  {
   "cell_type": "markdown",
   "id": "c8e6e683-ca44-43f9-a784-0144fcd20463",
   "metadata": {},
   "source": [
    "The creation of an LSTM cell is relatively straight-forward, by making use of the diagram we can simply put the arithmetic in a class:"
   ]
  },
  {
   "cell_type": "code",
   "execution_count": null,
   "id": "1ff18d7f-5e36-44c3-bfe8-8dfee350a900",
   "metadata": {},
   "outputs": [],
   "source": [
    "class LSTMCell(nn.Module):\n",
    "    def __init__(self, ni, nh):\n",
    "        super().__init__()        \n",
    "        self.forget_gate = nn.Linear(ni + nh, nh)\n",
    "        self.input_gate  = nn.Linear(ni + nh, nh)\n",
    "        self.cell_gate   = nn.Linear(ni + nh, nh)\n",
    "        self.output_gate = nn.Linear(ni + nh, nh)\n",
    "        \n",
    "    def forward(self, inp, h, c):\n",
    "        # inp  [bs, ni]\n",
    "        # h [bs, nh]\n",
    "        # c [bs, nh]\n",
    "        \n",
    "        h = torch.cat([h, inp], dim=1)              # [bs, ni+nh]\n",
    "        \n",
    "        forget = torch.sigmoid(self.forget_gate(h)) # [bs, nh]\n",
    "        c = forget * c                              # [bs, nh]   \n",
    "        \n",
    "        inp = torch.sigmoid(self.input_gate(h))     # [bs, nh]\n",
    "        cell = torch.tanh(self.cell_gate(h))        # [bs, nh]\n",
    "        \n",
    "        inp = inp * cell                            # [bs, nh]\n",
    "        c = c + inp                                 # [bs, nh]\n",
    "        \n",
    "        h = torch.sigmoid(self.output_gate(h))      # [bs, nh]\n",
    "        h = h * torch.tanh(c)                       # [bs, nh]\n",
    "        \n",
    "        return h, c"
   ]
  },
  {
   "cell_type": "markdown",
   "id": "2195105b-285e-4500-8d8b-dab5b370b85f",
   "metadata": {},
   "source": [
    "Now let's create an `LSTMNet` that uses this `LSTMCell`. This is a very similar network as the RNN we created in the previous post, we just have to iterate manually through the sequence length and sequentially call the inputs on the cell passing in the hidden and cell state:"
   ]
  },
  {
   "cell_type": "code",
   "execution_count": null,
   "id": "f279ee8c-6fef-4373-8a78-028b191a6137",
   "metadata": {},
   "outputs": [],
   "source": [
    "class LSTMNet(nn.Module):\n",
    "    \n",
    "    def __init__(self, c2i, embedding_dim, hidden_size, bs):\n",
    "        super().__init__()\n",
    "        self.c2i            = c2i\n",
    "        self.bs             = bs\n",
    "        self.embedding_dim  = embedding_dim\n",
    "        self.hidden_size    = hidden_size\n",
    "        # register as buffer so that its moved to the device by the DeviceS Subscriber\n",
    "        self.register_buffer('h', torch.zeros((bs, self.hidden_size)))\n",
    "        self.register_buffer('c', torch.zeros((bs, self.hidden_size)))\n",
    "        \n",
    "        self.input2hidden   = nn.Embedding(len(c2i), embedding_dim)\n",
    "        self.lstm           = LSTMCell(embedding_dim, hidden_size)\n",
    "        self.hidden2out     = nn.Linear(hidden_size, len(c2i))\n",
    "        \n",
    "    def forward(self, x):\n",
    "        inputs = self.input2hidden(x)\n",
    "        outputs = []\n",
    "        for i in range(inputs.shape[1]):\n",
    "            self.h, self.c = self.lstm(inputs[:,i,:], self.h, self.c)\n",
    "            outputs += [self.h]\n",
    "        self.h = self.h.detach()\n",
    "        self.c = self.c.detach()\n",
    "        return self.hidden2out(torch.stack(outputs, dim=1))\n",
    "    \n",
    "    def reset_hidden_state(self):\n",
    "        device = self.h.get_device()\n",
    "        self.h = torch.zeros_like(self.h).to(device)\n",
    "        self.c = torch.zeros_like(self.c).to(device)"
   ]
  },
  {
   "cell_type": "markdown",
   "id": "73c254aa-f554-42b1-8894-3c095f8480d8",
   "metadata": {},
   "source": [
    "And let's see how it performs:"
   ]
  },
  {
   "cell_type": "code",
   "execution_count": null,
   "id": "ec418635-89ab-4440-8247-3140764b3509",
   "metadata": {},
   "outputs": [
    {
     "data": {
      "text/html": [
       "\n",
       "<style>\n",
       "    /* Turns off some styling */\n",
       "    progress {\n",
       "        /* gets rid of default border in Firefox and Opera. */\n",
       "        border: none;\n",
       "        /* Needs to be in here for Safari polyfill so background images work as expected. */\n",
       "        background-size: auto;\n",
       "    }\n",
       "    progress:not([value]), progress:not([value])::-webkit-progress-bar {\n",
       "        background: repeating-linear-gradient(45deg, #7e7e7e, #7e7e7e 10px, #5c5c5c 10px, #5c5c5c 20px);\n",
       "    }\n",
       "    .progress-bar-interrupted, .progress-bar-interrupted::-webkit-progress-bar {\n",
       "        background: #F44336;\n",
       "    }\n",
       "</style>\n"
      ],
      "text/plain": [
       "<IPython.core.display.HTML object>"
      ]
     },
     "metadata": {},
     "output_type": "display_data"
    },
    {
     "data": {
      "text/html": [
       "<table border=\"1\" class=\"dataframe\">\n",
       "  <thead>\n",
       "    <tr style=\"text-align: left;\">\n",
       "      <th>epoch</th>\n",
       "      <th>mode</th>\n",
       "      <th>loss</th>\n",
       "    </tr>\n",
       "  </thead>\n",
       "  <tbody>\n",
       "    <tr>\n",
       "      <td>0</td>\n",
       "      <td>train</td>\n",
       "      <td>2.413</td>\n",
       "    </tr>\n",
       "    <tr>\n",
       "      <td>0</td>\n",
       "      <td>eval</td>\n",
       "      <td>2.166</td>\n",
       "    </tr>\n",
       "    <tr>\n",
       "      <td>1</td>\n",
       "      <td>train</td>\n",
       "      <td>2.089</td>\n",
       "    </tr>\n",
       "    <tr>\n",
       "      <td>1</td>\n",
       "      <td>eval</td>\n",
       "      <td>2.066</td>\n",
       "    </tr>\n",
       "    <tr>\n",
       "      <td>2</td>\n",
       "      <td>train</td>\n",
       "      <td>1.974</td>\n",
       "    </tr>\n",
       "    <tr>\n",
       "      <td>2</td>\n",
       "      <td>eval</td>\n",
       "      <td>2.003</td>\n",
       "    </tr>\n",
       "    <tr>\n",
       "      <td>3</td>\n",
       "      <td>train</td>\n",
       "      <td>1.846</td>\n",
       "    </tr>\n",
       "    <tr>\n",
       "      <td>3</td>\n",
       "      <td>eval</td>\n",
       "      <td>1.963</td>\n",
       "    </tr>\n",
       "    <tr>\n",
       "      <td>4</td>\n",
       "      <td>train</td>\n",
       "      <td>1.711</td>\n",
       "    </tr>\n",
       "    <tr>\n",
       "      <td>4</td>\n",
       "      <td>eval</td>\n",
       "      <td>1.950</td>\n",
       "    </tr>\n",
       "  </tbody>\n",
       "</table>"
      ],
      "text/plain": [
       "<IPython.core.display.HTML object>"
      ]
     },
     "metadata": {},
     "output_type": "display_data"
    },
    {
     "data": {
      "image/png": "[encoded data removed]",
      "text/plain": [
       "<Figure size 432x288 with 1 Axes>"
      ]
     },
     "metadata": {},
     "output_type": "display_data"
    }
   ],
   "source": [
    "# Train parameters\n",
    "epochs = 5\n",
    "lr     = 1e-2\n",
    "bs     = 300\n",
    "\n",
    "# Hyperparameters\n",
    "context_length = 5\n",
    "n_h            = 1000\n",
    "embedding_dim  = 100\n",
    "\n",
    "dls = get_dls(context_length, bs)\n",
    "lstm = LSTMNet(c2i, embedding_dim, n_h, bs)\n",
    "\n",
    "subs = [ProgressS(True),\n",
    "        MetricsS(),\n",
    "        DeviceS(device),\n",
    "        HiddenStateResetterS()]\n",
    "\n",
    "scheduler = partial(torch.optim.lr_scheduler.OneCycleLR, max_lr=lr, epochs=epochs, steps_per_epoch=len(dls.train))\n",
    "\n",
    "l = Learner(lstm, dls, multi_output_cross_entropy, torch.optim.Adam, None, subs=subs + [SchedulerS(scheduler)])\n",
    "l.fit(epochs, lr=lr)"
   ]
  },
  {
   "cell_type": "markdown",
   "id": "518d4f11-7f4f-4a10-97c0-bdbd036373b9",
   "metadata": {},
   "source": [
    "With the 2 layer RNN from the previous post, we reached an evaluation loss of 1.976, this is thus a nice improvement!"
   ]
  },
  {
   "cell_type": "markdown",
   "id": "ee8d11d8-d627-4a1f-abcc-90eea4f2c1b9",
   "metadata": {},
   "source": [
    "## PyTorch LSTM"
   ]
  },
  {
   "cell_type": "markdown",
   "id": "d6f7aefc-9867-407b-b209-368d215690d2",
   "metadata": {},
   "source": [
    "When we use the default PyTorch LSTM, the network is practically identical to the RNN we created in the previous post:"
   ]
  },
  {
   "cell_type": "code",
   "execution_count": null,
   "id": "90a6179a-21dd-4910-a662-e7408406828f",
   "metadata": {},
   "outputs": [],
   "source": [
    "class PyTorchLSTM(nn.Module):\n",
    "    def __init__(self, c2i, embedding_dim, hidden_size, bs, layers=1):\n",
    "        super().__init__()\n",
    "        self.c2i = c2i\n",
    "        self.bs = bs\n",
    "        self.embedding_dim = embedding_dim\n",
    "        self.hidden_size = hidden_size\n",
    "        self.register_buffer('h', torch.zeros((layers, bs, self.hidden_size)))\n",
    "        self.register_buffer('c', torch.zeros((layers, bs, self.hidden_size)))\n",
    "        \n",
    "        self.input2hidden   = nn.Embedding(len(c2i), embedding_dim)               \n",
    "        self.lstm = nn.LSTM(embedding_dim, hidden_size, layers, batch_first=True)\n",
    "        self.hidden2out     = nn.Linear(hidden_size, len(c2i))\n",
    "        \n",
    "    def forward(self, x):\n",
    "        inputs = self.input2hidden(x)\n",
    "        hs, state = self.lstm(inputs, (self.h, self.c))\n",
    "        self.h = state[0].detach()\n",
    "        self.c = state[1].detach()\n",
    "        return self.hidden2out(hs)\n",
    "    \n",
    "    def reset_hidden_state(self):\n",
    "        device = self.h.get_device()\n",
    "        self.h = torch.zeros_like(self.h).to(device)\n",
    "        self.c = torch.zeros_like(self.c).to(device)\n",
    "    "
   ]
  },
  {
   "cell_type": "code",
   "execution_count": null,
   "id": "f91e54cc-6117-44de-ae4e-b06807b3136f",
   "metadata": {},
   "outputs": [
    {
     "data": {
      "text/html": [
       "\n",
       "<style>\n",
       "    /* Turns off some styling */\n",
       "    progress {\n",
       "        /* gets rid of default border in Firefox and Opera. */\n",
       "        border: none;\n",
       "        /* Needs to be in here for Safari polyfill so background images work as expected. */\n",
       "        background-size: auto;\n",
       "    }\n",
       "    progress:not([value]), progress:not([value])::-webkit-progress-bar {\n",
       "        background: repeating-linear-gradient(45deg, #7e7e7e, #7e7e7e 10px, #5c5c5c 10px, #5c5c5c 20px);\n",
       "    }\n",
       "    .progress-bar-interrupted, .progress-bar-interrupted::-webkit-progress-bar {\n",
       "        background: #F44336;\n",
       "    }\n",
       "</style>\n"
      ],
      "text/plain": [
       "<IPython.core.display.HTML object>"
      ]
     },
     "metadata": {},
     "output_type": "display_data"
    },
    {
     "data": {
      "text/html": [
       "<table border=\"1\" class=\"dataframe\">\n",
       "  <thead>\n",
       "    <tr style=\"text-align: left;\">\n",
       "      <th>epoch</th>\n",
       "      <th>mode</th>\n",
       "      <th>loss</th>\n",
       "    </tr>\n",
       "  </thead>\n",
       "  <tbody>\n",
       "    <tr>\n",
       "      <td>0</td>\n",
       "      <td>train</td>\n",
       "      <td>2.419</td>\n",
       "    </tr>\n",
       "    <tr>\n",
       "      <td>0</td>\n",
       "      <td>eval</td>\n",
       "      <td>2.163</td>\n",
       "    </tr>\n",
       "    <tr>\n",
       "      <td>1</td>\n",
       "      <td>train</td>\n",
       "      <td>2.087</td>\n",
       "    </tr>\n",
       "    <tr>\n",
       "      <td>1</td>\n",
       "      <td>eval</td>\n",
       "      <td>2.064</td>\n",
       "    </tr>\n",
       "    <tr>\n",
       "      <td>2</td>\n",
       "      <td>train</td>\n",
       "      <td>1.972</td>\n",
       "    </tr>\n",
       "    <tr>\n",
       "      <td>2</td>\n",
       "      <td>eval</td>\n",
       "      <td>2.004</td>\n",
       "    </tr>\n",
       "    <tr>\n",
       "      <td>3</td>\n",
       "      <td>train</td>\n",
       "      <td>1.846</td>\n",
       "    </tr>\n",
       "    <tr>\n",
       "      <td>3</td>\n",
       "      <td>eval</td>\n",
       "      <td>1.966</td>\n",
       "    </tr>\n",
       "    <tr>\n",
       "      <td>4</td>\n",
       "      <td>train</td>\n",
       "      <td>1.713</td>\n",
       "    </tr>\n",
       "    <tr>\n",
       "      <td>4</td>\n",
       "      <td>eval</td>\n",
       "      <td>1.952</td>\n",
       "    </tr>\n",
       "  </tbody>\n",
       "</table>"
      ],
      "text/plain": [
       "<IPython.core.display.HTML object>"
      ]
     },
     "metadata": {},
     "output_type": "display_data"
    },
    {
     "data": {
      "image/png": "[encoded data removed]",
      "text/plain": [
       "<Figure size 432x288 with 1 Axes>"
      ]
     },
     "metadata": {},
     "output_type": "display_data"
    }
   ],
   "source": [
    "# Train parameters\n",
    "epochs = 5\n",
    "lr     = 1e-2\n",
    "bs     = 300\n",
    "\n",
    "# Hyperparameters\n",
    "context_length = 5\n",
    "n_h            = 1000\n",
    "embedding_dim  = 100\n",
    "layers         = 1\n",
    "\n",
    "dls = get_dls(context_length, bs)\n",
    "lstm = PyTorchLSTM(c2i, embedding_dim, n_h, bs, layers=layers)\n",
    "\n",
    "subs = [ProgressS(True),\n",
    "        MetricsS(),\n",
    "        DeviceS(device),\n",
    "        HiddenStateResetterS()]\n",
    "\n",
    "scheduler = partial(torch.optim.lr_scheduler.OneCycleLR, max_lr=lr, epochs=epochs, steps_per_epoch=len(dls.train))\n",
    "\n",
    "l = Learner(lstm, dls, multi_output_cross_entropy, torch.optim.Adam, None, subs=subs + [SchedulerS(scheduler)])\n",
    "l.fit(epochs, lr=lr)"
   ]
  },
  {
   "cell_type": "markdown",
   "id": "e99710a5-b8d9-4586-955c-b8da2b821f7a",
   "metadata": {},
   "source": [
    "The result is similar to the manual LSTM."
   ]
  },
  {
   "cell_type": "markdown",
   "id": "83ee2b02-cf3c-43a9-afca-762e60665484",
   "metadata": {},
   "source": [
    "## Sampling names"
   ]
  },
  {
   "cell_type": "markdown",
   "id": "9b5499ce-5ef8-424b-8f33-56d7ced61ab3",
   "metadata": {},
   "source": [
    "Last but not least, let's sample some names with our LSTM:"
   ]
  },
  {
   "cell_type": "code",
   "execution_count": null,
   "id": "34aa627d-552a-46d5-8b92-40253f4bdc68",
   "metadata": {},
   "outputs": [],
   "source": [
    "@fc.patch\n",
    "def generate(self:PyTorchLSTM, n=10, generator=None):\n",
    "    # For unbatched input we need a 2D hidden state tensor of size [1, hidden_size]\n",
    "    self.h = torch.zeros((self.h.shape[0], self.hidden_size)).cuda()\n",
    "    self.c = torch.zeros((self.h.shape[0], self.hidden_size)).cuda()\n",
    "    \n",
    "    names = []\n",
    "    for i in range(n):\n",
    "        name = '.'\n",
    "        while True:\n",
    "            idx = torch.tensor([c2i[name[-1]]]).cuda()\n",
    "            logits = self.forward(idx)\n",
    "            s = torch.multinomial(F.softmax(logits, dim=1), 1, generator=generator)\n",
    "            c = i2c[s.item()]\n",
    "            name += c\n",
    "            if c == '.':\n",
    "                names.append(name)\n",
    "                break\n",
    "    return names"
   ]
  },
  {
   "cell_type": "code",
   "execution_count": null,
   "id": "b3d8f554-b897-47e6-b8eb-056215082438",
   "metadata": {},
   "outputs": [
    {
     "data": {
      "text/plain": [
       "['.misdell.',\n",
       " '.treniya.',\n",
       " '.malu.',\n",
       " '.jamem.',\n",
       " '.diln.',\n",
       " '.savina.',\n",
       " '.nayelly.',\n",
       " '.genise.',\n",
       " '.zia.',\n",
       " '.wrenson.']"
      ]
     },
     "execution_count": null,
     "metadata": {},
     "output_type": "execute_result"
    }
   ],
   "source": [
    "lstm.generate()"
   ]
  },
  {
   "cell_type": "code",
   "execution_count": null,
   "id": "8c72e370-2f2f-47bd-aaa0-c07931ca43b8",
   "metadata": {},
   "outputs": [],
   "source": []
  }
 ],
 "metadata": {
  "kernelspec": {
   "display_name": "python3",
   "language": "python",
   "name": "python3"
  }
 },
 "nbformat": 4,
 "nbformat_minor": 5
}
