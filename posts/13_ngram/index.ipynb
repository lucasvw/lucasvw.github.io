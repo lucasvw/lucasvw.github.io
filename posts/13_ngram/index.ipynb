{
 "cells": [
  {
   "cell_type": "raw",
   "id": "5a706372-b4f8-4d32-9470-24b837947fa5",
   "metadata": {},
   "source": [
    "---\n",
    "title: \"N-grams language models\"\n",
    "author: \"Lucas van Walstijn\"\n",
    "date: \"2023-09-06\"\n",
    "categories: [code, neural network, nlp]\n",
    "image: \"image.png\"\n",
    "comments:\n",
    "  utterances:\n",
    "    repo: lucasvw/BlogComments\n",
    "format:\n",
    "  html:\n",
    "    code-overflow: scroll\n",
    "---"
   ]
  },
  {
   "cell_type": "markdown",
   "id": "49fbe029-a595-4cd7-b91d-a9056838096b",
   "metadata": {},
   "source": [
    "In this post, I'll discuss a very simple language model: n-grams! To keep things simple we will be concerned with the creation of single words. The goal will be to have a language model that learns from a corpus of (first-)names, and is able to create new *name-sounding* names. The idea for this comes from Andrej Karpahy's [lecture series](https://www.youtube.com/playlist?list=PLAqhIrjkxbuWI23v9cThsA9GvCAUhRvKZ) on Neural Networks.\n",
    "\n",
    "Like most (any?) language model, n-gram models can be used to predict the next **token** in a sequence. The *n* in n-gram relates to the length of the used **context**. Bi-gram models only use the previous token as context, tri-gram models use the last two tokens to predict the following token.\n",
    "\n",
    ":::{.callout-note}\n",
    "- **token**: When creating language models, we have to decide on the granularity of the data. We can for example build a model that deals with single characters (a-z), entire words or word-parts. This decision is formalized by the use of a **dictionary**, which is the list of unique elements occurring in the data. For the character level model we are building, the dictionary will consist of all letters (a-z). The elements of the dictionary are referred to as tokens. Besides the letters a-z, we will also add a token to the dictionary reflecting the start and end of names (we will use a \".\" token).\n",
    "- **context**: Analog to the *features* ($X$) concept in machine learning, as opposed to the *labels* ($y$). The **context** thus relates to the data that is used as input to the model and from which a prediction is made (for the next character in a sequence). \n",
    ":::\n",
    "\n",
    "Let's clarify what we mean with *prediction of the next token*: an n-gram model learns a probability distribution over any of the tokens that can follow from any of the possible contexts. A bi-gram character-level model has thus a learned probability distribution over all the characters (*a* through *z*, and let's add a token to denote the *end of a word*, so 26+1 tokens) that can follow from any character.\n",
    "\n",
    "The simplest possible way to *learn* a probability distribution from training data, is by simply keeping track of the statistics in the training corpus: \n",
    "\n",
    "- iterate through all the n-grams in the data\n",
    "- count the occurrences of each n-gram.\n",
    "\n",
    "If we then normalize these counts (by dividing through the sum) we have a probability distribution!"
   ]
  },
  {
   "cell_type": "markdown",
   "id": "ea182175-4a25-42f0-97ba-10c69b29b182",
   "metadata": {},
   "source": [
    "## Data"
   ]
  },
  {
   "cell_type": "markdown",
   "id": "c6d248e3-9da9-483c-8783-62911e0f1d2b",
   "metadata": {},
   "source": [
    "Everything starts with training data:"
   ]
  },
  {
   "cell_type": "code",
   "execution_count": null,
   "id": "8a40a2a4-b957-4595-b19d-ef6915868232",
   "metadata": {
    "vscode": {
     "languageId": "python"
    }
   },
   "outputs": [],
   "source": [
    "from functools import reduce\n",
    "from pathlib import Path\n",
    "from urllib.request import urlretrieve\n",
    "import torch\n",
    "import torch.nn as nn\n",
    "import torch.nn.functional as F\n",
    "import matplotlib.pyplot as plt\n",
    "import torcheval.metrics as tem\n",
    "import fastcore.all as fc\n",
    "\n",
    "from nntrain.dataloaders import DataLoaders\n",
    "from nntrain.learner import *\n",
    "from nntrain.activations import *"
   ]
  },
  {
   "cell_type": "code",
   "execution_count": null,
   "id": "52754f77-8252-4811-b0df-36dbbe720a6b",
   "metadata": {
    "vscode": {
     "languageId": "python"
    }
   },
   "outputs": [],
   "source": [
    "path = Path('./data')\n",
    "path.mkdir(parents=True, exist_ok=True)\n",
    "path = path / 'names.txt'\n",
    "url = 'https://raw.githubusercontent.com/karpathy/makemore/master/names.txt'\n",
    "\n",
    "_ = urlretrieve(url, path)"
   ]
  },
  {
   "cell_type": "code",
   "execution_count": null,
   "id": "2a5978a9-f850-4f6d-a275-7d3f8dd64686",
   "metadata": {
    "vscode": {
     "languageId": "python"
    }
   },
   "outputs": [
    {
     "name": "stdout",
     "output_type": "stream",
     "text": [
      "first 5 names in array:  ['emma', 'olivia', 'ava', 'isabella', 'sophia']\n",
      "len(lines)=32033\n"
     ]
    }
   ],
   "source": [
    "with open(path, 'r') as f:\n",
    "    lines = f.read().splitlines()\n",
    "\n",
    "print('first 5 names in array: ', end=' ')\n",
    "print(lines[0:5])\n",
    "print(f'{len(lines)=}')"
   ]
  },
  {
   "cell_type": "markdown",
   "id": "b26757e4-62fb-4359-a4eb-982d98cec839",
   "metadata": {},
   "source": [
    "## Bi-gram count model"
   ]
  },
  {
   "cell_type": "markdown",
   "id": "8408f721-c22f-4315-b6d4-3ac8002a0aa2",
   "metadata": {},
   "source": [
    "Let's build the bi-gram count model outlined above:"
   ]
  },
  {
   "cell_type": "code",
   "execution_count": null,
   "id": "29100319-f724-4b1a-8b50-9a4cac353a04",
   "metadata": {
    "vscode": {
     "languageId": "python"
    }
   },
   "outputs": [
    {
     "name": "stdout",
     "output_type": "stream",
     "text": [
      "dictionary=['a', 'b', 'c', 'd', 'e', 'f', 'g', 'h', 'i', 'j', 'k', 'l', 'm', 'n', 'o', 'p', 'q', 'r', 's', 't', 'u', 'v', 'w', 'x', 'y', 'z', '.']\n",
      "len(dictionary)=27\n"
     ]
    }
   ],
   "source": [
    "unique_chars = list(set(\"\".join(lines)))\n",
    "unique_chars.sort()\n",
    "dictionary = unique_chars + ['.']\n",
    "print(f'{dictionary=}')\n",
    "print(f'{len(dictionary)=}')"
   ]
  },
  {
   "cell_type": "markdown",
   "id": "6a21af61-d4f4-4430-be6b-f5415ebbf42b",
   "metadata": {},
   "source": [
    "From the dictionary we create a mapping from token to integer. We will use this mapping to encode our tokens (characters) into integers. This is called **numericalisation**:"
   ]
  },
  {
   "cell_type": "code",
   "execution_count": null,
   "id": "7ca0aec2-e921-4dee-96f7-2ea043eff4a5",
   "metadata": {
    "vscode": {
     "languageId": "python"
    }
   },
   "outputs": [],
   "source": [
    "c2i = {c:i for i, c in enumerate(dictionary)}\n",
    "i2c = {i:c for i, c in enumerate(dictionary)}"
   ]
  },
  {
   "cell_type": "markdown",
   "id": "6ef2e4df-4bdf-41a4-86ed-2e36039c6bc3",
   "metadata": {},
   "source": [
    "And just for clarity, let's have a look at the bi-grams for the first name in the dataset:"
   ]
  },
  {
   "cell_type": "code",
   "execution_count": null,
   "id": "e283af27-286d-4118-ad74-af4c07d4b352",
   "metadata": {
    "vscode": {
     "languageId": "python"
    }
   },
   "outputs": [
    {
     "name": "stdout",
     "output_type": "stream",
     "text": [
      "name : \".emma.\"\n",
      "bigrams:\n",
      ". --> e \t numericalized: 26 -->  4\n",
      "e --> m \t numericalized:  4 --> 12\n",
      "m --> m \t numericalized: 12 --> 12\n",
      "m --> a \t numericalized: 12 -->  0\n",
      "a --> . \t numericalized:  0 --> 26\n"
     ]
    }
   ],
   "source": [
    "#| code-fold: true\n",
    "cutoff = round(len(lines) * 0.8)\n",
    "train_lines = lines[:cutoff]\n",
    "val_lines = lines[cutoff:]\n",
    "\n",
    "name = \".\" + train_lines[0] + \".\"\n",
    "print(f'name : \"{name}\"')\n",
    "print('bigrams:')\n",
    "bigrams = zip(name[:-1], name[1:])\n",
    "for bigram in bigrams:\n",
    "    context = bigram[0]\n",
    "    next_char = bigram[1]\n",
    "    print(f'{context} --> {next_char} \\t numericalized: {c2i[context]:>2} --> {c2i[next_char]:>2}')"
   ]
  },
  {
   "cell_type": "markdown",
   "id": "c6a64e20-e509-4284-9240-8879706f033e",
   "metadata": {},
   "source": [
    "To keep track of the occurrences we will use a matrix of size $[27, 27]$ (the size of the dictionary). The rows reflect the possible values of the context and the columns reflect any possible character following this context. We will initialize this matrix with zeros, and \"add 1\" to the cell matching any n-gram we encounter:"
   ]
  },
  {
   "cell_type": "code",
   "execution_count": null,
   "id": "9374567e-c186-4720-83de-4b4129ab4b74",
   "metadata": {
    "vscode": {
     "languageId": "python"
    }
   },
   "outputs": [],
   "source": [
    "counts = torch.zeros([27,27], dtype=int)              # intialize counts matrix\n",
    "for name in train_lines:                              # iterate through all the names\n",
    "    name = \".\" + name + \".\"                           # add start and end token to the name\n",
    "    bigrams = zip(name[:-1], name[1:])                # create all bigrams for the name (list of tuples)\n",
    "    for bigram in bigrams:                            # iterate through bigrams\n",
    "        counts[c2i[bigram[0]], c2i[bigram[1]]] +=1    # increase the counts in the matrix for the encountered bigram"
   ]
  },
  {
   "cell_type": "markdown",
   "id": "c8e82123-733c-4c17-a758-2487749f7048",
   "metadata": {},
   "source": [
    "The count matrix is visualized below. On the vertical axis (the rows of the matrix) we have the *context* characters and on the horizontal axis (the columns of the matrix) the characters that follow from this context are shown. Bright (white) colors mean low counts, and dark blue colors means high counts. The first observation is that the matrix is actually quite sparse. Many bi-grams appear very few times, and a couple of ones occur very frequently. We further observe:\n",
    "\n",
    "- Looking at the first row: an \"a\" is followed very often either by an \"n\" or even more often by a \".\". Names often end with an \"a\"!\n",
    "- Looking at the last row: names also start pretty often with an \"a\""
   ]
  },
  {
   "cell_type": "code",
   "execution_count": null,
   "id": "20eaaf13-a5c2-46a5-aa84-3f79aa542b5e",
   "metadata": {
    "vscode": {
     "languageId": "python"
    }
   },
   "outputs": [
    {
     "data": {
      "image/png": "[encoded data removed]",
      "text/plain": [
       "<Figure size 720x720 with 1 Axes>"
      ]
     },
     "metadata": {
      "needs_background": "light"
     },
     "output_type": "display_data"
    }
   ],
   "source": [
    "#| code-fold: true\n",
    "\n",
    "fig, ax = plt.subplots(figsize=(10,10))\n",
    "\n",
    "ax.imshow(counts, cmap='Blues');\n",
    "ax.set_xticks(list(range(0,27)), list(c2i.keys()));\n",
    "ax.set_yticks(list(range(0,27)), list(c2i.keys()));\n",
    "ax.tick_params(axis='both', which='major', labelsize=20);"
   ]
  },
  {
   "cell_type": "markdown",
   "id": "a2fa2e81-4b58-4d6b-b154-86033face327",
   "metadata": {},
   "source": [
    "Let's use this language model to generate some new names:"
   ]
  },
  {
   "cell_type": "code",
   "execution_count": null,
   "id": "458bb1c6-3d52-48ad-ad80-d53b0859db94",
   "metadata": {
    "vscode": {
     "languageId": "python"
    }
   },
   "outputs": [],
   "source": [
    "# Normalize over the rows\n",
    "probs = counts / counts.sum(dim=1, keepdim=True)"
   ]
  },
  {
   "cell_type": "code",
   "execution_count": null,
   "id": "edf2a84f-ae4c-4a0a-8c12-7b1beb661dfe",
   "metadata": {
    "vscode": {
     "languageId": "python"
    }
   },
   "outputs": [
    {
     "data": {
      "text/plain": [
       "['.akyleloniatanacaroleynn.',\n",
       " '.con.',\n",
       " '.thmarie.',\n",
       " '.di.',\n",
       " '.n.',\n",
       " '.kahannoa.',\n",
       " '.jadde.',\n",
       " '.ethann.',\n",
       " '.dalaydah.',\n",
       " '.loeshana.']"
      ]
     },
     "execution_count": null,
     "metadata": {},
     "output_type": "execute_result"
    }
   ],
   "source": [
    "g = torch.Generator().manual_seed(42)\n",
    "\n",
    "names = []\n",
    "for i in range(10):                           # generate 20 names\n",
    "    name = '.'                                # initialize each name with a starting token\n",
    "    while True:                               # loop until break\n",
    "        ctx = c2i[name[-1]]                   # index of last character\n",
    "        pdf = probs[ctx]                      # pdf over characters that follow from last character\n",
    "        s = torch.multinomial(pdf, 1, generator=g) # draw a sample given the pdf\n",
    "        c = i2c[s.item()]                     # transform to character\n",
    "        name += c                             # append new character to name\n",
    "        if c == '.':                          # stop sampling upon reaching an end of word token\n",
    "            names.append(name)                # store away sampled name\n",
    "            break\n",
    "\n",
    "names"
   ]
  },
  {
   "cell_type": "markdown",
   "id": "50352997-a544-4224-8c45-8b8176002647",
   "metadata": {},
   "source": [
    "Hmm, not super great names.. I guess it's not surprising given the simplicity of this model. \n",
    "\n",
    "How could we improve on this result? The most obvious way, would be to increase the context length (3-grams, 4-grams etc). This way, the model has more knowledge of what previously occurred, and can possibly create better predictions for the next character. This will probably work fine for n=3 and 4, but with even larger values of n, we will run into problems. The reason for this in short is that the counts matrix is going to be extremely sparse as the amount of rows (= the amount of possible contexts) increases with $27^n$.\n",
    "\n",
    "We thus have to come up with another strategy to increase the performance of our model, for which we turn to neural networks😏"
   ]
  },
  {
   "cell_type": "markdown",
   "id": "98a32b04-323e-45e0-846d-2e2681f006d1",
   "metadata": {},
   "source": [
    "## Neural network"
   ]
  },
  {
   "cell_type": "markdown",
   "id": "670b216e-14a8-48e1-8dfc-f1835ef7bfd3",
   "metadata": {},
   "source": [
    "It turns out that the count model described above, has an equivalence to a very simple neural network that's composed of an embedding layer and uses cross-entropy loss.\n",
    "\n",
    ":::{.callout-note}\n",
    "An **embedding layer** is a layer that is used to \"encode\" our data, which roughly translates to the way we input our data into a neural network. We already saw above that we numericalized our characters (a-z) as integers. We will have to do something similar for our neural network, since we can't input characters into a neural network. However instead of feeding integers into our network, we can also employ an embedding layer, which will basically create a vector out of our integers. Every integer will obtain it's own vector, and the values contained in the vector will be learned during training. The advantage of this, is that the model can easily learn different \"attributes\" that make up the individual tokens. For example, it could use the first dimension in the vector to denote whether the token is a vowel (a, e, i, o, u) and the second dimension to represent the likelihood of starting a sentence.\n",
    ":::\n",
    "\n",
    "If we create an embedding layer with (embedding) dimensions equal to that of the dictionary, the outputs of this layer will also conform to the size of our dictionary, e.g. `[batch_size * 26]`. These raw outputs of our model are referred to as logits, and they can be anything: positive, negative, small or large. We can exponentiate these logits to get numbers that are always positive, and these values are equivalent to values in the \"counts\" matrix. We can then normalize these exponentiated logits row-wise, to get to probabilities. And finally adding a negative log-likelihood loss on these probabilities is guiding the network to establish an embedding matrix with weights that are practically identical to the (log transformed) counts matrix from above. The combined operation of exponentiating, normalizing and negative log-likelihood is what we call cross-entropy loss. See also an earlier blog [post](https://lucasvw.github.io/posts/05_crossentropy/).\n",
    "\n",
    "We are going to train this model using [`nntrain`](https://lucasvw.github.io/posts/08_nntrain_setup/), the small neural network training library we have been created before."
   ]
  },
  {
   "cell_type": "markdown",
   "id": "77aa33f7-c2ce-4092-ab91-1a2b677db0d4",
   "metadata": {},
   "source": [
    "Let's start with the data, the datasets and the dataloaders. And let's make the dataset generic so that it can create datasets for any n-gram model we wish. To do so, let's have a quick look how 2-grams, 3-grams and 4-grams look for the first name in the data *Emma*:"
   ]
  },
  {
   "cell_type": "code",
   "execution_count": null,
   "id": "3f210c89-63c0-4a3d-95fd-8ce70a5e4fa0",
   "metadata": {
    "vscode": {
     "languageId": "python"
    }
   },
   "outputs": [
    {
     "name": "stdout",
     "output_type": "stream",
     "text": [
      "2-grams:\n",
      ". ---> e\n",
      "e ---> m\n",
      "m ---> m\n",
      "m ---> a\n",
      "a ---> .\n"
     ]
    }
   ],
   "source": [
    "#| code-fold: true\n",
    "\n",
    "name = lines[0]\n",
    "name = '.' + name + '.'\n",
    "print('2-grams:')\n",
    "for i in zip(name[:-1], name[1:]):\n",
    "    print(i[0], '--->', i[1])"
   ]
  },
  {
   "cell_type": "code",
   "execution_count": null,
   "id": "94d2a185-da3c-4a28-94d8-b85ce6123193",
   "metadata": {
    "vscode": {
     "languageId": "python"
    }
   },
   "outputs": [
    {
     "name": "stdout",
     "output_type": "stream",
     "text": [
      "3-grams:\n",
      ". . ---> e\n",
      ". e ---> m\n",
      "e m ---> m\n",
      "m m ---> a\n",
      "m a ---> .\n"
     ]
    }
   ],
   "source": [
    "#| code-fold: true\n",
    "\n",
    "name = lines[0]\n",
    "name = '..' + name + '.'\n",
    "print('3-grams:')\n",
    "for i in zip(name[:-2], name[1:-1], name[2:]):\n",
    "    print(i[0], i[1], '--->', i[2])"
   ]
  },
  {
   "cell_type": "code",
   "execution_count": null,
   "id": "4abbcc74-0bce-49f8-84f2-a9b7865d9e2c",
   "metadata": {
    "vscode": {
     "languageId": "python"
    }
   },
   "outputs": [
    {
     "name": "stdout",
     "output_type": "stream",
     "text": [
      "4-grams:\n",
      ". . . ---> e\n",
      ". . e ---> m\n",
      ". e m ---> m\n",
      "e m m ---> a\n",
      "m m a ---> .\n"
     ]
    }
   ],
   "source": [
    "#| code-fold: true\n",
    "\n",
    "name = lines[0]\n",
    "name = '...' + name + '.'\n",
    "print('4-grams:')\n",
    "for i in zip(name[:-3], name[1:-2], name[2:-1], name[3:]):\n",
    "    print(i[0], i[1], i[2], '--->', i[3])"
   ]
  },
  {
   "cell_type": "markdown",
   "id": "e1623994-0724-48f1-ab4e-78313e71c49a",
   "metadata": {},
   "source": [
    "We observe:\n",
    "\n",
    "- irrespective of n, we always end up with the same amount of samples\n",
    "- when we increase the context to n=3 and n=4, we need to add additional start-word tokens to make sure we don't skip the first sample(s)\n",
    "\n",
    "Let's create a dataset in which we can set the value of `n`:"
   ]
  },
  {
   "cell_type": "code",
   "execution_count": null,
   "id": "363506b1-3291-4581-9382-c95cf4b60ac1",
   "metadata": {
    "vscode": {
     "languageId": "python"
    }
   },
   "outputs": [],
   "source": [
    "class NgramDataset():\n",
    "    def __init__(self, lines, n=2):\n",
    "        self.x = []    # store the xs, the context, the left hand side of the bigram\n",
    "        self.y = []    # store the ys, the labels, the right hand side of the bigram\n",
    "        for line in lines:           \n",
    "            x = '.'*(n-1)         # the first x is always full of start word tokens\n",
    "            for y in line + '.':  # the first y is always the first letter of the name\n",
    "                self.x.append([c2i[xi] for xi in x])  # convert to int and store\n",
    "                self.y.append(c2i[y])                 # convert to int and store\n",
    "                x = (x + y)[1:]                       # update x\n",
    "        self.x = torch.tensor(self.x)                 # from list to tensor \n",
    "        self.y = torch.tensor(self.y).squeeze()       # from list to tensor\n",
    "    \n",
    "    def __getitem__(self, i):\n",
    "        return self.x[i], self.y[i]\n",
    "\n",
    "    def __len__(self):\n",
    "        return len(self.x)"
   ]
  },
  {
   "cell_type": "markdown",
   "id": "47cf9de2-93cd-465d-95c8-325fa0f1eea1",
   "metadata": {},
   "source": [
    "Next, let's create the model, which should also be able to deal with n-grams. Instead of using PyTorch's `nn.Embedding` layer, we will use a custom weight matrix which we will use as weight matrix for the embedding layer. The reason for this, is that `nn.Embedding` is only two dimensional. For an n-gram of n > 2, we would then have to stack-up all the different possible character combinations of the context in the row dimension. This is a bit tedious to implement, so instead we will use an explicit n-dimensional weight tensor. For the trigram this means: the first (second) dimension is for the first (second) character in the context, and the last dimension is for the label."
   ]
  },
  {
   "cell_type": "code",
   "execution_count": null,
   "id": "f44eb08e-c342-4209-a95f-ea24912f9323",
   "metadata": {
    "vscode": {
     "languageId": "python"
    }
   },
   "outputs": [],
   "source": [
    "class NgramNet(nn.Module):\n",
    "    def __init__(self, n=2):\n",
    "        super().__init__()\n",
    "        self.n = n\n",
    "        self.embedding = nn.Parameter(torch.randn((27,)*n).requires_grad_())\n",
    "        \n",
    "    def forward(self, x):\n",
    "        # logits are obtained by indexing into the embedding matrix\n",
    "        logits = self.embedding[[x[:,i] for i in range(0,self.n-1)]]\n",
    "        return logits"
   ]
  },
  {
   "cell_type": "code",
   "execution_count": null,
   "id": "6e291beb-6e2f-4b09-829d-fecfddab84f7",
   "metadata": {
    "vscode": {
     "languageId": "python"
    }
   },
   "outputs": [],
   "source": [
    "train_ds = NgramDataset(train_lines)\n",
    "val_ds = NgramDataset(val_lines)\n",
    "\n",
    "bs = 10000\n",
    "train_loader = torch.utils.data.DataLoader(train_ds, shuffle=True, batch_size=bs)\n",
    "val_loader = torch.utils.data.DataLoader(val_ds, batch_size=bs*2)\n",
    "dls = DataLoaders(train_loader, val_loader)"
   ]
  },
  {
   "cell_type": "code",
   "execution_count": null,
   "id": "360632c1-72cd-408c-b55c-5c456de5529f",
   "metadata": {
    "vscode": {
     "languageId": "python"
    }
   },
   "outputs": [
    {
     "data": {
      "text/html": [
       "\n",
       "<style>\n",
       "    /* Turns off some styling */\n",
       "    progress {\n",
       "        /* gets rid of default border in Firefox and Opera. */\n",
       "        border: none;\n",
       "        /* Needs to be in here for Safari polyfill so background images work as expected. */\n",
       "        background-size: auto;\n",
       "    }\n",
       "    progress:not([value]), progress:not([value])::-webkit-progress-bar {\n",
       "        background: repeating-linear-gradient(45deg, #7e7e7e, #7e7e7e 10px, #5c5c5c 10px, #5c5c5c 20px);\n",
       "    }\n",
       "    .progress-bar-interrupted, .progress-bar-interrupted::-webkit-progress-bar {\n",
       "        background: #F44336;\n",
       "    }\n",
       "</style>\n"
      ],
      "text/plain": [
       "<IPython.core.display.HTML object>"
      ]
     },
     "metadata": {},
     "output_type": "display_data"
    },
    {
     "data": {
      "text/html": [
       "<table border=\"1\" class=\"dataframe\">\n",
       "  <thead>\n",
       "    <tr style=\"text-align: left;\">\n",
       "      <th>epoch</th>\n",
       "      <th>mode</th>\n",
       "      <th>loss</th>\n",
       "    </tr>\n",
       "  </thead>\n",
       "  <tbody>\n",
       "    <tr>\n",
       "      <td>0</td>\n",
       "      <td>train</td>\n",
       "      <td>3.090</td>\n",
       "    </tr>\n",
       "    <tr>\n",
       "      <td>0</td>\n",
       "      <td>eval</td>\n",
       "      <td>2.751</td>\n",
       "    </tr>\n",
       "    <tr>\n",
       "      <td>1</td>\n",
       "      <td>train</td>\n",
       "      <td>2.504</td>\n",
       "    </tr>\n",
       "    <tr>\n",
       "      <td>1</td>\n",
       "      <td>eval</td>\n",
       "      <td>2.614</td>\n",
       "    </tr>\n",
       "    <tr>\n",
       "      <td>2</td>\n",
       "      <td>train</td>\n",
       "      <td>2.441</td>\n",
       "    </tr>\n",
       "    <tr>\n",
       "      <td>2</td>\n",
       "      <td>eval</td>\n",
       "      <td>2.603</td>\n",
       "    </tr>\n",
       "    <tr>\n",
       "      <td>3</td>\n",
       "      <td>train</td>\n",
       "      <td>2.432</td>\n",
       "    </tr>\n",
       "    <tr>\n",
       "      <td>3</td>\n",
       "      <td>eval</td>\n",
       "      <td>2.598</td>\n",
       "    </tr>\n",
       "    <tr>\n",
       "      <td>4</td>\n",
       "      <td>train</td>\n",
       "      <td>2.430</td>\n",
       "    </tr>\n",
       "    <tr>\n",
       "      <td>4</td>\n",
       "      <td>eval</td>\n",
       "      <td>2.595</td>\n",
       "    </tr>\n",
       "  </tbody>\n",
       "</table>"
      ],
      "text/plain": [
       "<IPython.core.display.HTML object>"
      ]
     },
     "metadata": {},
     "output_type": "display_data"
    },
    {
     "data": {
      "image/png": "[encoded data removed]",
      "text/plain": [
       "<Figure size 432x288 with 1 Axes>"
      ]
     },
     "metadata": {},
     "output_type": "display_data"
    }
   ],
   "source": [
    "m = NgramNet()\n",
    "n_2gram = m.embedding.numel()\n",
    "\n",
    "subs = [ProgressS(True),\n",
    "        MetricsS(),\n",
    "        DeviceS(device)]\n",
    "\n",
    "l = Learner(m, dls, F.cross_entropy, torch.optim.Adam, None, subs=subs)\n",
    "l.fit(5, lr=1e-1)"
   ]
  },
  {
   "cell_type": "markdown",
   "id": "7c25f87d-9e8d-4235-acf6-03c2c861b205",
   "metadata": {},
   "source": [
    "Now, let's patch our model with a `generate()` method, returning names sampled from the learned representation. We can pass in a generator to make sure we get the same random behavior as we have seen above when generating names with the counts model:"
   ]
  },
  {
   "cell_type": "code",
   "execution_count": null,
   "id": "630f2ac0-1841-42cd-b424-8f1b23853316",
   "metadata": {
    "vscode": {
     "languageId": "python"
    }
   },
   "outputs": [],
   "source": [
    "@fc.patch\n",
    "def generate(self:NgramNet, n=10, generator=None):\n",
    "    names = []\n",
    "    for i in range(n):\n",
    "        name = '.' * (self.n-1)\n",
    "        while True:\n",
    "            # the following 2 lines are a bit ugly, but couldn't find a better way\n",
    "            # cleaner way to make this work for both n=2 and n>2, indexing performs \n",
    "            # differently for both cases\n",
    "            idx = [c2i[i] for i in name[-(self.n-1):]]\n",
    "            logits = reduce(lambda emb, i: emb[i], idx, self.embedding).detach().cpu()\n",
    "            s = torch.multinomial(F.softmax(logits, dim=0), 1, generator=generator)\n",
    "            c = i2c[s.item()]\n",
    "            name += c\n",
    "            if c == '.':\n",
    "                names.append(name)\n",
    "                break\n",
    "    return names"
   ]
  },
  {
   "cell_type": "code",
   "execution_count": null,
   "id": "4cf68d19-9e25-490c-a579-3121b0608b63",
   "metadata": {
    "vscode": {
     "languageId": "python"
    }
   },
   "outputs": [
    {
     "data": {
      "text/plain": [
       "['.akah.',\n",
       " '.enniatanacaroteynn.',\n",
       " '.con.',\n",
       " '.thmarie.',\n",
       " '.al.',\n",
       " '.n.',\n",
       " '.kahannoa.',\n",
       " '.jadde.',\n",
       " '.ethann.',\n",
       " '.dalaydah.']"
      ]
     },
     "execution_count": null,
     "metadata": {},
     "output_type": "execute_result"
    }
   ],
   "source": [
    "m.generate(generator=torch.Generator().manual_seed(42))"
   ]
  },
  {
   "cell_type": "markdown",
   "id": "1ee16c13-7bfe-47e7-8f30-596508e1eb6e",
   "metadata": {},
   "source": [
    "As you can see, these names are extremely similar to the ones we created above with the counts based model, and this is actually pretty surprising. One model was based on common sense, logic and simple counting. The other model on neural networks, embedding layers, loss functions, training loops, backward passes etc etc. Nonetheless, the results are the same!\n",
    "\n",
    "The reason for this, is that the network architecture (and the loss) implies mathematical equivalence between both approaches. This can probably be shown explicitly with lots of complicated math, which I am not even going to try.\n",
    "\n",
    "We can also have a look at both the weight matrices to see that the embedding matrix is extremely similar to the counts matrix:"
   ]
  },
  {
   "cell_type": "code",
   "execution_count": null,
   "id": "56439434-506c-4c22-a1f3-f8c623fb6516",
   "metadata": {
    "vscode": {
     "languageId": "python"
    }
   },
   "outputs": [
    {
     "data": {
      "image/png": "[encoded data removed]",
      "text/plain": [
       "<Figure size 720x360 with 2 Axes>"
      ]
     },
     "metadata": {
      "needs_background": "light"
     },
     "output_type": "display_data"
    }
   ],
   "source": [
    "fig, axs = plt.subplots(1,2, figsize=(10,5))\n",
    "\n",
    "axs[0].imshow(F.softmax(m.embedding.detach().cpu(), dim=1).numpy());\n",
    "axs[0].set_title('\"softmaxed\" embedding matrix: \\n turning logits into probabilities');\n",
    "axs[1].imshow(probs);\n",
    "axs[1].set_title('Probs matrix from the count model');"
   ]
  },
  {
   "cell_type": "markdown",
   "id": "433496b4-7c6d-4db1-ac53-c955e2507723",
   "metadata": {},
   "source": [
    "## Next steps"
   ]
  },
  {
   "cell_type": "markdown",
   "id": "9674477b-73a6-4afe-9357-87980d315e3e",
   "metadata": {},
   "source": [
    "This extremely cool equivalence means we can forget the count model alltogether and use the neural network paradigm to improve performance. In other words, we can use any trick in the book for training neural networks! In the next post, I'll discuss a first improvement: a simple MLP model from Y. Bengio et al described in the paper \"A Neural Probabilistic Language Model\". But let's quickly train a couple of networks with higher n-grams to see how that goes."
   ]
  },
  {
   "cell_type": "code",
   "execution_count": null,
   "id": "d58460fe-51d1-4053-a3fc-8e96d10deb9f",
   "metadata": {
    "vscode": {
     "languageId": "python"
    }
   },
   "outputs": [
    {
     "data": {
      "text/html": [
       "\n",
       "<style>\n",
       "    /* Turns off some styling */\n",
       "    progress {\n",
       "        /* gets rid of default border in Firefox and Opera. */\n",
       "        border: none;\n",
       "        /* Needs to be in here for Safari polyfill so background images work as expected. */\n",
       "        background-size: auto;\n",
       "    }\n",
       "    progress:not([value]), progress:not([value])::-webkit-progress-bar {\n",
       "        background: repeating-linear-gradient(45deg, #7e7e7e, #7e7e7e 10px, #5c5c5c 10px, #5c5c5c 20px);\n",
       "    }\n",
       "    .progress-bar-interrupted, .progress-bar-interrupted::-webkit-progress-bar {\n",
       "        background: #F44336;\n",
       "    }\n",
       "</style>\n"
      ],
      "text/plain": [
       "<IPython.core.display.HTML object>"
      ]
     },
     "metadata": {},
     "output_type": "display_data"
    },
    {
     "data": {
      "text/html": [
       "<table border=\"1\" class=\"dataframe\">\n",
       "  <thead>\n",
       "    <tr style=\"text-align: left;\">\n",
       "      <th>epoch</th>\n",
       "      <th>mode</th>\n",
       "      <th>loss</th>\n",
       "    </tr>\n",
       "  </thead>\n",
       "  <tbody>\n",
       "    <tr>\n",
       "      <td>0</td>\n",
       "      <td>train</td>\n",
       "      <td>2.975</td>\n",
       "    </tr>\n",
       "    <tr>\n",
       "      <td>0</td>\n",
       "      <td>eval</td>\n",
       "      <td>2.591</td>\n",
       "    </tr>\n",
       "    <tr>\n",
       "      <td>1</td>\n",
       "      <td>train</td>\n",
       "      <td>2.276</td>\n",
       "    </tr>\n",
       "    <tr>\n",
       "      <td>1</td>\n",
       "      <td>eval</td>\n",
       "      <td>2.455</td>\n",
       "    </tr>\n",
       "    <tr>\n",
       "      <td>2</td>\n",
       "      <td>train</td>\n",
       "      <td>2.184</td>\n",
       "    </tr>\n",
       "    <tr>\n",
       "      <td>2</td>\n",
       "      <td>eval</td>\n",
       "      <td>2.438</td>\n",
       "    </tr>\n",
       "    <tr>\n",
       "      <td>3</td>\n",
       "      <td>train</td>\n",
       "      <td>2.168</td>\n",
       "    </tr>\n",
       "    <tr>\n",
       "      <td>3</td>\n",
       "      <td>eval</td>\n",
       "      <td>2.433</td>\n",
       "    </tr>\n",
       "    <tr>\n",
       "      <td>4</td>\n",
       "      <td>train</td>\n",
       "      <td>2.163</td>\n",
       "    </tr>\n",
       "    <tr>\n",
       "      <td>4</td>\n",
       "      <td>eval</td>\n",
       "      <td>2.435</td>\n",
       "    </tr>\n",
       "  </tbody>\n",
       "</table>"
      ],
      "text/plain": [
       "<IPython.core.display.HTML object>"
      ]
     },
     "metadata": {},
     "output_type": "display_data"
    },
    {
     "data": {
      "image/png": "[encoded data removed]",
      "text/plain": [
       "<Figure size 432x288 with 1 Axes>"
      ]
     },
     "metadata": {},
     "output_type": "display_data"
    }
   ],
   "source": [
    "ngram = 3\n",
    "\n",
    "train_ds = NgramDataset(train_lines, n=ngram)\n",
    "val_ds = NgramDataset(val_lines, n=ngram)\n",
    "\n",
    "train_loader = torch.utils.data.DataLoader(train_ds, shuffle=True, batch_size=bs)\n",
    "val_loader = torch.utils.data.DataLoader(val_ds, batch_size=bs*2)\n",
    "\n",
    "dls = DataLoaders(train_loader, val_loader)\n",
    "\n",
    "m = NgramNet(n=ngram)\n",
    "n_3gram = m.embedding.numel()\n",
    "\n",
    "subs = [ProgressS(True),\n",
    "        MetricsS(),\n",
    "        DeviceS(device)]\n",
    "\n",
    "l = Learner(m, dls, F.cross_entropy, torch.optim.Adam, None, subs=subs)\n",
    "l.fit(5, lr=1e-1)"
   ]
  },
  {
   "cell_type": "markdown",
   "id": "c9f4d3fa-9234-464f-b30b-ebcfb792e624",
   "metadata": {},
   "source": [
    "Evaluation Loss went down from 2.595 for the bi-gram model to 2.437 for the tri-gram model, an improvement! Let's try a 4-gram model as well:"
   ]
  },
  {
   "cell_type": "code",
   "execution_count": null,
   "id": "c44f1b53-61bd-4766-b372-1f8441e07c9a",
   "metadata": {
    "vscode": {
     "languageId": "python"
    }
   },
   "outputs": [
    {
     "data": {
      "text/html": [
       "\n",
       "<style>\n",
       "    /* Turns off some styling */\n",
       "    progress {\n",
       "        /* gets rid of default border in Firefox and Opera. */\n",
       "        border: none;\n",
       "        /* Needs to be in here for Safari polyfill so background images work as expected. */\n",
       "        background-size: auto;\n",
       "    }\n",
       "    progress:not([value]), progress:not([value])::-webkit-progress-bar {\n",
       "        background: repeating-linear-gradient(45deg, #7e7e7e, #7e7e7e 10px, #5c5c5c 10px, #5c5c5c 20px);\n",
       "    }\n",
       "    .progress-bar-interrupted, .progress-bar-interrupted::-webkit-progress-bar {\n",
       "        background: #F44336;\n",
       "    }\n",
       "</style>\n"
      ],
      "text/plain": [
       "<IPython.core.display.HTML object>"
      ]
     },
     "metadata": {},
     "output_type": "display_data"
    },
    {
     "data": {
      "text/html": [
       "<table border=\"1\" class=\"dataframe\">\n",
       "  <thead>\n",
       "    <tr style=\"text-align: left;\">\n",
       "      <th>epoch</th>\n",
       "      <th>mode</th>\n",
       "      <th>loss</th>\n",
       "    </tr>\n",
       "  </thead>\n",
       "  <tbody>\n",
       "    <tr>\n",
       "      <td>0</td>\n",
       "      <td>train</td>\n",
       "      <td>3.042</td>\n",
       "    </tr>\n",
       "    <tr>\n",
       "      <td>0</td>\n",
       "      <td>eval</td>\n",
       "      <td>2.681</td>\n",
       "    </tr>\n",
       "    <tr>\n",
       "      <td>1</td>\n",
       "      <td>train</td>\n",
       "      <td>2.170</td>\n",
       "    </tr>\n",
       "    <tr>\n",
       "      <td>1</td>\n",
       "      <td>eval</td>\n",
       "      <td>2.460</td>\n",
       "    </tr>\n",
       "    <tr>\n",
       "      <td>2</td>\n",
       "      <td>train</td>\n",
       "      <td>1.971</td>\n",
       "    </tr>\n",
       "    <tr>\n",
       "      <td>2</td>\n",
       "      <td>eval</td>\n",
       "      <td>2.431</td>\n",
       "    </tr>\n",
       "    <tr>\n",
       "      <td>3</td>\n",
       "      <td>train</td>\n",
       "      <td>1.916</td>\n",
       "    </tr>\n",
       "    <tr>\n",
       "      <td>3</td>\n",
       "      <td>eval</td>\n",
       "      <td>2.431</td>\n",
       "    </tr>\n",
       "    <tr>\n",
       "      <td>4</td>\n",
       "      <td>train</td>\n",
       "      <td>1.894</td>\n",
       "    </tr>\n",
       "    <tr>\n",
       "      <td>4</td>\n",
       "      <td>eval</td>\n",
       "      <td>2.442</td>\n",
       "    </tr>\n",
       "  </tbody>\n",
       "</table>"
      ],
      "text/plain": [
       "<IPython.core.display.HTML object>"
      ]
     },
     "metadata": {},
     "output_type": "display_data"
    },
    {
     "data": {
      "image/png": "[encoded data removed]",
      "text/plain": [
       "<Figure size 432x288 with 1 Axes>"
      ]
     },
     "metadata": {},
     "output_type": "display_data"
    }
   ],
   "source": [
    "ngram = 4\n",
    "\n",
    "train_ds = NgramDataset(train_lines, n=ngram)\n",
    "val_ds = NgramDataset(val_lines, n=ngram)\n",
    "\n",
    "train_loader = torch.utils.data.DataLoader(train_ds, shuffle=True, batch_size=bs)\n",
    "val_loader = torch.utils.data.DataLoader(val_ds, batch_size=bs*2)\n",
    "\n",
    "dls = DataLoaders(train_loader, val_loader)\n",
    "\n",
    "m = NgramNet(n=ngram)\n",
    "n_4gram = m.embedding.numel()\n",
    "\n",
    "subs = [ProgressS(True),\n",
    "        MetricsS(),\n",
    "        DeviceS(device)]\n",
    "\n",
    "l = Learner(m, dls, F.cross_entropy, torch.optim.Adam, None, subs=subs)\n",
    "l.fit(5, lr=1e-1)"
   ]
  },
  {
   "cell_type": "markdown",
   "id": "bc9f8395-6cc2-4c56-b2e9-2311b417630a",
   "metadata": {},
   "source": [
    "And here, we start to see problems. The train loss is still getting better (1.894 for 4-gram vs 2.163 for 3-gram) but the evaluation loss is worse (2.442 for 4-gram vs 2.435 for 3-gram). Let's also quickly compare the number of elements in the embedding layer for the 2, 3 and 4-gram models:"
   ]
  },
  {
   "cell_type": "code",
   "execution_count": null,
   "id": "33bb9ddb-6e9d-475d-8c71-9d2046ba3f99",
   "metadata": {
    "vscode": {
     "languageId": "python"
    }
   },
   "outputs": [
    {
     "data": {
      "image/png": "[encoded data removed]",
      "text/plain": [
       "<Figure size 432x288 with 1 Axes>"
      ]
     },
     "metadata": {
      "needs_background": "light"
     },
     "output_type": "display_data"
    }
   ],
   "source": [
    "fig, ax = plt.subplots(1)\n",
    "ax.bar(range(0,3), [n_2gram, n_3gram, n_4gram])\n",
    "ax.set_xticks(range(0,3), [f'2gram \\n #: {n_2gram}', f'3gram \\n #: {n_3gram}', f'4gram \\n #: {n_4gram}']);\n",
    "ax.set_title('Exponential increase in parameters');"
   ]
  },
  {
   "cell_type": "code",
   "execution_count": null,
   "id": "530ae45c-7dd5-47c2-9b84-974b2f08e67f",
   "metadata": {
    "vscode": {
     "languageId": "python"
    }
   },
   "outputs": [],
   "source": []
  }
 ],
 "metadata": {
  "kernelspec": {
   "display_name": "python3",
   "language": "python",
   "name": "python3"
  }
 },
 "nbformat": 4,
 "nbformat_minor": 5
}
