{
 "cells": [
  {
   "cell_type": "raw",
   "id": "5a706372-b4f8-4d32-9470-24b837947fa5",
   "metadata": {},
   "source": [
    "---\n",
    "title: \"`Ngrams\"\n",
    "author: \"Lucas van Walstijn\"\n",
    "date: \"2023-08-28\"\n",
    "categories: [code, neural network, deep learning, nlp]\n",
    "image: \"loss_surface.png\"\n",
    "comments:\n",
    "  utterances:\n",
    "    repo: lucasvw/BlogComments\n",
    "format:\n",
    "  html:\n",
    "    code-overflow: scroll\n",
    "---"
   ]
  },
  {
   "cell_type": "markdown",
   "id": "49fbe029-a595-4cd7-b91d-a9056838096b",
   "metadata": {},
   "source": [
    "In this post, I would like to discuss a very simple language model based on n-grams. The goal of the model is to get familiar with common names for people, and be able to create new name-like sounding words. We will use `nntrain` library we build [earlier](https://lucasvw.github.io/posts/08_nntrain_setup/) to train our models. The idea for this comes from Andrej Karpahy's [lecture series](https://www.youtube.com/playlist?list=PLAqhIrjkxbuWI23v9cThsA9GvCAUhRvKZ) on Neural Networks"
   ]
  },
  {
   "cell_type": "markdown",
   "id": "ea182175-4a25-42f0-97ba-10c69b29b182",
   "metadata": {},
   "source": [
    "## Data"
   ]
  },
  {
   "cell_type": "markdown",
   "id": "c6d248e3-9da9-483c-8783-62911e0f1d2b",
   "metadata": {},
   "source": [
    "Let's get some data and have a first look at it:"
   ]
  },
  {
   "cell_type": "code",
   "execution_count": null,
   "id": "8a40a2a4-b957-4595-b19d-ef6915868232",
   "metadata": {},
   "outputs": [],
   "source": [
    "from pathlib import Path\n",
    "from urllib.request import urlretrieve\n",
    "import torch\n",
    "import matplotlib.pyplot as plt\n",
    "import torcheval.metrics as tem\n",
    "import fastcore.all as fc\n",
    "\n",
    "from nntrain.dataloaders import DataLoaders\n",
    "from nntrain.learner import *\n",
    "from nntrain.activations import *"
   ]
  },
  {
   "cell_type": "code",
   "execution_count": null,
   "id": "52754f77-8252-4811-b0df-36dbbe720a6b",
   "metadata": {},
   "outputs": [],
   "source": [
    "path = Path('./data')\n",
    "path.mkdir(parents=True, exist_ok=True)\n",
    "path = path / 'names.txt'\n",
    "url = 'https://raw.githubusercontent.com/karpathy/makemore/master/names.txt'\n",
    "\n",
    "_ = urlretrieve(url, path)"
   ]
  },
  {
   "cell_type": "code",
   "execution_count": null,
   "id": "2a5978a9-f850-4f6d-a275-7d3f8dd64686",
   "metadata": {},
   "outputs": [
    {
     "name": "stdout",
     "output_type": "stream",
     "text": [
      "first 5 names in array:  ['emma', 'olivia', 'ava', 'isabella', 'sophia']\n",
      "len(lines)=32033\n"
     ]
    }
   ],
   "source": [
    "with open(path, 'r') as f:\n",
    "    lines = f.read().splitlines()\n",
    "\n",
    "print('first 5 names in array: ', end=' ')\n",
    "print(lines[0:5])\n",
    "print(f'{len(lines)=}')"
   ]
  },
  {
   "cell_type": "markdown",
   "id": "509842ee-4e7d-4307-aa13-cca05f9afbbb",
   "metadata": {},
   "source": [
    "An n-gram language model is probably the simplest language model there is. Like most (any?) language model, it tries to predict the next token (character, word or word-part...) following a sequence of tokens. The \"n\" in n-gram reflects to the length of the used context. The bi-gram model, only the previous token is used to predict the next one, in a tri-gram model the previous two tokens are used.\n",
    "\n",
    "Let's clearify what we mean with \"try to predict the next token\": an n-gram model learns a probability distribution over any of the tokens that can follow from any of the possible contexts. A bi-gram character level model has thus a learned probability distribition over all the characters (\"a\" through \"z\", and let's add a token to denote the \"end of a word\", so 26+1 tokens) that can follow from any character (\"a\" throguh \"z\", plus a token for \"start of a word\").\n",
    "\n",
    "The simplest possible way to *learn* a probability distribition from training data, is by simply keeping track of the statistics in the training corpus: go through all the n-grams present in the document and count the occurences. If we then normalize these counts (by dividing through the sum) we have a probability distribution.\n",
    "\n",
    "Let's do this. First we will have a quick look at the data:"
   ]
  },
  {
   "cell_type": "markdown",
   "id": "b26757e4-62fb-4359-a4eb-982d98cec839",
   "metadata": {},
   "source": [
    "## Count model"
   ]
  },
  {
   "cell_type": "code",
   "execution_count": null,
   "id": "29100319-f724-4b1a-8b50-9a4cac353a04",
   "metadata": {},
   "outputs": [
    {
     "name": "stdout",
     "output_type": "stream",
     "text": [
      "unique_chars=['a', 'b', 'c', 'd', 'e', 'f', 'g', 'h', 'i', 'j', 'k', 'l', 'm', 'n', 'o', 'p', 'q', 'r', 's', 't', 'u', 'v', 'w', 'x', 'y', 'z']\n",
      "len(unique_chars)=26\n"
     ]
    }
   ],
   "source": [
    "unique_chars = list(set(\"\".join(lines)))\n",
    "unique_chars.sort()\n",
    "print(f'{unique_chars=}')\n",
    "print(f'{len(unique_chars)=}')"
   ]
  },
  {
   "cell_type": "code",
   "execution_count": null,
   "id": "7ca0aec2-e921-4dee-96f7-2ea043eff4a5",
   "metadata": {},
   "outputs": [],
   "source": [
    "# Let's initialize a counts matrix where the rows represent the previous character\n",
    "# and the columns represent the character that follows.\n",
    "counts = torch.zeros([27,27], dtype=int)\n",
    "\n",
    "# Create a mapping from character to index and reversed:\n",
    "c2i = {c:i for i, c in enumerate(unique_chars + ['.'])}\n",
    "i2c = {i:c for i, c in enumerate(unique_chars + ['.'])}"
   ]
  },
  {
   "cell_type": "code",
   "execution_count": null,
   "id": "5bfc7a59-8641-4728-a8de-0f884bcbacfb",
   "metadata": {},
   "outputs": [],
   "source": [
    "cutoff = round(len(lines) * 0.8)\n",
    "train_lines = lines[:cutoff]\n",
    "val_lines = lines[cutoff:]\n",
    "\n",
    "for name in train_lines:                              # iterate through all the names\n",
    "    name = \".\" + name + \".\"                           # add start and end token\n",
    "    bigrams = zip(name[:-1], name[1:])                # create tuples of bigrams\n",
    "    for bigram in bigrams:                            # iterate through tuples\n",
    "        counts[c2i[bigram[0]], c2i[bigram[1]]] +=1    # increase the counts in the matrix"
   ]
  },
  {
   "cell_type": "markdown",
   "id": "c8e82123-733c-4c17-a758-2487749f7048",
   "metadata": {},
   "source": [
    "And let's visualize the weight matrix. On the vertical axis (the rows of the matrix) we have the \"context\" characters and on the horizontal axis (the columns of the matrix) we display the characters that follow. White means low counts, and dark blue means high counts. So we see for example that the matrix is actually quite sparse. Many bigrams appear very few times, and a couple of ones occur very frequently. For example:\n",
    "\n",
    "- Looking at the first row: an \"a\" is followed very often either with an \"n\" or even more often by a \".\", meaning the \"a\" is the last character in the word\n",
    "- Looking at the last row: names start most often with an \"a\""
   ]
  },
  {
   "cell_type": "code",
   "execution_count": null,
   "id": "20eaaf13-a5c2-46a5-aa84-3f79aa542b5e",
   "metadata": {},
   "outputs": [
    {
     "data": {
      "image/png": "[encoded data removed]",
      "text/plain": [
       "<Figure size 720x720 with 1 Axes>"
      ]
     },
     "metadata": {
      "needs_background": "light"
     },
     "output_type": "display_data"
    }
   ],
   "source": [
    "#| #| code-fold: true\n",
    "\n",
    "fig, ax = plt.subplots(figsize=(10,10))\n",
    "\n",
    "ax.imshow(counts, cmap='Blues');\n",
    "ax.set_xticks(list(range(0,27)), list(c2i.keys()));\n",
    "ax.set_yticks(list(range(0,27)), list(c2i.keys()));\n",
    "ax.tick_params(axis='both', which='major', labelsize=20);"
   ]
  },
  {
   "cell_type": "markdown",
   "id": "a2fa2e81-4b58-4d6b-b154-86033face327",
   "metadata": {},
   "source": [
    "Let's use this language model to generate some new names:"
   ]
  },
  {
   "cell_type": "code",
   "execution_count": null,
   "id": "458bb1c6-3d52-48ad-ad80-d53b0859db94",
   "metadata": {},
   "outputs": [],
   "source": [
    "# Normalize over the rows\n",
    "probs = counts / counts.sum(dim=1, keepdim=True)"
   ]
  },
  {
   "cell_type": "code",
   "execution_count": null,
   "id": "b390e76c-feb2-4dc7-9135-76aeee76f7c7",
   "metadata": {},
   "outputs": [],
   "source": [
    "g = torch.Generator().manual_seed(42)\n",
    "\n",
    "names = []\n",
    "for i in range(10):                           # generate 20 names\n",
    "    name = '.'                                # initialize each name with a starting token\n",
    "    while True:                               # loop until break\n",
    "        i = c2i[name[-1]]                     # index of last character\n",
    "        pdf = probs[i]                        # pdf over characters that follow from last character\n",
    "        s = torch.multinomial(pdf, 1, generator=g) # draw a sample given the pdf\n",
    "        c = i2c[s.item()]                     # transform to character\n",
    "        name += c                             # append new character to name\n",
    "        if c == '.':                          # stop sampling upon reaching an end of word token\n",
    "            names.append(name)                # store away sampled name\n",
    "            break"
   ]
  },
  {
   "cell_type": "code",
   "execution_count": null,
   "id": "edf2a84f-ae4c-4a0a-8c12-7b1beb661dfe",
   "metadata": {},
   "outputs": [
    {
     "data": {
      "text/plain": [
       "['.akyleloniatanacaroleynn.',\n",
       " '.con.',\n",
       " '.thmarie.',\n",
       " '.di.',\n",
       " '.n.',\n",
       " '.kahannoa.',\n",
       " '.jadde.',\n",
       " '.ethann.',\n",
       " '.dalaydah.',\n",
       " '.loeshana.']"
      ]
     },
     "execution_count": null,
     "metadata": {},
     "output_type": "execute_result"
    }
   ],
   "source": [
    "names"
   ]
  },
  {
   "cell_type": "markdown",
   "id": "50352997-a544-4224-8c45-8b8176002647",
   "metadata": {},
   "source": [
    "Not that great names.. I guess it's not surprising giving the simplicity of this model"
   ]
  },
  {
   "cell_type": "markdown",
   "id": "98a32b04-323e-45e0-846d-2e2681f006d1",
   "metadata": {},
   "source": [
    "## Neural network"
   ]
  },
  {
   "cell_type": "markdown",
   "id": "670b216e-14a8-48e1-8dfc-f1835ef7bfd3",
   "metadata": {},
   "source": [
    "It turns out that the bi-gram model above, has an equivalence to a simple neural network that's composed of an embedding matrix and uses cross-entropy loss. The output of the embedding layer is what we refer to as the logits and they are the \"raw\" output of the neural network.  These output numbers can be anything, positive, negative, small or large. \n",
    "\n",
    "We can exponentiate these logits to get numbers that are always positive, and these values are equivalent to values in the \"counts\" matrix. We can then normalize these exponentiated logits row-wise, to get to probabilities. And finally adding a negative log-likelihood loss on these probabilities is guiding the network to establish an embedding matrix with weights that are practically identical to the log transformed counts matrix from above. The combined operation of exponentiating, normalizing and negative log-likelihood is what we call cross-entropy loss. See also an earlier blog [post](https://lucasvw.github.io/posts/05_crossentropy/).\n",
    "\n",
    "But why go through this hassle? The problem with the counts based approach, is that we don't really have a good strategy to increase the performance of this model. The only obvious way, would be to increase the context length (3-grams, 4-grams etc). However we can't keep doing this forever. Since the counts matrix is going to be very sparse since the amount of rows in an n-gram model increases with $27^n$. The advantage of this new neural network approach over the counts based approach is that we can gradually increase the complexity of the neural network to get better results.\n",
    "\n",
    "We are going to train this model using `nntrain`, the small neural network training library we have been created before."
   ]
  },
  {
   "cell_type": "markdown",
   "id": "77aa33f7-c2ce-4092-ab91-1a2b677db0d4",
   "metadata": {},
   "source": [
    "Let's start with the data, the datasets and the dataloaders. And let's make the dataset generic so that it can create datasets for any n-gram model we wish. To do so, let's have a quick look how 2-grams, 3-grams and 4-grams look for the first name in the data *Emma*:"
   ]
  },
  {
   "cell_type": "code",
   "execution_count": null,
   "id": "3f210c89-63c0-4a3d-95fd-8ce70a5e4fa0",
   "metadata": {},
   "outputs": [
    {
     "name": "stdout",
     "output_type": "stream",
     "text": [
      "2-grams:\n",
      ". ---> e\n",
      "e ---> m\n",
      "m ---> m\n",
      "m ---> a\n",
      "a ---> .\n"
     ]
    }
   ],
   "source": [
    "#| #| code-fold: true\n",
    "\n",
    "name = lines[0]\n",
    "name = '.' + name + '.'\n",
    "print('2-grams:')\n",
    "for i in zip(name[:-1], name[1:]):\n",
    "    print(i[0], '--->', i[1])"
   ]
  },
  {
   "cell_type": "code",
   "execution_count": null,
   "id": "94d2a185-da3c-4a28-94d8-b85ce6123193",
   "metadata": {},
   "outputs": [
    {
     "name": "stdout",
     "output_type": "stream",
     "text": [
      "3-grams:\n",
      ". . ---> e\n",
      ". e ---> m\n",
      "e m ---> m\n",
      "m m ---> a\n",
      "m a ---> .\n"
     ]
    }
   ],
   "source": [
    "#| #| code-fold: true\n",
    "\n",
    "name = lines[0]\n",
    "name = '..' + name + '.'\n",
    "print('3-grams:')\n",
    "for i in zip(name[:-2], name[1:-1], name[2:]):\n",
    "    print(i[0], i[1], '--->', i[2])"
   ]
  },
  {
   "cell_type": "code",
   "execution_count": null,
   "id": "4abbcc74-0bce-49f8-84f2-a9b7865d9e2c",
   "metadata": {},
   "outputs": [
    {
     "name": "stdout",
     "output_type": "stream",
     "text": [
      "4-grams:\n",
      ". . . ---> e\n",
      ". . e ---> m\n",
      ". e m ---> m\n",
      "e m m ---> a\n",
      "m m a ---> .\n"
     ]
    }
   ],
   "source": [
    "#| #| code-fold: true\n",
    "\n",
    "name = lines[0]\n",
    "name = '...' + name + '.'\n",
    "print('4-grams:')\n",
    "for i in zip(name[:-3], name[1:-2], name[2:-1], name[3:]):\n",
    "    print(i[0], i[1], i[2], '--->', i[3])"
   ]
  },
  {
   "cell_type": "markdown",
   "id": "e1623994-0724-48f1-ab4e-78313e71c49a",
   "metadata": {},
   "source": [
    "We observe:\n",
    "\n",
    "- irrespective of n, we always end up with the same amount of samples\n",
    "- when we increase the context to n=3 and n=4, we need to add additional start-word tokens to make sure we don't skip the first sample(s)\n",
    "\n",
    "Let's create a dataset that does this:"
   ]
  },
  {
   "cell_type": "code",
   "execution_count": null,
   "id": "363506b1-3291-4581-9382-c95cf4b60ac1",
   "metadata": {},
   "outputs": [],
   "source": [
    "class NgramDataset():\n",
    "    def __init__(self, lines, n=2):\n",
    "        self.x = []    # store the xs, the context, the left hand side of the bigram\n",
    "        self.y = []    # store the ys, the labels, the right hand side of the bigram\n",
    "        for line in lines:           \n",
    "            x = '.'*(n-1)         # the first x is always full of start word tokens\n",
    "            for y in line + '.':  # the first y is always the first letter of the name\n",
    "                self.x.append([c2i[xi] for xi in x])  # convert to int and store\n",
    "                self.y.append(c2i[y])                 # convert to int and store\n",
    "                x = (x + y)[1:]                       # update x\n",
    "        self.x = torch.tensor(self.x).squeeze()       # from list to tensor \n",
    "        self.y = torch.tensor(self.y).squeeze()       # from list to tensor\n",
    "    \n",
    "    def __getitem__(self, i):\n",
    "        return self.x[i], self.y[i]\n",
    "\n",
    "    def __len__(self):\n",
    "        return len(self.x)"
   ]
  },
  {
   "cell_type": "markdown",
   "id": "47cf9de2-93cd-465d-95c8-325fa0f1eea1",
   "metadata": {},
   "source": [
    "Next, let's create the model, which should also be able to deal with n-grams. For that purpose we don't use an `nn.Embedding` layer since they are only two dimensional. For an n-gram of n > 2, we would then have to stack-up all the different possible character combinations of the context in the row dimension. This is a bit tedious to implement, so instead we will use an explicit n-dimensional weight tensor. For the trigram this means: the first (second) dimension is for the first (second) character in the context, and the last dimension is for the label."
   ]
  },
  {
   "cell_type": "code",
   "execution_count": null,
   "id": "f44eb08e-c342-4209-a95f-ea24912f9323",
   "metadata": {},
   "outputs": [],
   "source": [
    "class NgramNet(torch.nn.Module):\n",
    "    def __init__(self, n=2):\n",
    "        super().__init__()\n",
    "        self.embedding = torch.nn.Parameter(torch.randn((27,)*n).requires_grad_())\n",
    "        \n",
    "    def forward(self, x):\n",
    "        # logits are obtained by indexing into the embedding matrix\n",
    "        logtis = self.embedding[x] \n",
    "        return logits"
   ]
  },
  {
   "cell_type": "code",
   "execution_count": null,
   "id": "6e291beb-6e2f-4b09-829d-fecfddab84f7",
   "metadata": {},
   "outputs": [],
   "source": [
    "train_ds = NgramDataset(train_lines)\n",
    "val_ds = NgramDataset(val_lines)\n",
    "\n",
    "bs = 10000\n",
    "train_loader = torch.utils.data.DataLoader(train_ds, shuffle=True, batch_size=bs)\n",
    "val_loader = torch.utils.data.DataLoader(val_ds, batch_size=bs*2)\n",
    "dls = DataLoaders(train_loader, val_loader)"
   ]
  },
  {
   "cell_type": "code",
   "execution_count": null,
   "id": "360632c1-72cd-408c-b55c-5c456de5529f",
   "metadata": {},
   "outputs": [
    {
     "data": {
      "text/html": [
       "\n",
       "<style>\n",
       "    /* Turns off some styling */\n",
       "    progress {\n",
       "        /* gets rid of default border in Firefox and Opera. */\n",
       "        border: none;\n",
       "        /* Needs to be in here for Safari polyfill so background images work as expected. */\n",
       "        background-size: auto;\n",
       "    }\n",
       "    progress:not([value]), progress:not([value])::-webkit-progress-bar {\n",
       "        background: repeating-linear-gradient(45deg, #7e7e7e, #7e7e7e 10px, #5c5c5c 10px, #5c5c5c 20px);\n",
       "    }\n",
       "    .progress-bar-interrupted, .progress-bar-interrupted::-webkit-progress-bar {\n",
       "        background: #F44336;\n",
       "    }\n",
       "</style>\n"
      ],
      "text/plain": [
       "<IPython.core.display.HTML object>"
      ]
     },
     "metadata": {},
     "output_type": "display_data"
    },
    {
     "data": {
      "text/html": [
       "<table border=\"1\" class=\"dataframe\">\n",
       "  <thead>\n",
       "    <tr style=\"text-align: left;\">\n",
       "      <th>epoch</th>\n",
       "      <th>mode</th>\n",
       "      <th>loss</th>\n",
       "    </tr>\n",
       "  </thead>\n",
       "  <tbody>\n",
       "    <tr>\n",
       "      <td>0</td>\n",
       "      <td>train</td>\n",
       "      <td>3.089</td>\n",
       "    </tr>\n",
       "    <tr>\n",
       "      <td>0</td>\n",
       "      <td>eval</td>\n",
       "      <td>2.715</td>\n",
       "    </tr>\n",
       "    <tr>\n",
       "      <td>1</td>\n",
       "      <td>train</td>\n",
       "      <td>2.500</td>\n",
       "    </tr>\n",
       "    <tr>\n",
       "      <td>1</td>\n",
       "      <td>eval</td>\n",
       "      <td>2.620</td>\n",
       "    </tr>\n",
       "    <tr>\n",
       "      <td>2</td>\n",
       "      <td>train</td>\n",
       "      <td>2.441</td>\n",
       "    </tr>\n",
       "    <tr>\n",
       "      <td>2</td>\n",
       "      <td>eval</td>\n",
       "      <td>2.602</td>\n",
       "    </tr>\n",
       "    <tr>\n",
       "      <td>3</td>\n",
       "      <td>train</td>\n",
       "      <td>2.432</td>\n",
       "    </tr>\n",
       "    <tr>\n",
       "      <td>3</td>\n",
       "      <td>eval</td>\n",
       "      <td>2.599</td>\n",
       "    </tr>\n",
       "    <tr>\n",
       "      <td>4</td>\n",
       "      <td>train</td>\n",
       "      <td>2.430</td>\n",
       "    </tr>\n",
       "    <tr>\n",
       "      <td>4</td>\n",
       "      <td>eval</td>\n",
       "      <td>2.595</td>\n",
       "    </tr>\n",
       "    <tr>\n",
       "      <td>5</td>\n",
       "      <td>train</td>\n",
       "      <td>2.429</td>\n",
       "    </tr>\n",
       "    <tr>\n",
       "      <td>5</td>\n",
       "      <td>eval</td>\n",
       "      <td>2.595</td>\n",
       "    </tr>\n",
       "    <tr>\n",
       "      <td>6</td>\n",
       "      <td>train</td>\n",
       "      <td>2.429</td>\n",
       "    </tr>\n",
       "    <tr>\n",
       "      <td>6</td>\n",
       "      <td>eval</td>\n",
       "      <td>2.596</td>\n",
       "    </tr>\n",
       "    <tr>\n",
       "      <td>7</td>\n",
       "      <td>train</td>\n",
       "      <td>2.429</td>\n",
       "    </tr>\n",
       "    <tr>\n",
       "      <td>7</td>\n",
       "      <td>eval</td>\n",
       "      <td>2.597</td>\n",
       "    </tr>\n",
       "    <tr>\n",
       "      <td>8</td>\n",
       "      <td>train</td>\n",
       "      <td>2.428</td>\n",
       "    </tr>\n",
       "    <tr>\n",
       "      <td>8</td>\n",
       "      <td>eval</td>\n",
       "      <td>2.594</td>\n",
       "    </tr>\n",
       "    <tr>\n",
       "      <td>9</td>\n",
       "      <td>train</td>\n",
       "      <td>2.428</td>\n",
       "    </tr>\n",
       "    <tr>\n",
       "      <td>9</td>\n",
       "      <td>eval</td>\n",
       "      <td>2.595</td>\n",
       "    </tr>\n",
       "  </tbody>\n",
       "</table>"
      ],
      "text/plain": [
       "<IPython.core.display.HTML object>"
      ]
     },
     "metadata": {},
     "output_type": "display_data"
    },
    {
     "data": {
      "image/png": "[encoded data removed]",
      "text/plain": [
       "<Figure size 432x288 with 1 Axes>"
      ]
     },
     "metadata": {},
     "output_type": "display_data"
    }
   ],
   "source": [
    "m = NgramNet()\n",
    "\n",
    "subs = [ProgressS(True),\n",
    "        MetricsS(),\n",
    "        DeviceS(device)]\n",
    "\n",
    "l = Learner(m, dls, torch.nn.functional.cross_entropy, torch.optim.Adam, None, subs=subs)\n",
    "l.fit(10, lr=1e-1)"
   ]
  },
  {
   "cell_type": "markdown",
   "id": "7c25f87d-9e8d-4235-acf6-03c2c861b205",
   "metadata": {},
   "source": [
    "Now, let's patch our module with an inference method, which generates names for us. We can pass in a generator to make sure we get the same random behavior as we have seen above when generating names with the counts model:"
   ]
  },
  {
   "cell_type": "code",
   "execution_count": null,
   "id": "630f2ac0-1841-42cd-b424-8f1b23853316",
   "metadata": {},
   "outputs": [],
   "source": [
    "@fc.patch\n",
    "def generate(self:NgramNet, n=10, generator=None):\n",
    "    names = []\n",
    "    for i in range(n):\n",
    "        name = '.'\n",
    "        while True:\n",
    "            i = c2i[name[-1]]\n",
    "            pdf = self.embedding[i]\n",
    "            s = torch.multinomial(pdf.exp().detach().cpu(), 1, generator=generator)\n",
    "            c = i2c[s.item()]\n",
    "            name += c\n",
    "            if c == '.':\n",
    "                names.append(name)\n",
    "                break\n",
    "    return names"
   ]
  },
  {
   "cell_type": "code",
   "execution_count": null,
   "id": "4cf68d19-9e25-490c-a579-3121b0608b63",
   "metadata": {},
   "outputs": [
    {
     "data": {
      "text/plain": [
       "['.akyleloniatanacaroleynn.',\n",
       " '.con.',\n",
       " '.thmarie.',\n",
       " '.al.',\n",
       " '.n.',\n",
       " '.kahannoa.',\n",
       " '.jadde.',\n",
       " '.ethann.',\n",
       " '.dalaydah.',\n",
       " '.loeshana.']"
      ]
     },
     "execution_count": null,
     "metadata": {},
     "output_type": "execute_result"
    }
   ],
   "source": [
    "m.generate(generator=torch.Generator().manual_seed(42))"
   ]
  },
  {
   "cell_type": "markdown",
   "id": "1ee16c13-7bfe-47e7-8f30-596508e1eb6e",
   "metadata": {},
   "source": [
    "These names are extremely similar to the ones we created above. This shows that both models are converging to eachother. In fact, it can be mathematically shown that they are identical.\n",
    "\n",
    "We can also have a look at both the weight matrices to see that the embedding matrix is extremely similar to the counts matrix:"
   ]
  },
  {
   "cell_type": "code",
   "execution_count": null,
   "id": "56439434-506c-4c22-a1f3-f8c623fb6516",
   "metadata": {},
   "outputs": [
    {
     "data": {
      "image/png": "[encoded data removed]",
      "text/plain": [
       "<Figure size 720x360 with 2 Axes>"
      ]
     },
     "metadata": {
      "needs_background": "light"
     },
     "output_type": "display_data"
    }
   ],
   "source": [
    "fig, axs = plt.subplots(1,2, figsize=(10,5))\n",
    "\n",
    "axs[0].imshow(torch.nn.functional.softmax(m.embedding.detach().cpu(), dim=1).numpy());\n",
    "axs[0].set_title('\"softmaxed\" embedding matrix: \\n turning logits into probabilities');\n",
    "axs[1].imshow(probs);\n",
    "axs[1].set_title('Probs matrix from the count model');"
   ]
  },
  {
   "cell_type": "code",
   "execution_count": null,
   "id": "e5bba3af-5e63-47c8-bd8f-4575a599a5ea",
   "metadata": {},
   "outputs": [],
   "source": []
  }
 ],
 "metadata": {
  "kernelspec": {
   "display_name": "python3",
   "language": "python",
   "name": "python3"
  }
 },
 "nbformat": 4,
 "nbformat_minor": 5
}
