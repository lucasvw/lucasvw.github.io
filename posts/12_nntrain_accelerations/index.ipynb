{
 "cells": [
  {
   "cell_type": "raw",
   "id": "5a706372-b4f8-4d32-9470-24b837947fa5",
   "metadata": {},
   "source": [
    "---\n",
    "title: \"`nntrain` (4/n): Accelerated optimization\"\n",
    "author: \"Lucas van Walstijn\"\n",
    "date: \"2023-08-28\"\n",
    "categories: [code, neural network, deep learning]\n",
    "image: \"loss_surface.png\"\n",
    "comments:\n",
    "  utterances:\n",
    "    repo: lucasvw/BlogComments\n",
    "format:\n",
    "  html:\n",
    "    code-overflow: scroll\n",
    "---"
   ]
  },
  {
   "cell_type": "markdown",
   "id": "438a6911-402a-4234-9a58-7e1530bcb1bb",
   "metadata": {},
   "source": [
    "In this series, I want to discuss the creation of a small PyTorch based library for training neural networks: `nntrain`. It's based off the excellent [part 2](https://course.fast.ai/) of Practical Deep Learning for Coders by Jeremy Howard, in which from lessons 13 to 18 (roughly) the development of the `miniai` library is discussed.\n",
    "\n",
    "We'll try to build everything as much as possible from scratch to understand how things work. Once the main functionality of components is implemented and verified, we can switch over to PyTorch's version. This is similar to how things are done in the course. However, this is not just a \"copy / paste\" of the course: on many occasions I take a different route, and most of the code is my own. That is not to say that all of this is meant to be extremely innovative, instead I had the following goals:\n",
    "\n",
    "- Deeply understand the training of neural networks with a focus on PyTorch\n",
    "- Try to create an even better narrative then what's presented in FastAI 🙉🤷‍♂️🙈\n",
    "- Get hands-on experience with creating a library with [`nb_dev`](https://nbdev.fast.ai/)\n",
    "\n",
    "`nb_dev` is another great project from the fastai community, which allows python libraries to be written in jupyter notebooks. This may sound a bit weird and controversial, but it has the advantage that we can create the source code for our library in the very same environment in which we want to experiment and interact with our methods, objects and structure **while we are building the library**. For more details on why this is a good idea and other nice features of `nb_dev`, see [here](https://www.fast.ai/posts/2022-07-28-nbdev2.html)."
   ]
  },
  {
   "cell_type": "markdown",
   "id": "fc98b7c4-9002-407d-90f6-ea9d8c07b8ae",
   "metadata": {},
   "source": [
    "So without further ado, let's start with where we left off in the previous [post](https://lucasvw.github.io/posts/11_nntrain_activations/):"
   ]
  },
  {
   "cell_type": "markdown",
   "id": "2de55ab2-bd58-40fe-8d16-7e9507741c5e",
   "metadata": {},
   "source": [
    "## End of last post:"
   ]
  },
  {
   "cell_type": "markdown",
   "id": "e5fa92f4-94c8-4650-bd75-40ce521e0247",
   "metadata": {},
   "source": [
    "In the last [post](https://lucasvw.github.io/posts/11_nntrain_activations/) we build a convolutional neural network, loaded the Fashion-Mnist data using our [Dataloaders](https://lucasvw.github.io/nntrain/dataloaders.html) module, and trained it using the [Learner](https://lucasvw.github.io/nntrain/learner.html) module. We created a [module](https://lucasvw.github.io/nntrain/activations.html) which helped to understand the fine-print of training a model, more specifically by understanding the activations throughout the network during training. \n",
    "\n",
    "We finally reached a performance of around 89% (evaluation) accuracy by training 5 epochs. In this post, we are going to look closely into how a model is learning: the step in which we update the weights after the backward pass in the training loop."
   ]
  },
  {
   "cell_type": "markdown",
   "id": "437a514f-d0d3-4473-9b80-106ea81bb887",
   "metadata": {},
   "source": [
    "Updating the weights takes the form of:\n",
    "\n",
    "\n",
    "$$\n",
    "w_t = w_{t-1} - lr \\cdot grad^{w}_{t-1}\n",
    "$$\n",
    "or in more pseudocode style syntax:\n",
    "$$\n",
    "w \\leftarrow w - lr \\cdot grad^{w}\n",
    "$$"
   ]
  },
  {
   "cell_type": "markdown",
   "id": "1691cfd8-baab-4f46-865e-d9ddd431cfcb",
   "metadata": {},
   "source": [
    "Before we dive into different versions of this update step and it's implications, I would like to have a good look at this remarkebly simple formula. Specifically, it's important that the change to the weights from one step to another is composed of the product of the learning rate $lr$ and the gradient of the loss with respect to the weight we are updating: $grad^w$. And since it's a product, doubling one and reducing the other by a factor of 2, cancel each other out. \n",
    "\n",
    "For example, consider some training setup with some loss function $loss$ and some learning rate $lr$. If we would change our loss function by adding a factor of 2: $loss_1 = 2 \\cdot loss$ this would have the effect that the gradients would also double. Very similiar to how if \n",
    "\n",
    "\\begin{aligned}\n",
    "f(x) &= x^2 &&\\rightarrow f'(x) = 2x \\\\\n",
    "g(x) &= 2f(x) = 2x^2  &&\\rightarrow g'(x) = 4x = 2f'(x)\n",
    "\\end{aligned}\n",
    "\n",
    "\n",
    "And since learning rate and gradients are multiplied in the weight update, we could offset the doubling of the loss by reducing the learning rate by 2. It's thus important to realize how these components interact."
   ]
  },
  {
   "cell_type": "markdown",
   "id": "fd503003-9fcc-4fb0-890c-47eac3b5c1e4",
   "metadata": {},
   "source": [
    "## Weight decay\n",
    "\n",
    "Weight decay is a very common regularization technique. Regularization is meant to reduce overfitting. When a model is overfitting, it basically has learned the structure of the training set to such a degree (e.g. memorized) that it performs very well on the training set, but performance is degraded on the validation set. This means the model is no longer generalizing well to data it was not trained on. And since we are always interested in using a model for making predictions on data it hasn't seen (e.g. inference), this is an extremely important thing to be aware of.\n",
    "\n",
    "Weight decay takes the simple form of adding a component to the loss which penalizes large weights:\n",
    "\n",
    "$$\n",
    "loss_{wd} = loss + c\\sum{w_i^2}\n",
    "$$\n",
    "\n",
    "And since this simple sum we are adding has no interaction terms between weights, we simply get:\n",
    "\n",
    "\\begin{aligned}\n",
    "grad_{wd} &= grad + 2c\\cdot w \\\\ \n",
    "&= grad + d \\cdot w\n",
    "\\end{aligned}\n",
    "\n",
    "And then going back to updating the weights:\n",
    "\n",
    "\n",
    "\\begin{aligned}\n",
    "w_{wd} &\\leftarrow w_{wd} - lr \\cdot grad_{wd}  \\\\\n",
    "&= w_{wd} - lr \\cdot (grad + d \\cdot w_{wd}) \\\\\n",
    "&= w_{wd} - lr \\cdot grad - lr \\cdot d \\cdot w_{wd} \\\\\n",
    "&= w_{wd}(1 - lr \\cdot d) - lr \\cdot grad \n",
    "\\end{aligned}\n",
    "\n",
    "If we compare this expression to the regular update step: $w \\leftarrow w - lr \\cdot grad^{w}$, we find that we can simply multiply the weights by $(1 - lr \\cdot d)$ before we do the step:"
   ]
  },
  {
   "cell_type": "code",
   "execution_count": null,
   "id": "9572ca00-467b-4650-a43c-7d6fb713b68d",
   "metadata": {},
   "outputs": [],
   "source": [
    " #| export\n",
    "class SGD:\n",
    "    def __init__(self, params, lr, wd=0.):\n",
    "        self.params = list(params)\n",
    "        self.lr = lr\n",
    "        self.wd = wd\n",
    "        self.i = 0\n",
    "\n",
    "    def step(self):                    # this is the method that get's called by the Learner\n",
    "        with torch.no_grad():\n",
    "            for p in self.params:\n",
    "                self.reg_step(p)       # first add regularization\n",
    "                self.opt_step(p)       # then do the actual step\n",
    "        self.i +=1\n",
    "\n",
    "    def opt_step(self, p):\n",
    "        p -= p.grad * self.lr          # regular step\n",
    "    \n",
    "    def reg_step(self, p):\n",
    "        if self.wd != 0:               # only regularize when the weight decay parameter is set\n",
    "            p *= 1 - self.lr*self.wd   # update the weights as described above\n",
    "\n",
    "    def zero_grad(self):\n",
    "        for p in self.params:\n",
    "            p.grad.data.zero_()"
   ]
  },
  {
   "cell_type": "markdown",
   "id": "e8b77e86-62ec-4b13-946c-7fd0053e3c9c",
   "metadata": {},
   "source": [
    "Let's try it out:"
   ]
  },
  {
   "cell_type": "code",
   "execution_count": null,
   "id": "bb0cb9ce-c795-46dd-b464-2211836f932f",
   "metadata": {},
   "outputs": [],
   "source": [
    "#|code-fold: true\n",
    "from datasets import load_dataset,load_dataset_builder\n",
    "\n",
    "from nntrain.dataloaders import DataLoaders, hf_ds_collate_fn\n",
    "from nntrain.learner import *\n",
    "from nntrain.activations import *"
   ]
  },
  {
   "cell_type": "code",
   "execution_count": null,
   "id": "9e930880-05fb-4819-83f8-420a47467b16",
   "metadata": {},
   "outputs": [],
   "source": [
    "#|code-fold: true\n",
    "import torchvision.transforms.functional as TF\n",
    "import torch\n",
    "import torch.nn as nn\n",
    "import torch.nn.functional as F\n",
    "from operator import attrgetter\n",
    "from functools import partial\n",
    "import fastcore.all as fc\n",
    "import math\n",
    "import torcheval.metrics as tem\n",
    "import matplotlib.pyplot as plt\n",
    "import random\n",
    "import numpy as np"
   ]
  },
  {
   "cell_type": "code",
   "execution_count": null,
   "id": "6522e657-d32e-49fe-ba6c-1b480183216a",
   "metadata": {},
   "outputs": [
    {
     "data": {
      "application/vnd.jupyter.widget-view+json": {
       "model_id": "31ebdffcb5af405d8ec502ab213a6844",
       "version_major": 2,
       "version_minor": 0
      },
      "text/plain": [
       "Downloading builder script:   0%|          | 0.00/2.00k [00:00<?, ?B/s]"
      ]
     },
     "metadata": {},
     "output_type": "display_data"
    },
    {
     "data": {
      "application/vnd.jupyter.widget-view+json": {
       "model_id": "3824d457a7334ddebf622b8745e17e4f",
       "version_major": 2,
       "version_minor": 0
      },
      "text/plain": [
       "Downloading metadata:   0%|          | 0.00/1.36k [00:00<?, ?B/s]"
      ]
     },
     "metadata": {},
     "output_type": "display_data"
    },
    {
     "name": "stdout",
     "output_type": "stream",
     "text": [
      "Downloading and preparing dataset fashion_mnist/fashion_mnist (download: 29.45 MiB, generated: 34.84 MiB, post-processed: Unknown size, total: 64.29 MiB) to /root/.cache/huggingface/datasets/fashion_mnist/fashion_mnist/1.0.0/8d6c32399aa01613d96e2cbc9b13638f359ef62bb33612b077b4c247f6ef99c1...\n"
     ]
    },
    {
     "data": {
      "application/vnd.jupyter.widget-view+json": {
       "model_id": "ad0c916106cc4a0babf0402321a0e48d",
       "version_major": 2,
       "version_minor": 0
      },
      "text/plain": [
       "Downloading data files:   0%|          | 0/4 [00:00<?, ?it/s]"
      ]
     },
     "metadata": {},
     "output_type": "display_data"
    },
    {
     "data": {
      "application/vnd.jupyter.widget-view+json": {
       "model_id": "ba611c1bfcf84e9daada7880c6912a60",
       "version_major": 2,
       "version_minor": 0
      },
      "text/plain": [
       "Downloading data:   0%|          | 0.00/26.4M [00:00<?, ?B/s]"
      ]
     },
     "metadata": {},
     "output_type": "display_data"
    },
    {
     "data": {
      "application/vnd.jupyter.widget-view+json": {
       "model_id": "3945309e887b48eaa12a0bd50ba31238",
       "version_major": 2,
       "version_minor": 0
      },
      "text/plain": [
       "Downloading data:   0%|          | 0.00/29.5k [00:00<?, ?B/s]"
      ]
     },
     "metadata": {},
     "output_type": "display_data"
    },
    {
     "data": {
      "application/vnd.jupyter.widget-view+json": {
       "model_id": "5aa81ca5a3c545beaf85c412628cd03f",
       "version_major": 2,
       "version_minor": 0
      },
      "text/plain": [
       "Downloading data:   0%|          | 0.00/4.42M [00:00<?, ?B/s]"
      ]
     },
     "metadata": {},
     "output_type": "display_data"
    },
    {
     "data": {
      "application/vnd.jupyter.widget-view+json": {
       "model_id": "08ee275194344713b9ec63d722a10c11",
       "version_major": 2,
       "version_minor": 0
      },
      "text/plain": [
       "Downloading data:   0%|          | 0.00/5.15k [00:00<?, ?B/s]"
      ]
     },
     "metadata": {},
     "output_type": "display_data"
    },
    {
     "data": {
      "application/vnd.jupyter.widget-view+json": {
       "model_id": "66c380d706e5459b96f2499be1d89686",
       "version_major": 2,
       "version_minor": 0
      },
      "text/plain": [
       "Extracting data files:   0%|          | 0/4 [00:00<?, ?it/s]"
      ]
     },
     "metadata": {},
     "output_type": "display_data"
    },
    {
     "data": {
      "application/vnd.jupyter.widget-view+json": {
       "model_id": "",
       "version_major": 2,
       "version_minor": 0
      },
      "text/plain": [
       "Generating train split:   0%|          | 0/60000 [00:00<?, ? examples/s]"
      ]
     },
     "metadata": {},
     "output_type": "display_data"
    },
    {
     "data": {
      "application/vnd.jupyter.widget-view+json": {
       "model_id": "",
       "version_major": 2,
       "version_minor": 0
      },
      "text/plain": [
       "Generating test split:   0%|          | 0/10000 [00:00<?, ? examples/s]"
      ]
     },
     "metadata": {},
     "output_type": "display_data"
    },
    {
     "name": "stdout",
     "output_type": "stream",
     "text": [
      "Dataset fashion_mnist downloaded and prepared to /root/.cache/huggingface/datasets/fashion_mnist/fashion_mnist/1.0.0/8d6c32399aa01613d96e2cbc9b13638f359ef62bb33612b077b4c247f6ef99c1. Subsequent calls will reuse this data.\n"
     ]
    },
    {
     "data": {
      "application/vnd.jupyter.widget-view+json": {
       "model_id": "aa6489623b734880857fc76fd990bc0a",
       "version_major": 2,
       "version_minor": 0
      },
      "text/plain": [
       "  0%|          | 0/2 [00:00<?, ?it/s]"
      ]
     },
     "metadata": {},
     "output_type": "display_data"
    },
    {
     "data": {
      "text/html": [
       "\n",
       "<style>\n",
       "    /* Turns off some styling */\n",
       "    progress {\n",
       "        /* gets rid of default border in Firefox and Opera. */\n",
       "        border: none;\n",
       "        /* Needs to be in here for Safari polyfill so background images work as expected. */\n",
       "        background-size: auto;\n",
       "    }\n",
       "    progress:not([value]), progress:not([value])::-webkit-progress-bar {\n",
       "        background: repeating-linear-gradient(45deg, #7e7e7e, #7e7e7e 10px, #5c5c5c 10px, #5c5c5c 20px);\n",
       "    }\n",
       "    .progress-bar-interrupted, .progress-bar-interrupted::-webkit-progress-bar {\n",
       "        background: #F44336;\n",
       "    }\n",
       "</style>\n"
      ],
      "text/plain": [
       "<IPython.core.display.HTML object>"
      ]
     },
     "metadata": {},
     "output_type": "display_data"
    },
    {
     "data": {
      "text/html": [
       "<table border=\"1\" class=\"dataframe\">\n",
       "  <thead>\n",
       "    <tr style=\"text-align: left;\">\n",
       "      <th>epoch</th>\n",
       "      <th>mode</th>\n",
       "      <th>loss</th>\n",
       "      <th>accuracy</th>\n",
       "    </tr>\n",
       "  </thead>\n",
       "  <tbody>\n",
       "    <tr>\n",
       "      <td>0</td>\n",
       "      <td>train</td>\n",
       "      <td>0.590</td>\n",
       "      <td>0.788</td>\n",
       "    </tr>\n",
       "    <tr>\n",
       "      <td>0</td>\n",
       "      <td>eval</td>\n",
       "      <td>0.406</td>\n",
       "      <td>0.846</td>\n",
       "    </tr>\n",
       "    <tr>\n",
       "      <td>1</td>\n",
       "      <td>train</td>\n",
       "      <td>0.350</td>\n",
       "      <td>0.872</td>\n",
       "    </tr>\n",
       "    <tr>\n",
       "      <td>1</td>\n",
       "      <td>eval</td>\n",
       "      <td>0.365</td>\n",
       "      <td>0.862</td>\n",
       "    </tr>\n",
       "    <tr>\n",
       "      <td>2</td>\n",
       "      <td>train</td>\n",
       "      <td>0.305</td>\n",
       "      <td>0.888</td>\n",
       "    </tr>\n",
       "    <tr>\n",
       "      <td>2</td>\n",
       "      <td>eval</td>\n",
       "      <td>0.349</td>\n",
       "      <td>0.871</td>\n",
       "    </tr>\n",
       "    <tr>\n",
       "      <td>3</td>\n",
       "      <td>train</td>\n",
       "      <td>0.280</td>\n",
       "      <td>0.896</td>\n",
       "    </tr>\n",
       "    <tr>\n",
       "      <td>3</td>\n",
       "      <td>eval</td>\n",
       "      <td>0.342</td>\n",
       "      <td>0.876</td>\n",
       "    </tr>\n",
       "    <tr>\n",
       "      <td>4</td>\n",
       "      <td>train</td>\n",
       "      <td>0.261</td>\n",
       "      <td>0.903</td>\n",
       "    </tr>\n",
       "    <tr>\n",
       "      <td>4</td>\n",
       "      <td>eval</td>\n",
       "      <td>0.308</td>\n",
       "      <td>0.889</td>\n",
       "    </tr>\n",
       "  </tbody>\n",
       "</table>"
      ],
      "text/plain": [
       "<IPython.core.display.HTML object>"
      ]
     },
     "metadata": {},
     "output_type": "display_data"
    },
    {
     "data": {
      "image/png": "[encoded data removed]",
      "text/plain": [
       "<Figure size 432x288 with 1 Axes>"
      ]
     },
     "metadata": {},
     "output_type": "display_data"
    }
   ],
   "source": [
    "name = \"fashion_mnist\"\n",
    "ds_builder = load_dataset_builder(name)\n",
    "hf_dd = load_dataset(name)\n",
    "bs = 1024\n",
    "collate = partial(hf_ds_collate_fn, flatten=False)\n",
    "dls = DataLoaders.from_hf_dd(hf_dd, batch_size=bs, collate_fn=collate)\n",
    "set_seed(1)\n",
    "\n",
    "# model and initializaton\n",
    "model = cnn_layers().apply(init_weights)\n",
    "\n",
    "# normalization\n",
    "xb, yb = next(iter(dls.train))\n",
    "norm = NormalizationS(xb.mean(), xb.std())\n",
    "\n",
    "# subscribers\n",
    "subs = [norm, \n",
    "        ProgressS(True),\n",
    "        MetricsS(accuracy=tem.MulticlassAccuracy()),\n",
    "        DeviceS(device)]\n",
    "\n",
    "# Remember that the optim_func get's initialized during fit()\n",
    "# https://github.com/lucasvw/nntrain/blob/main/nntrain/learners.py#L53C65-L53C65\n",
    "optim_func = partial(SGD, wd=0)\n",
    "lr = 0.4\n",
    "\n",
    "l = MomentumLearner(model, dls, F.cross_entropy, optim_func, lr, subs)\n",
    "l.fit(5)"
   ]
  },
  {
   "cell_type": "markdown",
   "id": "25de40bf-880a-4987-ab69-84c1b3afd62e",
   "metadata": {},
   "source": [
    "## Momentum"
   ]
  },
  {
   "cell_type": "markdown",
   "id": "3b085831-8a5b-459e-8819-8be49af466d2",
   "metadata": {},
   "source": [
    "Momentum has to do with smartly navigating the loss surface. The loss surface is a high dimensional plain (manifold) where each dimension is a single parameter in the model. Since humans are not made for thinking beyond 3 dimensions, let's thus quickly replace this by a mental image with just 3 dimensions. Let the loss surface have just 2 parameters that are put on the x and y dimensions, and let z represent the value of our loss function. \n",
    "\n",
    "Training a neural network is all about finding a low (the lowest) spot on this surface, e.g. a point in this space in which the parameters (x and y) take on a value so that the loss (z direction) is low.\n",
    "\n",
    "To find such a spot, we have to navigate this surface. Sometimes it might be difficult to find this spot from the point where we are, since the lowest value might lay behind a hill. Realize that we also never \"see\" the complete surface, we can only navigate it by computing gradients from the point where we currently are. We can draw an analogy of a astronaut being dropped in a completely alien world, having a need to find water (the lowest point on the surface) as quickly as possible (because of limitted oxygen supply) with a visibility of only 1 meter.\n",
    "\n",
    "![2D Loss surface: difficult to find the lowest spot from a random position with super short visibility!](loss_surface2.png){width=400}\n",
    "\n",
    "So what's our strategy to find water asap? With SGD we compute the gradient based on the contributions of each sample in the minibatch. Then we take a small step in this direction (of size: learning rate x gradient). And we keep repeating this. But imagine that each time we compute this gradient, we find that it's more or less in the same direction. Would it then not make sense to maybe take a bit of a larger step? This is the intuition behind momentum, don't just consider the gradient at the current position, but get some sense of the surrounding surface by inferring from the past couple of computed gradients. The following image shows this also nicely:\n",
    "\n",
    "![On the left SGD without momentum: just compute the gradient each batch and follow that. On the right, use momentum to find an average gradient across multiple batches. Note that this cancels the vertical component of the gradient somewhat out, and reinforces the horizontal component of the gradient, increasing the speed in the right direction.](momentum.png){width=600}"
   ]
  },
  {
   "cell_type": "markdown",
   "id": "1312870b-d807-486e-b21a-561dc962a018",
   "metadata": {},
   "source": [
    "To implement, we simply do:\n",
    "\n",
    "\\begin{aligned}\n",
    "w &\\leftarrow w - lr \\cdot grad\\_avg\n",
    "\\end{aligned}\n",
    "\n",
    "The definition of $grad\\_avg$ takes different forms. In PyTorch SGD it's simply:\n",
    "\n",
    "$$\n",
    "grad\\_avg \\leftarrow grad + \\mu \\cdot grad\\_avg\n",
    "$$\n",
    "\n",
    "And this is also exactly the way we previously implemented in the [`MomentumLearner`](https://lucasvw.github.io/posts/10_nntrain_learner/#momentumlearner). Additionally PyTorch defines a dampening parameter $\\tau$ (defaulting to zero):\n",
    "\n",
    "$$\n",
    "grad\\_avg \\leftarrow (1 - \\tau) grad + \\mu \\cdot grad\\_avg\n",
    "$$\n",
    "\n",
    "\n",
    "Jeremy Howard from Fastai suggests we take a weighted average between the grad and the running average. This is equivalent to setting $\\tau = \\mu$ (dampening = momentum) in PyTorch:\n",
    "\n",
    "$$\n",
    "grad\\_avg \\leftarrow (1-c) grad + c \\cdot grad\\_avg\n",
    "$$\n"
   ]
  },
  {
   "cell_type": "code",
   "execution_count": null,
   "id": "642b5c60-4077-4c86-b88a-3caa4b2fc38a",
   "metadata": {},
   "outputs": [],
   "source": [
    " #| export\n",
    "class Momentum(SGD):\n",
    "    def __init__(self, params, lr, wd=0., mom=0.9):\n",
    "        super().__init__(params, lr=lr, wd=wd)\n",
    "        self.mom=mom\n",
    "\n",
    "    def opt_step(self, p):\n",
    "        if not hasattr(p, 'grad_avg'): p.grad_avg = torch.zeros_like(p.grad)\n",
    "        p.grad_avg = p.grad_avg*self.mom + p.grad*(1-self.mom)\n",
    "        p -= self.lr * p.grad_avg"
   ]
  },
  {
   "cell_type": "code",
   "execution_count": null,
   "id": "a879eccd-f737-4c19-ae15-c42b187b53cd",
   "metadata": {},
   "outputs": [
    {
     "data": {
      "text/html": [
       "\n",
       "<style>\n",
       "    /* Turns off some styling */\n",
       "    progress {\n",
       "        /* gets rid of default border in Firefox and Opera. */\n",
       "        border: none;\n",
       "        /* Needs to be in here for Safari polyfill so background images work as expected. */\n",
       "        background-size: auto;\n",
       "    }\n",
       "    progress:not([value]), progress:not([value])::-webkit-progress-bar {\n",
       "        background: repeating-linear-gradient(45deg, #7e7e7e, #7e7e7e 10px, #5c5c5c 10px, #5c5c5c 20px);\n",
       "    }\n",
       "    .progress-bar-interrupted, .progress-bar-interrupted::-webkit-progress-bar {\n",
       "        background: #F44336;\n",
       "    }\n",
       "</style>\n"
      ],
      "text/plain": [
       "<IPython.core.display.HTML object>"
      ]
     },
     "metadata": {},
     "output_type": "display_data"
    },
    {
     "data": {
      "text/html": [
       "<table border=\"1\" class=\"dataframe\">\n",
       "  <thead>\n",
       "    <tr style=\"text-align: left;\">\n",
       "      <th>epoch</th>\n",
       "      <th>mode</th>\n",
       "      <th>loss</th>\n",
       "      <th>accuracy</th>\n",
       "    </tr>\n",
       "  </thead>\n",
       "  <tbody>\n",
       "    <tr>\n",
       "      <td>0</td>\n",
       "      <td>train</td>\n",
       "      <td>0.606</td>\n",
       "      <td>0.784</td>\n",
       "    </tr>\n",
       "    <tr>\n",
       "      <td>0</td>\n",
       "      <td>eval</td>\n",
       "      <td>0.439</td>\n",
       "      <td>0.838</td>\n",
       "    </tr>\n",
       "    <tr>\n",
       "      <td>1</td>\n",
       "      <td>train</td>\n",
       "      <td>0.359</td>\n",
       "      <td>0.869</td>\n",
       "    </tr>\n",
       "    <tr>\n",
       "      <td>1</td>\n",
       "      <td>eval</td>\n",
       "      <td>0.372</td>\n",
       "      <td>0.861</td>\n",
       "    </tr>\n",
       "    <tr>\n",
       "      <td>2</td>\n",
       "      <td>train</td>\n",
       "      <td>0.322</td>\n",
       "      <td>0.881</td>\n",
       "    </tr>\n",
       "    <tr>\n",
       "      <td>2</td>\n",
       "      <td>eval</td>\n",
       "      <td>0.372</td>\n",
       "      <td>0.864</td>\n",
       "    </tr>\n",
       "    <tr>\n",
       "      <td>3</td>\n",
       "      <td>train</td>\n",
       "      <td>0.293</td>\n",
       "      <td>0.892</td>\n",
       "    </tr>\n",
       "    <tr>\n",
       "      <td>3</td>\n",
       "      <td>eval</td>\n",
       "      <td>0.329</td>\n",
       "      <td>0.878</td>\n",
       "    </tr>\n",
       "    <tr>\n",
       "      <td>4</td>\n",
       "      <td>train</td>\n",
       "      <td>0.271</td>\n",
       "      <td>0.900</td>\n",
       "    </tr>\n",
       "    <tr>\n",
       "      <td>4</td>\n",
       "      <td>eval</td>\n",
       "      <td>0.314</td>\n",
       "      <td>0.886</td>\n",
       "    </tr>\n",
       "  </tbody>\n",
       "</table>"
      ],
      "text/plain": [
       "<IPython.core.display.HTML object>"
      ]
     },
     "metadata": {},
     "output_type": "display_data"
    },
    {
     "data": {
      "image/png": "[encoded data removed]",
      "text/plain": [
       "<Figure size 432x288 with 1 Axes>"
      ]
     },
     "metadata": {},
     "output_type": "display_data"
    }
   ],
   "source": [
    "set_seed(1)\n",
    "\n",
    "model = cnn_layers().apply(init_weights)\n",
    "optim_func = Momentum\n",
    "lr = 1.5\n",
    "\n",
    "l = Learner(model, dls, F.cross_entropy, optim_func, lr, subs)\n",
    "l.fit(5)"
   ]
  },
  {
   "cell_type": "markdown",
   "id": "808c96c0-1d5d-4644-b10c-35f93b798939",
   "metadata": {},
   "source": [
    "Geoffrey Hinton in this [lecture](https://youtu.be/z2rTn8Evav8?si=Sd6surVPoo1c7pr8) on Momentum mentions that one problem with using plain SGD with a large learning rate is that you can get divergent oscillations if you try to travel down a long and narrow canyon. This would be similar to what happens on the left hand side of the figure above, but now with a learning rate so big that we actually diverge from the goal. By adding momentum he argues, it's easier to find the \"dominant\" (horizontal) direction and we can thus increase the learning rate without causing divergent oscillations. \n",
    "\n",
    "One issue he describes, is that in the beginning of training when the gradients are still large, the momentum should be kept much smaller since otherwise the updates become just too big. One way to deal with these would be to change the momentum during training (but more about that later when we start looking into schedulers) or by using something like RMSProp:"
   ]
  },
  {
   "cell_type": "markdown",
   "id": "5f8c77d2-719a-4c98-bb12-12ae152170ee",
   "metadata": {},
   "source": [
    "## RMSProp"
   ]
  },
  {
   "cell_type": "markdown",
   "id": "09441937-641e-4a61-beb5-c3b0b357bb45",
   "metadata": {},
   "source": [
    "RMSProp is a technique (first?) described by Geoffrey Hinton in an online [MOOC](https://www.youtube.com/watch?v=XhZahXzEuNo). Jeremy Howard describes RMSProp as \"Momentum, but with the squares of the gradient\". I personally think this is a rather bad explanation, since this is **not at all** what's going on. Instead it's a technique that is concerned with the differences in magnitude of the gradients of different weights. This leads to weights getting updated at very different \"speeds\". E.g. if you have one weight which gradient is 10 times the gradient of another, that weight get's an update that's 10 times as large as the other one. \n",
    "\n",
    "This can exist between weights at one single step, but also between gradients of a single weight during different times in training. \n",
    "\n",
    "The reason for this is of course that the learning rate is equal **at all times for all parameters**. RMSProp is a technique which scales the gradients inversely to the (averaged out) magnitude of the gradient:\n",
    "\n",
    "$$\n",
    "w \\leftarrow w - lr \\cdot \\frac{grad}{\\sqrt{acc\\_sqrd\\_grad}}\n",
    "$$\n",
    "\n",
    "where \n",
    "\n",
    "$$\n",
    "acc\\_sqrd\\_grad = c \\cdot acc\\_sqrd\\_grad + (1-c) grad^2\n",
    "$$\n"
   ]
  },
  {
   "cell_type": "markdown",
   "id": "642f15b5-71df-4450-9284-2c5235102cda",
   "metadata": {},
   "source": [
    "From which it should be clear that using RMSprop has a large impact on the weight updates, you will thus have to recalibrate your learning rate."
   ]
  },
  {
   "cell_type": "code",
   "execution_count": null,
   "id": "7f9e86f2-3475-4d1e-926c-5bf541d9f1eb",
   "metadata": {},
   "outputs": [],
   "source": [
    " #| export\n",
    "class RMSProp(SGD):\n",
    "    def __init__(self, params, lr, wd=0., sqr_mom=0.99, eps=1e-5):\n",
    "        super().__init__(params, lr=lr, wd=wd)\n",
    "        self.sqr_mom = sqr_mom\n",
    "        self.eps = eps\n",
    "\n",
    "    def opt_step(self, p):\n",
    "        if not hasattr(p, 'sqr_avg'): \n",
    "            p.sqr_avg = p.grad**2\n",
    "        p.sqr_avg = p.sqr_avg*self.sqr_mom + (1-self.sqr_mom)*p.grad**2\n",
    "        p -= self.lr * p.grad/(p.sqr_avg.sqrt() + self.eps)"
   ]
  },
  {
   "cell_type": "code",
   "execution_count": null,
   "id": "05795b2d-c8f6-456c-a5dd-c4746d82b8b4",
   "metadata": {},
   "outputs": [
    {
     "data": {
      "text/html": [
       "\n",
       "<style>\n",
       "    /* Turns off some styling */\n",
       "    progress {\n",
       "        /* gets rid of default border in Firefox and Opera. */\n",
       "        border: none;\n",
       "        /* Needs to be in here for Safari polyfill so background images work as expected. */\n",
       "        background-size: auto;\n",
       "    }\n",
       "    progress:not([value]), progress:not([value])::-webkit-progress-bar {\n",
       "        background: repeating-linear-gradient(45deg, #7e7e7e, #7e7e7e 10px, #5c5c5c 10px, #5c5c5c 20px);\n",
       "    }\n",
       "    .progress-bar-interrupted, .progress-bar-interrupted::-webkit-progress-bar {\n",
       "        background: #F44336;\n",
       "    }\n",
       "</style>\n"
      ],
      "text/plain": [
       "<IPython.core.display.HTML object>"
      ]
     },
     "metadata": {},
     "output_type": "display_data"
    },
    {
     "data": {
      "text/html": [
       "<table border=\"1\" class=\"dataframe\">\n",
       "  <thead>\n",
       "    <tr style=\"text-align: left;\">\n",
       "      <th>epoch</th>\n",
       "      <th>mode</th>\n",
       "      <th>loss</th>\n",
       "      <th>accuracy</th>\n",
       "    </tr>\n",
       "  </thead>\n",
       "  <tbody>\n",
       "    <tr>\n",
       "      <td>0</td>\n",
       "      <td>train</td>\n",
       "      <td>0.699</td>\n",
       "      <td>0.754</td>\n",
       "    </tr>\n",
       "    <tr>\n",
       "      <td>0</td>\n",
       "      <td>eval</td>\n",
       "      <td>0.472</td>\n",
       "      <td>0.831</td>\n",
       "    </tr>\n",
       "    <tr>\n",
       "      <td>1</td>\n",
       "      <td>train</td>\n",
       "      <td>0.421</td>\n",
       "      <td>0.847</td>\n",
       "    </tr>\n",
       "    <tr>\n",
       "      <td>1</td>\n",
       "      <td>eval</td>\n",
       "      <td>0.452</td>\n",
       "      <td>0.837</td>\n",
       "    </tr>\n",
       "    <tr>\n",
       "      <td>2</td>\n",
       "      <td>train</td>\n",
       "      <td>0.373</td>\n",
       "      <td>0.862</td>\n",
       "    </tr>\n",
       "    <tr>\n",
       "      <td>2</td>\n",
       "      <td>eval</td>\n",
       "      <td>0.387</td>\n",
       "      <td>0.858</td>\n",
       "    </tr>\n",
       "    <tr>\n",
       "      <td>3</td>\n",
       "      <td>train</td>\n",
       "      <td>0.344</td>\n",
       "      <td>0.874</td>\n",
       "    </tr>\n",
       "    <tr>\n",
       "      <td>3</td>\n",
       "      <td>eval</td>\n",
       "      <td>0.378</td>\n",
       "      <td>0.860</td>\n",
       "    </tr>\n",
       "    <tr>\n",
       "      <td>4</td>\n",
       "      <td>train</td>\n",
       "      <td>0.322</td>\n",
       "      <td>0.881</td>\n",
       "    </tr>\n",
       "    <tr>\n",
       "      <td>4</td>\n",
       "      <td>eval</td>\n",
       "      <td>0.352</td>\n",
       "      <td>0.875</td>\n",
       "    </tr>\n",
       "  </tbody>\n",
       "</table>"
      ],
      "text/plain": [
       "<IPython.core.display.HTML object>"
      ]
     },
     "metadata": {},
     "output_type": "display_data"
    },
    {
     "data": {
      "image/png": "[encoded data removed]",
      "text/plain": [
       "<Figure size 432x288 with 1 Axes>"
      ]
     },
     "metadata": {},
     "output_type": "display_data"
    }
   ],
   "source": [
    "set_seed(1)\n",
    "\n",
    "model = cnn_layers().apply(init_weights)\n",
    "optim_func = RMSProp\n",
    "lr = 3e-3                        # much smaller learning rate!\n",
    "\n",
    "l = Learner(model, dls, F.cross_entropy, optim_func, lr, subs)\n",
    "l.fit(5)"
   ]
  },
  {
   "cell_type": "markdown",
   "id": "8a3e387d-9b22-4fc9-9711-c8ca9ddaadc8",
   "metadata": {},
   "source": [
    "## Adam\n",
    "\n",
    "Adam is probably the most common optimizer used in practice, and is nothing more then the combination of RMSProp and Momentum:\n",
    "\n",
    "$$\n",
    "w \\leftarrow w - lr \\cdot \\frac{avg\\_grad}{\\sqrt{acc\\_sqrd\\_grad}}\n",
    "$$\n"
   ]
  },
  {
   "cell_type": "code",
   "execution_count": null,
   "id": "f39bc2a4-1b8b-4522-8009-46c908954c41",
   "metadata": {},
   "outputs": [],
   "source": [
    " #| export\n",
    "class Adam(SGD):\n",
    "    def __init__(self, params, lr, wd=0., beta1=0.9, beta2=0.99, eps=1e-5):\n",
    "        super().__init__(params, lr=lr, wd=wd)\n",
    "        self.beta1,self.beta2,self.eps = beta1,beta2,eps\n",
    "\n",
    "    def opt_step(self, p):\n",
    "        if not hasattr(p, 'avg'): \n",
    "            p.avg = torch.zeros_like(p.grad.data)\n",
    "            p.sqr_avg = torch.zeros_like(p.grad.data)\n",
    "            \n",
    "        p.avg = self.beta1*p.avg + (1-self.beta1)*p.grad\n",
    "        unbias_avg = p.avg / (1 - (self.beta1**(self.i+1)))\n",
    "        p.sqr_avg = self.beta2*p.sqr_avg + (1-self.beta2)*(p.grad**2)\n",
    "        unbias_sqr_avg = p.sqr_avg / (1 - (self.beta2**(self.i+1)))\n",
    "        p -= self.lr * unbias_avg / (unbias_sqr_avg + self.eps).sqrt()"
   ]
  },
  {
   "cell_type": "code",
   "execution_count": null,
   "id": "15c7b95d-c467-4850-b1c2-d6e66aa3113a",
   "metadata": {},
   "outputs": [
    {
     "data": {
      "text/html": [
       "\n",
       "<style>\n",
       "    /* Turns off some styling */\n",
       "    progress {\n",
       "        /* gets rid of default border in Firefox and Opera. */\n",
       "        border: none;\n",
       "        /* Needs to be in here for Safari polyfill so background images work as expected. */\n",
       "        background-size: auto;\n",
       "    }\n",
       "    progress:not([value]), progress:not([value])::-webkit-progress-bar {\n",
       "        background: repeating-linear-gradient(45deg, #7e7e7e, #7e7e7e 10px, #5c5c5c 10px, #5c5c5c 20px);\n",
       "    }\n",
       "    .progress-bar-interrupted, .progress-bar-interrupted::-webkit-progress-bar {\n",
       "        background: #F44336;\n",
       "    }\n",
       "</style>\n"
      ],
      "text/plain": [
       "<IPython.core.display.HTML object>"
      ]
     },
     "metadata": {},
     "output_type": "display_data"
    },
    {
     "data": {
      "text/html": [
       "<table border=\"1\" class=\"dataframe\">\n",
       "  <thead>\n",
       "    <tr style=\"text-align: left;\">\n",
       "      <th>epoch</th>\n",
       "      <th>mode</th>\n",
       "      <th>loss</th>\n",
       "      <th>accuracy</th>\n",
       "    </tr>\n",
       "  </thead>\n",
       "  <tbody>\n",
       "    <tr>\n",
       "      <td>0</td>\n",
       "      <td>train</td>\n",
       "      <td>0.609</td>\n",
       "      <td>0.783</td>\n",
       "    </tr>\n",
       "    <tr>\n",
       "      <td>0</td>\n",
       "      <td>eval</td>\n",
       "      <td>0.449</td>\n",
       "      <td>0.838</td>\n",
       "    </tr>\n",
       "    <tr>\n",
       "      <td>1</td>\n",
       "      <td>train</td>\n",
       "      <td>0.366</td>\n",
       "      <td>0.865</td>\n",
       "    </tr>\n",
       "    <tr>\n",
       "      <td>1</td>\n",
       "      <td>eval</td>\n",
       "      <td>0.373</td>\n",
       "      <td>0.866</td>\n",
       "    </tr>\n",
       "    <tr>\n",
       "      <td>2</td>\n",
       "      <td>train</td>\n",
       "      <td>0.320</td>\n",
       "      <td>0.882</td>\n",
       "    </tr>\n",
       "    <tr>\n",
       "      <td>2</td>\n",
       "      <td>eval</td>\n",
       "      <td>0.365</td>\n",
       "      <td>0.863</td>\n",
       "    </tr>\n",
       "    <tr>\n",
       "      <td>3</td>\n",
       "      <td>train</td>\n",
       "      <td>0.290</td>\n",
       "      <td>0.893</td>\n",
       "    </tr>\n",
       "    <tr>\n",
       "      <td>3</td>\n",
       "      <td>eval</td>\n",
       "      <td>0.325</td>\n",
       "      <td>0.881</td>\n",
       "    </tr>\n",
       "    <tr>\n",
       "      <td>4</td>\n",
       "      <td>train</td>\n",
       "      <td>0.269</td>\n",
       "      <td>0.902</td>\n",
       "    </tr>\n",
       "    <tr>\n",
       "      <td>4</td>\n",
       "      <td>eval</td>\n",
       "      <td>0.323</td>\n",
       "      <td>0.882</td>\n",
       "    </tr>\n",
       "  </tbody>\n",
       "</table>"
      ],
      "text/plain": [
       "<IPython.core.display.HTML object>"
      ]
     },
     "metadata": {},
     "output_type": "display_data"
    },
    {
     "data": {
      "image/png": "[encoded data removed]",
      "text/plain": [
       "<Figure size 432x288 with 1 Axes>"
      ]
     },
     "metadata": {},
     "output_type": "display_data"
    }
   ],
   "source": [
    "set_seed(1)\n",
    "\n",
    "model = cnn_layers().apply(init_weights)\n",
    "optim_func = Adam\n",
    "lr = 6e-3\n",
    "\n",
    "l = Learner(model, dls, F.cross_entropy, optim_func, lr, subs)\n",
    "l.fit(5)"
   ]
  },
  {
   "cell_type": "markdown",
   "id": "c8414abe-18cc-449c-8590-16df4b49acf9",
   "metadata": {},
   "source": [
    "## Learning Rate Schedulers"
   ]
  },
  {
   "cell_type": "markdown",
   "id": "50a5846e-f70b-4b37-b5bf-77a38ccf2f34",
   "metadata": {},
   "source": [
    "Now let's look at learning rate schedulers: these are objects that change important parameters such as the learning rate and momentum **during training**. The `OneCycleLR` scheduler for example starts with a low learning rate, then increases it to a maximum value and then anneales it back to the lower value. \n",
    "\n",
    "The idea being that initially, when our weights are random, we don't want to take too large steps. As the weights are getting somewhat reasonable, we speed up the learning and once we arrive at a better solution because of this, we decrease the learning rate again to make sure we can squeeze out the last bit of performance gain:"
   ]
  },
  {
   "cell_type": "code",
   "execution_count": null,
   "id": "8ecc0cdb-e1d8-4424-afcb-9f0eadd22329",
   "metadata": {},
   "outputs": [
    {
     "data": {
      "image/png": "[encoded data removed]",
      "text/plain": [
       "<Figure size 720x360 with 2 Axes>"
      ]
     },
     "metadata": {
      "needs_background": "light"
     },
     "output_type": "display_data"
    }
   ],
   "source": [
    "opt = torch.optim.SGD(model.parameters(), lr=3e-3)\n",
    "\n",
    "# Every scheduler has the concept of steps. \n",
    "# Either specified as done here or as \"epochs\" and \"steps_per_epoch\" (=# of batches) as two separate args\n",
    "steps = 100   \n",
    "sch = torch.optim.lr_scheduler.OneCycleLR(opt, max_lr=6e-2, total_steps=steps)\n",
    "\n",
    "# The scheduler has a convenience method for getting the current learning rate\n",
    "lrs = [sch.get_last_lr()]\n",
    "# For other parameters such as momentum, we have to look into the optimizer itself\n",
    "moms = [opt.param_groups[0]['momentum']]\n",
    "for i in range(100):\n",
    "    opt.step()                 \n",
    "    sch.step()                       # calling step() on the scheduler updates the parameters of the optimizer\n",
    "    lrs.append(sch.get_last_lr())\n",
    "    moms.append(opt.param_groups[0]['momentum'])\n",
    "\n",
    "fig, axs = plt.subplots(1,2, figsize=(10,5))\n",
    "axs[0].plot(lrs);\n",
    "axs[0].set_title('learning rate');\n",
    "axs[1].plot(moms);\n",
    "axs[1].set_title('momentum');"
   ]
  },
  {
   "cell_type": "markdown",
   "id": "703d44ba-b172-46a4-9eb5-e08a91f1e7a9",
   "metadata": {},
   "source": [
    "Besides the cycling of the learning rate, the momentum is cycled inversely with the `OneCycleLr` scheduler"
   ]
  },
  {
   "cell_type": "markdown",
   "id": "51bcd856-1bfe-43db-b58e-13dc2f73283a",
   "metadata": {},
   "source": [
    "Let's see if we can create a Subscriber that enables the use of Schedulers in our framework:"
   ]
  },
  {
   "cell_type": "code",
   "execution_count": null,
   "id": "43a615d3-4ce8-444a-b3e1-509c28300f29",
   "metadata": {},
   "outputs": [],
   "source": [
    " #| export\n",
    "class SchedulerS(Subscriber):\n",
    "    def __init__(self, scheduler_class):\n",
    "        self.scheduler_class = scheduler_class\n",
    "    \n",
    "    # intialize the scheduler instance after the optimizer has been intialized\n",
    "    def before_fit(self, learn):\n",
    "        self.scheduler = self.scheduler_class(learn.opt) \n",
    "        \n",
    "    # step the scheduler after the optimizer has stepped\n",
    "    def after_step(self, learn):\n",
    "        self.scheduler.step()"
   ]
  },
  {
   "cell_type": "code",
   "execution_count": null,
   "id": "94e828d5-5c16-404d-8d6f-1d43069b8c5f",
   "metadata": {},
   "outputs": [
    {
     "data": {
      "text/html": [
       "\n",
       "<style>\n",
       "    /* Turns off some styling */\n",
       "    progress {\n",
       "        /* gets rid of default border in Firefox and Opera. */\n",
       "        border: none;\n",
       "        /* Needs to be in here for Safari polyfill so background images work as expected. */\n",
       "        background-size: auto;\n",
       "    }\n",
       "    progress:not([value]), progress:not([value])::-webkit-progress-bar {\n",
       "        background: repeating-linear-gradient(45deg, #7e7e7e, #7e7e7e 10px, #5c5c5c 10px, #5c5c5c 20px);\n",
       "    }\n",
       "    .progress-bar-interrupted, .progress-bar-interrupted::-webkit-progress-bar {\n",
       "        background: #F44336;\n",
       "    }\n",
       "</style>\n"
      ],
      "text/plain": [
       "<IPython.core.display.HTML object>"
      ]
     },
     "metadata": {},
     "output_type": "display_data"
    },
    {
     "data": {
      "text/html": [
       "<table border=\"1\" class=\"dataframe\">\n",
       "  <thead>\n",
       "    <tr style=\"text-align: left;\">\n",
       "      <th>epoch</th>\n",
       "      <th>mode</th>\n",
       "      <th>loss</th>\n",
       "      <th>accuracy</th>\n",
       "    </tr>\n",
       "  </thead>\n",
       "  <tbody>\n",
       "    <tr>\n",
       "      <td>0</td>\n",
       "      <td>train</td>\n",
       "      <td>0.679</td>\n",
       "      <td>0.762</td>\n",
       "    </tr>\n",
       "    <tr>\n",
       "      <td>0</td>\n",
       "      <td>eval</td>\n",
       "      <td>0.818</td>\n",
       "      <td>0.763</td>\n",
       "    </tr>\n",
       "    <tr>\n",
       "      <td>1</td>\n",
       "      <td>train</td>\n",
       "      <td>0.386</td>\n",
       "      <td>0.859</td>\n",
       "    </tr>\n",
       "    <tr>\n",
       "      <td>1</td>\n",
       "      <td>eval</td>\n",
       "      <td>0.372</td>\n",
       "      <td>0.860</td>\n",
       "    </tr>\n",
       "    <tr>\n",
       "      <td>2</td>\n",
       "      <td>train</td>\n",
       "      <td>0.298</td>\n",
       "      <td>0.889</td>\n",
       "    </tr>\n",
       "    <tr>\n",
       "      <td>2</td>\n",
       "      <td>eval</td>\n",
       "      <td>0.321</td>\n",
       "      <td>0.880</td>\n",
       "    </tr>\n",
       "    <tr>\n",
       "      <td>3</td>\n",
       "      <td>train</td>\n",
       "      <td>0.244</td>\n",
       "      <td>0.910</td>\n",
       "    </tr>\n",
       "    <tr>\n",
       "      <td>3</td>\n",
       "      <td>eval</td>\n",
       "      <td>0.278</td>\n",
       "      <td>0.894</td>\n",
       "    </tr>\n",
       "    <tr>\n",
       "      <td>4</td>\n",
       "      <td>train</td>\n",
       "      <td>0.208</td>\n",
       "      <td>0.923</td>\n",
       "    </tr>\n",
       "    <tr>\n",
       "      <td>4</td>\n",
       "      <td>eval</td>\n",
       "      <td>0.265</td>\n",
       "      <td>0.902</td>\n",
       "    </tr>\n",
       "  </tbody>\n",
       "</table>"
      ],
      "text/plain": [
       "<IPython.core.display.HTML object>"
      ]
     },
     "metadata": {},
     "output_type": "display_data"
    },
    {
     "data": {
      "image/png": "[encoded data removed]",
      "text/plain": [
       "<Figure size 432x288 with 1 Axes>"
      ]
     },
     "metadata": {},
     "output_type": "display_data"
    }
   ],
   "source": [
    "set_seed(1)\n",
    "\n",
    "epochs = 5\n",
    "N = len(dls.train)\n",
    "\n",
    "model = cnn_layers().apply(init_weights)\n",
    "lr = 6e-2\n",
    "sch = partial(torch.optim.lr_scheduler.OneCycleLR, max_lr=lr, epochs=epochs, steps_per_epoch=N)\n",
    "subs_sch = subs + [SchedulerS(sch)]\n",
    "\n",
    "l = Learner(model, dls, F.cross_entropy, torch.optim.Adam, lr, subs_sch)\n",
    "l.fit(epochs)"
   ]
  },
  {
   "cell_type": "markdown",
   "id": "67f484d5-1845-47b9-82c6-814b98714e71",
   "metadata": {},
   "source": [
    "And that helps us to reach 90% accuracy! Not bad for a simple convolutional neural network"
   ]
  },
  {
   "cell_type": "markdown",
   "id": "c4c8bdc8-6ada-4e7f-8fde-4c022862ce3e",
   "metadata": {},
   "source": [
    "## ResNet\n",
    "\n",
    "Next, let's see if we can increase the depth of the model even more: we can use a reduced stride (=1) in the first convolution so that we don't reduce the pixel-grid. We can thus add one more convolution at the end, to end up with a 1x1 pixel grid:"
   ]
  },
  {
   "cell_type": "code",
   "execution_count": null,
   "id": "5f08d096-9b2d-4776-be03-5003f723b60c",
   "metadata": {},
   "outputs": [
    {
     "data": {
      "text/html": [
       "\n",
       "<style>\n",
       "    /* Turns off some styling */\n",
       "    progress {\n",
       "        /* gets rid of default border in Firefox and Opera. */\n",
       "        border: none;\n",
       "        /* Needs to be in here for Safari polyfill so background images work as expected. */\n",
       "        background-size: auto;\n",
       "    }\n",
       "    progress:not([value]), progress:not([value])::-webkit-progress-bar {\n",
       "        background: repeating-linear-gradient(45deg, #7e7e7e, #7e7e7e 10px, #5c5c5c 10px, #5c5c5c 20px);\n",
       "    }\n",
       "    .progress-bar-interrupted, .progress-bar-interrupted::-webkit-progress-bar {\n",
       "        background: #F44336;\n",
       "    }\n",
       "</style>\n"
      ],
      "text/plain": [
       "<IPython.core.display.HTML object>"
      ]
     },
     "metadata": {},
     "output_type": "display_data"
    },
    {
     "data": {
      "text/html": [
       "<table border=\"1\" class=\"dataframe\">\n",
       "  <thead>\n",
       "    <tr style=\"text-align: left;\">\n",
       "      <th>epoch</th>\n",
       "      <th>mode</th>\n",
       "      <th>loss</th>\n",
       "      <th>accuracy</th>\n",
       "    </tr>\n",
       "  </thead>\n",
       "  <tbody>\n",
       "    <tr>\n",
       "      <td>0</td>\n",
       "      <td>train</td>\n",
       "      <td>0.571</td>\n",
       "      <td>0.801</td>\n",
       "    </tr>\n",
       "    <tr>\n",
       "      <td>0</td>\n",
       "      <td>eval</td>\n",
       "      <td>0.600</td>\n",
       "      <td>0.821</td>\n",
       "    </tr>\n",
       "    <tr>\n",
       "      <td>1</td>\n",
       "      <td>train</td>\n",
       "      <td>0.325</td>\n",
       "      <td>0.880</td>\n",
       "    </tr>\n",
       "    <tr>\n",
       "      <td>1</td>\n",
       "      <td>eval</td>\n",
       "      <td>0.399</td>\n",
       "      <td>0.864</td>\n",
       "    </tr>\n",
       "    <tr>\n",
       "      <td>2</td>\n",
       "      <td>train</td>\n",
       "      <td>0.248</td>\n",
       "      <td>0.909</td>\n",
       "    </tr>\n",
       "    <tr>\n",
       "      <td>2</td>\n",
       "      <td>eval</td>\n",
       "      <td>0.302</td>\n",
       "      <td>0.894</td>\n",
       "    </tr>\n",
       "    <tr>\n",
       "      <td>3</td>\n",
       "      <td>train</td>\n",
       "      <td>0.192</td>\n",
       "      <td>0.929</td>\n",
       "    </tr>\n",
       "    <tr>\n",
       "      <td>3</td>\n",
       "      <td>eval</td>\n",
       "      <td>0.234</td>\n",
       "      <td>0.914</td>\n",
       "    </tr>\n",
       "    <tr>\n",
       "      <td>4</td>\n",
       "      <td>train</td>\n",
       "      <td>0.143</td>\n",
       "      <td>0.948</td>\n",
       "    </tr>\n",
       "    <tr>\n",
       "      <td>4</td>\n",
       "      <td>eval</td>\n",
       "      <td>0.228</td>\n",
       "      <td>0.919</td>\n",
       "    </tr>\n",
       "  </tbody>\n",
       "</table>"
      ],
      "text/plain": [
       "<IPython.core.display.HTML object>"
      ]
     },
     "metadata": {},
     "output_type": "display_data"
    },
    {
     "data": {
      "image/png": "[encoded data removed]",
      "text/plain": [
       "<Figure size 432x288 with 1 Axes>"
      ]
     },
     "metadata": {},
     "output_type": "display_data"
    }
   ],
   "source": [
    "def cnn_layers_more_depth():\n",
    "    return nn.Sequential(                               # 28x28  \n",
    "        conv_block(1 , 8, stride=1),                    # 28x28\n",
    "        conv_block(8 ,16),                              # 14x14\n",
    "        conv_block(16,32),                              # 7x7\n",
    "        conv_block(32,64),                              # 4x4\n",
    "        conv_block(64,128),                             # 2x2\n",
    "        conv_block(128,10, norm=False, act=False),      # 1x1\n",
    "        nn.Flatten())\n",
    "\n",
    "set_seed(1)\n",
    "\n",
    "model = cnn_layers_more_depth().apply(init_weights)\n",
    "\n",
    "l = Learner(model, dls, F.cross_entropy, torch.optim.Adam, lr, subs_sch)\n",
    "l.fit(epochs)"
   ]
  },
  {
   "cell_type": "markdown",
   "id": "4cefca46-d7be-478f-94cd-6f8b2cacb53e",
   "metadata": {},
   "source": [
    "The question arises whether we can keep increasing the depth of our model to boost our performance. Since we already exhausted the pixel grid, the only way would be to add more stride 1 convolutions.\n",
    "\n",
    "However, this doesn't improve performance. Kaiming et al found in \"Deep Residual Learning for Image Recognition\" that deeper CNN models often perform worse then shallow CNN models. This is surprising since a deeper model can be understood as a superset of a more shallow model. It's easy to see this if we consider that a deeper model can just duplicate the shallow model in it's initial layers matching the layers of the shallow model, and keep it's excess layers as an identity, passing through the data *as is*. But the observation they made, is that during training deeper model are performing worse and thus this \"optimum\" is apparently not found while training the deeper model.\n",
    "\n",
    "To help the training process of deeper models, they came up with an architecture which should be able to *more easily* replicate the shallow network. And the way they did this, was by adding skip connections:\n",
    "\n",
    "![ResBlock consisting of two paths: a convolutional path, and a path in which the signal is propagated directly](skip_connection.png){width=600}"
   ]
  },
  {
   "cell_type": "markdown",
   "id": "02222888-1428-402e-b194-e0dffadd1631",
   "metadata": {},
   "source": [
    "So instead of having a fully sequential model, they added these identity skip connections which connects both the input to and the output of the convolutional path. They argued that by doing so, it would be trivial for the model to forward the data without modifying it. This way, the model could use the convolutional path for the depth of \"shallow\" model, and use the skip connections for the remaining layers that only the \"deep\" model has.\n",
    "\n",
    "Why a double convolutional layer? For that we come back to the idea of adding stride 1 convolution to increase the depth of our model. In the architecture described above, the first convolutional layer is a stride 1 convolution (keeping the pixel grid constant) and increases the number of filters. The second convolution is a stride 2 convolution which reduces the pixel grid by a factor of 2, but keeps the number of filters constant. **The first convolution is thus expanding the data, and the second convolution compresses it, this is different from the standard ResBlock [implementation](https://github.com/pytorch/vision/blob/1aef87d01eec2c0989458387fa04baebcc86ea7b/torchvision/models/resnet.py#L48-L51) in Pytorch and works significantly better in my experiments**.\n",
    "\n",
    "The name for the block shown above is a ResBlock, and a model that is using them is called a ResNet. Res is short for residual, and that name becomes apparent when we look at this block in the following way:\n",
    "\n",
    "\\begin{aligned}\n",
    "& y &&= x + conv_2(conv_1(x)) \\\\\n",
    "& y - x &&= conv_2(conv_1(x)) \\\\\n",
    "& residual &&= conv_2(conv_1(x))\n",
    "\\end{aligned}\n",
    "\n",
    "The term $y-x$ is often called \"the residual\" in statistics. Now let's see how we can create such a ResBlock, we start with the convolutional path:"
   ]
  },
  {
   "cell_type": "code",
   "execution_count": null,
   "id": "59473a7a-424f-4c59-91db-c71a77ff8684",
   "metadata": {},
   "outputs": [],
   "source": [
    " #| export\n",
    "def conv_conn(in_c, out_c, kernel_size=3, stride=2):\n",
    "    return nn.Sequential(\n",
    "        conv_block(in_c, out_c, kernel_size=kernel_size, stride=1, act=True, norm=True),\n",
    "        conv_block(out_c, out_c, kernel_size=kernel_size, stride=stride, act=False, norm=True)\n",
    "    )"
   ]
  },
  {
   "cell_type": "markdown",
   "id": "be4f1c8a-89f9-4435-8b9f-f93c458d6adf",
   "metadata": {},
   "source": [
    "And let's create the ResBlock with a couple of notes upfront:\n",
    "\n",
    "- We can only use a \"true\" identity connection (`y_id = x`) under the condition that the convolutions don't change the number of filters (`in_c = out_c`) nor the pixel grid (`stride=1`). In other words, we can only use a true identity connection if the trailing 3 dimensions in our batch NCHW stay constant. If this is not the case, we have to \"match up\" the identity connection as *simple as possible* to these new dimensions:\n",
    "  - If the number of filters has changed we thus add a convolution with stride and kernel size equal to 1, only changing the number of channels.\n",
    "  - If the pixel grid has changed (halved in size due to a stride 2 convolution in the convolutional connection), we reduce the size of pixel grid in the same way, making use of a `AvgPool2d` layer, effectively averaging with a 2x2 kernel size.\n",
    "- Note also that the second convolution doesn't have an activation, this is because we want to apply the activation after summing both the contributions from the identity path and the convolutional path"
   ]
  },
  {
   "cell_type": "code",
   "execution_count": null,
   "id": "4d1e78a5-0cec-4d97-95f7-c111a842533f",
   "metadata": {},
   "outputs": [],
   "source": [
    " #| export\n",
    "class ResBlock(nn.Module):\n",
    "    def __init__(self, in_c, out_c, stride=2):\n",
    "        super().__init__()\n",
    "        self.in_c = in_c\n",
    "        self.out_c = out_c\n",
    "        self.stride = stride\n",
    "        self.conv_conn = conv_conn(in_c, out_c, stride=stride)\n",
    "        self.identity_conn = conv_block(in_c, out_c, kernel_size=1, stride=1, act=False, norm=False)\n",
    "        self.pooling = torch.nn.AvgPool2d(2, ceil_mode=True)\n",
    "        self.relu = nn.ReLU()\n",
    "        \n",
    "    def forward(self, x):\n",
    "        y_conv = self.conv_conn(x)\n",
    "        if self.in_c == self.out_c: y_id = x\n",
    "        elif self.stride == 1:\n",
    "            y_id = self.identity_conn(x)\n",
    "        else:\n",
    "            y_id = self.pooling(self.identity_conn(x))\n",
    "        return self.relu(y_conv + y_id)"
   ]
  },
  {
   "cell_type": "markdown",
   "id": "20c8fc77-d411-4def-8cec-32740e516b5b",
   "metadata": {},
   "source": [
    "Creating the ResNet is very similar to what we have done before, we basically replace the `conv_block` with a `ResBlock`. Additionally we change the head of the model: First we flatten, then we use a linear layer to map to the required dimensions (10 output categories) and we conclude with a final BatchNorm layer."
   ]
  },
  {
   "cell_type": "markdown",
   "id": "66d3fe14-d824-4d67-bda9-ec88ddb2938c",
   "metadata": {},
   "source": [
    ":::{.callout-note}\n",
    "Although the final BatchNorm layer has a positive impact on performance, I don't have a good intuition as to the reasons why. I would think that the distributions of logits would be not very gaussian in an ideal setting: the correct categories should get much higher outputs then the other ones. Perhaps this works in some second order effect as regularization, or perhaps it has to do with the scaling that the BatchNorm layer does after the normalization. If anybody has a good intuition for this, please let me know🙏\n",
    ":::"
   ]
  },
  {
   "cell_type": "code",
   "execution_count": null,
   "id": "9b658db8-081b-4452-a304-947adf2fe37e",
   "metadata": {},
   "outputs": [],
   "source": [
    " #| export\n",
    "def resnet():\n",
    "    return nn.Sequential(                             # pixel grid input: 28x28  \n",
    "        ResBlock(1 , 8, stride=1),                    # 28x28\n",
    "        ResBlock(8 ,16),                              # 14x14\n",
    "        ResBlock(16,32),                              # 7x7\n",
    "        ResBlock(32,64),                              # 4x4\n",
    "        ResBlock(64,128),                             # 2x2\n",
    "        ResBlock(128,256),                            # 1x1\n",
    "        nn.Flatten(),                                 # flatten to 256 features\n",
    "        nn.Linear(256, 10, bias=False),               # linear layer to map to 10 output features\n",
    "        nn.BatchNorm1d(10)                            # final batchnorm layer\n",
    "    )"
   ]
  },
  {
   "cell_type": "code",
   "execution_count": null,
   "id": "5d3c1549-c592-4f00-9327-bc8f08250d3f",
   "metadata": {},
   "outputs": [
    {
     "data": {
      "image/png": "[encoded data removed]",
      "text/plain": [
       "<Figure size 432x288 with 1 Axes>"
      ]
     },
     "metadata": {
      "needs_background": "light"
     },
     "output_type": "display_data"
    }
   ],
   "source": [
    "set_seed(1)\n",
    "\n",
    "model = resnet().apply(init_weights)\n",
    "\n",
    "lrfind = LRFindS()\n",
    "\n",
    "lrfind_subs = [norm,\n",
    "               DeviceS(device),\n",
    "               lrfind]\n",
    "\n",
    "start_lr = 1e-5\n",
    "l = Learner(model, dls, F.cross_entropy, torch.optim.Adam, start_lr, lrfind_subs)\n",
    "l.fit(1)\n",
    "\n",
    "lrfind.plot()"
   ]
  },
  {
   "cell_type": "code",
   "execution_count": null,
   "id": "a1484ebd-0a66-48cc-b9c3-5a95a8f42047",
   "metadata": {},
   "outputs": [
    {
     "data": {
      "text/html": [
       "\n",
       "<style>\n",
       "    /* Turns off some styling */\n",
       "    progress {\n",
       "        /* gets rid of default border in Firefox and Opera. */\n",
       "        border: none;\n",
       "        /* Needs to be in here for Safari polyfill so background images work as expected. */\n",
       "        background-size: auto;\n",
       "    }\n",
       "    progress:not([value]), progress:not([value])::-webkit-progress-bar {\n",
       "        background: repeating-linear-gradient(45deg, #7e7e7e, #7e7e7e 10px, #5c5c5c 10px, #5c5c5c 20px);\n",
       "    }\n",
       "    .progress-bar-interrupted, .progress-bar-interrupted::-webkit-progress-bar {\n",
       "        background: #F44336;\n",
       "    }\n",
       "</style>\n"
      ],
      "text/plain": [
       "<IPython.core.display.HTML object>"
      ]
     },
     "metadata": {},
     "output_type": "display_data"
    },
    {
     "data": {
      "text/html": [
       "<table border=\"1\" class=\"dataframe\">\n",
       "  <thead>\n",
       "    <tr style=\"text-align: left;\">\n",
       "      <th>epoch</th>\n",
       "      <th>mode</th>\n",
       "      <th>loss</th>\n",
       "      <th>accuracy</th>\n",
       "    </tr>\n",
       "  </thead>\n",
       "  <tbody>\n",
       "    <tr>\n",
       "      <td>0</td>\n",
       "      <td>train</td>\n",
       "      <td>0.815</td>\n",
       "      <td>0.783</td>\n",
       "    </tr>\n",
       "    <tr>\n",
       "      <td>0</td>\n",
       "      <td>eval</td>\n",
       "      <td>0.578</td>\n",
       "      <td>0.846</td>\n",
       "    </tr>\n",
       "    <tr>\n",
       "      <td>1</td>\n",
       "      <td>train</td>\n",
       "      <td>0.399</td>\n",
       "      <td>0.889</td>\n",
       "    </tr>\n",
       "    <tr>\n",
       "      <td>1</td>\n",
       "      <td>eval</td>\n",
       "      <td>0.372</td>\n",
       "      <td>0.885</td>\n",
       "    </tr>\n",
       "    <tr>\n",
       "      <td>2</td>\n",
       "      <td>train</td>\n",
       "      <td>0.282</td>\n",
       "      <td>0.914</td>\n",
       "    </tr>\n",
       "    <tr>\n",
       "      <td>2</td>\n",
       "      <td>eval</td>\n",
       "      <td>0.292</td>\n",
       "      <td>0.906</td>\n",
       "    </tr>\n",
       "    <tr>\n",
       "      <td>3</td>\n",
       "      <td>train</td>\n",
       "      <td>0.212</td>\n",
       "      <td>0.934</td>\n",
       "    </tr>\n",
       "    <tr>\n",
       "      <td>3</td>\n",
       "      <td>eval</td>\n",
       "      <td>0.257</td>\n",
       "      <td>0.918</td>\n",
       "    </tr>\n",
       "    <tr>\n",
       "      <td>4</td>\n",
       "      <td>train</td>\n",
       "      <td>0.159</td>\n",
       "      <td>0.953</td>\n",
       "    </tr>\n",
       "    <tr>\n",
       "      <td>4</td>\n",
       "      <td>eval</td>\n",
       "      <td>0.237</td>\n",
       "      <td>0.927</td>\n",
       "    </tr>\n",
       "  </tbody>\n",
       "</table>"
      ],
      "text/plain": [
       "<IPython.core.display.HTML object>"
      ]
     },
     "metadata": {},
     "output_type": "display_data"
    },
    {
     "data": {
      "image/png": "[encoded data removed]",
      "text/plain": [
       "<Figure size 432x288 with 1 Axes>"
      ]
     },
     "metadata": {},
     "output_type": "display_data"
    }
   ],
   "source": [
    "set_seed(1)\n",
    "\n",
    "model = resnet().apply(init_weights)\n",
    "\n",
    "lr = 1e-2\n",
    "sch = partial(torch.optim.lr_scheduler.OneCycleLR, max_lr=lr, epochs=epochs, steps_per_epoch=N)\n",
    "\n",
    "subs_sch = subs + [SchedulerS(sch)]\n",
    "\n",
    "l = Learner(model, dls, F.cross_entropy, torch.optim.Adam, lr, subs_sch)\n",
    "l.fit(epochs)"
   ]
  },
  {
   "cell_type": "markdown",
   "id": "c44d9108-3c4e-458e-be02-e08c7bff9630",
   "metadata": {},
   "source": [
    "Which reaches a score of almost 93% within 5 epochs!"
   ]
  },
  {
   "cell_type": "markdown",
   "id": "20cf0d36-c5cf-42dc-8af1-6bab9749c2b7",
   "metadata": {},
   "source": [
    "## Parameters and MACs"
   ]
  },
  {
   "cell_type": "markdown",
   "id": "68d223ce-a24f-49db-9c84-92a981cb5c0b",
   "metadata": {},
   "source": [
    "Now that we are able to create fairly deep models, it's a good idea to be able to track the memory footprint and the amount of compute that is involved in doing a single forward pass. To track the memory, we can look at the amount of parameters of each layer, and for the compute we can try to estimate something equivalent to Multiply–accumulate operations (MACs). Let's create a small Subscriber that tracks thes stats by running one single batch and then cancels the fit:"
   ]
  },
  {
   "cell_type": "code",
   "execution_count": null,
   "id": "e856e50b-9b61-4ecf-94ca-d4e30f28c906",
   "metadata": {},
   "outputs": [],
   "source": [
    " #| export\n",
    "class ModelMonitorS(Subscriber):\n",
    "    \n",
    "    def __init__(self, modules): self.modules = modules\n",
    "    \n",
    "    def before_fit(self, learn):\n",
    "        self.hooks = [Hook(i, module, partial(self.record_stats, learn)) for i, module in enumerate(self.modules)]\n",
    "        \n",
    "    def record_stats(self, learn, hook, layer, inp, outp):\n",
    "        if learn.model.training:\n",
    "            hook.nparams = sum(submodule.numel() for submodule in layer.parameters())\n",
    "            if isinstance(layer, ResBlock):\n",
    "                # K × K × Cin × Hout × Wout × Cout source=https://machinethink.net/blog/how-fast-is-my-model/\n",
    "                mac_conv1 = 9 * layer.in_c * inp[0].shape[2] * inp[0].shape[3] * layer.out_c\n",
    "                mac_conv2 = 9 * layer.out_c * outp.shape[2] * outp.shape[3] * layer.out_c    \n",
    "                hook.mac = (mac_conv1 + mac_conv2) / 1e6\n",
    "                if layer.stride != 1:\n",
    "                    # Add identity conv\n",
    "                    hook.mac += (layer.in_c * outp.shape[2] * outp.shape[3] * layer.out_c / 1e6)\n",
    "            else:\n",
    "                hook.mac = hook.nparams / 1e6\n",
    "            hook.batch_size = inp[0].shape[0]\n",
    "            hook.in_shape = list(inp[0].shape[1:])\n",
    "            hook.out_shape = list(outp.shape[1:])\n",
    "            \n",
    "    def after_batch(self, learn):\n",
    "        for h in self.hooks: h.remove()\n",
    "        raise CancelFitException                   # Only run this for a single batch, then cancel\n",
    "        \n",
    "    def __repr__(self):\n",
    "        out = f'{\"layer\":<20} : {\"input\":<20} : {\"output\":<20} : {\"# params\":>10} : {\"# MACs\":>10}\\n'\n",
    "        total_params = 0\n",
    "        total_mac = 0\n",
    "        for h in self.hooks:\n",
    "            out += f'{h.layer_name:<20} : {str(h.in_shape):<20} : {str(h.out_shape):<20} : {h.nparams:>10d} : {h.mac: 10.1f}\\n'\n",
    "            total_params += h.nparams\n",
    "            total_mac += h.mac\n",
    "        return f'{\"Total parameters:\":<20}{total_params:>10d} \\n{\"Total MACs:\":<20}{total_mac:10.1f} \\n\\n' + out"
   ]
  },
  {
   "cell_type": "code",
   "execution_count": null,
   "id": "0e01fd70-94f3-4fc3-9ed9-70902684b72e",
   "metadata": {},
   "outputs": [
    {
     "data": {
      "text/plain": [
       "Total parameters:      1227900 \n",
       "Total MACs:                8.4 \n",
       "\n",
       "layer                : input                : output               :   # params :     # MACs\n",
       "0_ResBlock           : [1, 28, 28]          : [8, 28, 28]          :        696 :        0.5\n",
       "1_ResBlock           : [8, 28, 28]          : [16, 14, 14]         :       3664 :        1.4\n",
       "2_ResBlock           : [16, 14, 14]         : [32, 7, 7]           :      14496 :        1.4\n",
       "3_ResBlock           : [32, 7, 7]           : [64, 4, 4]           :      57664 :        1.5\n",
       "4_ResBlock           : [64, 4, 4]           : [128, 2, 2]          :     230016 :        1.8\n",
       "5_ResBlock           : [128, 2, 2]          : [256, 1, 1]          :     918784 :        1.8\n",
       "6_Linear             : [256]                : [10]                 :       2560 :        0.0\n",
       "7_BatchNorm1d        : [10]                 : [10]                 :         20 :        0.0"
      ]
     },
     "execution_count": null,
     "metadata": {},
     "output_type": "execute_result"
    }
   ],
   "source": [
    "model = resnet().apply(init_weights)\n",
    "\n",
    "modules = [module for module in model.modules() if isinstance(module, (ResBlock, nn.Linear, torch.nn.BatchNorm1d))]\n",
    "monitor = ModelMonitorS(modules)\n",
    "\n",
    "l = Learner(model, dls, F.cross_entropy, torch.optim.Adam, lr, [monitor])\n",
    "l.fit(1)\n",
    "\n",
    "monitor"
   ]
  },
  {
   "cell_type": "markdown",
   "id": "8a130ae3-c517-4c48-851b-5d92d646bc89",
   "metadata": {},
   "source": [
    "From which we see how data flows through the model, where most parameters are and where most compute is being spend. Although the MACs computation isn't perfectly valid, it gives a good indication. It especially shows:\n",
    "\n",
    "- most parameters are in later layers, those are the layers that cost most memory. In fact the final ResBlock uses more memory as all earlier ResBlocks combined!\n",
    "- this is also where most compute is being used, although the differences between earlier layers is much less pronounced then for the memory footprint, the reason for this is that the pixel grid is reduced a lot in those later layers"
   ]
  },
  {
   "cell_type": "markdown",
   "id": "8563475c-c13c-4eda-90de-d648563fd238",
   "metadata": {},
   "source": [
    "## Augmentation"
   ]
  },
  {
   "cell_type": "markdown",
   "id": "c2624a76-fb92-4995-982e-7473eabd2245",
   "metadata": {},
   "source": [
    "We have finally come to the point of data augmentation. Once you have a good model, you would ideally train for much longer times. When doing so, the problem that arises is that of overfitting. Which we described before as the tendency of the model to start to memorize our training data and no longer generalize well to the validation set. \n",
    "\n",
    "To overcome this, data augmentation is used to increase the variety in the training data. For example we can rotate the images, or (horizontally or vertically) flip the image. For such augmentations the label stays the same, since a rotated image of a shoe is still a shoe, but there exist also augmentations that for example mix images, and thus also the labels are altereed. There are great libraries out there such as [Albumentations](https://demo.albumentations.ai/) with a huge variety of transformations that can be applied to images, so we won't be going into the full details. But let's at least figure out how we can build this into our framework."
   ]
  },
  {
   "cell_type": "code",
   "execution_count": null,
   "id": "498f01d7-64ca-4cda-b3af-90d60bcd788d",
   "metadata": {},
   "outputs": [],
   "source": [
    " #| export\n",
    "class AugmentS(Subscriber):\n",
    "    def __init__(self, transform):\n",
    "        self.transform = transform\n",
    "        \n",
    "    def before_batch(self, learn):\n",
    "        if learn.model.training:                    # augmentations are only applied to the training data\n",
    "            learn.batch[0] = self.transform(learn.batch[0])"
   ]
  },
  {
   "cell_type": "code",
   "execution_count": null,
   "id": "47da46af-60fd-4cbb-bd14-4f66b89c8c3a",
   "metadata": {},
   "outputs": [],
   "source": [
    "from torchvision import transforms\n",
    "\n",
    "augs = nn.Sequential(transforms.RandomHorizontalFlip(), \n",
    "                     transforms.RandomCrop(size=28, padding=1))"
   ]
  },
  {
   "cell_type": "code",
   "execution_count": null,
   "id": "dde31594-e4e6-4334-9ad4-a0d47e66262c",
   "metadata": {},
   "outputs": [
    {
     "data": {
      "text/html": [
       "\n",
       "<style>\n",
       "    /* Turns off some styling */\n",
       "    progress {\n",
       "        /* gets rid of default border in Firefox and Opera. */\n",
       "        border: none;\n",
       "        /* Needs to be in here for Safari polyfill so background images work as expected. */\n",
       "        background-size: auto;\n",
       "    }\n",
       "    progress:not([value]), progress:not([value])::-webkit-progress-bar {\n",
       "        background: repeating-linear-gradient(45deg, #7e7e7e, #7e7e7e 10px, #5c5c5c 10px, #5c5c5c 20px);\n",
       "    }\n",
       "    .progress-bar-interrupted, .progress-bar-interrupted::-webkit-progress-bar {\n",
       "        background: #F44336;\n",
       "    }\n",
       "</style>\n"
      ],
      "text/plain": [
       "<IPython.core.display.HTML object>"
      ]
     },
     "metadata": {},
     "output_type": "display_data"
    },
    {
     "data": {
      "text/html": [
       "<table border=\"1\" class=\"dataframe\">\n",
       "  <thead>\n",
       "    <tr style=\"text-align: left;\">\n",
       "      <th>epoch</th>\n",
       "      <th>mode</th>\n",
       "      <th>loss</th>\n",
       "      <th>accuracy</th>\n",
       "    </tr>\n",
       "  </thead>\n",
       "  <tbody>\n",
       "    <tr>\n",
       "      <td>0</td>\n",
       "      <td>train</td>\n",
       "      <td>1.052</td>\n",
       "      <td>0.694</td>\n",
       "    </tr>\n",
       "    <tr>\n",
       "      <td>0</td>\n",
       "      <td>eval</td>\n",
       "      <td>0.757</td>\n",
       "      <td>0.778</td>\n",
       "    </tr>\n",
       "    <tr>\n",
       "      <td>1</td>\n",
       "      <td>train</td>\n",
       "      <td>0.641</td>\n",
       "      <td>0.837</td>\n",
       "    </tr>\n",
       "    <tr>\n",
       "      <td>1</td>\n",
       "      <td>eval</td>\n",
       "      <td>0.591</td>\n",
       "      <td>0.841</td>\n",
       "    </tr>\n",
       "    <tr>\n",
       "      <td>2</td>\n",
       "      <td>train</td>\n",
       "      <td>0.492</td>\n",
       "      <td>0.869</td>\n",
       "    </tr>\n",
       "    <tr>\n",
       "      <td>2</td>\n",
       "      <td>eval</td>\n",
       "      <td>0.587</td>\n",
       "      <td>0.838</td>\n",
       "    </tr>\n",
       "    <tr>\n",
       "      <td>3</td>\n",
       "      <td>train</td>\n",
       "      <td>0.401</td>\n",
       "      <td>0.882</td>\n",
       "    </tr>\n",
       "    <tr>\n",
       "      <td>3</td>\n",
       "      <td>eval</td>\n",
       "      <td>0.407</td>\n",
       "      <td>0.871</td>\n",
       "    </tr>\n",
       "    <tr>\n",
       "      <td>4</td>\n",
       "      <td>train</td>\n",
       "      <td>0.340</td>\n",
       "      <td>0.893</td>\n",
       "    </tr>\n",
       "    <tr>\n",
       "      <td>4</td>\n",
       "      <td>eval</td>\n",
       "      <td>0.378</td>\n",
       "      <td>0.873</td>\n",
       "    </tr>\n",
       "    <tr>\n",
       "      <td>5</td>\n",
       "      <td>train</td>\n",
       "      <td>0.305</td>\n",
       "      <td>0.898</td>\n",
       "    </tr>\n",
       "    <tr>\n",
       "      <td>5</td>\n",
       "      <td>eval</td>\n",
       "      <td>0.349</td>\n",
       "      <td>0.877</td>\n",
       "    </tr>\n",
       "    <tr>\n",
       "      <td>6</td>\n",
       "      <td>train</td>\n",
       "      <td>0.283</td>\n",
       "      <td>0.902</td>\n",
       "    </tr>\n",
       "    <tr>\n",
       "      <td>6</td>\n",
       "      <td>eval</td>\n",
       "      <td>0.310</td>\n",
       "      <td>0.896</td>\n",
       "    </tr>\n",
       "    <tr>\n",
       "      <td>7</td>\n",
       "      <td>train</td>\n",
       "      <td>0.251</td>\n",
       "      <td>0.912</td>\n",
       "    </tr>\n",
       "    <tr>\n",
       "      <td>7</td>\n",
       "      <td>eval</td>\n",
       "      <td>0.335</td>\n",
       "      <td>0.883</td>\n",
       "    </tr>\n",
       "    <tr>\n",
       "      <td>8</td>\n",
       "      <td>train</td>\n",
       "      <td>0.239</td>\n",
       "      <td>0.915</td>\n",
       "    </tr>\n",
       "    <tr>\n",
       "      <td>8</td>\n",
       "      <td>eval</td>\n",
       "      <td>0.279</td>\n",
       "      <td>0.901</td>\n",
       "    </tr>\n",
       "    <tr>\n",
       "      <td>9</td>\n",
       "      <td>train</td>\n",
       "      <td>0.219</td>\n",
       "      <td>0.923</td>\n",
       "    </tr>\n",
       "    <tr>\n",
       "      <td>9</td>\n",
       "      <td>eval</td>\n",
       "      <td>0.253</td>\n",
       "      <td>0.913</td>\n",
       "    </tr>\n",
       "    <tr>\n",
       "      <td>10</td>\n",
       "      <td>train</td>\n",
       "      <td>0.210</td>\n",
       "      <td>0.926</td>\n",
       "    </tr>\n",
       "    <tr>\n",
       "      <td>10</td>\n",
       "      <td>eval</td>\n",
       "      <td>0.248</td>\n",
       "      <td>0.911</td>\n",
       "    </tr>\n",
       "    <tr>\n",
       "      <td>11</td>\n",
       "      <td>train</td>\n",
       "      <td>0.192</td>\n",
       "      <td>0.932</td>\n",
       "    </tr>\n",
       "    <tr>\n",
       "      <td>11</td>\n",
       "      <td>eval</td>\n",
       "      <td>0.260</td>\n",
       "      <td>0.909</td>\n",
       "    </tr>\n",
       "    <tr>\n",
       "      <td>12</td>\n",
       "      <td>train</td>\n",
       "      <td>0.179</td>\n",
       "      <td>0.937</td>\n",
       "    </tr>\n",
       "    <tr>\n",
       "      <td>12</td>\n",
       "      <td>eval</td>\n",
       "      <td>0.214</td>\n",
       "      <td>0.926</td>\n",
       "    </tr>\n",
       "    <tr>\n",
       "      <td>13</td>\n",
       "      <td>train</td>\n",
       "      <td>0.167</td>\n",
       "      <td>0.940</td>\n",
       "    </tr>\n",
       "    <tr>\n",
       "      <td>13</td>\n",
       "      <td>eval</td>\n",
       "      <td>0.214</td>\n",
       "      <td>0.922</td>\n",
       "    </tr>\n",
       "    <tr>\n",
       "      <td>14</td>\n",
       "      <td>train</td>\n",
       "      <td>0.157</td>\n",
       "      <td>0.945</td>\n",
       "    </tr>\n",
       "    <tr>\n",
       "      <td>14</td>\n",
       "      <td>eval</td>\n",
       "      <td>0.197</td>\n",
       "      <td>0.933</td>\n",
       "    </tr>\n",
       "    <tr>\n",
       "      <td>15</td>\n",
       "      <td>train</td>\n",
       "      <td>0.142</td>\n",
       "      <td>0.950</td>\n",
       "    </tr>\n",
       "    <tr>\n",
       "      <td>15</td>\n",
       "      <td>eval</td>\n",
       "      <td>0.190</td>\n",
       "      <td>0.935</td>\n",
       "    </tr>\n",
       "    <tr>\n",
       "      <td>16</td>\n",
       "      <td>train</td>\n",
       "      <td>0.133</td>\n",
       "      <td>0.954</td>\n",
       "    </tr>\n",
       "    <tr>\n",
       "      <td>16</td>\n",
       "      <td>eval</td>\n",
       "      <td>0.187</td>\n",
       "      <td>0.935</td>\n",
       "    </tr>\n",
       "    <tr>\n",
       "      <td>17</td>\n",
       "      <td>train</td>\n",
       "      <td>0.123</td>\n",
       "      <td>0.958</td>\n",
       "    </tr>\n",
       "    <tr>\n",
       "      <td>17</td>\n",
       "      <td>eval</td>\n",
       "      <td>0.186</td>\n",
       "      <td>0.937</td>\n",
       "    </tr>\n",
       "    <tr>\n",
       "      <td>18</td>\n",
       "      <td>train</td>\n",
       "      <td>0.120</td>\n",
       "      <td>0.959</td>\n",
       "    </tr>\n",
       "    <tr>\n",
       "      <td>18</td>\n",
       "      <td>eval</td>\n",
       "      <td>0.187</td>\n",
       "      <td>0.938</td>\n",
       "    </tr>\n",
       "    <tr>\n",
       "      <td>19</td>\n",
       "      <td>train</td>\n",
       "      <td>0.117</td>\n",
       "      <td>0.960</td>\n",
       "    </tr>\n",
       "    <tr>\n",
       "      <td>19</td>\n",
       "      <td>eval</td>\n",
       "      <td>0.185</td>\n",
       "      <td>0.939</td>\n",
       "    </tr>\n",
       "  </tbody>\n",
       "</table>"
      ],
      "text/plain": [
       "<IPython.core.display.HTML object>"
      ]
     },
     "metadata": {},
     "output_type": "display_data"
    },
    {
     "data": {
      "image/png": "[encoded data removed]",
      "text/plain": [
       "<Figure size 432x288 with 1 Axes>"
      ]
     },
     "metadata": {},
     "output_type": "display_data"
    }
   ],
   "source": [
    "set_seed(1)\n",
    "\n",
    "model = resnet().apply(init_weights)\n",
    "\n",
    "epochs=20\n",
    "lr = 1e-2\n",
    "sch = partial(torch.optim.lr_scheduler.OneCycleLR, max_lr=lr, epochs=epochs, steps_per_epoch=N)\n",
    "\n",
    "subs_sch = subs + [SchedulerS(sch), AugmentS(augs)]\n",
    "\n",
    "l = Learner(model, dls, F.cross_entropy, torch.optim.Adam, lr, subs_sch)\n",
    "l.fit(epochs)"
   ]
  },
  {
   "cell_type": "markdown",
   "id": "3c5bbce5-0fba-4dd4-af61-c0add2a496ea",
   "metadata": {},
   "source": [
    "## Final Remarks"
   ]
  },
  {
   "cell_type": "markdown",
   "id": "ade3ab52-0a85-4e94-abe8-f326b63a8c38",
   "metadata": {},
   "source": [
    "And that's it. We have created a model that is performing with close to 94% accuracy on the fashion-mnist dataset, according to [papers with code](https://paperswithcode.com/sota/image-classification-on-fashion-mnist), that puts us in the top 10 of papers that are written about this dataset, and we did so with just 20 epochs of training and limitted data augmentation. \n",
    "\n",
    "In the previous posts in this series, we have build up a small library [`nntrain`](https://lucasvw.github.io/nntrain/) in which we have build more or less everything from scratch, from data loading, training loop, activation tracking, initialization, convolutions, optimizers, schedulers and finally ResNets and data augmentation. We understand in detail how it all works, and it's fairly straight forward to extend the framework to different kind of Machine Learning challenges. \n",
    "\n",
    "I can't thank Jeremy Howard and the people from FastAI enough for all the wonderful things they are doing for the machine learning community, it truly is spectacular and inspiring 🤗. To close off, I would like to share a small snippet from the last \"base\" lecture in which Jeremy Howard speaks some words about this himself and reinforces the idea that nothing in machine learning is magic, that everything can be understood with common sense and be build from scratch with enough perseverance and tenacity.\n",
    "\n",
    "{{< video https://www.youtube.com/embed/nlVOG2Nzc3k?si=QAzDjVCkOO5CM5GD?&start=7260&end=7335 >}}"
   ]
  }
 ],
 "metadata": {
  "kernelspec": {
   "display_name": "python3",
   "language": "python",
   "name": "python3"
  }
 },
 "nbformat": 4,
 "nbformat_minor": 5
}
