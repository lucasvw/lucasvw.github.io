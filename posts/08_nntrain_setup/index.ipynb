{
 "cells": [
  {
   "cell_type": "raw",
   "id": "5a706372-b4f8-4d32-9470-24b837947fa5",
   "metadata": {},
   "source": [
    "---\n",
    "title: \"`nntrain`: a small library for training neural networks (1/n)\"\n",
    "author: \"Lucas van Walstijn\"\n",
    "date: \"2023-08-09\"\n",
    "categories: [Code, Neural Network, Deep Learning]\n",
    "image: \"image.jpeg\"\n",
    "comments:\n",
    "  utterances:\n",
    "    repo: lucasvw/BlogComments\n",
    "format:\n",
    "  html:\n",
    "    code-overflow: wrap\n",
    "---"
   ]
  },
  {
   "cell_type": "markdown",
   "id": "438a6911-402a-4234-9a58-7e1530bcb1bb",
   "metadata": {},
   "source": [
    "In this series, I want to discuss the creation of a small library for training neural networks. It's based off the excellent [part 2](https://course.fast.ai/) of Practical Deep Learning for Coders by Jeremy Howard, in which from lessons 13 to 18 (roughly) the development of the `miniai` library is discussed.\n",
    "\n",
    "The library will build upon PyTorch. However, we'll create things as much as possible from scratch to understand how it all works. Once the main functionality of components are implemented and verified, we can use PyTorch's version, mainly for performance reasons and interoperability."
   ]
  },
  {
   "cell_type": "markdown",
   "id": "fc98b7c4-9002-407d-90f6-ea9d8c07b8ae",
   "metadata": {},
   "source": [
    "As we'll see, the library will be built using [`nb_dev`](https://nbdev.fast.ai/), another great project from the fastai community. With this software, it becomes very straight forward to create python libraries which are exported from jupyter notebooks. This may sound a bit weird, but it has the advantage that we can create the sourcecode for our library in the very same environment in which we want to experiment and interact with our methods, objects and structure **while we are building the library**. For more details on why this is a good idea, see [here](https://www.fast.ai/posts/2022-07-28-nbdev2.html). In fact, I am going to write the library in notebooks that are also the sourcecode for this very blog, kind of crazy🤪."
   ]
  },
  {
   "cell_type": "markdown",
   "id": "13a4b6e1-9737-470a-980b-1aa3df5f5268",
   "metadata": {},
   "source": [
    "So without further ado, let's start with some data! To keep things simple, let's use the fashion-mnist dataset. We can get the data from the huggingface datasets library:"
   ]
  },
  {
   "cell_type": "code",
   "execution_count": null,
   "id": "a4de5add-ae69-46ee-aa4f-a38487830fa9",
   "metadata": {
    "vscode": {
     "languageId": "python"
    }
   },
   "outputs": [
    {
     "name": "stdout",
     "output_type": "stream",
     "text": [
      "Fashion-MNIST is a dataset of Zalando's article images—consisting of a training set of\n",
      "60,000 examples and a test set of 10,000 examples. Each example is a 28x28 grayscale image,\n",
      "associated with a label from 10 classes. We intend Fashion-MNIST to serve as a direct drop-in\n",
      "replacement for the original MNIST dataset for benchmarking machine learning algorithms.\n",
      "It shares the same image size and structure of training and testing splits.\n",
      "\n"
     ]
    }
   ],
   "source": [
    "from datasets import load_dataset,load_dataset_builder\n",
    "\n",
    "name = \"fashion_mnist\"\n",
    "ds_builder = load_dataset_builder(name)\n",
    "print(ds_builder.info.description)"
   ]
  },
  {
   "cell_type": "code",
   "execution_count": null,
   "id": "1a70f9b3-fef1-4a54-bf22-581c9f651a7e",
   "metadata": {
    "vscode": {
     "languageId": "python"
    }
   },
   "outputs": [
    {
     "name": "stderr",
     "output_type": "stream",
     "text": [
      "Reusing dataset fashion_mnist (/root/.cache/huggingface/datasets/fashion_mnist/fashion_mnist/1.0.0/8d6c32399aa01613d96e2cbc9b13638f359ef62bb33612b077b4c247f6ef99c1)\n"
     ]
    }
   ],
   "source": [
    "ds = load_dataset(name, split='train')"
   ]
  },
  {
   "cell_type": "markdown",
   "id": "ba93a563-aac7-4015-9a95-c42d8d3d3749",
   "metadata": {},
   "source": [
    "`ds` is a `Dataset` object. These kind of objects appear in many Deep Learning libraries and have two main functionalities: you can index into them and they have a length:"
   ]
  },
  {
   "cell_type": "code",
   "execution_count": null,
   "id": "3960543f-0fdb-4316-aef8-a3d51a42e287",
   "metadata": {
    "vscode": {
     "languageId": "python"
    }
   },
   "outputs": [
    {
     "data": {
      "text/plain": [
       "{'image': <PIL.PngImagePlugin.PngImageFile image mode=L size=28x28>,\n",
       " 'label': 9}"
      ]
     },
     "execution_count": null,
     "metadata": {},
     "output_type": "execute_result"
    }
   ],
   "source": [
    "ds[0]"
   ]
  },
  {
   "cell_type": "code",
   "execution_count": null,
   "id": "71add5de-4c4f-45bb-a694-606dd45603b2",
   "metadata": {
    "vscode": {
     "languageId": "python"
    }
   },
   "outputs": [
    {
     "data": {
      "text/plain": [
       "60000"
      ]
     },
     "execution_count": null,
     "metadata": {},
     "output_type": "execute_result"
    }
   ],
   "source": [
    "len(ds)"
   ]
  },
  {
   "cell_type": "code",
   "execution_count": null,
   "id": "18ea37f9-7d1e-45e0-9840-dd79d47f828d",
   "metadata": {
    "vscode": {
     "languageId": "python"
    }
   },
   "outputs": [
    {
     "data": {
      "text/plain": [
       "Dataset({\n",
       "    features: ['image', 'label'],\n",
       "    num_rows: 60000\n",
       "})"
      ]
     },
     "execution_count": null,
     "metadata": {},
     "output_type": "execute_result"
    }
   ],
   "source": [
    "ds"
   ]
  },
  {
   "cell_type": "markdown",
   "id": "5ade5bd0-9411-4f7c-9f18-634f84931e72",
   "metadata": {},
   "source": [
    "Hugginface datasets also have some properties, in this case `num_rows`, which is the length of the dataset (60000) and `features`, a dictionary giving metadata on what is returned when we index into the dataset:"
   ]
  },
  {
   "cell_type": "code",
   "execution_count": null,
   "id": "b4059340-2d94-4fba-be7a-2dae8760bc04",
   "metadata": {
    "vscode": {
     "languageId": "python"
    }
   },
   "outputs": [
    {
     "data": {
      "text/plain": [
       "{'image': Image(decode=True, id=None),\n",
       " 'label': ClassLabel(num_classes=10, names=['T - shirt / top', 'Trouser', 'Pullover', 'Dress', 'Coat', 'Sandal', 'Shirt', 'Sneaker', 'Bag', 'Ankle boot'], id=None)}"
      ]
     },
     "execution_count": null,
     "metadata": {},
     "output_type": "execute_result"
    }
   ],
   "source": [
    "ds.features"
   ]
  },
  {
   "cell_type": "markdown",
   "id": "f5524187-43f6-484b-ac44-ae581ba3dec7",
   "metadata": {},
   "source": [
    "Let's visualize one single item:"
   ]
  },
  {
   "cell_type": "code",
   "execution_count": null,
   "id": "76b83ab5-7852-4b6d-91c6-30e7403dead2",
   "metadata": {
    "vscode": {
     "languageId": "python"
    }
   },
   "outputs": [
    {
     "data": {
      "image/png": "[encoded data removed]",
      "text/plain": [
       "<Figure size 432x288 with 1 Axes>"
      ]
     },
     "metadata": {
      "needs_background": "light"
     },
     "output_type": "display_data"
    }
   ],
   "source": [
    "import matplotlib.pyplot as plt\n",
    "\n",
    "image = ds[0]['image']\n",
    "label = ds[0]['label']\n",
    "\n",
    "figure, axs = plt.subplots()\n",
    "\n",
    "axs.imshow(ds[0]['image'], cmap='Greys')\n",
    "axs.set_title(f'label={label}, which translates to \"{ds.features[\"label\"].int2str(label)}\"');\n",
    "axs.axis('off');"
   ]
  },
  {
   "cell_type": "markdown",
   "id": "5f5f664a-7e41-41a5-bf47-6e97189034a1",
   "metadata": {},
   "source": [
    "Since we want to start simple, and only later get to Datsets and Dataloaders: let's pull out the data into a tensor so we can build simple linear layers."
   ]
  },
  {
   "cell_type": "code",
   "execution_count": null,
   "id": "ced0c08f-7529-409f-9595-3ab96a701a35",
   "metadata": {
    "vscode": {
     "languageId": "python"
    }
   },
   "outputs": [
    {
     "data": {
      "text/plain": [
       "(60000, 60000, 784)"
      ]
     },
     "execution_count": null,
     "metadata": {},
     "output_type": "execute_result"
    }
   ],
   "source": [
    "import torchvision.transforms.functional as TF   # to transform from PIL to tensor\n",
    "import torch\n",
    "\n",
    "x_train = [TF.to_tensor(i).view(-1) for i in ds['image']]\n",
    "y_train = [torch.tensor(i) for i in ds['label']]\n",
    "\n",
    "len(x_train), len(y_train), len(x_train[0])"
   ]
  },
  {
   "cell_type": "markdown",
   "id": "3bf3867f",
   "metadata": {},
   "source": [
    "So `x_train` and `y_train` are both lists of length 60000, and an element in `x_train` has length 784 (28x28 pixels). Now that we have the data, let's create our very first network operation: a linear layer which takes the 784 long flattened out image vector, and maps it to an output vector of length 10"
   ]
  },
  {
   "cell_type": "code",
   "execution_count": null,
   "id": "62ccde6f-7b74-479b-b841-f8864033ab3f",
   "metadata": {
    "vscode": {
     "languageId": "python"
    }
   },
   "outputs": [
    {
     "data": {
      "text/plain": [
       "torch.Size([10])"
      ]
     },
     "execution_count": null,
     "metadata": {},
     "output_type": "execute_result"
    }
   ],
   "source": [
    "import torch\n",
    "\n",
    "def lin(x, a, b):\n",
    "    return x@a + b\n",
    "\n",
    "a = torch.randn(784, 10)\n",
    "b = torch.randn(10)\n",
    "\n",
    "out = lin(x_train[0], a, b)\n",
    "out.shape"
   ]
  },
  {
   "cell_type": "markdown",
   "id": "5ae6f7f3",
   "metadata": {},
   "source": [
    ":::{.callout-note}\n",
    "For details on matrix multiplications, check out this [post](https://lucasvw.github.io/posts/04_matmul/) I wrote earlier. \n",
    ":::"
   ]
  },
  {
   "cell_type": "markdown",
   "id": "18210f04-74f8-4e1d-9f0e-7d93c4e1e4fc",
   "metadata": {},
   "source": [
    "Let's do the same for all our training data at once:"
   ]
  },
  {
   "cell_type": "code",
   "execution_count": null,
   "id": "2bf8ca7b-50e3-435d-bb92-894eeb46a573",
   "metadata": {
    "vscode": {
     "languageId": "python"
    }
   },
   "outputs": [
    {
     "data": {
      "text/plain": [
       "torch.Size([60000, 10])"
      ]
     },
     "execution_count": null,
     "metadata": {},
     "output_type": "execute_result"
    }
   ],
   "source": [
    "x_train = torch.stack(x_train)\n",
    "out = lin(x_train, a,b)\n",
    "out.shape"
   ]
  },
  {
   "cell_type": "markdown",
   "id": "f9796dee-5fd2-4765-9fb9-e8ae0e66d7fd",
   "metadata": {},
   "source": [
    "Nice, that's basically a forward pass through our model on all our training data! \n",
    "\n",
    "Now if we want to increase the depth of our network by adding an additional layer, we need to add a non-linearity in the middle. Why? See for example the first paragraphs of this [answer](https://stats.stackexchange.com/a/335972). \n",
    "\n",
    "Let's add a ReLu nonlinearity:"
   ]
  },
  {
   "cell_type": "code",
   "execution_count": null,
   "id": "41af6235-55e6-4cc6-af39-e9457945a955",
   "metadata": {
    "vscode": {
     "languageId": "python"
    }
   },
   "outputs": [],
   "source": [
    "def relu(x):\n",
    "    return x.clamp_min(0.0)"
   ]
  },
  {
   "cell_type": "markdown",
   "id": "52437d1e-4d94-4181-9512-db8a2ea75aeb",
   "metadata": {},
   "source": [
    "And let's combine these into our first \"model\", consisting of two linear layers and a relu nonlinearity in the middle:"
   ]
  },
  {
   "cell_type": "code",
   "execution_count": null,
   "id": "36844072-8ec7-4c06-9b1f-cc966d45027c",
   "metadata": {
    "vscode": {
     "languageId": "python"
    }
   },
   "outputs": [],
   "source": [
    "n_in = 784 # number of input units (28x28)\n",
    "n_h = 50   # number of hidden units\n",
    "n_out = 10 # number of output units\n",
    "\n",
    "w1 = torch.randn(n_in, n_h)\n",
    "b1 = torch.zeros(n_h)\n",
    "w2 = torch.randn(n_h, n_out)\n",
    "b2 = torch.zeros(n_out)\n",
    "\n",
    "def model(x):\n",
    "    a1 = lin(x, w1, b1)\n",
    "    z1 = relu(a1)\n",
    "    return lin(z1, w2, b2)"
   ]
  },
  {
   "cell_type": "code",
   "execution_count": null,
   "id": "374c9742-defa-4544-a183-3d362616f1b9",
   "metadata": {
    "vscode": {
     "languageId": "python"
    }
   },
   "outputs": [],
   "source": [
    "out = model(x_train)"
   ]
  },
  {
   "cell_type": "code",
   "execution_count": null,
   "id": "bae45976-f263-411b-baf9-13ad07d9f113",
   "metadata": {
    "vscode": {
     "languageId": "python"
    }
   },
   "outputs": [
    {
     "data": {
      "text/plain": [
       "torch.Size([60000, 10])"
      ]
     },
     "execution_count": null,
     "metadata": {},
     "output_type": "execute_result"
    }
   ],
   "source": [
    "out.shape"
   ]
  },
  {
   "cell_type": "markdown",
   "id": "615e4efe-fc6d-4ab9-b208-c2f6947e6a6d",
   "metadata": {},
   "source": [
    "Our \"model\" currently only does a forward pass through the network. And as a matter of fact, it's doing a forward pass with random weights. When training a neural network, we want to change these parameters in a way that the outputs of the network align with the outputs (`y_train`). I will not go into the details of this, but here is a great [video](https://youtu.be/VMj-3S1tku0) by Andrej Karpathy which in my opinion gives one of the best explanations into how this works.\n",
    "\n",
    "Before doing a backward pass, we first have to calculate the loss. Since the outputs represent any of the 10 classes the image corresponds with,  cross entropy is a straight forward loss function. Some details about cross entropy loss can be found in a [post](https://lucasvw.github.io/posts/05_crossentropy/) I wrote earlier. However, since we want to add the backpropagation ourselves and I don't know how to backpropagate through cross entropy (and I don't feel like spending a lot of time on it), let's use a much easier loss function for now: mean squared error (MSE). This obviously doesn't make any sense in the context of our data, but mathematically it's possible. We just have to end up with a single activation of our model instead of 10:"
   ]
  },
  {
   "cell_type": "code",
   "execution_count": null,
   "id": "1d4499b9-baeb-4fd9-b99e-c97155ec0e4a",
   "metadata": {
    "vscode": {
     "languageId": "python"
    }
   },
   "outputs": [],
   "source": [
    "n_out = 1  # number of output units changed to 1\n",
    "\n",
    "w2 = torch.randn(n_h, n_out)\n",
    "b2 = torch.zeros(n_out)\n",
    "\n",
    "def model(x):\n",
    "    a1 = lin(x, w1, b1)\n",
    "    z1 = relu(a1)\n",
    "    return lin(z1, w2, b2)\n",
    "\n",
    "out = model(x_train)"
   ]
  },
  {
   "cell_type": "code",
   "execution_count": null,
   "id": "b58bb243-b528-4595-91c9-f1a6404112e6",
   "metadata": {
    "vscode": {
     "languageId": "python"
    }
   },
   "outputs": [
    {
     "data": {
      "text/plain": [
       "torch.Size([60000, 1])"
      ]
     },
     "execution_count": null,
     "metadata": {},
     "output_type": "execute_result"
    }
   ],
   "source": [
    "out.shape"
   ]
  },
  {
   "cell_type": "markdown",
   "id": "89b55a9d-2006-46ae-8df6-2c939940d13d",
   "metadata": {},
   "source": [
    "From which we see that the outputs have an empty trailing dimension. `y_train` doesn't have this, so we have to squeeze out this empty dimension when computing the MSE:"
   ]
  },
  {
   "cell_type": "code",
   "execution_count": null,
   "id": "0b7542ce-91e4-44a5-95bd-934252611d86",
   "metadata": {
    "vscode": {
     "languageId": "python"
    }
   },
   "outputs": [
    {
     "data": {
      "text/plain": [
       "tensor(2376.7515)"
      ]
     },
     "execution_count": null,
     "metadata": {},
     "output_type": "execute_result"
    }
   ],
   "source": [
    "def mse(pred, targ): \n",
    "    return (pred.squeeze(-1)-targ).pow(2).mean() \n",
    "\n",
    "y_train = torch.stack(y_train)\n",
    "mse(out, y_train)"
   ]
  },
  {
   "cell_type": "markdown",
   "id": "70062151-3121-4c1a-80b9-b88e071290ed",
   "metadata": {},
   "source": [
    "The next step will be to add the backward pass. But let's refactor our code to put things into classes, that way the backward pass can be added more easily:"
   ]
  },
  {
   "cell_type": "code",
   "execution_count": null,
   "id": "256b9f6a-59c4-47f2-af46-dbabb2716f34",
   "metadata": {
    "vscode": {
     "languageId": "python"
    }
   },
   "outputs": [],
   "source": [
    "class Linear():\n",
    "    def __init__(self, n_in, n_out):\n",
    "        self.w = torch.randn(n_in, n_out)\n",
    "        self.b = torch.zeros(n_out)\n",
    "    \n",
    "    def __call__(self, x):\n",
    "        self.inp = x                      # storing this for the backward pass\n",
    "        self.out = x@self.w + self.b      # storing this for the backward pass\n",
    "        return self.out\n",
    "    \n",
    "class Relu():\n",
    "    def __call__(self, x):\n",
    "        self.inp = x                      # storing this for the backward pass\n",
    "        self.out = x.clamp_min(0.)        # storing this for the backward pass\n",
    "        return self.out\n",
    "    \n",
    "class MSE():\n",
    "    def __call__(self, pred, targ):\n",
    "        self.pred = pred                   # storing this for the backward pass\n",
    "        self.targ = targ                   # storing this for the backward pass\n",
    "        self.out = (pred.squeeze(-1)-targ).pow(2).mean()\n",
    "        return self.out\n",
    "    \n",
    "class Model():\n",
    "    def __init__(self, n_in, n_h, n_out):\n",
    "        self.layers = [Linear(n_in, n_h), Relu(), Linear(n_h, n_out)]\n",
    "        self.loss = MSE()\n",
    "        \n",
    "    def __call__(self, x, y):\n",
    "        for l in self.layers: x = l(x)\n",
    "        return self.loss(x, y)"
   ]
  },
  {
   "cell_type": "code",
   "execution_count": null,
   "id": "96646d9f-cee9-44a5-81e5-4c37c3dd94f6",
   "metadata": {
    "vscode": {
     "languageId": "python"
    }
   },
   "outputs": [
    {
     "data": {
      "text/plain": [
       "torch.Size([60000, 784])"
      ]
     },
     "execution_count": null,
     "metadata": {},
     "output_type": "execute_result"
    }
   ],
   "source": [
    "x_train.shape"
   ]
  },
  {
   "cell_type": "code",
   "execution_count": null,
   "id": "6221762e-001e-4251-a10f-935aeb60959b",
   "metadata": {
    "vscode": {
     "languageId": "python"
    }
   },
   "outputs": [
    {
     "data": {
      "text/plain": [
       "tensor(637.0565)"
      ]
     },
     "execution_count": null,
     "metadata": {},
     "output_type": "execute_result"
    }
   ],
   "source": [
    "m = Model(n_in, n_h, n_out)\n",
    "l = m(x_train, y_train)"
   ]
  },
  {
   "cell_type": "markdown",
   "id": "f6a441f0-fa7a-419c-ae27-4cc8e79780b4",
   "metadata": {},
   "source": [
    "To add in the functionality for the backward pass, redefining the whole class is a nuisance. So instead we'll `patch` the classes. We can do this very easily by using the `fastcore` library. Let's see a small example:"
   ]
  },
  {
   "cell_type": "code",
   "execution_count": null,
   "id": "60baf247-adb4-4af5-81d9-107c6fbdf2be",
   "metadata": {
    "vscode": {
     "languageId": "python"
    }
   },
   "outputs": [
    {
     "name": "stdout",
     "output_type": "stream",
     "text": [
      "hello 😎\n",
      "howdy 🤠\n"
     ]
    }
   ],
   "source": [
    "import fastcore.all as fc\n",
    "\n",
    "class A():\n",
    "    def hi(self): print('hello 😎')\n",
    "    \n",
    "a = A()\n",
    "a.hi()\n",
    "\n",
    "@fc.patch\n",
    "def hi(self:A): print('howdy 🤠')\n",
    "\n",
    "a.hi()"
   ]
  },
  {
   "cell_type": "markdown",
   "id": "67f3eb88",
   "metadata": {},
   "source": [
    "So with `fc.patch` we can extend or change the behavior of Classes that have been defined elsewhere, even on instances of the objects that are already created. Nice!"
   ]
  },
  {
   "cell_type": "code",
   "execution_count": null,
   "id": "d160fba4-2957-4aef-a351-1b55a13bdfb1",
   "metadata": {
    "vscode": {
     "languageId": "python"
    }
   },
   "outputs": [],
   "source": [
    "@fc.patch\n",
    "def backward(self: Linear):\n",
    "    self.inp.g = self.out.g @ self.w.t()\n",
    "    self.w.g = self.inp.t() @ self.out.g\n",
    "    self.b.g = self.out.g.sum(0)\n",
    "    \n",
    "@fc.patch\n",
    "def backward(self: Relu):\n",
    "    self.inp.g = (self.inp>0).float() * self.out.g\n",
    "    \n",
    "@fc.patch\n",
    "def backward(self: MSE):\n",
    "    self.pred.g = 2. * (self.pred.squeeze() - self.targ).unsqueeze(-1) / self.targ.shape[0]\n",
    "    \n",
    "@fc.patch\n",
    "def backward(self: Model):\n",
    "    self.loss.backward()\n",
    "    for l in reversed(self.layers): l.backward()"
   ]
  },
  {
   "cell_type": "code",
   "execution_count": null,
   "id": "a95417fa-a50e-401e-b3b3-ffc20c48fb57",
   "metadata": {
    "vscode": {
     "languageId": "python"
    }
   },
   "outputs": [
    {
     "data": {
      "text/plain": [
       "tensor(2255.4106)"
      ]
     },
     "execution_count": null,
     "metadata": {},
     "output_type": "execute_result"
    }
   ],
   "source": [
    "m = Model(n_in, n_h, n_out)\n",
    "l = m(x_train, y_train)\n",
    "m.backward()"
   ]
  },
  {
   "cell_type": "markdown",
   "id": "863ee419-38b3-45e3-815f-b7d2f6aea0fd",
   "metadata": {},
   "source": [
    "Now the actual operations in the backward methods you will just have to take for granted as I am not going to derive them. If you want, you can have some fun (?) to try and derive it yourself. What I think is most important about these formulas:\n",
    "\n",
    "1. Notice that each layer has a reference to it's inputs and it's outputs\n",
    "2. During the backward pass, each layer uses the gradient from the *outputs* and uses it to set the gradient on the *inputs*\n",
    "3. The inputs from layer $n$ are the outputs from layer $n-1$, so when the gradients are being set on the inputs from layer $n$, this means that layer $n-1$ it's outputs are being set at the same time\n",
    "4. This is the fundamental point about backpropagation of the gradient: in reverse order, layer by layer the gradients are being *propagated back* through the network using the chain rule\n",
    "5. Although we don't derive the operations, we can see that that there *exist* operations that do this. These operations are not magical, they are just the result of calculus: not very different from the fact that if $f(x) = x^2$ then $f'(x) = 2x$ and if $h(x) = f(g(x))$ then $h'(x) = f'(g(x)) * g'(x)$"
   ]
  },
  {
   "cell_type": "markdown",
   "id": "a93c9c85-467d-4cbc-a137-f631b3b82b08",
   "metadata": {},
   "source": [
    "Now let's see how we can make this a little better. One thing that seems a bit silly is that in each of the `Linear`, `MSE` and `Relu` classes, we are storing explicitly the inputs and outputs when doing a forward call. As mentioned, we need this to backpropagate the gradients. However, we rather not store that explicitly all the time when creating a new layer. \n",
    "\n",
    "So let's create a base class that takes care of this:\n",
    "\n",
    "- Pack the forward functionality of each layer in a dedicated `forward` method\n",
    "- let the storing of inputs and ouputs be done in the `__call__` method of the baseclass, and call the `self.forward` method in between.\n",
    "\n",
    "This works, but there is one caveat: most layers just have one input when they are called (`x`), but the loss has 2 (`pred` and `targ`). To make this storing of the inputs generic we can store them as an array on the base class, and also pass them as positional arguments to `_backward`. This way, `forward` and `_backward` have the same arguments."
   ]
  },
  {
   "cell_type": "code",
   "execution_count": null,
   "id": "8b50394e-2d69-4c4e-9393-d1d5a41bfda8",
   "metadata": {
    "vscode": {
     "languageId": "python"
    }
   },
   "outputs": [],
   "source": [
    "class Module():\n",
    "    def __call__(self, *args):\n",
    "        self.args = args\n",
    "        self.out = self.forward(*args)\n",
    "        return self.out\n",
    "    \n",
    "    def backward(self): self._backward(*self.args)\n",
    "\n",
    "    \n",
    "class Linear(Module):\n",
    "    def __init__(self, n_in, n_out):\n",
    "        self.w = torch.randn(n_in, n_out)\n",
    "        self.b = torch.zeros(n_out)\n",
    "    \n",
    "    def forward(self, x):\n",
    "        return x@self.w + self.b\n",
    "    \n",
    "    def _backward(self, inp):\n",
    "        inp.g = self.out.g @ self.w.t()\n",
    "        self.w.g = inp.t() @ self.out.g\n",
    "        self.b.g = self.out.g.sum(0)\n",
    "    \n",
    "    \n",
    "class Relu(Module):\n",
    "    def forward(self, x):\n",
    "        return x.clamp_min(0.)\n",
    "    \n",
    "    def _backward(self, inp):\n",
    "        inp.g = (inp>0).float() * self.out.g\n",
    "\n",
    "    \n",
    "class MSE(Module):\n",
    "    def forward(self, pred, targ):\n",
    "        return (pred.squeeze(-1)-targ).pow(2).mean()\n",
    "    \n",
    "    def _backward(self, pred, targ):\n",
    "        pred.g = 2. * (pred.squeeze() - targ).unsqueeze(-1) / targ.shape[0]\n",
    "    \n",
    "    \n",
    "class Model(Module):\n",
    "    def __init__(self, n_in, n_h, n_out):\n",
    "        self.layers = [Linear(n_in, n_h), Relu(), Linear(n_h, n_out)]\n",
    "        self.loss = MSE()\n",
    "        \n",
    "    def forward(self, x, y):\n",
    "        for l in self.layers: x = l(x)\n",
    "        return self.loss(x, y)\n",
    "    \n",
    "    def backward(self):\n",
    "        self.loss.backward()\n",
    "        for l in reversed(self.layers): l.backward()"
   ]
  },
  {
   "cell_type": "code",
   "execution_count": null,
   "id": "04947b0b-5890-430f-8c28-df681531bc26",
   "metadata": {
    "vscode": {
     "languageId": "python"
    }
   },
   "outputs": [
    {
     "data": {
      "text/plain": [
       "tensor(1411.1520)"
      ]
     },
     "execution_count": null,
     "metadata": {},
     "output_type": "execute_result"
    }
   ],
   "source": [
    "m = Model(n_in, n_h, n_out)\n",
    "l = m(x_train, y_train)\n",
    "m.backward()"
   ]
  },
  {
   "cell_type": "markdown",
   "id": "4cfe76a7-4ea6-4bbb-841a-f8fa9d354830",
   "metadata": {},
   "source": [
    "And this is pretty nice, since we have now kind of replicated `nn.Module` with our `Module` class. It works very similarly, so let's now instead use PyTorch's version. This has the advantage that we no longer need to write a backward function, since PyTorch knows how to backpropagate through all the functions and methods it has, it can propagate through anything we create with these functions using the chain rule."
   ]
  },
  {
   "cell_type": "code",
   "execution_count": null,
   "id": "aadb6882-ac0c-46c1-8308-37ee7343d54b",
   "metadata": {
    "vscode": {
     "languageId": "python"
    }
   },
   "outputs": [],
   "source": [
    "class Linear(nn.Module):\n",
    "    def __init__(self, n_in, n_out):\n",
    "        self.w = torch.randn(n_in, n_out).requires_grad()\n",
    "        self.b = torch.zeros(n_out).requires_grad()\n",
    "    \n",
    "    def forward(self, x):\n",
    "        return x@self.w + self.b\n",
    "    \n",
    "    \n",
    "class Relu(nn.Module):\n",
    "    def forward(self, x):\n",
    "        return x.clamp_min(0.)\n",
    "    \n",
    "    \n",
    "class MSE(nn.Module):\n",
    "    def forward(self, pred, targ):\n",
    "        return (pred.squeeze(-1)-targ).pow(2).mean()"
   ]
  },
  {
   "cell_type": "markdown",
   "id": "6d9c3953-f10f-4b2e-91e9-09fe8c510424",
   "metadata": {},
   "source": [
    "Furthermore we use the "
   ]
  },
  {
   "cell_type": "code",
   "execution_count": null,
   "id": "0be16646-4e74-4440-94de-8e260f8765da",
   "metadata": {
    "vscode": {
     "languageId": "python"
    }
   },
   "outputs": [],
   "source": []
  },
  {
   "cell_type": "code",
   "execution_count": null,
   "id": "c365862f-ee7c-4873-8ef5-71c6fa611ba0",
   "metadata": {
    "vscode": {
     "languageId": "python"
    }
   },
   "outputs": [],
   "source": []
  },
  {
   "cell_type": "code",
   "execution_count": null,
   "id": "0f0ac1c8-a84d-46a3-acd4-8b3c8941d5cf",
   "metadata": {
    "vscode": {
     "languageId": "python"
    }
   },
   "outputs": [],
   "source": []
  },
  {
   "cell_type": "code",
   "execution_count": null,
   "id": "70c6b279-7aa1-42b4-968c-e30e1082bc83",
   "metadata": {
    "vscode": {
     "languageId": "python"
    }
   },
   "outputs": [],
   "source": []
  }
 ],
 "metadata": {
  "kernelspec": {
   "display_name": "Python 3 (ipykernel)",
   "language": "python",
   "name": "python3"
  }
 },
 "nbformat": 4,
 "nbformat_minor": 5
}
