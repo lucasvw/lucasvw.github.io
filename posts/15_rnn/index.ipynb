{
 "cells": [
  {
   "cell_type": "raw",
   "id": "5a706372-b4f8-4d32-9470-24b837947fa5",
   "metadata": {},
   "source": [
    "---\n",
    "title: \"Recurrent Neural Networks\"\n",
    "author: \"Lucas van Walstijn\"\n",
    "date: \"2023-09-14\"\n",
    "categories: [code, neural network, nlp, rnns]\n",
    "image: \"rnn3.drawio.png\"\n",
    "comments:\n",
    "  utterances:\n",
    "    repo: lucasvw/BlogComments\n",
    "format:\n",
    "  html:\n",
    "    code-overflow: scroll\n",
    "---"
   ]
  },
  {
   "cell_type": "markdown",
   "id": "249771a0-d07d-46c3-988a-4c34de84c3b6",
   "metadata": {},
   "source": [
    "In the previous [post](https://lucasvw.github.io/posts/14_mlp/) we went through a simple MLP language model. We looked in detail at embeddings, and how they can be used to overcome the *curse of dimensionality* encountered for n-gram based models.\n",
    "\n",
    "In this post we are going to have a look at recurrent neural networks and how they are different from the MLP developed earlier. As we will see, the concept of an rnn is remarkably similar."
   ]
  },
  {
   "cell_type": "markdown",
   "id": "ea182175-4a25-42f0-97ba-10c69b29b182",
   "metadata": {},
   "source": [
    "## Data"
   ]
  },
  {
   "cell_type": "markdown",
   "id": "c6d248e3-9da9-483c-8783-62911e0f1d2b",
   "metadata": {},
   "source": [
    "Everything starts with training data, for a description see the earlier [post](https://lucasvw.github.io/posts/13_ngram/)"
   ]
  },
  {
   "cell_type": "code",
   "execution_count": null,
   "id": "8a40a2a4-b957-4595-b19d-ef6915868232",
   "metadata": {
    "vscode": {
     "languageId": "python"
    }
   },
   "outputs": [],
   "source": [
    "#| code-fold: true\n",
    "\n",
    "import random\n",
    "from functools import reduce, partial\n",
    "from pathlib import Path\n",
    "from urllib.request import urlretrieve\n",
    "import numpy as np\n",
    "import torch\n",
    "import torch.nn as nn\n",
    "import torch.nn.functional as F\n",
    "import matplotlib.pyplot as plt\n",
    "import torcheval.metrics as tem\n",
    "import fastcore.all as fc\n",
    "\n",
    "from nntrain.dataloaders import DataLoaders\n",
    "from nntrain.learner import *\n",
    "from nntrain.activations import *\n",
    "from nntrain.acceleration import *\n",
    "from nntrain.ngram import *"
   ]
  },
  {
   "cell_type": "code",
   "execution_count": null,
   "id": "52754f77-8252-4811-b0df-36dbbe720a6b",
   "metadata": {
    "vscode": {
     "languageId": "python"
    }
   },
   "outputs": [],
   "source": [
    "########### Load the data ###########\n",
    "path = Path('./data')\n",
    "path.mkdir(parents=True, exist_ok=True)\n",
    "path = path / 'names.txt'\n",
    "url = 'https://raw.githubusercontent.com/karpathy/makemore/master/names.txt'\n",
    "\n",
    "_ = urlretrieve(url, path)\n",
    "\n",
    "with open(path, 'r') as f:\n",
    "    lines = f.read().splitlines()\n",
    "    \n",
    "random.seed(42)\n",
    "random.shuffle(lines)\n",
    "\n",
    "train_size=0.8\n",
    "val_size=0.1\n",
    "\n",
    "train_lines = lines[0:int(train_size * len(lines))]\n",
    "val_lines = lines[int(train_size * len(lines)): int((train_size + val_size) * len(lines))]\n",
    "\n",
    "### Create vocabulary and mappings ###\n",
    "unique_chars = list(set(\"\".join(lines)))\n",
    "unique_chars.sort()\n",
    "vocabulary = ['.'] + unique_chars\n",
    "\n",
    "c2i = {c:i for i, c in enumerate(vocabulary)}\n",
    "i2c = {i:c for i, c in enumerate(vocabulary)}\n",
    "\n",
    "def get_dls(bs, context_length):\n",
    "    train_ds = NgramDataset(train_lines, c2i, n=context_length+1)\n",
    "    val_ds = NgramDataset(val_lines, c2i, n=context_length+1)\n",
    "    train_loader = torch.utils.data.DataLoader(train_ds, shuffle=True, batch_size=bs, num_workers=4)\n",
    "    val_loader = torch.utils.data.DataLoader(val_ds, batch_size=bs*2, num_workers=4)\n",
    "    dls = DataLoaders(train_loader, val_loader)\n",
    "    return dls"
   ]
  },
  {
   "cell_type": "markdown",
   "id": "24d42d70-7c6c-4b93-96ec-92a9ea0a6000",
   "metadata": {},
   "source": [
    "## From MLP to RNN, a small change"
   ]
  },
  {
   "cell_type": "markdown",
   "id": "9e3952b6-28f2-4514-8957-ff3ea0dc523a",
   "metadata": {},
   "source": [
    "The MLP model encountered in the last post, used an embedding layer to turn the tokens from the context (in the image below of length 3) into vectors. These vectors then got concatenated, and passed through a hidden layer. After that, the activations were mapped to the size of the vocabulary in the output layer:\n",
    "\n",
    "![MLP architecture](arch.png){width=600}"
   ]
  },
  {
   "cell_type": "markdown",
   "id": "214079ae-ac28-4c4e-ab14-192a66cf3aee",
   "metadata": {},
   "source": [
    "For an RNN, we also start-off by turning our integers into vectors making use of an embedding layer. However, instead of concatenating the result and passing it through a hidden layer, we *iteratively feed the embedding activations through a single hidden layer*. Each time moving on to (the embedding activations of) the next token and adding the hidden activations obtained from the previous iteration. Once all the context has been processed in this way, we finalize with an output layer similar to what we did for the MLP model.\n",
    "\n",
    "![RNN architecture](rnn.drawio.png){width=400}\n",
    "\n",
    ":::{.callout-note}\n",
    "The first time I learned about the summing of embedding activations and hidden activations, I was pretty surprised: how can you expect to get anything meaningful by simple adding activations from two layers together? As it turns out, in neural network literature it happens quite often that the combination / merging of activations simply happens by element-wise addition. In a section below, we will also shortly discuss another way of combining information: by concatenation. \n",
    ":::\n",
    "\n",
    "Let's put this RNN architecture into code:"
   ]
  },
  {
   "cell_type": "code",
   "execution_count": null,
   "id": "ccd5539c-5a89-49d6-9328-979bf186ecd2",
   "metadata": {
    "vscode": {
     "languageId": "python"
    }
   },
   "outputs": [],
   "source": [
    "class FixedContextRNN(nn.Module):\n",
    "    \n",
    "    def __init__(self, c2i, hidden_size=10):\n",
    "        super().__init__()\n",
    "        self.c2i = c2i\n",
    "        self.input2hidden   = nn.Embedding(len(c2i), hidden_size)\n",
    "        self.hidden2hidden  = nn.Linear(hidden_size, hidden_size)\n",
    "        self.hidden2out     = nn.Linear(hidden_size, len(c2i))\n",
    "        \n",
    "    def forward(self, x):\n",
    "        input1 = F.relu(self.input2hidden(x[:,0]))\n",
    "        input2 = F.relu(self.input2hidden(x[:,1]))\n",
    "        input3 = F.relu(self.input2hidden(x[:,2]))\n",
    "        \n",
    "        out = F.relu(self.hidden2hidden(input1))\n",
    "        out = F.relu(self.hidden2hidden(out + input2))\n",
    "        out = F.relu(self.hidden2hidden(out + input3))\n",
    "        \n",
    "        return self.hidden2out(out)"
   ]
  },
  {
   "cell_type": "markdown",
   "id": "5555a0c4-a62d-446e-a814-dc514861120e",
   "metadata": {},
   "source": [
    "Observe that both the embedding dimension and the size of the hidden layer need to be equal (`hidden_size`) because the activations from both these layers are added together and thus need to be of equal shape. This also means that there is just one hyperparameter influencing the amount of parameters in this network.\n",
    "\n",
    "We can generalize this model, so that it accepts data of arbitrary context length. Also, we will make use of a *dummy hidden-layer activation tensor* (initialized to zeros) so that we can do the addition for all iterations (and not just for the second iteration onward):"
   ]
  },
  {
   "cell_type": "code",
   "execution_count": null,
   "id": "cebcf275-974c-4dd9-952c-3dac3dea55be",
   "metadata": {
    "vscode": {
     "languageId": "python"
    }
   },
   "outputs": [],
   "source": [
    "class VariableContextRNN(nn.Module):\n",
    "    \n",
    "    def __init__(self, c2i, hidden_size):\n",
    "        super().__init__()\n",
    "        self.c2i = c2i\n",
    "        self.hidden_size = hidden_size\n",
    "        self.input2hidden   = nn.Embedding(len(c2i), hidden_size)\n",
    "        self.hidden2hidden  = nn.Linear(hidden_size, hidden_size)\n",
    "        self.hidden2out     = nn.Linear(hidden_size, len(c2i))\n",
    "        \n",
    "    def forward(self, x):\n",
    "        inputs = self.input2hidden(x)           # [bs, context_length, hidden_size]\n",
    "\n",
    "        # create dummy hidden-layer activations for the very first token \n",
    "        h = torch.zeros((x.shape[0], self.hidden_size)).to(device)\n",
    "        \n",
    "        for i in range(x.shape[1]):             # iterate through the tokens (context length)\n",
    "            h = F.relu(self.hidden2hidden(h + inputs[:,i,:])) # [bs, hidden_size]\n",
    "            \n",
    "        return self.hidden2out(h)               # [bs, classes]"
   ]
  },
  {
   "cell_type": "markdown",
   "id": "bd55f080-b110-4ac4-a8f4-aa6fa79e40c6",
   "metadata": {},
   "source": [
    "Let's see how this model performs with a similar configuration to the first MLP we build in the previous [post](https://lucasvw.github.io/posts/14_mlp/#using-embeddings-effectively) (context length of 3 and a hidden size of 50):"
   ]
  },
  {
   "cell_type": "code",
   "execution_count": null,
   "id": "847ae10b-f916-43bc-8554-2ed16853aaf2",
   "metadata": {
    "vscode": {
     "languageId": "python"
    }
   },
   "outputs": [
    {
     "data": {
      "text/html": [
       "\n",
       "<style>\n",
       "    /* Turns off some styling */\n",
       "    progress {\n",
       "        /* gets rid of default border in Firefox and Opera. */\n",
       "        border: none;\n",
       "        /* Needs to be in here for Safari polyfill so background images work as expected. */\n",
       "        background-size: auto;\n",
       "    }\n",
       "    progress:not([value]), progress:not([value])::-webkit-progress-bar {\n",
       "        background: repeating-linear-gradient(45deg, #7e7e7e, #7e7e7e 10px, #5c5c5c 10px, #5c5c5c 20px);\n",
       "    }\n",
       "    .progress-bar-interrupted, .progress-bar-interrupted::-webkit-progress-bar {\n",
       "        background: #F44336;\n",
       "    }\n",
       "</style>\n"
      ],
      "text/plain": [
       "<IPython.core.display.HTML object>"
      ]
     },
     "metadata": {},
     "output_type": "display_data"
    },
    {
     "data": {
      "text/html": [
       "<table border=\"1\" class=\"dataframe\">\n",
       "  <thead>\n",
       "    <tr style=\"text-align: left;\">\n",
       "      <th>epoch</th>\n",
       "      <th>mode</th>\n",
       "      <th>loss</th>\n",
       "    </tr>\n",
       "  </thead>\n",
       "  <tbody>\n",
       "    <tr>\n",
       "      <td>0</td>\n",
       "      <td>train</td>\n",
       "      <td>2.636</td>\n",
       "    </tr>\n",
       "    <tr>\n",
       "      <td>0</td>\n",
       "      <td>eval</td>\n",
       "      <td>2.300</td>\n",
       "    </tr>\n",
       "    <tr>\n",
       "      <td>1</td>\n",
       "      <td>train</td>\n",
       "      <td>2.271</td>\n",
       "    </tr>\n",
       "    <tr>\n",
       "      <td>1</td>\n",
       "      <td>eval</td>\n",
       "      <td>2.247</td>\n",
       "    </tr>\n",
       "    <tr>\n",
       "      <td>2</td>\n",
       "      <td>train</td>\n",
       "      <td>2.226</td>\n",
       "    </tr>\n",
       "    <tr>\n",
       "      <td>2</td>\n",
       "      <td>eval</td>\n",
       "      <td>2.214</td>\n",
       "    </tr>\n",
       "    <tr>\n",
       "      <td>3</td>\n",
       "      <td>train</td>\n",
       "      <td>2.195</td>\n",
       "    </tr>\n",
       "    <tr>\n",
       "      <td>3</td>\n",
       "      <td>eval</td>\n",
       "      <td>2.185</td>\n",
       "    </tr>\n",
       "    <tr>\n",
       "      <td>4</td>\n",
       "      <td>train</td>\n",
       "      <td>2.171</td>\n",
       "    </tr>\n",
       "    <tr>\n",
       "      <td>4</td>\n",
       "      <td>eval</td>\n",
       "      <td>2.178</td>\n",
       "    </tr>\n",
       "  </tbody>\n",
       "</table>"
      ],
      "text/plain": [
       "<IPython.core.display.HTML object>"
      ]
     },
     "metadata": {},
     "output_type": "display_data"
    },
    {
     "data": {
      "image/png": "[encoded data removed]",
      "text/plain": [
       "<Figure size 432x288 with 1 Axes>"
      ]
     },
     "metadata": {},
     "output_type": "display_data"
    }
   ],
   "source": [
    "# Train parameters\n",
    "epochs = 5\n",
    "lr     = 1e-2\n",
    "bs     = 1000\n",
    "\n",
    "# Hyperparameters\n",
    "context_length = 3\n",
    "n_h            = 50\n",
    "\n",
    "dls = get_dls(bs, context_length)\n",
    "rnn = VariableContextRNN(c2i, n_h)\n",
    "\n",
    "subs = [ProgressS(True),\n",
    "        MetricsS(),\n",
    "        DeviceS(device)]\n",
    "\n",
    "scheduler = partial(torch.optim.lr_scheduler.OneCycleLR, max_lr=lr, epochs=epochs, steps_per_epoch=len(dls.train))\n",
    "\n",
    "l = Learner(rnn, dls, F.cross_entropy, torch.optim.Adam, None, subs=subs + [SchedulerS(scheduler)])\n",
    "l.fit(epochs, lr=lr)"
   ]
  },
  {
   "cell_type": "markdown",
   "id": "75bec39b-0893-4b9c-a535-fce3b5a05ea9",
   "metadata": {},
   "source": [
    "So it's doing a bit better (2.280 for the MLP, 2.178 for the RNN)"
   ]
  },
  {
   "cell_type": "markdown",
   "id": "b9b9ac86-bff0-4bb2-b5d9-73dc5d651f67",
   "metadata": {},
   "source": [
    "## Combing data: addition or concatenation"
   ]
  },
  {
   "cell_type": "markdown",
   "id": "05870096-facd-432b-9571-ebbdc58623c6",
   "metadata": {},
   "source": [
    "As mentioned, the first time I learned about the fact that we are simply adding activations from the hidden layer and the embedding layer, I was pretty surprised. Instead of simple addition of the activations we could also concatenate these activations instead. This means that our `hidden2hidden` layer shape needs to be updated:"
   ]
  },
  {
   "cell_type": "code",
   "execution_count": null,
   "id": "d4bb1d25-f5cd-454b-9248-9c7ec936aeb5",
   "metadata": {
    "vscode": {
     "languageId": "python"
    }
   },
   "outputs": [],
   "source": [
    "class VariableContextRNNConcat(nn.Module):\n",
    "    \n",
    "    def __init__(self, c2i, hidden_size):\n",
    "        super().__init__()\n",
    "        self.c2i = c2i\n",
    "        self.hidden_size = hidden_size\n",
    "        self.input2hidden   = nn.Embedding(len(c2i), hidden_size)\n",
    "        self.hidden2hidden  = nn.Linear(2*hidden_size, hidden_size)\n",
    "        self.hidden2out     = nn.Linear(hidden_size, len(c2i))\n",
    "        \n",
    "    def forward(self, x):\n",
    "        inputs = self.input2hidden(x)                # [bs, context_length, hidden_size]\n",
    "        \n",
    "        h = torch.zeros((x.shape[0], self.hidden_size)).to(device)\n",
    "        \n",
    "        for i in range(x.shape[1]):\n",
    "            h = torch.cat([h, inputs[:,i,:]], dim=1) # [bs, 2 x hidden_size]\n",
    "            h = F.relu(self.hidden2hidden(h))        # [bs, hidden_size]\n",
    "        \n",
    "        return self.hidden2out(h)                    # [bs, classes]"
   ]
  },
  {
   "cell_type": "code",
   "execution_count": null,
   "id": "a5666be9-fa0c-4186-b79e-dcb3c3cb4be9",
   "metadata": {
    "vscode": {
     "languageId": "python"
    }
   },
   "outputs": [
    {
     "data": {
      "text/html": [
       "\n",
       "<style>\n",
       "    /* Turns off some styling */\n",
       "    progress {\n",
       "        /* gets rid of default border in Firefox and Opera. */\n",
       "        border: none;\n",
       "        /* Needs to be in here for Safari polyfill so background images work as expected. */\n",
       "        background-size: auto;\n",
       "    }\n",
       "    progress:not([value]), progress:not([value])::-webkit-progress-bar {\n",
       "        background: repeating-linear-gradient(45deg, #7e7e7e, #7e7e7e 10px, #5c5c5c 10px, #5c5c5c 20px);\n",
       "    }\n",
       "    .progress-bar-interrupted, .progress-bar-interrupted::-webkit-progress-bar {\n",
       "        background: #F44336;\n",
       "    }\n",
       "</style>\n"
      ],
      "text/plain": [
       "<IPython.core.display.HTML object>"
      ]
     },
     "metadata": {},
     "output_type": "display_data"
    },
    {
     "data": {
      "text/html": [
       "<table border=\"1\" class=\"dataframe\">\n",
       "  <thead>\n",
       "    <tr style=\"text-align: left;\">\n",
       "      <th>epoch</th>\n",
       "      <th>mode</th>\n",
       "      <th>loss</th>\n",
       "    </tr>\n",
       "  </thead>\n",
       "  <tbody>\n",
       "    <tr>\n",
       "      <td>0</td>\n",
       "      <td>train</td>\n",
       "      <td>2.595</td>\n",
       "    </tr>\n",
       "    <tr>\n",
       "      <td>0</td>\n",
       "      <td>eval</td>\n",
       "      <td>2.287</td>\n",
       "    </tr>\n",
       "    <tr>\n",
       "      <td>1</td>\n",
       "      <td>train</td>\n",
       "      <td>2.259</td>\n",
       "    </tr>\n",
       "    <tr>\n",
       "      <td>1</td>\n",
       "      <td>eval</td>\n",
       "      <td>2.234</td>\n",
       "    </tr>\n",
       "    <tr>\n",
       "      <td>2</td>\n",
       "      <td>train</td>\n",
       "      <td>2.217</td>\n",
       "    </tr>\n",
       "    <tr>\n",
       "      <td>2</td>\n",
       "      <td>eval</td>\n",
       "      <td>2.194</td>\n",
       "    </tr>\n",
       "    <tr>\n",
       "      <td>3</td>\n",
       "      <td>train</td>\n",
       "      <td>2.182</td>\n",
       "    </tr>\n",
       "    <tr>\n",
       "      <td>3</td>\n",
       "      <td>eval</td>\n",
       "      <td>2.173</td>\n",
       "    </tr>\n",
       "    <tr>\n",
       "      <td>4</td>\n",
       "      <td>train</td>\n",
       "      <td>2.157</td>\n",
       "    </tr>\n",
       "    <tr>\n",
       "      <td>4</td>\n",
       "      <td>eval</td>\n",
       "      <td>2.166</td>\n",
       "    </tr>\n",
       "  </tbody>\n",
       "</table>"
      ],
      "text/plain": [
       "<IPython.core.display.HTML object>"
      ]
     },
     "metadata": {},
     "output_type": "display_data"
    },
    {
     "data": {
      "image/png": "[encoded data removed]",
      "text/plain": [
       "<Figure size 432x288 with 1 Axes>"
      ]
     },
     "metadata": {},
     "output_type": "display_data"
    }
   ],
   "source": [
    "rnn = VariableContextRNNConcat(c2i, n_h)\n",
    "\n",
    "l = Learner(rnn, dls, F.cross_entropy, torch.optim.Adam, None, subs=subs + [SchedulerS(scheduler)])\n",
    "l.fit(epochs, lr=lr)"
   ]
  },
  {
   "cell_type": "markdown",
   "id": "88430cd0-e631-4822-bda9-611d946d5d47",
   "metadata": {},
   "source": [
    "In this configuration, this seems to give a slightly better performance"
   ]
  },
  {
   "cell_type": "markdown",
   "id": "9e726833-e312-4870-aaa6-ddf1ea199633",
   "metadata": {},
   "source": [
    "## PyTorch RNN"
   ]
  },
  {
   "cell_type": "markdown",
   "id": "c42aa088-2c10-4aa3-b44f-d191512608c4",
   "metadata": {},
   "source": [
    "Let's use PyTorch's `nn.RNN`, in the `PyTorchRNN` class defined below, we can see that this module replaces our `hidden2hidden` layer, and also takes care of the loop over the tokens in the context in our forward pass.\n",
    "\n",
    "Some notes:\n",
    "\n",
    "- `nn.RNN` uses a tanh activation by default, we can use a relu activation instead by setting the `nonlinearity` argument\n",
    "- the (dummy) activations that we add for the processing of the first token need to have an additional empty dimension in first position (for the non bidirectional case) according to the [documentation](https://pytorch.org/docs/stable/generated/torch.nn.RNN.html)\n",
    "- when forwarding data through the rnn module, it expects the input data to have the context_length as first dimension. We can alter this by setting `batch_first=True`\n",
    "- `nn.RNN` returns two parameters. The first parameter is a tensor containing the hidden activation from each iteration, the second parameter has the final hidden activation. For the moment we are only interested in the last hidden activations and pass it to the output layer but we will use the aggregated hidden activations in a section below"
   ]
  },
  {
   "cell_type": "code",
   "execution_count": null,
   "id": "c7609e83-fedc-41d6-94fa-8dcdceadaa38",
   "metadata": {
    "vscode": {
     "languageId": "python"
    }
   },
   "outputs": [],
   "source": [
    "class PyTorchRNN(nn.Module):\n",
    "    \n",
    "    def __init__(self, c2i, context_length, hidden_size):\n",
    "        super().__init__()\n",
    "        self.c2i = c2i\n",
    "        self.hidden_size = hidden_size\n",
    "        self.input2hidden   = nn.Embedding(len(c2i), hidden_size)\n",
    "        self.rnn            = nn.RNN(hidden_size, hidden_size, nonlinearity='relu', batch_first=True)\n",
    "        self.hidden2out     = nn.Linear(hidden_size, len(c2i))\n",
    "        \n",
    "    def forward(self, x):\n",
    "        inputs = self.input2hidden(x) # [bs, context_length, hidden_size]\n",
    "        \n",
    "        h = torch.zeros((1, x.shape[0], self.hidden_size)).to(device)\n",
    "        \n",
    "        hs, h = self.rnn(inputs, h)\n",
    "        # hs : [bs, context_length, hidden_size] -> all hidden states\n",
    "        # h  : [1, bs, hidden_size]              -> final hidden state\n",
    "\n",
    "        return self.hidden2out(h.squeeze(0)) # squeeze out the first empty dimension"
   ]
  },
  {
   "cell_type": "code",
   "execution_count": null,
   "id": "12157860-c990-48b1-a256-1575fe72c987",
   "metadata": {
    "vscode": {
     "languageId": "python"
    }
   },
   "outputs": [
    {
     "data": {
      "text/html": [
       "\n",
       "<style>\n",
       "    /* Turns off some styling */\n",
       "    progress {\n",
       "        /* gets rid of default border in Firefox and Opera. */\n",
       "        border: none;\n",
       "        /* Needs to be in here for Safari polyfill so background images work as expected. */\n",
       "        background-size: auto;\n",
       "    }\n",
       "    progress:not([value]), progress:not([value])::-webkit-progress-bar {\n",
       "        background: repeating-linear-gradient(45deg, #7e7e7e, #7e7e7e 10px, #5c5c5c 10px, #5c5c5c 20px);\n",
       "    }\n",
       "    .progress-bar-interrupted, .progress-bar-interrupted::-webkit-progress-bar {\n",
       "        background: #F44336;\n",
       "    }\n",
       "</style>\n"
      ],
      "text/plain": [
       "<IPython.core.display.HTML object>"
      ]
     },
     "metadata": {},
     "output_type": "display_data"
    },
    {
     "data": {
      "text/html": [
       "<table border=\"1\" class=\"dataframe\">\n",
       "  <thead>\n",
       "    <tr style=\"text-align: left;\">\n",
       "      <th>epoch</th>\n",
       "      <th>mode</th>\n",
       "      <th>loss</th>\n",
       "    </tr>\n",
       "  </thead>\n",
       "  <tbody>\n",
       "    <tr>\n",
       "      <td>0</td>\n",
       "      <td>train</td>\n",
       "      <td>2.601</td>\n",
       "    </tr>\n",
       "    <tr>\n",
       "      <td>0</td>\n",
       "      <td>eval</td>\n",
       "      <td>2.285</td>\n",
       "    </tr>\n",
       "    <tr>\n",
       "      <td>1</td>\n",
       "      <td>train</td>\n",
       "      <td>2.261</td>\n",
       "    </tr>\n",
       "    <tr>\n",
       "      <td>1</td>\n",
       "      <td>eval</td>\n",
       "      <td>2.228</td>\n",
       "    </tr>\n",
       "    <tr>\n",
       "      <td>2</td>\n",
       "      <td>train</td>\n",
       "      <td>2.216</td>\n",
       "    </tr>\n",
       "    <tr>\n",
       "      <td>2</td>\n",
       "      <td>eval</td>\n",
       "      <td>2.195</td>\n",
       "    </tr>\n",
       "    <tr>\n",
       "      <td>3</td>\n",
       "      <td>train</td>\n",
       "      <td>2.182</td>\n",
       "    </tr>\n",
       "    <tr>\n",
       "      <td>3</td>\n",
       "      <td>eval</td>\n",
       "      <td>2.173</td>\n",
       "    </tr>\n",
       "    <tr>\n",
       "      <td>4</td>\n",
       "      <td>train</td>\n",
       "      <td>2.157</td>\n",
       "    </tr>\n",
       "    <tr>\n",
       "      <td>4</td>\n",
       "      <td>eval</td>\n",
       "      <td>2.163</td>\n",
       "    </tr>\n",
       "  </tbody>\n",
       "</table>"
      ],
      "text/plain": [
       "<IPython.core.display.HTML object>"
      ]
     },
     "metadata": {},
     "output_type": "display_data"
    },
    {
     "data": {
      "image/png": "[encoded data removed]",
      "text/plain": [
       "<Figure size 432x288 with 1 Axes>"
      ]
     },
     "metadata": {},
     "output_type": "display_data"
    }
   ],
   "source": [
    "rnn = PyTorchRNN(c2i, context_length, n_h)\n",
    "\n",
    "l = Learner(rnn, dls, F.cross_entropy, torch.optim.Adam, None, subs=subs + [SchedulerS(scheduler)])\n",
    "l.fit(epochs, lr=lr)"
   ]
  },
  {
   "cell_type": "markdown",
   "id": "92c451c7-fdcf-494d-b83b-40980ed5baf2",
   "metadata": {},
   "source": [
    "## Optimizing dataloading and model for sequential data (BPTT)"
   ]
  },
  {
   "cell_type": "markdown",
   "id": "5b17205b-c3b9-4ed3-8664-968935af9adf",
   "metadata": {},
   "source": [
    "Although the previous RNN's are perfectly valid models, there is a pretty big improvement we can make for the training of these models. To realize that, let's have a look at the samples for the first name *Yuheng* in our dataset:"
   ]
  },
  {
   "cell_type": "code",
   "execution_count": null,
   "id": "c2d4c886-6902-4512-871e-326d984081b8",
   "metadata": {
    "vscode": {
     "languageId": "python"
    }
   },
   "outputs": [
    {
     "name": "stdout",
     "output_type": "stream",
     "text": [
      "['.', '.', '.'] --> y\n",
      "['.', '.', 'y'] --> u\n",
      "['.', 'y', 'u'] --> h\n",
      "['y', 'u', 'h'] --> e\n",
      "['u', 'h', 'e'] --> n\n",
      "['h', 'e', 'n'] --> g\n"
     ]
    }
   ],
   "source": [
    "xb, yb = dls.train.dataset[0:6]\n",
    "for x,y in zip(xb, yb):\n",
    "    print(list(i2c[i.item()] for i in x), '-->' ,i2c[y.item()])"
   ]
  },
  {
   "cell_type": "markdown",
   "id": "a7c97fa4-9c93-4a66-b5db-cabdbec016eb",
   "metadata": {},
   "source": [
    "Consider what happens when we process this data *in order* with a batch size of 1. In the very first batch (forward pass) we start with an empty hidden state and compute the final hidden state $h_0$ from processing the three `'.'` tokens sequentially. These final activations are mapped to output activations and the loss is computed by comparing to the label `'y'`.\n",
    "\n",
    "When moving to the second batch we start again with an empty hidden state, and since we have moved one letter forward we will process 2 `'.'` tokens and the `'y` token sequentially to get to the final hidden activation $h_1$ of this sample. But this is a bit silly, we could have just remembered our hidden activations $h_0$ from the first batch and process the next token (`'y'`) to get to the same result!\n",
    "\n",
    "In other words: for each forward pass, we reinitialize the dummy hidden layer activations, and the first two tokens we process are in fact already processed in the previous sample. We could be more efficient by just using the hidden activations we computed on the previous sample and have one iteration over the new token in the context:\n",
    "\n",
    "![More efficient data-processing for sequential data](rnn2.drawio.png){width=600}"
   ]
  },
  {
   "cell_type": "markdown",
   "id": "51b1fb87-b0a5-4d89-8994-487a18f428bf",
   "metadata": {},
   "source": [
    "Let's simplify things and make the architecture symmetrical by not treating the very first sample in a different way. This also means we can get rid of the triple start symbol (`...`) and replace it with a single start symbol (`.`).\n",
    "\n",
    "![Symmetric architecture for efficient data-processing](rnn3.drawio.png){width=600}"
   ]
  },
  {
   "cell_type": "markdown",
   "id": "e36c637f-204e-4393-ba47-5bf8e150a8a6",
   "metadata": {},
   "source": [
    "With these changes, there are two practical problems we need to address: \n",
    "\n",
    "1. How are we going to change the dataloader and dataset to feed this into a neural network? \n",
    "2. Feeding the hidden activations into the processing of the next token means that the computational graph of the loss is getting more and more complex. If we do this for the entirety of our dataset, the backward pass will become intractable. We thus have to cut it off at some point.\n",
    "\n",
    "We need to go from samples (combinations of `X` and `y`) that look like this (and don't pass over the hidden state from sample to sample):"
   ]
  },
  {
   "cell_type": "code",
   "execution_count": null,
   "id": "d6039f9c-2dfa-4e73-a826-b1459d13f688",
   "metadata": {
    "vscode": {
     "languageId": "python"
    }
   },
   "outputs": [
    {
     "name": "stdout",
     "output_type": "stream",
     "text": [
      "['.', '.', '.'] --> y\n",
      "['.', '.', 'y'] --> u\n",
      "['.', 'y', 'u'] --> h\n",
      "['y', 'u', 'h'] --> e\n",
      "['u', 'h', 'e'] --> n\n",
      "['h', 'e', 'n'] --> g\n",
      "['e', 'n', 'g'] --> .\n"
     ]
    }
   ],
   "source": [
    "#| code-fold: true\n",
    "xb, yb = dls.train.dataset[0:7]\n",
    "for x,y in zip(xb, yb):\n",
    "    print(list(i2c[i.item()] for i in x), '-->' ,i2c[y.item()])"
   ]
  },
  {
   "cell_type": "markdown",
   "id": "4e052609-1ecf-4655-9d1f-d86d66f04377",
   "metadata": {},
   "source": [
    "to samples that simply look like this (and *do* pass the hidden state from sample to sample):"
   ]
  },
  {
   "cell_type": "code",
   "execution_count": null,
   "id": "af409ae9-84aa-4eda-98d4-275592e8ff96",
   "metadata": {
    "vscode": {
     "languageId": "python"
    }
   },
   "outputs": [
    {
     "name": "stdout",
     "output_type": "stream",
     "text": [
      "['.'] --> y\n",
      "['y'] --> u\n",
      "['u'] --> h\n",
      "['h'] --> e\n",
      "['e'] --> n\n",
      "['n'] --> g\n",
      "['g'] --> .\n"
     ]
    }
   ],
   "source": [
    "#| code-fold: true\n",
    "name = '.yuheng.'\n",
    "for i in range(len(name)-1):\n",
    "    print(f\"['{name[i]}'] --> {name[i+1]}\")"
   ]
  },
  {
   "cell_type": "markdown",
   "id": "4887cba9-4780-4d07-9553-8de2f4bfdcfb",
   "metadata": {},
   "source": [
    "However, we want to keep the sequence length dimension since we will use that as the maximal amount of tokens through which we will backpropagate. This addresses the second issue mentioned above. We thus need a dataset that looks like this (for a sequence length of 3):"
   ]
  },
  {
   "cell_type": "code",
   "execution_count": null,
   "id": "0ff58407-37c4-4b33-b577-a5fdbc7a1f98",
   "metadata": {
    "vscode": {
     "languageId": "python"
    }
   },
   "outputs": [
    {
     "name": "stdout",
     "output_type": "stream",
     "text": [
      "['.', 'y', 'u'] --> ['y', 'u', 'h']\n",
      "['h', 'e', 'n'] --> ['e', 'n', 'g']\n"
     ]
    }
   ],
   "source": [
    "#| code-fold: true\n",
    "print(\"['.', 'y', 'u']\", '-->', \"['y', 'u', 'h']\")\n",
    "print(\"['h', 'e', 'n']\", '-->', \"['e', 'n', 'g']\")"
   ]
  },
  {
   "cell_type": "markdown",
   "id": "4bfa1460-9932-4097-a3bd-3fae0d8ecc92",
   "metadata": {},
   "source": [
    "For the above example, we would still pass the hidden state computed in the first sample to the second sample, but only the values are passed and not the computational history. This is essentially what's referred to as (truncated) backpropagation through time. Also, note that this means that one single sample (`['.', 'y', 'u']`) will create 3 outputs (for the 3 labels `['y', 'u', 'h']`). This means we will have to update our loss function as well.\n",
    "\n",
    "Let's create a new dataset for this purpose:"
   ]
  },
  {
   "cell_type": "code",
   "execution_count": null,
   "id": "b895fcae-0363-4836-a7f8-29aabfdeae83",
   "metadata": {
    "vscode": {
     "languageId": "python"
    }
   },
   "outputs": [],
   "source": [
    "class SequentialDataset():\n",
    "    def __init__(self, lines, c2i, sequence_length):\n",
    "        text = \".\" + \".\".join(lines) + \".\"\n",
    "        self.x = []\n",
    "        self.y = []\n",
    "        for i in range(0, len(text) - sequence_length - 1, sequence_length):\n",
    "            self.x.append([c2i[xi] for xi in text[i: i+sequence_length]])\n",
    "            self.y.append([c2i[yi] for yi in text[i+1: i+sequence_length+1]])\n",
    "        self.x = torch.tensor(self.x)\n",
    "        self.y = torch.tensor(self.y)\n",
    "    \n",
    "    def __getitem__(self, i):\n",
    "        return self.x[i], self.y[i]\n",
    "\n",
    "    def __len__(self):\n",
    "        return len(self.x)\n",
    "    \n",
    "train_ds = SequentialDataset(train_lines, c2i, 3)\n",
    "valid_ds = SequentialDataset(val_lines, c2i, 3)"
   ]
  },
  {
   "cell_type": "code",
   "execution_count": null,
   "id": "6fee7036-7ba4-4ac8-b62a-0a4d2bc2b807",
   "metadata": {
    "vscode": {
     "languageId": "python"
    }
   },
   "outputs": [
    {
     "name": "stdout",
     "output_type": "stream",
     "text": [
      "['.', 'y', 'u'] --> ['y', 'u', 'h']\n",
      "['h', 'e', 'n'] --> ['e', 'n', 'g']\n"
     ]
    }
   ],
   "source": [
    "for i in range(2):\n",
    "    print([i2c[xi.item()] for xi in train_ds[i][0]], '-->', [i2c[xi.item()] for xi in train_ds[i][1]])"
   ]
  },
  {
   "cell_type": "markdown",
   "id": "ba511ecb-f954-4344-917b-867457f326a7",
   "metadata": {},
   "source": [
    "Furthermore, we need to order our data in a different way. We need to be very careful with shuffling: we certainly can't shuffle individual samples anymore in our Dataloader, since we need to maintain the sequence of our data. \n",
    "\n",
    ":::{.callout-note}\n",
    "We could however shuffle the order of the **complete** names, at the beginning of each epoch. But let's not be concerned with that for now, and just disable shuffling altogether.\n",
    ":::\n",
    "\n",
    "Also, we need to make sure that the stream *continues from sample to sample across batches*, so that we can pass the (final) hidden states from the samples in a batch to the samples in the next batch. Consider a dataset consisting of 100 sequential samples:\n",
    "\n",
    "![](rnn5.drawio.png){width=600}"
   ]
  },
  {
   "cell_type": "markdown",
   "id": "ce4d3edb-a903-431a-b267-ab5ff6808425",
   "metadata": {},
   "source": [
    "If we order the data in this way, only the very first batch of each epoch will be using a dummy hidden state equal to zero, all other iterations in all the batches will be using the correct (previously computed and sequentially passed) hidden state.\n",
    "\n",
    "To get these batches into the model during training, we need to order the data *vertically*, so 1, 21, 41, 61, 81, 2, 22, 42, etc. Let's do so with a custom Sampler (for details on samplers, check out this earlier blog [post](https://lucasvw.github.io/posts/09_nntrain_ds/#next-up-shuffling-the-data)):\n",
    "\n",
    "![\"Vertical\" sampling order](sampler_order.drawio.png)"
   ]
  },
  {
   "cell_type": "code",
   "execution_count": null,
   "id": "28c16cfc-d192-431d-9965-cf1955d143b7",
   "metadata": {
    "vscode": {
     "languageId": "python"
    }
   },
   "outputs": [],
   "source": [
    "class VerticalSampler():\n",
    "    def __init__(self, ds, batch_size):\n",
    "        self.batch_size = batch_size\n",
    "        self.batches = len(ds) // self.batch_size\n",
    "        \n",
    "    def __iter__(self):\n",
    "        for i in range(self.batches):\n",
    "            for j in range(self.batch_size):\n",
    "                yield i + self.batches*j\n",
    "                \n",
    "    def __len__(self):\n",
    "        return self.batches * self.batch_size"
   ]
  },
  {
   "cell_type": "markdown",
   "id": "9ac1f3aa-b534-4f58-8d3a-95cf9f4b4d1a",
   "metadata": {},
   "source": [
    "With this sampler we can then create a dataloader with the associated batch size to load exactly the batches into the model as described!"
   ]
  },
  {
   "cell_type": "code",
   "execution_count": null,
   "id": "7323fbe1-ce4c-455b-93b1-64297fc42c4e",
   "metadata": {
    "vscode": {
     "languageId": "python"
    }
   },
   "outputs": [],
   "source": [
    "train_dl = torch.utils.data.DataLoader(train_ds, shuffle=False, sampler=VerticalSampler(train_ds, bs), batch_size=bs)\n",
    "valid_dl = torch.utils.data.DataLoader(valid_ds, shuffle=False, sampler=VerticalSampler(valid_ds, bs), batch_size=bs)\n",
    "\n",
    "dls = DataLoaders(train_dl, valid_dl)"
   ]
  },
  {
   "cell_type": "markdown",
   "id": "f87f5a22-c061-436a-9007-5ce5161261ec",
   "metadata": {},
   "source": [
    "Now let's update our model to pass all the hidden states to the output layer:"
   ]
  },
  {
   "cell_type": "code",
   "execution_count": null,
   "id": "24ae44e7-e7ea-4f23-b9b1-a54c04d69e73",
   "metadata": {
    "vscode": {
     "languageId": "python"
    }
   },
   "outputs": [],
   "source": [
    "class PyTorchRNNMultiOutput(nn.Module):\n",
    "    \n",
    "    def __init__(self, c2i, hidden_size, bs):\n",
    "        super().__init__()\n",
    "        self.c2i = c2i\n",
    "        self.bs = bs\n",
    "        self.hidden_size = hidden_size\n",
    "        self.register_buffer('h', torch.zeros((1, bs, self.hidden_size)))\n",
    "        \n",
    "        self.input2hidden   = nn.Embedding(len(c2i), hidden_size)\n",
    "        self.rnn            = nn.RNN(hidden_size, hidden_size, nonlinearity='relu', batch_first=True)\n",
    "        self.hidden2out     = nn.Linear(hidden_size, len(c2i))\n",
    "        \n",
    "    def forward(self, x):\n",
    "        inputs = self.input2hidden(x)\n",
    "        hs, h = self.rnn(inputs, self.h)\n",
    "        # hs : [bs, context_length, hidden_size]\n",
    "        # h  : [1, bs, hidden_size]\n",
    "        self.h = h.detach()\n",
    "        return self.hidden2out(hs)"
   ]
  },
  {
   "cell_type": "markdown",
   "id": "6a1bcbe7-d123-418d-a699-92169a711fd4",
   "metadata": {},
   "source": [
    "And finally, we have to create a custom loss function that can deal with the multiple output activations and multiple labels:"
   ]
  },
  {
   "cell_type": "code",
   "execution_count": null,
   "id": "18e077aa-08cb-47fb-a277-b11aac848caa",
   "metadata": {
    "vscode": {
     "languageId": "python"
    }
   },
   "outputs": [],
   "source": [
    "def multi_output_cross_entropy(logits, targets):\n",
    "    # logits = [bs, context_length, output_classes]\n",
    "    # targets = [bs, context_length]\n",
    "    \n",
    "    targets = targets.view(-1)\n",
    "    \n",
    "    bs, context_length, output_classes = logits.shape\n",
    "    logits = logits.view(-1, output_classes)\n",
    "    \n",
    "    return F.cross_entropy(logits, targets)"
   ]
  },
  {
   "cell_type": "code",
   "execution_count": null,
   "id": "f96d21d6-bec7-4685-a720-953141156a65",
   "metadata": {
    "vscode": {
     "languageId": "python"
    }
   },
   "outputs": [],
   "source": [
    "def get_dls(context_length, batch_size):\n",
    "    train_ds = SequentialDataset(train_lines, c2i, context_length)\n",
    "    valid_ds = SequentialDataset(val_lines, c2i, context_length)\n",
    "        \n",
    "    train_dl = torch.utils.data.DataLoader(train_ds, shuffle=False, sampler=Sampler(train_ds, batch_size), batch_size=batch_size)\n",
    "    valid_dl = torch.utils.data.DataLoader(valid_ds, shuffle=False, sampler=Sampler(valid_ds, batch_size), batch_size=batch_size)\n",
    "\n",
    "    return DataLoaders(train_dl, valid_dl)"
   ]
  },
  {
   "cell_type": "markdown",
   "id": "50d30527-ad30-4734-a03e-e855fd58c7b2",
   "metadata": {},
   "source": [
    "Note that we drop the batch size to a value of 300 (1/3 of 1000). We do this, to roughly keep the amount of weight updates per batch constant. Previously, we had 1000 sequences in the batch, and from each sequence we would receive one \"weight update\". Now, we have 3 times the amount of sequences in a batch, so we have to reduce the batch size by 3 to keep the amount of \"weight updates\" roughly equal."
   ]
  },
  {
   "cell_type": "code",
   "execution_count": null,
   "id": "21fb8be4-c206-4d5b-a397-4ab99e129c9b",
   "metadata": {
    "vscode": {
     "languageId": "python"
    }
   },
   "outputs": [
    {
     "data": {
      "text/html": [
       "\n",
       "<style>\n",
       "    /* Turns off some styling */\n",
       "    progress {\n",
       "        /* gets rid of default border in Firefox and Opera. */\n",
       "        border: none;\n",
       "        /* Needs to be in here for Safari polyfill so background images work as expected. */\n",
       "        background-size: auto;\n",
       "    }\n",
       "    progress:not([value]), progress:not([value])::-webkit-progress-bar {\n",
       "        background: repeating-linear-gradient(45deg, #7e7e7e, #7e7e7e 10px, #5c5c5c 10px, #5c5c5c 20px);\n",
       "    }\n",
       "    .progress-bar-interrupted, .progress-bar-interrupted::-webkit-progress-bar {\n",
       "        background: #F44336;\n",
       "    }\n",
       "</style>\n"
      ],
      "text/plain": [
       "<IPython.core.display.HTML object>"
      ]
     },
     "metadata": {},
     "output_type": "display_data"
    },
    {
     "data": {
      "text/html": [
       "<table border=\"1\" class=\"dataframe\">\n",
       "  <thead>\n",
       "    <tr style=\"text-align: left;\">\n",
       "      <th>epoch</th>\n",
       "      <th>mode</th>\n",
       "      <th>loss</th>\n",
       "    </tr>\n",
       "  </thead>\n",
       "  <tbody>\n",
       "    <tr>\n",
       "      <td>0</td>\n",
       "      <td>train</td>\n",
       "      <td>2.518</td>\n",
       "    </tr>\n",
       "    <tr>\n",
       "      <td>0</td>\n",
       "      <td>eval</td>\n",
       "      <td>2.226</td>\n",
       "    </tr>\n",
       "    <tr>\n",
       "      <td>1</td>\n",
       "      <td>train</td>\n",
       "      <td>2.175</td>\n",
       "    </tr>\n",
       "    <tr>\n",
       "      <td>1</td>\n",
       "      <td>eval</td>\n",
       "      <td>2.164</td>\n",
       "    </tr>\n",
       "    <tr>\n",
       "      <td>2</td>\n",
       "      <td>train</td>\n",
       "      <td>2.115</td>\n",
       "    </tr>\n",
       "    <tr>\n",
       "      <td>2</td>\n",
       "      <td>eval</td>\n",
       "      <td>2.128</td>\n",
       "    </tr>\n",
       "    <tr>\n",
       "      <td>3</td>\n",
       "      <td>train</td>\n",
       "      <td>2.063</td>\n",
       "    </tr>\n",
       "    <tr>\n",
       "      <td>3</td>\n",
       "      <td>eval</td>\n",
       "      <td>2.101</td>\n",
       "    </tr>\n",
       "    <tr>\n",
       "      <td>4</td>\n",
       "      <td>train</td>\n",
       "      <td>2.024</td>\n",
       "    </tr>\n",
       "    <tr>\n",
       "      <td>4</td>\n",
       "      <td>eval</td>\n",
       "      <td>2.091</td>\n",
       "    </tr>\n",
       "  </tbody>\n",
       "</table>"
      ],
      "text/plain": [
       "<IPython.core.display.HTML object>"
      ]
     },
     "metadata": {},
     "output_type": "display_data"
    },
    {
     "data": {
      "image/png": "[encoded data removed]",
      "text/plain": [
       "<Figure size 432x288 with 1 Axes>"
      ]
     },
     "metadata": {},
     "output_type": "display_data"
    }
   ],
   "source": [
    "# Train parameters\n",
    "epochs = 5\n",
    "lr     = 1e-2\n",
    "bs     = 300\n",
    "\n",
    "# Hyperparameters\n",
    "context_length = 5\n",
    "n_h            = 100\n",
    "\n",
    "dls = get_dls(context_length, bs)\n",
    "rnn = PyTorchRNNMultiOutput(c2i, n_h, bs)\n",
    "\n",
    "subs = [ProgressS(True),\n",
    "        MetricsS(),\n",
    "        DeviceS(device)]\n",
    "\n",
    "scheduler = partial(torch.optim.lr_scheduler.OneCycleLR, max_lr=lr, epochs=epochs, steps_per_epoch=len(dls.train))\n",
    "\n",
    "l = Learner(rnn, dls, multi_output_cross_entropy, torch.optim.Adam, None, subs=subs + [SchedulerS(scheduler)])\n",
    "l.fit(epochs, lr=lr)"
   ]
  },
  {
   "cell_type": "markdown",
   "id": "4b0f6d6c-8919-40ae-9e57-3309ac531ec1",
   "metadata": {},
   "source": [
    "Performance is pretty good, however what's up with the spikes in the loss? These spikes occur at the beginning of every epoch and they happen because moving from the last batch in an epoch, to the first batch in the next epoch is not a sequential step in the data. Looking at the image above in which we laid out the \"vertical ordering of the data\", wee see that for the first batch in any epoch > 1, we would feed the hidden state originating from samples (20, 40, 60, 80, 100) into the samples (1, 21, 41, 61, 81), e.g.:"
   ]
  },
  {
   "cell_type": "code",
   "execution_count": null,
   "id": "21ceb462-5f40-499a-b3f1-dbe7be42a9ac",
   "metadata": {
    "vscode": {
     "languageId": "python"
    }
   },
   "outputs": [
    {
     "name": "stdout",
     "output_type": "stream",
     "text": [
      "from:  20 to:  1\n",
      "from:  40 to: 21\n",
      "from:  60 to: 41\n",
      "from:  80 to: 61\n",
      "from: 100 to: 81\n"
     ]
    }
   ],
   "source": [
    "#| code-fold: true\n",
    "\n",
    "frm = (20, 40, 60, 80, 100)\n",
    "to  = (1, 21, 41, 61, 81)\n",
    "\n",
    "for f, t in zip(frm,to):\n",
    "    print(f'from: {f:3d} to: {t:2d}')"
   ]
  },
  {
   "cell_type": "markdown",
   "id": "2c28d1aa-aa6e-4df9-89c1-d64ab9ed546c",
   "metadata": {},
   "source": [
    "And this is obviously not sequential. The easiest solution is to reset the hidden state to zero at the beginning of each epoch, let's do this with a very small `Subscriber`:\n",
    "\n",
    ":::{.callout-note}\n",
    "Based on the observation that we could realign the hidden activations by moving them one row down, I implemented this solution but was surprised to see that this doesn't improve things at all. I then found that we generally don't have a fully connected sequential dataset that fits exactly into a whole number of batches, we thus lose some data in the end, and the data doesn't connect easily by shifting it \"one row down\". In terms of the sample ordering diagram above: we generally don't have (20, 40, 60, 80, 100) as final batch of an epoch but instead something like (18, 38, 58, 78, 98).\n",
    ":::"
   ]
  },
  {
   "cell_type": "code",
   "execution_count": null,
   "id": "b90cf697-41f3-4633-8cf4-ffe1ace2b9f1",
   "metadata": {
    "vscode": {
     "languageId": "python"
    }
   },
   "outputs": [],
   "source": [
    "class HiddenStateResetterS(Subscriber):\n",
    "    def before_epoch(self, learn):\n",
    "        learn.model.reset_hidden_state()\n",
    "        \n",
    "@fc.patch\n",
    "def reset_hidden_state(self:PyTorchRNNMultiOutput):\n",
    "    device = self.h.get_device()\n",
    "    self.h = torch.zeros_like(self.h).to(device)"
   ]
  },
  {
   "cell_type": "code",
   "execution_count": null,
   "id": "bd683eef-3171-422f-badc-e0eeeab17931",
   "metadata": {
    "vscode": {
     "languageId": "python"
    }
   },
   "outputs": [
    {
     "data": {
      "text/html": [
       "\n",
       "<style>\n",
       "    /* Turns off some styling */\n",
       "    progress {\n",
       "        /* gets rid of default border in Firefox and Opera. */\n",
       "        border: none;\n",
       "        /* Needs to be in here for Safari polyfill so background images work as expected. */\n",
       "        background-size: auto;\n",
       "    }\n",
       "    progress:not([value]), progress:not([value])::-webkit-progress-bar {\n",
       "        background: repeating-linear-gradient(45deg, #7e7e7e, #7e7e7e 10px, #5c5c5c 10px, #5c5c5c 20px);\n",
       "    }\n",
       "    .progress-bar-interrupted, .progress-bar-interrupted::-webkit-progress-bar {\n",
       "        background: #F44336;\n",
       "    }\n",
       "</style>\n"
      ],
      "text/plain": [
       "<IPython.core.display.HTML object>"
      ]
     },
     "metadata": {},
     "output_type": "display_data"
    },
    {
     "data": {
      "text/html": [
       "<table border=\"1\" class=\"dataframe\">\n",
       "  <thead>\n",
       "    <tr style=\"text-align: left;\">\n",
       "      <th>epoch</th>\n",
       "      <th>mode</th>\n",
       "      <th>loss</th>\n",
       "    </tr>\n",
       "  </thead>\n",
       "  <tbody>\n",
       "    <tr>\n",
       "      <td>0</td>\n",
       "      <td>train</td>\n",
       "      <td>2.520</td>\n",
       "    </tr>\n",
       "    <tr>\n",
       "      <td>0</td>\n",
       "      <td>eval</td>\n",
       "      <td>2.221</td>\n",
       "    </tr>\n",
       "    <tr>\n",
       "      <td>1</td>\n",
       "      <td>train</td>\n",
       "      <td>2.178</td>\n",
       "    </tr>\n",
       "    <tr>\n",
       "      <td>1</td>\n",
       "      <td>eval</td>\n",
       "      <td>2.158</td>\n",
       "    </tr>\n",
       "    <tr>\n",
       "      <td>2</td>\n",
       "      <td>train</td>\n",
       "      <td>2.113</td>\n",
       "    </tr>\n",
       "    <tr>\n",
       "      <td>2</td>\n",
       "      <td>eval</td>\n",
       "      <td>2.115</td>\n",
       "    </tr>\n",
       "    <tr>\n",
       "      <td>3</td>\n",
       "      <td>train</td>\n",
       "      <td>2.064</td>\n",
       "    </tr>\n",
       "    <tr>\n",
       "      <td>3</td>\n",
       "      <td>eval</td>\n",
       "      <td>2.080</td>\n",
       "    </tr>\n",
       "    <tr>\n",
       "      <td>4</td>\n",
       "      <td>train</td>\n",
       "      <td>2.025</td>\n",
       "    </tr>\n",
       "    <tr>\n",
       "      <td>4</td>\n",
       "      <td>eval</td>\n",
       "      <td>2.069</td>\n",
       "    </tr>\n",
       "  </tbody>\n",
       "</table>"
      ],
      "text/plain": [
       "<IPython.core.display.HTML object>"
      ]
     },
     "metadata": {},
     "output_type": "display_data"
    },
    {
     "data": {
      "image/png": "[encoded data removed]",
      "text/plain": [
       "<Figure size 432x288 with 1 Axes>"
      ]
     },
     "metadata": {},
     "output_type": "display_data"
    }
   ],
   "source": [
    "# Train parameters\n",
    "epochs = 5\n",
    "lr     = 1e-2\n",
    "bs     = 300\n",
    "\n",
    "# Hyperparameters\n",
    "context_length = 5\n",
    "n_h            = 100\n",
    "\n",
    "dls = get_dls(context_length, bs)\n",
    "rnn = PyTorchRNNMultiOutput(c2i, context_length, n_h, bs)\n",
    "\n",
    "subs = [ProgressS(True),\n",
    "        MetricsS(),\n",
    "        DeviceS(device),\n",
    "        HiddenStateResetterS()]\n",
    "\n",
    "scheduler = partial(torch.optim.lr_scheduler.OneCycleLR, max_lr=lr, epochs=epochs, steps_per_epoch=len(dls.train))\n",
    "\n",
    "l = Learner(rnn, dls, multi_output_cross_entropy, torch.optim.Adam, None, subs=subs + [SchedulerS(scheduler)])\n",
    "l.fit(epochs, lr=lr)"
   ]
  },
  {
   "cell_type": "markdown",
   "id": "bdb79916-2f95-4b23-b146-a0d73aa09a07",
   "metadata": {},
   "source": [
    "The loss improved a bit from this fix, and the spikes are smaller, but still visible. This is not surprising since the very first batch in each epoch still has the difficulty of working with an empty hidden state. This is not a big issue however, since the hidden state is quickly filling up. Accordingly, the following batches show again a loss that is in-line with the loss of the end of the previous epoch."
   ]
  },
  {
   "cell_type": "markdown",
   "id": "2be9a41c-f71b-4364-9334-3940af357e0e",
   "metadata": {},
   "source": [
    "Last but not least, PyTorch `nn.RNN` accepts two parameters, one for the features in the inputs and one for the features in the hidden state. Previously we used one single parameter for this to make sure we can add the activations. Apparently, `nn.RNN` is doing another multiplication to align them. So let's use these two values as separate arguments to see whether we can further improve performance through tweaking them."
   ]
  },
  {
   "cell_type": "code",
   "execution_count": null,
   "id": "c5b59b50-88f8-4b99-b9b3-f48700fd6fb1",
   "metadata": {
    "vscode": {
     "languageId": "python"
    }
   },
   "outputs": [],
   "source": [
    "class PyTorchRNNMultiOutput(nn.Module):\n",
    "    \n",
    "    def __init__(self, c2i, embedding_dim, hidden_size, bs):\n",
    "        super().__init__()\n",
    "        self.c2i = c2i\n",
    "        self.bs = bs\n",
    "        self.embedding_dim = embedding_dim\n",
    "        self.hidden_size = hidden_size\n",
    "        # register as buffer so that its moved to the device by the DeviceS Subscriber\n",
    "        self.register_buffer('h', torch.zeros((1, bs, self.hidden_size))) \n",
    "        \n",
    "        self.input2hidden   = nn.Embedding(len(c2i), embedding_dim)\n",
    "        self.rnn            = nn.RNN(embedding_dim, hidden_size, nonlinearity='relu', batch_first=True)\n",
    "        self.hidden2out     = nn.Linear(hidden_size, len(c2i))\n",
    "        \n",
    "    def forward(self, x):\n",
    "        inputs = self.input2hidden(x)\n",
    "        hs, h = self.rnn(inputs, self.h)\n",
    "        # hs : [bs, context_length, hidden_size]\n",
    "        # h  : [1, bs, hidden_size]\n",
    "        self.h = h.detach()\n",
    "        return self.hidden2out(hs)\n",
    "    \n",
    "    def reset_hidden_state(self):\n",
    "        device = self.h.get_device()\n",
    "        self.h = torch.zeros_like(self.h).to(device)"
   ]
  },
  {
   "cell_type": "markdown",
   "id": "4de25529",
   "metadata": {},
   "source": [
    "Trying for around 10 minutes with different settings shows me that performance can be slightly improved by increasing the size of the hidden state by quite a bit, and keeping the embedding dimension smaller:"
   ]
  },
  {
   "cell_type": "code",
   "execution_count": null,
   "id": "d4e7d33a-1896-4dea-99d9-656234f8bee6",
   "metadata": {
    "vscode": {
     "languageId": "python"
    }
   },
   "outputs": [
    {
     "data": {
      "text/html": [
       "\n",
       "<style>\n",
       "    /* Turns off some styling */\n",
       "    progress {\n",
       "        /* gets rid of default border in Firefox and Opera. */\n",
       "        border: none;\n",
       "        /* Needs to be in here for Safari polyfill so background images work as expected. */\n",
       "        background-size: auto;\n",
       "    }\n",
       "    progress:not([value]), progress:not([value])::-webkit-progress-bar {\n",
       "        background: repeating-linear-gradient(45deg, #7e7e7e, #7e7e7e 10px, #5c5c5c 10px, #5c5c5c 20px);\n",
       "    }\n",
       "    .progress-bar-interrupted, .progress-bar-interrupted::-webkit-progress-bar {\n",
       "        background: #F44336;\n",
       "    }\n",
       "</style>\n"
      ],
      "text/plain": [
       "<IPython.core.display.HTML object>"
      ]
     },
     "metadata": {},
     "output_type": "display_data"
    },
    {
     "data": {
      "text/html": [
       "<table border=\"1\" class=\"dataframe\">\n",
       "  <thead>\n",
       "    <tr style=\"text-align: left;\">\n",
       "      <th>epoch</th>\n",
       "      <th>mode</th>\n",
       "      <th>loss</th>\n",
       "    </tr>\n",
       "  </thead>\n",
       "  <tbody>\n",
       "    <tr>\n",
       "      <td>0</td>\n",
       "      <td>train</td>\n",
       "      <td>2.370</td>\n",
       "    </tr>\n",
       "    <tr>\n",
       "      <td>0</td>\n",
       "      <td>eval</td>\n",
       "      <td>2.180</td>\n",
       "    </tr>\n",
       "    <tr>\n",
       "      <td>1</td>\n",
       "      <td>train</td>\n",
       "      <td>2.133</td>\n",
       "    </tr>\n",
       "    <tr>\n",
       "      <td>1</td>\n",
       "      <td>eval</td>\n",
       "      <td>2.131</td>\n",
       "    </tr>\n",
       "    <tr>\n",
       "      <td>2</td>\n",
       "      <td>train</td>\n",
       "      <td>2.045</td>\n",
       "    </tr>\n",
       "    <tr>\n",
       "      <td>2</td>\n",
       "      <td>eval</td>\n",
       "      <td>2.056</td>\n",
       "    </tr>\n",
       "    <tr>\n",
       "      <td>3</td>\n",
       "      <td>train</td>\n",
       "      <td>1.928</td>\n",
       "    </tr>\n",
       "    <tr>\n",
       "      <td>3</td>\n",
       "      <td>eval</td>\n",
       "      <td>2.005</td>\n",
       "    </tr>\n",
       "    <tr>\n",
       "      <td>4</td>\n",
       "      <td>train</td>\n",
       "      <td>1.817</td>\n",
       "    </tr>\n",
       "    <tr>\n",
       "      <td>4</td>\n",
       "      <td>eval</td>\n",
       "      <td>1.986</td>\n",
       "    </tr>\n",
       "  </tbody>\n",
       "</table>"
      ],
      "text/plain": [
       "<IPython.core.display.HTML object>"
      ]
     },
     "metadata": {},
     "output_type": "display_data"
    },
    {
     "data": {
      "image/png": "[encoded data removed]",
      "text/plain": [
       "<Figure size 432x288 with 1 Axes>"
      ]
     },
     "metadata": {},
     "output_type": "display_data"
    }
   ],
   "source": [
    "# Train parameters\n",
    "epochs = 5\n",
    "lr     = 1e-2\n",
    "bs     = 300\n",
    "\n",
    "# Hyperparameters\n",
    "context_length = 5\n",
    "n_h            = 1000\n",
    "embedding_dim  = 100\n",
    "\n",
    "dls = get_dls(context_length, bs)\n",
    "rnn = PyTorchRNNMultiOutput(c2i, embedding_dim, n_h, bs)\n",
    "\n",
    "subs = [ProgressS(True),\n",
    "        MetricsS(),\n",
    "        DeviceS(device),\n",
    "        HiddenStateResetterS()]\n",
    "\n",
    "scheduler = partial(torch.optim.lr_scheduler.OneCycleLR, max_lr=lr, epochs=epochs, steps_per_epoch=len(dls.train))\n",
    "\n",
    "l = Learner(rnn, dls, multi_output_cross_entropy, torch.optim.Adam, None, subs=subs + [SchedulerS(scheduler)])\n",
    "l.fit(epochs, lr=lr)"
   ]
  },
  {
   "cell_type": "markdown",
   "id": "1525ba8f-cec6-4581-90f2-d1cc0b13078a",
   "metadata": {},
   "source": [
    "## Sampling names"
   ]
  },
  {
   "cell_type": "markdown",
   "id": "9516366d",
   "metadata": {},
   "source": [
    "And as we did with the MLP, let's conclude with some sampled names from this model"
   ]
  },
  {
   "cell_type": "code",
   "execution_count": null,
   "id": "46b66673",
   "metadata": {
    "vscode": {
     "languageId": "python"
    }
   },
   "outputs": [],
   "source": [
    "@fc.patch\n",
    "def generate(self:PyTorchRNNMultiOutput, n=10, generator=None):\n",
    "    # For unbatched input we need a 2D hidden state tensor of size [1, hidden_size]\n",
    "    self.h = torch.zeros((1, self.hidden_size)).cuda()\n",
    "    \n",
    "    names = []\n",
    "    for i in range(n):\n",
    "        name = '.'\n",
    "        while True:\n",
    "            idx = torch.tensor([c2i[name[-1]]]).cuda()\n",
    "            logits = self.forward(idx)\n",
    "            s = torch.multinomial(F.softmax(logits, dim=1), 1, generator=generator)\n",
    "            c = i2c[s.item()]\n",
    "            name += c\n",
    "            if c == '.':\n",
    "                names.append(name)\n",
    "                break\n",
    "    return names"
   ]
  },
  {
   "cell_type": "code",
   "execution_count": null,
   "id": "d917074c",
   "metadata": {
    "vscode": {
     "languageId": "python"
    }
   },
   "outputs": [
    {
     "data": {
      "text/plain": [
       "['.elanora.',\n",
       " '.alaijah.',\n",
       " '.zabra.',\n",
       " '.diriyah.',\n",
       " '.juannabella.',\n",
       " '.kayahni.',\n",
       " '.ziak.',\n",
       " '.skydir.',\n",
       " '.braved.',\n",
       " '.robina.']"
      ]
     },
     "execution_count": null,
     "metadata": {},
     "output_type": "execute_result"
    }
   ],
   "source": [
    "rnn.generate()"
   ]
  },
  {
   "cell_type": "markdown",
   "id": "4fd870c9",
   "metadata": {},
   "source": [
    "## Outlook"
   ]
  },
  {
   "cell_type": "markdown",
   "id": "6d819279",
   "metadata": {},
   "source": [
    "We have come quite a long way, and we have seen that an RNN is in essence not very different from the MLP created earlier. The complexity in my opinion only has to do with the different way of processing and loading the data, which greatly reduces the time to train such models. In the next post we are going to have a look at long short-term memory (LSTM) networks and gated recurrent unit networks (with lot's of fancy diagrams 😏)."
   ]
  }
 ],
 "metadata": {
  "kernelspec": {
   "display_name": "python3",
   "language": "python",
   "name": "python3"
  }
 },
 "nbformat": 4,
 "nbformat_minor": 5
}
