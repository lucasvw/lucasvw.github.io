{
 "cells": [
  {
   "cell_type": "raw",
   "metadata": {},
   "source": [
    "---\n",
    "title: \"Blog setup\"\n",
    "author: \"Lucas van Walstijn\"\n",
    "date: \"2023-02-24\"\n",
    "categories: [blogging, setup, how-to]\n",
    "image: \"profile.png\"\n",
    "comments:\n",
    "  utterances:\n",
    "    repo: lucasvw/BlogComments\n",
    "---"
   ]
  },
  {
   "attachments": {},
   "cell_type": "markdown",
   "metadata": {},
   "source": [
    "In this blog post I'll explain how I created this blog, using Quarto and GitHub. In step 4 I'll show how to setup GitHub Actions, this has advantages over the other ways to publish our blog:\n",
    "\n",
    "1. Our source code is also stored safely on GitHub\n",
    "2. We can easily create blog entries anywhere we want, especially also from our deep learning server without having to install quarto. We can simply push to the remote branch and GitHub Actions will build the blog for us.\n",
    "\n",
    "I'm working on a Macbook, and using VS Code for code editing. If you are on a Linux or Windows machine, be aware that things might be a bit different from what I describe here.\n",
    "\n",
    "I am assuming you already have a GitHub account, that VS Code is installed and configured to run Python and Jupyter Notebooks."
   ]
  },
  {
   "attachments": {},
   "cell_type": "markdown",
   "metadata": {},
   "source": [
    "## Step 1: install Quarto\n",
    "\n",
    "First of all you need to install Quarto, go [here](https://quarto.org/docs/get-started/), download and install the software. You should do this on the machine that you want to use for writing your blog, in my case my Macbook laptop.\n",
    "\n",
    "Once installed you will have access to the quarto Command Line Interface (CLI). To make sure everything works as expected, open a terminal and execute:\n",
    "\n",
    "```{.bash filename=\"Terminal\"}\n",
    "quarto --help\n",
    "```\n",
    "\n",
    "This should render some outputs describing the different commands and options that are part of the Quarto CLI and shows that Quarto is installed successfully.\n"
   ]
  },
  {
   "attachments": {},
   "cell_type": "markdown",
   "metadata": {},
   "source": [
    "## Step 2: create a GitHub repo\n",
    "\n",
    "To host our blog we will use GitHub Pages, which is a service to host a website from a GitHub repository. Based on the name you pick for your repository you will create a so-called project-website or your unique user-website. For any general repo named `my-awesome-repo`, the website will be hosted on `https://<github-username>.github.io/my-awesome-repo`. This is a project-websites and you can create as many as you like. \n",
    "\n",
    "To create your user-website, you have to name the repo exactly like this: `<github-username>.github.io`, the user-website will be hosted at `https://<github-username>.github.io`.\n",
    "\n",
    "This is exactly what I want, so I create a new repo with the name: `lucasvw.github.io`.\n",
    "\n",
    "I find it helpful to add a `.gitignore` file with a Python template, to which we can later add some more entries to facilitate storing the right files on GitHub. Also make sure that the repo is Public (and not set to Private). Additionally, I added a README file and choose the Apache2 License.\n",
    "\n",
    "Next, I clone this repo to my machine by running:\n",
    "\n",
    "```{.bash filename=\"Terminal\"}\n",
    "git clone git@github.com:lucasvw/lucasvw.github.io.git\n",
    "```"
   ]
  },
  {
   "attachments": {},
   "cell_type": "markdown",
   "metadata": {},
   "source": [
    "## Step 3: add a Quarto project to the repo\n",
    "\n",
    "Next, open VS Code and open the cloned repo. Then access the VS Code terminal and run:\n",
    "\n",
    "```{.bash filename=\"Terminal\"}\n",
    "quarto create-project --type website:blog\n",
    "```\n",
    "\n",
    "This will add a number of files to our repo, which represent the basic structure of our blog. Most importantly:\n",
    "\n",
    "- `posts`: here we will create our blog entries (one subfolder per blog entry)\n",
    "- `_quarto.yml`: configuration file for our blog such as the theme, name, GitHub and Twitter links\n",
    "- `about.qmd`: source code for the \"about\" page.\n",
    "- `index.qmd`: source code for the landing page.\n",
    "\n",
    ":::{.callout-note}\n",
    "`.qmd` files are like markdown files, but with lots of additional functionality from Quarto. Go [here](https://www.markdownguide.org/basic-syntax/) for more information on Markdown syntax and [here](https://nbdev.fast.ai/tutorials/qmd_intro.html) for Quarto Markdown\n",
    ":::\n",
    "\n",
    "To see what we currently have, let's render our blog locally:\n",
    "\n",
    "```{.bash filename=\"Terminal\"}\n",
    "quarto preview\n",
    "```\n",
    "\n",
    "Alternatively, we can install the Quarto extension in VS Code, which will show a `render` button in the top right corner on any opened `qmd` file.\n",
    "\n",
    "To publish the current contents to GitHub pages, we can run:\n",
    "\n",
    "```{.bash filename=\"Terminal\"}\n",
    "quarto publish gh-pages\n",
    "```\n",
    "\n",
    "When doing so, we get a message that we have to change the branch from which GitHub Pages builds the site. To do this, I go to [https://github.com/lucasvw/lucasvw.github.io/settings/pages](https://github.com/lucasvw/lucasvw.github.io/settings/pages) and select `gh-pages` instead of the `main` branch.\n",
    "\n",
    "And voila, in a few moments our blog will be running live at [https://lucasvw.github.io/](https://lucasvw.github.io/)"
   ]
  },
  {
   "attachments": {},
   "cell_type": "markdown",
   "metadata": {},
   "source": [
    "## Step 4: Finalize set-up: GitHub Actions"
   ]
  },
  {
   "attachments": {},
   "cell_type": "markdown",
   "metadata": {},
   "source": [
    "When we run the `quarto publish gh-pages` command, Quarto processes our files and turns them into web readable files (HTML, JS, CSS etc). It stores these files in our `gh-pages` branch and pushes them to our remote GitHub repo. This is great, but it means that this doesn't store our source files.\n",
    "\n",
    "To do so, let's first open our `.gitignore` file and make sure that it contains the following entries so that we don't check in any files we don't need.\n",
    "\n",
    "```{.txt filename=\".gitignore\"}\n",
    "# Quarto\n",
    "/.quarto/\n",
    "_site/\n",
    "\n",
    "# Mac files\n",
    ".DS_Store\n",
    "```\n",
    "\n",
    "Next, we can commit all the remaining files to Git and push them to our remote repo. If we ever lose access to our local machine, we can restore everything we need from GitHub.\n",
    "\n",
    "However, now we have 2 things we need to do whenever we finish our work:\n",
    "\n",
    "- store our source files on the main branch and push to GitHub\n",
    "- run the publish command to update the blog\n",
    "\n",
    "This is a bit annoying and it would be much better if we can just push to the main branch and GitHub would take care of building our website and updating it. This also allows us to create blog entries on any machine that has access to git, we don't need to have quarto installed. This is particularly practical if we want to write blog entries from our deep learning server. So let's use GitHub actions for this.\n",
    "\n",
    ":::{.callout-note}\n",
    "Before you continue make sure you have at least once run a `quarto publish gh-pages` command, this is necessary for the things below to work\n",
    ":::\n",
    "\n",
    "First we need to add the following snippet to `_quarto.yml`\n",
    "\n",
    "```{.yml filename=\"_quarto.yml\"}\n",
    "execute:\n",
    "  freeze: auto\n",
    "```\n",
    "\n",
    "This will make sure that GitHub actions doesn't execute any executable code, but will show the pre-rendered outputs it finds in the `_freeze` folder. \n",
    "\n",
    "Finally, create the file `.github/workflows/publish.yml` and populate it with the following code:\n",
    "\n",
    "```{.yml filename=\".github/workflows/publish.yml\"}\n",
    "on:\n",
    "  workflow_dispatch:\n",
    "  push:\n",
    "    branches: main\n",
    "\n",
    "name: Quarto Publish\n",
    "\n",
    "jobs:\n",
    "  build-deploy:\n",
    "    runs-on: ubuntu-latest\n",
    "    permissions:\n",
    "      contents: write\n",
    "    steps:\n",
    "      - name: Check out repository\n",
    "        uses: actions/checkout@v3\n",
    "\n",
    "      - name: Set up Quarto\n",
    "        uses: quarto-dev/quarto-actions/setup@v2\n",
    "\n",
    "      - name: Render and Publish\n",
    "        uses: quarto-dev/quarto-actions/publish@v2\n",
    "        with:\n",
    "          target: gh-pages\n",
    "        env:\n",
    "          GITHUB_TOKEN: ${{ secrets.GITHUB_TOKEN }}\n",
    "```\n",
    "\n",
    "Once we push these things to GitHub, we are good to go. Whenever we push anything to the `main` branch, this workflow will execute and take care of updating the `gh-pages` branch and updating the blog."
   ]
  },
  {
   "cell_type": "code",
   "execution_count": null,
   "metadata": {},
   "outputs": [],
   "source": []
  }
 ],
 "metadata": {
  "kernelspec": {
   "display_name": "base",
   "language": "python",
   "name": "python3"
  },
  "language_info": {
   "codemirror_mode": {
    "name": "ipython",
    "version": 3
   },
   "file_extension": ".py",
   "mimetype": "text/x-python",
   "name": "python",
   "nbconvert_exporter": "python",
   "pygments_lexer": "ipython3",
   "version": "3.10.8"
  },
  "orig_nbformat": 4,
  "vscode": {
   "interpreter": {
    "hash": "43cc6c32001a0422374a728c33cee47fa801e6ff6ae6ab65a30360cba7713ef3"
   }
  }
 },
 "nbformat": 4,
 "nbformat_minor": 2
}
