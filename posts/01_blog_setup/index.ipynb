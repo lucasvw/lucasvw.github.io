{
 "cells": [
  {
   "cell_type": "raw",
   "metadata": {},
   "source": [
    "---\n",
    "title: \"Blog setup\"\n",
    "author: \"Lucas van Walstijn\"\n",
    "date: \"2023-02-24\"\n",
    "categories: [blogging, setup]\n",
    "---"
   ]
  },
  {
   "attachments": {},
   "cell_type": "markdown",
   "metadata": {},
   "source": [
    "In this blog post I'll explain how I created this blog, using Quarto, GitHub (and GitHub Pages). I'm working on a Macbook, and using VS Code for code editing. If you are on a Linux or Windows machine, be aware that things might be a bit different from what I describe here.\n",
    "\n",
    "I am assuming you already have a GitHub account, that you have VS Code installed and set up in a way that you can run Python and Jupyter Notebooks."
   ]
  },
  {
   "attachments": {},
   "cell_type": "markdown",
   "metadata": {},
   "source": [
    "## Step 1: install Quarto\n",
    "\n",
    "First of all you need to install Quarto, head over to [here](https://quarto.org/docs/get-started/) and download and install the software. You should do this on the machine that you want to use for writing your blog, in my case my Macbook laptop.\n",
    "\n",
    "Once installed you will have access to the quarto Command Line Interface (CLI). To make sure everything works as expected, open a terminal and execute:\n",
    "\n",
    "```bash\n",
    "quarto --help\n",
    "```\n",
    "\n",
    "This should give some outputs describing the different commands and options that are part of the Quarto CLI and shows that Quarto is installed successfully.\n"
   ]
  },
  {
   "attachments": {},
   "cell_type": "markdown",
   "metadata": {},
   "source": [
    "## Step 2: create a GitHub repo\n",
    "\n",
    "To host our blog, we will use GitHub Pages, which is a service to host a website from a GitHub repository. Based on the name you pick for your repository you will create a so-called \"project website\" or your unique \"user website\". For any repo named `my-awesome-repo`, the website will be hosted on `https://<github-username>.github.io/my-awesome-repo`, this is what's called a project website and you can create as many as you like. \n",
    "\n",
    "You can create your \"user website\" by creating a repo called `<github-username>.github.io`, which will be hosted at `https://<github-username>.github.io`.\n",
    "\n",
    "Since I want my blog to be hosted as \"user website\", I thus create a new repo with the name: `lucasvw.github.io`.\n",
    "\n",
    "I find it helpful to add a `.gitignore` file with a Python template, to which we can later add some more entries to facilitate storing the right files on GitHub. Also make sure that the repo is Public (and not set to Private). Additionally, I added a README file and choose the Apache2 License.\n",
    "\n",
    "Next, I clone this repo to my machine by running the following command in the folder where I have all my code project.\n",
    "\n",
    "```bash\n",
    "git clone git@github.com:lucasvw/lucasvw.github.io.git\n",
    "```"
   ]
  },
  {
   "attachments": {},
   "cell_type": "markdown",
   "metadata": {},
   "source": [
    "## Step 3: create a Quarto project in the repo\n",
    "\n",
    "Next, head over to VS Code, and open the cloned repo. Open the terminal inside of VS Code and run:\n",
    "\n",
    "```bash\n",
    "quarto create-project --type website:blog\n",
    "```\n",
    "\n",
    "This will add a number of files to our repo, which represent the basic structure of our blog. Most importantly:\n",
    "\n",
    "- `posts`: here we will create our blog entries (one subfolder per blog entry)\n",
    "- `_quarto.yml`: configuration file for our blog such as the theme, name, GitHub and Twitter links\n",
    "- `about.qmd`: source code for the \"about\" page.\n",
    "- `index.qmd`: source code for the landing page.\n",
    "\n",
    ":::{.callout-note}\n",
    "`.qmd` files are like markdown files, but with lots of additional functionality from Quarto. Go [here](https://www.markdownguide.org/basic-syntax/) for more information on Markdown syntax and [here](https://nbdev.fast.ai/tutorials/qmd_intro.html) for Quarto Markdown\n",
    ":::\n",
    "\n",
    "To see what we currently have, let's render our blog locally. We can do this by running\n",
    "\n",
    "```bash\n",
    "quarto preview\n",
    "```\n",
    "\n",
    "Alternatively, we can install the Quarto extension in VS Code, which will show a `render` button in the top right corner on any opened `qmd` file.\n",
    "\n",
    "To publish to GitHub pages, we can run:\n",
    "\n",
    "```bash\n",
    "quarto publish gh-pages\n",
    "```\n",
    "\n",
    "When we run this, we get a message that we have to change the branch from which GitHub Pages builds the site. To do this, I go to [https://github.com/lucasvw/lucasvw.github.io/settings/pages](https://github.com/lucasvw/lucasvw.github.io/settings/pages) and select `gh-pages` instead of the `main` branch.\n",
    "\n",
    "And voila, in a few moments our blog will be running live at [https://lucasvw.github.io/](https://lucasvw.github.io/)"
   ]
  },
  {
   "attachments": {},
   "cell_type": "markdown",
   "metadata": {},
   "source": [
    "## Step 4: finalize set-up and create first blog entry"
   ]
  },
  {
   "attachments": {},
   "cell_type": "markdown",
   "metadata": {},
   "source": [
    "When we run the `quarto publish gh-pages` command, Quarto processes our files and turns them into web readable files (HTML, JS, CSS etc). Next, it will push these files to the `gh-pages` branch. This is great, but it means that this doesn't store our source files in GitHub.\n",
    "\n",
    "To do so, let's first open our `.gitignore` file and make sure that it contains the following entries:\n",
    "\n",
    "```txt\n",
    "# Quarto\n",
    "/.quarto/\n",
    "_site/\n",
    "\n",
    "# Mac files\n",
    ".DS_Store\n",
    "```\n",
    "\n",
    "Next, we can commit all the remaining files to Git and push them to our remote repo.\n",
    "\n",
    "Finally, we can start tweaking our `about.qmd` files and create a new blog entry"
   ]
  }
 ],
 "metadata": {
  "kernelspec": {
   "display_name": "base",
   "language": "python",
   "name": "python3"
  },
  "language_info": {
   "codemirror_mode": {
    "name": "ipython",
    "version": 3
   },
   "file_extension": ".py",
   "mimetype": "text/x-python",
   "name": "python",
   "nbconvert_exporter": "python",
   "pygments_lexer": "ipython3",
   "version": "3.10.8"
  },
  "orig_nbformat": 4,
  "vscode": {
   "interpreter": {
    "hash": "43cc6c32001a0422374a728c33cee47fa801e6ff6ae6ab65a30360cba7713ef3"
   }
  }
 },
 "nbformat": 4,
 "nbformat_minor": 2
}
