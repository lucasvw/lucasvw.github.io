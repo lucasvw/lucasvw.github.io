{
 "cells": [
  {
   "cell_type": "raw",
   "metadata": {},
   "source": [
    "---\n",
    "title: \"Fast matrix multiplications\"\n",
    "author: \"Lucas van Walstijn\"\n",
    "date: \"2023-03-07\"\n",
    "categories: [foundations, math, vectorization, linear algebra]\n",
    "image: \"image.png\"\n",
    "comments:\n",
    "  utterances:\n",
    "    repo: lucasvw/BlogComments\n",
    "format:\n",
    "  html:\n",
    "    code-overflow: scroll\n",
    "---"
   ]
  },
  {
   "cell_type": "markdown",
   "metadata": {},
   "source": [
    "Matrix multiplications are kind of boring, so why write a blog post about them? Well, matrix multiplications are the most basic computation that is being performed by neural networks. So it's probably good to be familiar with them, eventhough we never do them by hand. Also, we are going to focus on vectorization to speed them up. Vectorization is something we often have to do, to make sure everything runs as quickly as possible, and it's thus a good exercise to understand how to achieve this. Especially since it involves being very familiar with matrices, their shapes, broadcasting operations and the like.\n",
    "\n",
    "This post follows the first lecture of Part 2 of the FastAI course (2019), I will provide some additional explanations, and  present one other optimization that is not presented in the [lecture](https://\n",
    "youtu.be/4u8FxNEDUeg?t=2392)."
   ]
  },
  {
   "cell_type": "markdown",
   "metadata": {},
   "source": [
    "## Definition\n",
    "\n",
    "Matrix multiplication is not difficult, it goes like this:\n",
    "\n",
    "- For matrix A of size `[ar x ac]` &nbsp; (`[4 x 3]` in the image below)\n",
    "- and matrix B of size `[br x bc]` &nbsp; (`[3 x 2]` in the image below)\n",
    "- the matrix product `A * B` is of size `[ar x bc]` (`[4 x 2]` in the image below).\n",
    "- So the matrix product is thus only defined when `ac == br` (`3 == 3` in the image below)\n",
    "\n",
    "![](image.png){fig-align=\"center\"}\n",
    "\n",
    "So for any valid matrix multiplication, we have three dimensions that need to considered:\n",
    "\n",
    "- `ar`: the row dimension of matrix A. The size of this dimension will become the size of the row dimension of the output matrix (black arrow in the image above)\n",
    "- `bc`: the column dimension of matrix B. The size of this dimension will become the size of the column dimension of the output matrix (purple arrow in the image above)\n",
    "- `ac`: the column dimension of Matrix A and `br`: the row dimension of matrix B: **they need to be equal** (red arrow in the image above)\n",
    "\n",
    "Why do `ac` and `bc` need to be equal? Well, because we take the inner product over this dimension when computing the cell values of the new matrix, and inner-products are only defined for vectors of equal length. Below, I will also refer to this dimension as the dimension over which we collapse (or the \"collapsible\" dimension), since in the output matrix, this dimension is no longer present.\n",
    "\n",
    "![](image1.png){fig-align=\"center\"}\n",
    "\n",
    "In other words, to compute cell $C_{i,j}$ we take the inner product between row `i` of matrix A and column `j` of matrix B. If we take for example the inner product between row 3 of matrix A and column 2 of matrix B we get the value of cell $C_{3,2}$:\n",
    "\n",
    "![](image2.png){fig-align=\"center\"}\n",
    "\n",
    "Let's do this in code, to confirm these statements:"
   ]
  },
  {
   "cell_type": "code",
   "execution_count": null,
   "metadata": {},
   "outputs": [],
   "source": [
    "import torch\n",
    "\n",
    "a = torch.randn(4,3)\n",
    "b = torch.randn(3,2)"
   ]
  },
  {
   "cell_type": "code",
   "execution_count": null,
   "metadata": {},
   "outputs": [
    {
     "data": {
      "text/plain": [
       "torch.Size([4, 2])"
      ]
     },
     "execution_count": null,
     "metadata": {},
     "output_type": "execute_result"
    }
   ],
   "source": [
    "# Confirm the shape of the output matrix\n",
    "(a@b).shape"
   ]
  },
  {
   "cell_type": "code",
   "execution_count": null,
   "metadata": {},
   "outputs": [],
   "source": [
    "# Confirm the value of one output cell (C00)\n",
    "C00_manual = (a[0,0] * b[0,0]) + (a[0,1] * b[1,0]) + (a[0,2] * b[2,0])\n",
    "C00_auto = (a@b)[0,0]\n",
    "\n",
    "assert torch.allclose(C00_manual, C00_auto)"
   ]
  },
  {
   "cell_type": "markdown",
   "metadata": {},
   "source": [
    "Now, let's create our own matrix multiplication function:"
   ]
  },
  {
   "cell_type": "code",
   "execution_count": null,
   "metadata": {},
   "outputs": [],
   "source": [
    "def matmul(a, b):\n",
    "    # fill in the sizes of the dimensions\n",
    "    ar, ac = a.shape\n",
    "    br, bc = b.shape\n",
    "\n",
    "    # assert that our matrices can be multiplied \n",
    "    assert ac == br\n",
    "\n",
    "    # create an output tensor of the expected size (ar x bc)\n",
    "    out = torch.zeros(ar, bc)\n",
    "\n",
    "    # iterate over the rows of the output matrix (--> length ar)\n",
    "    for i in range(out.shape[0]):\n",
    "        # iterate over the columns of the output matrix (--> length bc)\n",
    "        for j in range(out.shape[1]):\n",
    "            # iterate over the \"collapsed\" dimension (--> length ac and length br), \n",
    "            for k in range(ac):\n",
    "                out[i, j] += a[i, k] * b[k, j]\n",
    "    \n",
    "    return out\n",
    "\n",
    "# Confirm that the result is correct\n",
    "assert torch.allclose(matmul(a,b), a@b)"
   ]
  },
  {
   "cell_type": "markdown",
   "metadata": {},
   "source": [
    "Although this is functionally correct, it's not very efficient. In fact, to compute the value of one cell of the output matrix, we are doing three separate multiplications. In other words, for each cell `out[i,j]` we are calling three times (once for every value of `k`):\n",
    "\n",
    "```\n",
    "out[i, j] += a[i, k] * b[k, j]\n",
    "```\n",
    "\n",
    "Let's try to reduce the computation of one cell to just one single call."
   ]
  },
  {
   "cell_type": "markdown",
   "metadata": {},
   "source": [
    "## First improvement\n",
    "\n",
    "To do so, we need to get rid of the loop over the \"collapsible\" dimension `k`. We can simply do this by replacing the `k` with a `:`, so that we select the whole dimension instead of just one element in that dimension. The multiplication (`*`) is doing an element wise multiplication, so we have to wrap the result with a `.sum()`."
   ]
  },
  {
   "cell_type": "code",
   "execution_count": null,
   "metadata": {},
   "outputs": [],
   "source": [
    "def matmul2(a, b):\n",
    "    ar, ac = a.shape\n",
    "    br, bc = b.shape\n",
    "    assert ac == br\n",
    "\n",
    "    out = torch.zeros(ar,bc)\n",
    "    # iterate over the rows of the output matrix (i)\n",
    "    for i in range(out.shape[0]):\n",
    "        # iterate over the columns of the output matrix (j)\n",
    "        for j in range(out.shape[1]):\n",
    "            out[i, j] = (a[i, :] * b[:, j]).sum()\n",
    "    \n",
    "    return out\n",
    "\n",
    "# Confirm that the result is correct\n",
    "assert torch.allclose(matmul(a,b), a@b)"
   ]
  },
  {
   "cell_type": "markdown",
   "metadata": {},
   "source": [
    "## Second improvement"
   ]
  },
  {
   "cell_type": "markdown",
   "metadata": {},
   "source": [
    "The improvement above, gives us the value of a cell in one single call:\n",
    "\n",
    "```\n",
    "out[i, j] = (a[i, :] * b[:, j]).sum()\n",
    "```\n",
    "\n",
    "This is great, let's try to vectorize this even further, and get rid of the second loop (the loop over `j`), this means that we need to compute the values of a single row of the output matrix in one call, e.g.\n",
    "\n",
    "```\n",
    "out[i,:] = ...\n",
    "```\n",
    "\n",
    "We know that the value of cell $C_{ij}$ is the inner product between row `i` of A and column `j` of B. We also know that any row of matrix C will have two values. Let's compute them manually:"
   ]
  },
  {
   "cell_type": "code",
   "execution_count": null,
   "metadata": {},
   "outputs": [
    {
     "name": "stdout",
     "output_type": "stream",
     "text": [
      "out_00=tensor(-0.0213)\n",
      "out_01=tensor(0.3668)\n",
      "C0_manual=tensor([-0.0213,  0.3668])\n"
     ]
    }
   ],
   "source": [
    "out_00 = (a[0,:] * b[:,0]).sum()\n",
    "out_01 = (a[0,:] * b[:,1]).sum()\n",
    "    \n",
    "C0_manual = torch.stack([out_00, out_01])\n",
    "C0_auto = (a@b)[0]\n",
    "\n",
    "assert torch.allclose(C0_manual, C0_auto)\n",
    "\n",
    "print(f'{out_00=}', f'{out_01=}', f'{C0_manual=}', sep='\\n')"
   ]
  },
  {
   "cell_type": "markdown",
   "metadata": {},
   "source": [
    "Observe that for the computation of one row of output, we need:\n",
    "\n",
    "- one single row of A (`a[0,:]`)\n",
    "- the full matrix of B, we need both the first (`b[:,0]`) column and the second column (`b[:,1]`). \n",
    "\n",
    "Let's check the sizes of both and see whether we can use broadcasting:"
   ]
  },
  {
   "cell_type": "code",
   "execution_count": null,
   "metadata": {},
   "outputs": [
    {
     "name": "stdout",
     "output_type": "stream",
     "text": [
      "a[0,:].shape=torch.Size([3])\n",
      "b.shape=torch.Size([3, 2])\n"
     ]
    }
   ],
   "source": [
    "print(f'{a[0,:].shape=}', f'{b.shape=}', sep='\\n')"
   ]
  },
  {
   "cell_type": "markdown",
   "metadata": {},
   "source": [
    "Unfortunately, size `[3]` and `[3,2]` don't broadcast. To make them broadcast, we have to add an empty dimension at the end of the row of the A matrix. Then, the shapes `[3, 1]` and `[3, 2]` can be broadcasted to another by duplicating the former in the column direction:"
   ]
  },
  {
   "cell_type": "code",
   "execution_count": null,
   "metadata": {},
   "outputs": [
    {
     "data": {
      "text/plain": [
       "tensor([[ 0.9193,  0.9193],\n",
       "        [-0.0426, -0.0426],\n",
       "        [ 1.3566,  1.3566]])"
      ]
     },
     "execution_count": null,
     "metadata": {},
     "output_type": "execute_result"
    }
   ],
   "source": [
    "t = a[0,:].unsqueeze(-1) # [3, 1]\n",
    "\n",
    "t.broadcast_to(b.shape) # [3, 2]"
   ]
  },
  {
   "cell_type": "markdown",
   "metadata": {},
   "source": [
    "Now that both object are the same size we can do an element-wise multiplication and then sum over the rows to arrive at an output of size `[1,2]`:"
   ]
  },
  {
   "cell_type": "code",
   "execution_count": null,
   "metadata": {},
   "outputs": [
    {
     "name": "stdout",
     "output_type": "stream",
     "text": [
      "C0_manual=tensor([-0.0213,  0.3668])\n",
      "C0_manual.shape=torch.Size([2])\n"
     ]
    }
   ],
   "source": [
    "C0_manual = (t*b).sum(dim=0)\n",
    "C0_auto = (a@b)[0,:]\n",
    "\n",
    "assert torch.allclose(C0_manual, C0_auto)\n",
    "\n",
    "print(f'{C0_manual=}', f'{C0_manual.shape=}', sep='\\n')"
   ]
  },
  {
   "cell_type": "markdown",
   "metadata": {},
   "source": [
    "So let's implement this:"
   ]
  },
  {
   "cell_type": "code",
   "execution_count": null,
   "metadata": {},
   "outputs": [],
   "source": [
    "def matmul3(a, b):\n",
    "    ar, ac = a.shape\n",
    "    br, bc = b.shape\n",
    "    assert ac == br\n",
    "\n",
    "    out = torch.zeros(ar,bc)\n",
    "    # iterate over the rows of the output matrix (i)\n",
    "    for i in range(out.shape[0]):\n",
    "        out[i, :] = (a[i, :].unsqueeze(-1) * b).sum(dim=0)\n",
    "    \n",
    "    return out\n",
    "\n",
    "# Confirm that the result is correct\n",
    "assert torch.allclose(matmul(a,b), a@b)"
   ]
  },
  {
   "cell_type": "markdown",
   "metadata": {},
   "source": [
    "## Third improvement"
   ]
  },
  {
   "cell_type": "markdown",
   "metadata": {},
   "source": [
    "For the final improvement, we need to get rid of the only remaining loop over the rows of our output matrix (`i`). So let's understand very well what we are having at the moment:\n",
    "\n",
    "- We are iterating over the (4) rows of our output matrix\n",
    "- For each row, we are computing the (2) values of our row at once by doing `out[i, :] = (a[i, :].unsqueeze(-1) * b).sum(dim=0)` and let's break this down once again in steps:\n",
    "  1. `a[i, :]` has shape `[3]` and represents one row of A\n",
    "  2. with `a[i, :].unsqueeze(-1)` we add an extra dimension so that we can broadcast, the result has shape `[3, 1]`\n",
    "  3. `b` has shape `[3, 2]` and is the full B matrix\n",
    "  4. element-wise multiplication of 2. and 3. gives a matrix of shape `[3, 2]`\n",
    "  5. by summing over the rows (`.sum(dim=0)`) we arrive at the result of shape `[2]`\n",
    "\n",
    "We want to improve this by **instead of iterating over the 4 rows, do these computations all at once for all rows**. So let's start by not selecting one row of A (`a[i,:]`) but instead just the whole `a` matrix:\n",
    "\n",
    "1. `a` has shape `[4, 3]`\n",
    "2. similarly to what we did before, we can `a.unsqueeze(-1)` to add an extra dimension, the result has shape `[4, 3, 1]`\n",
    "3. same as before, `b` has shape `[3, 2]` and is the full B matrix\n",
    "4. broadcasting of 2. and 3. will do the following:\n",
    "   - `a.unsqueeze(-1)` has shape `[4, 3, 1]` and get's expanded to `[4, 3, 2]` to match the shape of `b` (`[3, 2]`)\n",
    "   - but `b` also needs to match `a`, first an additional empty dimension is added in the front: `[1, 3, 2]` and then it get's expanded to `[4, 3, 2]`\n",
    "   - Thus, the element-wise multiplication of 2. and 3. gives a matrix (tensor) of shape `[4, 3, 2]`, let's call it `t`. It's import to realize what this `t` represents. For that, notice that the first dimension (length 4) and last dimension (length 2) are the dimensions of our output matrix (`[4, 2]`). **The middle dimension (length 3) represents the element wise multiplications of row i in matrix A and column j of matrix B**. So `t[0, :, 0]` gives us 3 numbers which represent the element-wise multiplications of the first row of A and the first column of B.\n",
    "5. So to finalize and get to the final matrix product A*B, we collapse (sum) over this middle dimension:"
   ]
  },
  {
   "cell_type": "code",
   "execution_count": null,
   "metadata": {},
   "outputs": [],
   "source": [
    "def matmul4(a, b):\n",
    "    return (a.unsqueeze(-1) * b).sum(dim=1)\n",
    "\n",
    "# Confirm that the result is correct\n",
    "assert torch.allclose(matmul(a,b), a@b)"
   ]
  },
  {
   "cell_type": "markdown",
   "metadata": {},
   "source": [
    "## Timings"
   ]
  },
  {
   "cell_type": "markdown",
   "metadata": {},
   "source": [
    "To see what kind of a speed-up we have achieved, let's look at the timings of our first version with three loops and the timings of our optimized version:"
   ]
  },
  {
   "cell_type": "code",
   "execution_count": null,
   "metadata": {},
   "outputs": [
    {
     "name": "stdout",
     "output_type": "stream",
     "text": [
      "318 µs ± 13.7 µs per loop (mean ± std. dev. of 7 runs, 1,000 loops each)\n"
     ]
    }
   ],
   "source": [
    "%timeit -n 1000 matmul(a,b)"
   ]
  },
  {
   "cell_type": "code",
   "execution_count": null,
   "metadata": {},
   "outputs": [
    {
     "name": "stdout",
     "output_type": "stream",
     "text": [
      "10.7 µs ± 1.46 µs per loop (mean ± std. dev. of 7 runs, 1,000 loops each)\n"
     ]
    }
   ],
   "source": [
    "%timeit -n 1000 matmul4(a,b)"
   ]
  },
  {
   "cell_type": "markdown",
   "metadata": {},
   "source": [
    "Nice, our optimized version is about 30 times faster then our un-optimized version with 3 loops! Additionally, let's check the timings of doing the matrix multiplication with `einsum`:"
   ]
  },
  {
   "cell_type": "code",
   "execution_count": null,
   "metadata": {},
   "outputs": [
    {
     "name": "stdout",
     "output_type": "stream",
     "text": [
      "25.9 µs ± 3.78 µs per loop (mean ± std. dev. of 7 runs, 1,000 loops each)\n"
     ]
    }
   ],
   "source": [
    "%timeit -n 1000 torch.einsum('ij,jk->ik', a, b)"
   ]
  },
  {
   "cell_type": "markdown",
   "metadata": {},
   "source": [
    "Surprisingly, our optimized version is twice as fast as `einsum`. This is certainly something I didn't expect. \n",
    "\n",
    "Finally, let's also check the timings of using the `@` operator:"
   ]
  },
  {
   "cell_type": "code",
   "execution_count": null,
   "metadata": {},
   "outputs": [
    {
     "name": "stdout",
     "output_type": "stream",
     "text": [
      "3.29 µs ± 522 ns per loop (mean ± std. dev. of 7 runs, 1,000 loops each)\n"
     ]
    }
   ],
   "source": [
    "%timeit -n 1000 a@b"
   ]
  },
  {
   "cell_type": "markdown",
   "metadata": {},
   "source": [
    "As expected, this is even faster then our optimized version, probably because it runs in optimized C / CUDA code"
   ]
  }
 ],
 "metadata": {
  "kernelspec": {
   "display_name": "python3",
   "language": "python",
   "name": "python3"
  }
 },
 "nbformat": 4,
 "nbformat_minor": 4
}
